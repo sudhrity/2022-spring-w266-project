{
 "cells": [
  {
   "cell_type": "code",
   "execution_count": 1,
   "metadata": {
    "id": "sUPGDF4eEVyL"
   },
   "outputs": [],
   "source": [
    "import os, psutil  \n",
    "import json\n",
    "import joblib\n",
    "import time\n",
    "\n",
    "import pandas as pd\n",
    "import random\n",
    "from IPython.display import display, HTML\n",
    "import torch\n",
    "import numpy as np"
   ]
  },
  {
   "cell_type": "code",
   "execution_count": 4,
   "metadata": {},
   "outputs": [
    {
     "name": "stdout",
     "output_type": "stream",
     "text": [
      "Requirement already satisfied: transformers==4.16.2 in /home/ubuntu/anaconda3/lib/python3.8/site-packages (4.16.2)\n",
      "Requirement already satisfied: tokenizers!=0.11.3,>=0.10.1 in /home/ubuntu/anaconda3/lib/python3.8/site-packages (from transformers==4.16.2) (0.11.4)\n",
      "Requirement already satisfied: pyyaml>=5.1 in /home/ubuntu/anaconda3/lib/python3.8/site-packages (from transformers==4.16.2) (5.4.1)\n",
      "Requirement already satisfied: sacremoses in /home/ubuntu/anaconda3/lib/python3.8/site-packages (from transformers==4.16.2) (0.0.47)\n",
      "Requirement already satisfied: numpy>=1.17 in /home/ubuntu/anaconda3/lib/python3.8/site-packages (from transformers==4.16.2) (1.19.5)\n",
      "Requirement already satisfied: regex!=2019.12.17 in /home/ubuntu/anaconda3/lib/python3.8/site-packages (from transformers==4.16.2) (2021.4.4)\n",
      "Requirement already satisfied: tqdm>=4.27 in /home/ubuntu/anaconda3/lib/python3.8/site-packages (from transformers==4.16.2) (4.62.3)\n",
      "Requirement already satisfied: huggingface-hub<1.0,>=0.1.0 in /home/ubuntu/anaconda3/lib/python3.8/site-packages (from transformers==4.16.2) (0.4.0)\n",
      "Requirement already satisfied: packaging>=20.0 in /home/ubuntu/anaconda3/lib/python3.8/site-packages (from transformers==4.16.2) (20.9)\n",
      "Requirement already satisfied: filelock in /home/ubuntu/anaconda3/lib/python3.8/site-packages (from transformers==4.16.2) (3.0.12)\n",
      "Requirement already satisfied: requests in /home/ubuntu/anaconda3/lib/python3.8/site-packages (from transformers==4.16.2) (2.25.1)\n",
      "Requirement already satisfied: typing-extensions>=3.7.4.3 in /home/ubuntu/anaconda3/lib/python3.8/site-packages (from huggingface-hub<1.0,>=0.1.0->transformers==4.16.2) (3.7.4.3)\n",
      "Requirement already satisfied: pyparsing>=2.0.2 in /home/ubuntu/anaconda3/lib/python3.8/site-packages (from packaging>=20.0->transformers==4.16.2) (2.4.7)\n",
      "Requirement already satisfied: chardet<5,>=3.0.2 in /home/ubuntu/anaconda3/lib/python3.8/site-packages (from requests->transformers==4.16.2) (4.0.0)\n",
      "Requirement already satisfied: idna<3,>=2.5 in /home/ubuntu/anaconda3/lib/python3.8/site-packages (from requests->transformers==4.16.2) (2.10)\n",
      "Requirement already satisfied: urllib3<1.27,>=1.21.1 in /home/ubuntu/anaconda3/lib/python3.8/site-packages (from requests->transformers==4.16.2) (1.26.4)\n",
      "Requirement already satisfied: certifi>=2017.4.17 in /home/ubuntu/anaconda3/lib/python3.8/site-packages (from requests->transformers==4.16.2) (2020.12.5)\n",
      "Requirement already satisfied: six in /home/ubuntu/anaconda3/lib/python3.8/site-packages (from sacremoses->transformers==4.16.2) (1.15.0)\n",
      "Requirement already satisfied: joblib in /home/ubuntu/anaconda3/lib/python3.8/site-packages (from sacremoses->transformers==4.16.2) (1.0.1)\n",
      "Requirement already satisfied: click in /home/ubuntu/anaconda3/lib/python3.8/site-packages (from sacremoses->transformers==4.16.2) (7.1.2)\n"
     ]
    }
   ],
   "source": [
    "!pip install transformers==4.16.2"
   ]
  },
  {
   "cell_type": "code",
   "execution_count": 62,
   "metadata": {
    "id": "qk6OnnphsEeZ"
   },
   "outputs": [],
   "source": [
    "path_models = './models/'\n",
    "path_outputs = './outputs/'\n",
    "path_processed_data= './processed_data/'"
   ]
  },
  {
   "cell_type": "code",
   "execution_count": 63,
   "metadata": {},
   "outputs": [],
   "source": [
    "jsonFile = open(os.path.join(path_processed_data, 'cnn_train_v3.json'), \"r\")\n",
    "jsonContent = jsonFile.read()\n",
    "details_dict = json.loads(jsonContent)\n",
    "jsonFile.close()\n",
    "\n",
    "#X_train = details_dict['text']\n",
    "X_train = details_dict['text_ner']\n",
    "Y_train = details_dict['headlines']\n",
    "\n",
    "jsonFile = open(os.path.join(path_processed_data, 'cnn_valid_v3.json'), \"r\")\n",
    "jsonContent = jsonFile.read()\n",
    "details_dict = json.loads(jsonContent)\n",
    "jsonFile.close()\n",
    "\n",
    "#X_valid = details_dict['text']\n",
    "X_valid = details_dict['text_ner']\n",
    "Y_valid = details_dict['headlines']\n",
    "\n",
    "jsonFile = open(os.path.join(path_processed_data, 'cnn_test_v3.json'), \"r\")\n",
    "jsonContent = jsonFile.read()\n",
    "details_dict = json.loads(jsonContent)\n",
    "jsonFile.close()\n",
    "\n",
    "#X_test = details_dict['text']\n",
    "X_test = details_dict['text_ner']\n",
    "Y_test = details_dict['headlines']\n",
    "\n",
    "details = {\n",
    "    'headlines' : Y_train,\n",
    "    'text' : X_train\n",
    "}\n",
    "\n",
    "df_train = pd.DataFrame(details)\n",
    "\n",
    "details = {\n",
    "    'headlines' : Y_valid,\n",
    "    'text' : X_valid\n",
    "}\n",
    "\n",
    "df_valid = pd.DataFrame(details)\n",
    "\n",
    "details = {\n",
    "    'headlines' : Y_test,\n",
    "    'text' : X_test\n",
    "}\n",
    "\n",
    "df_test = pd.DataFrame(details)\n",
    "\n"
   ]
  },
  {
   "cell_type": "code",
   "execution_count": 64,
   "metadata": {},
   "outputs": [
    {
     "name": "stdout",
     "output_type": "stream",
     "text": [
      "73280 73280 9160 9160 9160 9160\n"
     ]
    }
   ],
   "source": [
    "print(len(X_train), len(Y_train), len(X_valid), len(Y_valid), len(X_test), len(Y_test))"
   ]
  },
  {
   "cell_type": "code",
   "execution_count": 65,
   "metadata": {},
   "outputs": [],
   "source": [
    "def cpu_stats():\n",
    "    pid = os.getpid()\n",
    "    py = psutil.Process(pid)\n",
    "    memory_use = py.memory_info()[0] / 2. ** 30\n",
    "    return 'memory GB:' + str(np.round(memory_use, 2))\n",
    "\n",
    "def current_time_min():\n",
    "    time_in_mins = time.time()/60.0\n",
    "    return round(time_in_mins, 4)"
   ]
  },
  {
   "cell_type": "code",
   "execution_count": 66,
   "metadata": {},
   "outputs": [
    {
     "data": {
      "text/plain": [
       "'memory GB:12.81'"
      ]
     },
     "execution_count": 66,
     "metadata": {},
     "output_type": "execute_result"
    }
   ],
   "source": [
    "cpu_stats()"
   ]
  },
  {
   "cell_type": "code",
   "execution_count": 67,
   "metadata": {},
   "outputs": [],
   "source": [
    "df_train['prefix'] = \"summarize\"\n",
    "df_test['prefix'] = \"summarize\"\n",
    "df_valid['prefix'] = \"summarize\"\n",
    "\n",
    "model_args = {\n",
    "    \"reprocess_input_data\": True,\n",
    "    \"overwrite_output_dir\": True,\n",
    "    \"max_seq_length\": 512,\n",
    "    \"train_batch_size\": 16,\n",
    "    \"num_train_epochs\": 4,\n",
    "}\n",
    "\n"
   ]
  },
  {
   "cell_type": "code",
   "execution_count": 68,
   "metadata": {
    "id": "_S8Zge55WtSX"
   },
   "outputs": [],
   "source": [
    "# Rename columns as per pretrained model required format\n",
    "df_train=df_train.rename(columns={'headlines':'target_text','text':'source_text'})\n",
    "df_valid=df_valid.rename(columns={'headlines':'target_text','text':'source_text'})\n",
    "df_test=df_test.rename(columns={'headlines':'target_text','text':'source_text'})\n"
   ]
  },
  {
   "cell_type": "code",
   "execution_count": 69,
   "metadata": {},
   "outputs": [
    {
     "data": {
      "text/plain": [
       "((73280, 3), (9160, 3), (9160, 3))"
      ]
     },
     "execution_count": 69,
     "metadata": {},
     "output_type": "execute_result"
    }
   ],
   "source": [
    "df_train.shape, df_valid.shape, df_test.shape"
   ]
  },
  {
   "cell_type": "code",
   "execution_count": 46,
   "metadata": {},
   "outputs": [
    {
     "name": "stdout",
     "output_type": "stream",
     "text": [
      "Requirement already satisfied: simplet5 in /home/ubuntu/anaconda3/lib/python3.8/site-packages (0.1.4)\n",
      "Collecting transformers==4.16.2\n",
      "  Using cached transformers-4.16.2-py3-none-any.whl (3.5 MB)\n",
      "Requirement already satisfied: torch!=1.8.0,>=1.7.0 in /home/ubuntu/anaconda3/lib/python3.8/site-packages (from simplet5) (1.10.2)\n",
      "Requirement already satisfied: numpy in /home/ubuntu/anaconda3/lib/python3.8/site-packages (from simplet5) (1.19.5)\n",
      "Requirement already satisfied: pytorch-lightning==1.5.10 in /home/ubuntu/anaconda3/lib/python3.8/site-packages (from simplet5) (1.5.10)\n",
      "Requirement already satisfied: sentencepiece in /home/ubuntu/anaconda3/lib/python3.8/site-packages (from simplet5) (0.1.96)\n",
      "Requirement already satisfied: pandas in /home/ubuntu/anaconda3/lib/python3.8/site-packages (from simplet5) (1.2.4)\n",
      "Requirement already satisfied: typing-extensions in /home/ubuntu/anaconda3/lib/python3.8/site-packages (from pytorch-lightning==1.5.10->simplet5) (3.7.4.3)\n",
      "Requirement already satisfied: tqdm>=4.41.0 in /home/ubuntu/anaconda3/lib/python3.8/site-packages (from pytorch-lightning==1.5.10->simplet5) (4.62.3)\n",
      "Requirement already satisfied: pyDeprecate==0.3.1 in /home/ubuntu/anaconda3/lib/python3.8/site-packages (from pytorch-lightning==1.5.10->simplet5) (0.3.1)\n",
      "Requirement already satisfied: tensorboard>=2.2.0 in /home/ubuntu/anaconda3/lib/python3.8/site-packages (from pytorch-lightning==1.5.10->simplet5) (2.6.0)\n",
      "Requirement already satisfied: PyYAML>=5.1 in /home/ubuntu/anaconda3/lib/python3.8/site-packages (from pytorch-lightning==1.5.10->simplet5) (5.4.1)\n",
      "Requirement already satisfied: packaging>=17.0 in /home/ubuntu/anaconda3/lib/python3.8/site-packages (from pytorch-lightning==1.5.10->simplet5) (20.9)\n",
      "Requirement already satisfied: future>=0.17.1 in /home/ubuntu/anaconda3/lib/python3.8/site-packages (from pytorch-lightning==1.5.10->simplet5) (0.18.2)\n",
      "Requirement already satisfied: torchmetrics>=0.4.1 in /home/ubuntu/anaconda3/lib/python3.8/site-packages (from pytorch-lightning==1.5.10->simplet5) (0.7.3)\n",
      "Requirement already satisfied: setuptools==59.5.0 in /home/ubuntu/anaconda3/lib/python3.8/site-packages (from pytorch-lightning==1.5.10->simplet5) (59.5.0)\n",
      "Requirement already satisfied: fsspec[http]!=2021.06.0,>=2021.05.0 in /home/ubuntu/anaconda3/lib/python3.8/site-packages (from pytorch-lightning==1.5.10->simplet5) (2022.1.0)\n",
      "Requirement already satisfied: filelock in /home/ubuntu/anaconda3/lib/python3.8/site-packages (from transformers==4.16.2->simplet5) (3.0.12)\n",
      "Requirement already satisfied: sacremoses in /home/ubuntu/anaconda3/lib/python3.8/site-packages (from transformers==4.16.2->simplet5) (0.0.47)\n",
      "Requirement already satisfied: huggingface-hub<1.0,>=0.1.0 in /home/ubuntu/anaconda3/lib/python3.8/site-packages (from transformers==4.16.2->simplet5) (0.4.0)\n",
      "Requirement already satisfied: regex!=2019.12.17 in /home/ubuntu/anaconda3/lib/python3.8/site-packages (from transformers==4.16.2->simplet5) (2021.4.4)\n",
      "Requirement already satisfied: requests in /home/ubuntu/anaconda3/lib/python3.8/site-packages (from transformers==4.16.2->simplet5) (2.25.1)\n",
      "Requirement already satisfied: tokenizers!=0.11.3,>=0.10.1 in /home/ubuntu/anaconda3/lib/python3.8/site-packages (from transformers==4.16.2->simplet5) (0.11.4)\n",
      "Requirement already satisfied: python-dateutil>=2.7.3 in /home/ubuntu/anaconda3/lib/python3.8/site-packages (from pandas->simplet5) (2.8.1)\n",
      "Requirement already satisfied: pytz>=2017.3 in /home/ubuntu/anaconda3/lib/python3.8/site-packages (from pandas->simplet5) (2021.1)\n",
      "Requirement already satisfied: aiohttp in /home/ubuntu/anaconda3/lib/python3.8/site-packages (from fsspec[http]!=2021.06.0,>=2021.05.0->pytorch-lightning==1.5.10->simplet5) (3.8.1)\n",
      "Requirement already satisfied: pyparsing>=2.0.2 in /home/ubuntu/anaconda3/lib/python3.8/site-packages (from packaging>=17.0->pytorch-lightning==1.5.10->simplet5) (2.4.7)\n",
      "Requirement already satisfied: six>=1.5 in /home/ubuntu/anaconda3/lib/python3.8/site-packages (from python-dateutil>=2.7.3->pandas->simplet5) (1.15.0)\n",
      "Requirement already satisfied: werkzeug>=0.11.15 in /home/ubuntu/anaconda3/lib/python3.8/site-packages (from tensorboard>=2.2.0->pytorch-lightning==1.5.10->simplet5) (1.0.1)\n",
      "Requirement already satisfied: wheel>=0.26 in /home/ubuntu/anaconda3/lib/python3.8/site-packages (from tensorboard>=2.2.0->pytorch-lightning==1.5.10->simplet5) (0.36.2)\n",
      "Requirement already satisfied: google-auth<2,>=1.6.3 in /home/ubuntu/anaconda3/lib/python3.8/site-packages (from tensorboard>=2.2.0->pytorch-lightning==1.5.10->simplet5) (1.35.0)\n",
      "Requirement already satisfied: markdown>=2.6.8 in /home/ubuntu/anaconda3/lib/python3.8/site-packages (from tensorboard>=2.2.0->pytorch-lightning==1.5.10->simplet5) (3.3.6)\n",
      "Requirement already satisfied: absl-py>=0.4 in /home/ubuntu/anaconda3/lib/python3.8/site-packages (from tensorboard>=2.2.0->pytorch-lightning==1.5.10->simplet5) (0.15.0)\n",
      "Requirement already satisfied: grpcio>=1.24.3 in /home/ubuntu/anaconda3/lib/python3.8/site-packages (from tensorboard>=2.2.0->pytorch-lightning==1.5.10->simplet5) (1.43.0)\n",
      "Requirement already satisfied: tensorboard-data-server<0.7.0,>=0.6.0 in /home/ubuntu/anaconda3/lib/python3.8/site-packages (from tensorboard>=2.2.0->pytorch-lightning==1.5.10->simplet5) (0.6.1)\n",
      "Requirement already satisfied: tensorboard-plugin-wit>=1.6.0 in /home/ubuntu/anaconda3/lib/python3.8/site-packages (from tensorboard>=2.2.0->pytorch-lightning==1.5.10->simplet5) (1.8.1)\n",
      "Requirement already satisfied: protobuf>=3.6.0 in /home/ubuntu/anaconda3/lib/python3.8/site-packages (from tensorboard>=2.2.0->pytorch-lightning==1.5.10->simplet5) (3.19.4)\n",
      "Requirement already satisfied: google-auth-oauthlib<0.5,>=0.4.1 in /home/ubuntu/anaconda3/lib/python3.8/site-packages (from tensorboard>=2.2.0->pytorch-lightning==1.5.10->simplet5) (0.4.6)\n",
      "Requirement already satisfied: certifi>=2017.4.17 in /home/ubuntu/anaconda3/lib/python3.8/site-packages (from requests->transformers==4.16.2->simplet5) (2020.12.5)\n",
      "Requirement already satisfied: idna<3,>=2.5 in /home/ubuntu/anaconda3/lib/python3.8/site-packages (from requests->transformers==4.16.2->simplet5) (2.10)\n",
      "Requirement already satisfied: urllib3<1.27,>=1.21.1 in /home/ubuntu/anaconda3/lib/python3.8/site-packages (from requests->transformers==4.16.2->simplet5) (1.26.4)\n",
      "Requirement already satisfied: chardet<5,>=3.0.2 in /home/ubuntu/anaconda3/lib/python3.8/site-packages (from requests->transformers==4.16.2->simplet5) (4.0.0)\n",
      "Requirement already satisfied: joblib in /home/ubuntu/anaconda3/lib/python3.8/site-packages (from sacremoses->transformers==4.16.2->simplet5) (1.0.1)\n",
      "Requirement already satisfied: click in /home/ubuntu/anaconda3/lib/python3.8/site-packages (from sacremoses->transformers==4.16.2->simplet5) (7.1.2)\n",
      "Requirement already satisfied: rsa<5,>=3.1.4 in /home/ubuntu/anaconda3/lib/python3.8/site-packages (from google-auth<2,>=1.6.3->tensorboard>=2.2.0->pytorch-lightning==1.5.10->simplet5) (4.8)\n",
      "Requirement already satisfied: cachetools<5.0,>=2.0.0 in /home/ubuntu/anaconda3/lib/python3.8/site-packages (from google-auth<2,>=1.6.3->tensorboard>=2.2.0->pytorch-lightning==1.5.10->simplet5) (4.2.4)\n",
      "Requirement already satisfied: pyasn1-modules>=0.2.1 in /home/ubuntu/anaconda3/lib/python3.8/site-packages (from google-auth<2,>=1.6.3->tensorboard>=2.2.0->pytorch-lightning==1.5.10->simplet5) (0.2.8)\n",
      "Requirement already satisfied: requests-oauthlib>=0.7.0 in /home/ubuntu/anaconda3/lib/python3.8/site-packages (from google-auth-oauthlib<0.5,>=0.4.1->tensorboard>=2.2.0->pytorch-lightning==1.5.10->simplet5) (1.3.1)\n",
      "Requirement already satisfied: importlib-metadata>=4.4 in /home/ubuntu/anaconda3/lib/python3.8/site-packages (from markdown>=2.6.8->tensorboard>=2.2.0->pytorch-lightning==1.5.10->simplet5) (4.11.0)\n",
      "Requirement already satisfied: yarl<2.0,>=1.0 in /home/ubuntu/anaconda3/lib/python3.8/site-packages (from aiohttp->fsspec[http]!=2021.06.0,>=2021.05.0->pytorch-lightning==1.5.10->simplet5) (1.7.2)\n",
      "Requirement already satisfied: async-timeout<5.0,>=4.0.0a3 in /home/ubuntu/anaconda3/lib/python3.8/site-packages (from aiohttp->fsspec[http]!=2021.06.0,>=2021.05.0->pytorch-lightning==1.5.10->simplet5) (4.0.2)\n",
      "Requirement already satisfied: charset-normalizer<3.0,>=2.0 in /home/ubuntu/anaconda3/lib/python3.8/site-packages (from aiohttp->fsspec[http]!=2021.06.0,>=2021.05.0->pytorch-lightning==1.5.10->simplet5) (2.0.12)\n",
      "Requirement already satisfied: frozenlist>=1.1.1 in /home/ubuntu/anaconda3/lib/python3.8/site-packages (from aiohttp->fsspec[http]!=2021.06.0,>=2021.05.0->pytorch-lightning==1.5.10->simplet5) (1.3.0)\n",
      "Requirement already satisfied: aiosignal>=1.1.2 in /home/ubuntu/anaconda3/lib/python3.8/site-packages (from aiohttp->fsspec[http]!=2021.06.0,>=2021.05.0->pytorch-lightning==1.5.10->simplet5) (1.2.0)\n",
      "Requirement already satisfied: attrs>=17.3.0 in /home/ubuntu/anaconda3/lib/python3.8/site-packages (from aiohttp->fsspec[http]!=2021.06.0,>=2021.05.0->pytorch-lightning==1.5.10->simplet5) (20.3.0)\n",
      "Requirement already satisfied: multidict<7.0,>=4.5 in /home/ubuntu/anaconda3/lib/python3.8/site-packages (from aiohttp->fsspec[http]!=2021.06.0,>=2021.05.0->pytorch-lightning==1.5.10->simplet5) (6.0.2)\n"
     ]
    },
    {
     "name": "stdout",
     "output_type": "stream",
     "text": [
      "Requirement already satisfied: zipp>=0.5 in /home/ubuntu/anaconda3/lib/python3.8/site-packages (from importlib-metadata>=4.4->markdown>=2.6.8->tensorboard>=2.2.0->pytorch-lightning==1.5.10->simplet5) (3.4.1)\n",
      "Requirement already satisfied: pyasn1<0.5.0,>=0.4.6 in /home/ubuntu/anaconda3/lib/python3.8/site-packages (from pyasn1-modules>=0.2.1->google-auth<2,>=1.6.3->tensorboard>=2.2.0->pytorch-lightning==1.5.10->simplet5) (0.4.8)\n",
      "Requirement already satisfied: oauthlib>=3.0.0 in /home/ubuntu/anaconda3/lib/python3.8/site-packages (from requests-oauthlib>=0.7.0->google-auth-oauthlib<0.5,>=0.4.1->tensorboard>=2.2.0->pytorch-lightning==1.5.10->simplet5) (3.2.0)\n",
      "Installing collected packages: transformers\n",
      "  Attempting uninstall: transformers\n",
      "    Found existing installation: transformers 4.18.0.dev0\n",
      "    Uninstalling transformers-4.18.0.dev0:\n",
      "      Successfully uninstalled transformers-4.18.0.dev0\n",
      "Successfully installed transformers-4.16.2\n"
     ]
    }
   ],
   "source": [
    "!pip install simplet5"
   ]
  },
  {
   "cell_type": "code",
   "execution_count": 47,
   "metadata": {},
   "outputs": [],
   "source": [
    "from simplet5 import SimpleT5"
   ]
  },
  {
   "cell_type": "code",
   "execution_count": 70,
   "metadata": {},
   "outputs": [],
   "source": [
    "model = SimpleT5()\n",
    "model.from_pretrained(model_type=\"t5\", model_name=\"t5-base\")\n",
    "#model.from_pretrained(model_type=\"t5\", model_name=\"t5-large\")"
   ]
  },
  {
   "cell_type": "code",
   "execution_count": 49,
   "metadata": {
    "scrolled": true
   },
   "outputs": [
    {
     "name": "stderr",
     "output_type": "stream",
     "text": [
      "GPU available: True, used: True\n",
      "TPU available: False, using: 0 TPU cores\n",
      "IPU available: False, using: 0 IPUs\n",
      "LOCAL_RANK: 0 - CUDA_VISIBLE_DEVICES: [0]\n",
      "\n",
      "  | Name  | Type                       | Params\n",
      "-----------------------------------------------------\n",
      "0 | model | T5ForConditionalGeneration | 222 M \n",
      "-----------------------------------------------------\n",
      "222 M     Trainable params\n",
      "0         Non-trainable params\n",
      "222 M     Total params\n",
      "891.614   Total estimated model params size (MB)\n"
     ]
    },
    {
     "data": {
      "application/vnd.jupyter.widget-view+json": {
       "model_id": "",
       "version_major": 2,
       "version_minor": 0
      },
      "text/plain": [
       "Validation sanity check: 0it [00:00, ?it/s]"
      ]
     },
     "metadata": {},
     "output_type": "display_data"
    },
    {
     "name": "stderr",
     "output_type": "stream",
     "text": [
      "/home/ubuntu/anaconda3/lib/python3.8/site-packages/pytorch_lightning/trainer/data_loading.py:132: UserWarning: The dataloader, val_dataloader 0, does not have many workers which may be a bottleneck. Consider increasing the value of the `num_workers` argument` (try 4 which is the number of cpus on this machine) in the `DataLoader` init to improve performance.\n",
      "  rank_zero_warn(\n",
      "Global seed set to 42\n",
      "/home/ubuntu/anaconda3/lib/python3.8/site-packages/pytorch_lightning/trainer/data_loading.py:132: UserWarning: The dataloader, train_dataloader, does not have many workers which may be a bottleneck. Consider increasing the value of the `num_workers` argument` (try 4 which is the number of cpus on this machine) in the `DataLoader` init to improve performance.\n",
      "  rank_zero_warn(\n"
     ]
    },
    {
     "data": {
      "application/vnd.jupyter.widget-view+json": {
       "model_id": "7ab2e9525cfd46ec879a485ad3fb545b",
       "version_major": 2,
       "version_minor": 0
      },
      "text/plain": [
       "Training: 0it [00:00, ?it/s]"
      ]
     },
     "metadata": {},
     "output_type": "display_data"
    },
    {
     "data": {
      "application/vnd.jupyter.widget-view+json": {
       "model_id": "",
       "version_major": 2,
       "version_minor": 0
      },
      "text/plain": [
       "Validating: 0it [00:00, ?it/s]"
      ]
     },
     "metadata": {},
     "output_type": "display_data"
    },
    {
     "data": {
      "application/vnd.jupyter.widget-view+json": {
       "model_id": "",
       "version_major": 2,
       "version_minor": 0
      },
      "text/plain": [
       "Validating: 0it [00:00, ?it/s]"
      ]
     },
     "metadata": {},
     "output_type": "display_data"
    },
    {
     "data": {
      "application/vnd.jupyter.widget-view+json": {
       "model_id": "",
       "version_major": 2,
       "version_minor": 0
      },
      "text/plain": [
       "Validating: 0it [00:00, ?it/s]"
      ]
     },
     "metadata": {},
     "output_type": "display_data"
    },
    {
     "data": {
      "application/vnd.jupyter.widget-view+json": {
       "model_id": "",
       "version_major": 2,
       "version_minor": 0
      },
      "text/plain": [
       "Validating: 0it [00:00, ?it/s]"
      ]
     },
     "metadata": {},
     "output_type": "display_data"
    },
    {
     "data": {
      "application/vnd.jupyter.widget-view+json": {
       "model_id": "",
       "version_major": 2,
       "version_minor": 0
      },
      "text/plain": [
       "Validating: 0it [00:00, ?it/s]"
      ]
     },
     "metadata": {},
     "output_type": "display_data"
    },
    {
     "data": {
      "application/vnd.jupyter.widget-view+json": {
       "model_id": "",
       "version_major": 2,
       "version_minor": 0
      },
      "text/plain": [
       "Validating: 0it [00:00, ?it/s]"
      ]
     },
     "metadata": {},
     "output_type": "display_data"
    },
    {
     "data": {
      "application/vnd.jupyter.widget-view+json": {
       "model_id": "",
       "version_major": 2,
       "version_minor": 0
      },
      "text/plain": [
       "Validating: 0it [00:00, ?it/s]"
      ]
     },
     "metadata": {},
     "output_type": "display_data"
    },
    {
     "data": {
      "application/vnd.jupyter.widget-view+json": {
       "model_id": "",
       "version_major": 2,
       "version_minor": 0
      },
      "text/plain": [
       "Validating: 0it [00:00, ?it/s]"
      ]
     },
     "metadata": {},
     "output_type": "display_data"
    },
    {
     "data": {
      "application/vnd.jupyter.widget-view+json": {
       "model_id": "",
       "version_major": 2,
       "version_minor": 0
      },
      "text/plain": [
       "Validating: 0it [00:00, ?it/s]"
      ]
     },
     "metadata": {},
     "output_type": "display_data"
    },
    {
     "data": {
      "application/vnd.jupyter.widget-view+json": {
       "model_id": "",
       "version_major": 2,
       "version_minor": 0
      },
      "text/plain": [
       "Validating: 0it [00:00, ?it/s]"
      ]
     },
     "metadata": {},
     "output_type": "display_data"
    }
   ],
   "source": [
    "model.train(train_df=df_train,\n",
    "            eval_df=df_valid, \n",
    "            source_max_token_len=128, \n",
    "            target_max_token_len=50, \n",
    "            batch_size=16, \n",
    "            max_epochs=3, \n",
    "            use_gpu=True\n",
    "           )"
   ]
  },
  {
   "cell_type": "code",
   "execution_count": 26,
   "metadata": {},
   "outputs": [
    {
     "data": {
      "text/html": [
       "<div>\n",
       "<style scoped>\n",
       "    .dataframe tbody tr th:only-of-type {\n",
       "        vertical-align: middle;\n",
       "    }\n",
       "\n",
       "    .dataframe tbody tr th {\n",
       "        vertical-align: top;\n",
       "    }\n",
       "\n",
       "    .dataframe thead th {\n",
       "        text-align: right;\n",
       "    }\n",
       "</style>\n",
       "<table border=\"1\" class=\"dataframe\">\n",
       "  <thead>\n",
       "    <tr style=\"text-align: right;\">\n",
       "      <th></th>\n",
       "      <th>target_text</th>\n",
       "      <th>source_text</th>\n",
       "      <th>prefix</th>\n",
       "    </tr>\n",
       "  </thead>\n",
       "  <tbody>\n",
       "    <tr>\n",
       "      <th>0</th>\n",
       "      <td>Soldier slain London street machine gunner dru...</td>\n",
       "      <td>Story highlights Drummer Lee Riggers Rigby 25 ...</td>\n",
       "      <td>summarize</td>\n",
       "    </tr>\n",
       "    <tr>\n",
       "      <th>1</th>\n",
       "      <td>New York probes report EMTs ignored woman died</td>\n",
       "      <td>New York   Officials investigating reports two...</td>\n",
       "      <td>summarize</td>\n",
       "    </tr>\n",
       "    <tr>\n",
       "      <th>2</th>\n",
       "      <td>Erupt typical travel pattern</td>\n",
       "      <td>Editor note Share volcano photos CNN iReport ....</td>\n",
       "      <td>summarize</td>\n",
       "    </tr>\n",
       "    <tr>\n",
       "      <th>3</th>\n",
       "      <td>Sentencing phase begin convicted Ohio serial k...</td>\n",
       "      <td>An Ohio jury Monday begin sentencing phase c...</td>\n",
       "      <td>summarize</td>\n",
       "    </tr>\n",
       "    <tr>\n",
       "      <th>4</th>\n",
       "      <td>Girl loses 65 pounds fight childhood obesity</td>\n",
       "      <td>Update In July 2014 Breanna Bond 12 competed...</td>\n",
       "      <td>summarize</td>\n",
       "    </tr>\n",
       "  </tbody>\n",
       "</table>\n",
       "</div>"
      ],
      "text/plain": [
       "                                         target_text  \\\n",
       "0  Soldier slain London street machine gunner dru...   \n",
       "1     New York probes report EMTs ignored woman died   \n",
       "2                       Erupt typical travel pattern   \n",
       "3  Sentencing phase begin convicted Ohio serial k...   \n",
       "4       Girl loses 65 pounds fight childhood obesity   \n",
       "\n",
       "                                         source_text     prefix  \n",
       "0  Story highlights Drummer Lee Riggers Rigby 25 ...  summarize  \n",
       "1  New York   Officials investigating reports two...  summarize  \n",
       "2  Editor note Share volcano photos CNN iReport ....  summarize  \n",
       "3    An Ohio jury Monday begin sentencing phase c...  summarize  \n",
       "4    Update In July 2014 Breanna Bond 12 competed...  summarize  "
      ]
     },
     "execution_count": 26,
     "metadata": {},
     "output_type": "execute_result"
    }
   ],
   "source": [
    "df_test.head()"
   ]
  },
  {
   "cell_type": "code",
   "execution_count": 71,
   "metadata": {},
   "outputs": [],
   "source": [
    "#model = joblib.load(os.path.join(path_models, 'model_t5_3e.pkl'))\n",
    "#model.load_model(\"t5\", \"outputs/simplet5-epoch-2-train-loss-2.6228-val-loss-2.8411.1\", use_gpu=True)\n",
    "model.load_model(\"t5\", \"outputs/t5_ner/simplet5-epoch-2-train-loss-2.7653-val-loss-2.8952\", use_gpu=True)"
   ]
  },
  {
   "cell_type": "code",
   "execution_count": 72,
   "metadata": {},
   "outputs": [],
   "source": [
    "t5_prepared_Text = \"summarize: \" + df_test[0:1]['source_text'][0]\n",
    "P1 = model.predict(t5_prepared_Text)"
   ]
  },
  {
   "cell_type": "code",
   "execution_count": 73,
   "metadata": {},
   "outputs": [
    {
     "data": {
      "text/plain": [
       "['Army recruiter slain British soldier becomes royal drummer']"
      ]
     },
     "execution_count": 73,
     "metadata": {},
     "output_type": "execute_result"
    }
   ],
   "source": [
    "P1"
   ]
  },
  {
   "cell_type": "code",
   "execution_count": 74,
   "metadata": {},
   "outputs": [],
   "source": [
    "data_name = 'cnn_test'\n",
    "input_filename = data_name + '_summary_ner_v3.json' \n",
    "output_filename = data_name + '_prediction_t5_ner_v3.json'"
   ]
  },
  {
   "cell_type": "code",
   "execution_count": 75,
   "metadata": {},
   "outputs": [],
   "source": [
    "jsonFile = open(os.path.join(path_processed_data, input_filename), \"r\")\n",
    "jsonContent = jsonFile.read()\n",
    "details_dict = json.loads(jsonContent)\n",
    "jsonFile.close()\n",
    "\n",
    "details = {\n",
    "    'headlines' : details_dict['headlines'],\n",
    "    'text' : details_dict['text'],\n",
    "    'keywords' : details_dict['keywords'],\n",
    "    'summary_art' : details_dict['summary_art'],\n",
    "    'entities' : details_dict['entities'],\n",
    "#    'text_ner' : details_dict['text_ner'],\n",
    "    'sentence_1s' : details_dict['sentence_1s'],\n",
    "    'sentence_3s' : details_dict['sentence_3s'],\n",
    "    'summary_ext' : details_dict['summary_ext'],\n",
    "    'summary_abs' : details_dict['summary_abs'],\n",
    "    'summary_extabs' : details_dict['summary_extabs'],\n",
    "    'predict_1s' : details_dict['predict_1s'],\n",
    "    'predict_3s' : details_dict['predict_3s'],\n",
    "    'predict_text' : details_dict['predict_text'],\n",
    "    'predict_ext' : details_dict['predict_ext'],\n",
    "    'predict_abs' : details_dict['predict_abs'],\n",
    "    'predict_extabs' : details_dict['predict_extabs'],\n",
    "    'predict_art' : details_dict['summary_art']\n",
    "}\n",
    "\n",
    "\n",
    "df_test = pd.DataFrame(details)"
   ]
  },
  {
   "cell_type": "code",
   "execution_count": 76,
   "metadata": {},
   "outputs": [],
   "source": [
    "df = df_test\n",
    "\n",
    "def predict_t5(row):\n",
    "    \n",
    "    predict_3s = []\n",
    "    predict_text = []\n",
    "    predict_ext = []\n",
    "    predict_abs = []    \n",
    "    predict_extabs = []\n",
    "    predict_art = []    \n",
    "    \n",
    "    \n",
    "    try:\n",
    "        t5_text = \"summarize: \" + row[1]['sentence_3s']\n",
    "        predict_3s = model.predict(t5_text)[0]\n",
    "        \n",
    "        t5_text = \"summarize: \" + row[1]['text']\n",
    "        predict_text = model.predict(t5_text)[0]\n",
    "        \n",
    "        t5_text = \"summarize: \" + row[1]['summary_ext']\n",
    "        predict_ext = model.predict(t5_text)[0]\n",
    "        \n",
    "        t5_text = \"summarize: \" + row[1]['summary_abs']\n",
    "        predict_abs = model.predict(t5_text)[0]\n",
    "        \n",
    "        t5_text = \"summarize: \" + row[1]['summary_extabs']\n",
    "        predict_extabs = model.predict(t5_text)[0]\n",
    "        \n",
    "        t5_text = \"summarize: \" + row[1]['summary_art']\n",
    "        predict_art = model.predict(t5_text)[0]\n",
    "        \n",
    "    except Exception as error:\n",
    "        print(\"Exception in predict_t5():\", error)\n",
    "        return predict_3s, predict_text, predict_ext, predict_abs, predict_extabs, predict_art\n",
    "    return predict_3s, predict_text, predict_ext, predict_abs, predict_extabs, predict_art "
   ]
  },
  {
   "cell_type": "code",
   "execution_count": 77,
   "metadata": {},
   "outputs": [
    {
     "name": "stderr",
     "output_type": "stream",
     "text": [
      "Token indices sequence length is longer than the specified maximum sequence length for this model (643 > 512). Running this sequence through the model will result in indexing errors\n"
     ]
    },
    {
     "name": "stdout",
     "output_type": "stream",
     "text": [
      "Response time (mins):  147.83\n"
     ]
    }
   ],
   "source": [
    "from joblib import Parallel, delayed\n",
    "start = time.time()\n",
    "\n",
    "df = df.reset_index()\n",
    "\n",
    "S = Parallel(n_jobs=1)(delayed(predict_t5)(row) for row in df.iterrows())\n",
    "\n",
    "print(\"Response time (mins): \", round((time.time() - start)/60, 2))"
   ]
  },
  {
   "cell_type": "code",
   "execution_count": 78,
   "metadata": {},
   "outputs": [],
   "source": [
    "predict_3s = []\n",
    "predict_text = []\n",
    "predict_ext = []\n",
    "predict_abs = []    \n",
    "predict_extabs = []\n",
    "predict_art = [] \n",
    "\n",
    "S = list(filter(None, S))\n",
    "for i in range(len(S)):  \n",
    "        predict_3s.append(S[i][0])\n",
    "        predict_text.append(S[i][1])  \n",
    "        predict_ext.append(S[i][2])\n",
    "        predict_abs.append(S[i][3])\n",
    "        predict_extabs.append(S[i][4])\n",
    "        predict_art.append(S[i][5])   \n",
    "        "
   ]
  },
  {
   "cell_type": "code",
   "execution_count": 79,
   "metadata": {},
   "outputs": [],
   "source": [
    "details = {\n",
    "    'headlines' : details_dict['headlines'],\n",
    "    'text' : details_dict['text'],\n",
    "    'keywords' : details_dict['keywords'],\n",
    "    'summary_art' : details_dict['summary_art'],\n",
    "    'entities' : details_dict['entities'],\n",
    "    'sentence_1s' : details_dict['sentence_1s'],\n",
    "    'sentence_3s' : details_dict['sentence_3s'],\n",
    "    'summary_ext' : details_dict['summary_ext'],\n",
    "    'summary_abs' : details_dict['summary_abs'],\n",
    "    'summary_extabs' : details_dict['summary_extabs'],\n",
    "    'summary_ner' : details_dict['summary_ner'],\n",
    "    'summary_t5' : details_dict['summary_t5'],\n",
    "    'predict_1s' : details_dict['sentence_1s'],\n",
    "    'predict_3s' : predict_3s,\n",
    "    'predict_text' : predict_text,\n",
    "    'predict_ext' : predict_ext,\n",
    "    'predict_abs' : predict_abs,\n",
    "    'predict_extabs' : predict_extabs,\n",
    "    'predict_art' : predict_art,\n",
    "}\n",
    "\n",
    "\n",
    "jsonString = json.dumps(details)\n",
    "jsonFile = open(os.path.join(path_processed_data, output_filename), \"w\")\n",
    "jsonFile.write(jsonString)\n",
    "jsonFile.close()"
   ]
  },
  {
   "cell_type": "code",
   "execution_count": null,
   "metadata": {},
   "outputs": [],
   "source": []
  }
 ],
 "metadata": {
  "accelerator": "GPU",
  "colab": {
   "collapsed_sections": [],
   "machine_shape": "hm",
   "name": "v3.m_w266_FP_NB2_Text_Summarization.ipynb",
   "provenance": []
  },
  "kernelspec": {
   "display_name": "Python 3",
   "language": "python",
   "name": "python3"
  },
  "language_info": {
   "codemirror_mode": {
    "name": "ipython",
    "version": 3
   },
   "file_extension": ".py",
   "mimetype": "text/x-python",
   "name": "python",
   "nbconvert_exporter": "python",
   "pygments_lexer": "ipython3",
   "version": "3.8.8"
  },
  "widgets": {
   "application/vnd.jupyter.widget-state+json": {
    "1f5f3c54cfe94744a5edc2249f9980ff": {
     "model_module": "@jupyter-widgets/controls",
     "model_module_version": "1.5.0",
     "model_name": "DescriptionStyleModel",
     "state": {
      "_model_module": "@jupyter-widgets/controls",
      "_model_module_version": "1.5.0",
      "_model_name": "DescriptionStyleModel",
      "_view_count": null,
      "_view_module": "@jupyter-widgets/base",
      "_view_module_version": "1.2.0",
      "_view_name": "StyleView",
      "description_width": ""
     }
    },
    "2359eb5cbae14f9491a0773266689b88": {
     "model_module": "@jupyter-widgets/controls",
     "model_module_version": "1.5.0",
     "model_name": "HBoxModel",
     "state": {
      "_dom_classes": [],
      "_model_module": "@jupyter-widgets/controls",
      "_model_module_version": "1.5.0",
      "_model_name": "HBoxModel",
      "_view_count": null,
      "_view_module": "@jupyter-widgets/controls",
      "_view_module_version": "1.5.0",
      "_view_name": "HBoxView",
      "box_style": "",
      "children": [
       "IPY_MODEL_c0fffc55cf36497597dd17d5deab16ed",
       "IPY_MODEL_970afe25185c4ab5bb46d9bcc7cdef05",
       "IPY_MODEL_7a3a9ac7179d44989553ed77db5a1d30"
      ],
      "layout": "IPY_MODEL_61bb9a947d354113a5aea94614bbc16d"
     }
    },
    "43bd954abc734213847d1b133e35045e": {
     "model_module": "@jupyter-widgets/base",
     "model_module_version": "1.2.0",
     "model_name": "LayoutModel",
     "state": {
      "_model_module": "@jupyter-widgets/base",
      "_model_module_version": "1.2.0",
      "_model_name": "LayoutModel",
      "_view_count": null,
      "_view_module": "@jupyter-widgets/base",
      "_view_module_version": "1.2.0",
      "_view_name": "LayoutView",
      "align_content": null,
      "align_items": null,
      "align_self": null,
      "border": null,
      "bottom": null,
      "display": null,
      "flex": null,
      "flex_flow": null,
      "grid_area": null,
      "grid_auto_columns": null,
      "grid_auto_flow": null,
      "grid_auto_rows": null,
      "grid_column": null,
      "grid_gap": null,
      "grid_row": null,
      "grid_template_areas": null,
      "grid_template_columns": null,
      "grid_template_rows": null,
      "height": null,
      "justify_content": null,
      "justify_items": null,
      "left": null,
      "margin": null,
      "max_height": null,
      "max_width": null,
      "min_height": null,
      "min_width": null,
      "object_fit": null,
      "object_position": null,
      "order": null,
      "overflow": null,
      "overflow_x": null,
      "overflow_y": null,
      "padding": null,
      "right": null,
      "top": null,
      "visibility": null,
      "width": null
     }
    },
    "5d66f67729914763afd6ce4c76457169": {
     "model_module": "@jupyter-widgets/controls",
     "model_module_version": "1.5.0",
     "model_name": "DescriptionStyleModel",
     "state": {
      "_model_module": "@jupyter-widgets/controls",
      "_model_module_version": "1.5.0",
      "_model_name": "DescriptionStyleModel",
      "_view_count": null,
      "_view_module": "@jupyter-widgets/base",
      "_view_module_version": "1.2.0",
      "_view_name": "StyleView",
      "description_width": ""
     }
    },
    "61bb9a947d354113a5aea94614bbc16d": {
     "model_module": "@jupyter-widgets/base",
     "model_module_version": "1.2.0",
     "model_name": "LayoutModel",
     "state": {
      "_model_module": "@jupyter-widgets/base",
      "_model_module_version": "1.2.0",
      "_model_name": "LayoutModel",
      "_view_count": null,
      "_view_module": "@jupyter-widgets/base",
      "_view_module_version": "1.2.0",
      "_view_name": "LayoutView",
      "align_content": null,
      "align_items": null,
      "align_self": null,
      "border": null,
      "bottom": null,
      "display": null,
      "flex": null,
      "flex_flow": null,
      "grid_area": null,
      "grid_auto_columns": null,
      "grid_auto_flow": null,
      "grid_auto_rows": null,
      "grid_column": null,
      "grid_gap": null,
      "grid_row": null,
      "grid_template_areas": null,
      "grid_template_columns": null,
      "grid_template_rows": null,
      "height": null,
      "justify_content": null,
      "justify_items": null,
      "left": null,
      "margin": null,
      "max_height": null,
      "max_width": null,
      "min_height": null,
      "min_width": null,
      "object_fit": null,
      "object_position": null,
      "order": null,
      "overflow": null,
      "overflow_x": null,
      "overflow_y": null,
      "padding": null,
      "right": null,
      "top": null,
      "visibility": null,
      "width": null
     }
    },
    "6d75bd691e6348fbae23f4a3cec3d3f1": {
     "model_module": "@jupyter-widgets/controls",
     "model_module_version": "1.5.0",
     "model_name": "ProgressStyleModel",
     "state": {
      "_model_module": "@jupyter-widgets/controls",
      "_model_module_version": "1.5.0",
      "_model_name": "ProgressStyleModel",
      "_view_count": null,
      "_view_module": "@jupyter-widgets/base",
      "_view_module_version": "1.2.0",
      "_view_name": "StyleView",
      "bar_color": null,
      "description_width": ""
     }
    },
    "7a3a9ac7179d44989553ed77db5a1d30": {
     "model_module": "@jupyter-widgets/controls",
     "model_module_version": "1.5.0",
     "model_name": "HTMLModel",
     "state": {
      "_dom_classes": [],
      "_model_module": "@jupyter-widgets/controls",
      "_model_module_version": "1.5.0",
      "_model_name": "HTMLModel",
      "_view_count": null,
      "_view_module": "@jupyter-widgets/controls",
      "_view_module_version": "1.5.0",
      "_view_name": "HTMLView",
      "description": "",
      "description_tooltip": null,
      "layout": "IPY_MODEL_43bd954abc734213847d1b133e35045e",
      "placeholder": "​",
      "style": "IPY_MODEL_5d66f67729914763afd6ce4c76457169",
      "value": " 0/158331 [00:01&lt;?, ?it/s]"
     }
    },
    "970afe25185c4ab5bb46d9bcc7cdef05": {
     "model_module": "@jupyter-widgets/controls",
     "model_module_version": "1.5.0",
     "model_name": "FloatProgressModel",
     "state": {
      "_dom_classes": [],
      "_model_module": "@jupyter-widgets/controls",
      "_model_module_version": "1.5.0",
      "_model_name": "FloatProgressModel",
      "_view_count": null,
      "_view_module": "@jupyter-widgets/controls",
      "_view_module_version": "1.5.0",
      "_view_name": "ProgressView",
      "bar_style": "",
      "description": "",
      "description_tooltip": null,
      "layout": "IPY_MODEL_c966b37ee8cc441e8a47248aec1b62bb",
      "max": 158331,
      "min": 0,
      "orientation": "horizontal",
      "style": "IPY_MODEL_6d75bd691e6348fbae23f4a3cec3d3f1",
      "value": 0
     }
    },
    "9ec381d401c746a4bbe20fc08be64520": {
     "model_module": "@jupyter-widgets/base",
     "model_module_version": "1.2.0",
     "model_name": "LayoutModel",
     "state": {
      "_model_module": "@jupyter-widgets/base",
      "_model_module_version": "1.2.0",
      "_model_name": "LayoutModel",
      "_view_count": null,
      "_view_module": "@jupyter-widgets/base",
      "_view_module_version": "1.2.0",
      "_view_name": "LayoutView",
      "align_content": null,
      "align_items": null,
      "align_self": null,
      "border": null,
      "bottom": null,
      "display": null,
      "flex": null,
      "flex_flow": null,
      "grid_area": null,
      "grid_auto_columns": null,
      "grid_auto_flow": null,
      "grid_auto_rows": null,
      "grid_column": null,
      "grid_gap": null,
      "grid_row": null,
      "grid_template_areas": null,
      "grid_template_columns": null,
      "grid_template_rows": null,
      "height": null,
      "justify_content": null,
      "justify_items": null,
      "left": null,
      "margin": null,
      "max_height": null,
      "max_width": null,
      "min_height": null,
      "min_width": null,
      "object_fit": null,
      "object_position": null,
      "order": null,
      "overflow": null,
      "overflow_x": null,
      "overflow_y": null,
      "padding": null,
      "right": null,
      "top": null,
      "visibility": null,
      "width": null
     }
    },
    "c0fffc55cf36497597dd17d5deab16ed": {
     "model_module": "@jupyter-widgets/controls",
     "model_module_version": "1.5.0",
     "model_name": "HTMLModel",
     "state": {
      "_dom_classes": [],
      "_model_module": "@jupyter-widgets/controls",
      "_model_module_version": "1.5.0",
      "_model_name": "HTMLModel",
      "_view_count": null,
      "_view_module": "@jupyter-widgets/controls",
      "_view_module_version": "1.5.0",
      "_view_name": "HTMLView",
      "description": "",
      "description_tooltip": null,
      "layout": "IPY_MODEL_9ec381d401c746a4bbe20fc08be64520",
      "placeholder": "​",
      "style": "IPY_MODEL_1f5f3c54cfe94744a5edc2249f9980ff",
      "value": "  0%"
     }
    },
    "c966b37ee8cc441e8a47248aec1b62bb": {
     "model_module": "@jupyter-widgets/base",
     "model_module_version": "1.2.0",
     "model_name": "LayoutModel",
     "state": {
      "_model_module": "@jupyter-widgets/base",
      "_model_module_version": "1.2.0",
      "_model_name": "LayoutModel",
      "_view_count": null,
      "_view_module": "@jupyter-widgets/base",
      "_view_module_version": "1.2.0",
      "_view_name": "LayoutView",
      "align_content": null,
      "align_items": null,
      "align_self": null,
      "border": null,
      "bottom": null,
      "display": null,
      "flex": null,
      "flex_flow": null,
      "grid_area": null,
      "grid_auto_columns": null,
      "grid_auto_flow": null,
      "grid_auto_rows": null,
      "grid_column": null,
      "grid_gap": null,
      "grid_row": null,
      "grid_template_areas": null,
      "grid_template_columns": null,
      "grid_template_rows": null,
      "height": null,
      "justify_content": null,
      "justify_items": null,
      "left": null,
      "margin": null,
      "max_height": null,
      "max_width": null,
      "min_height": null,
      "min_width": null,
      "object_fit": null,
      "object_position": null,
      "order": null,
      "overflow": null,
      "overflow_x": null,
      "overflow_y": null,
      "padding": null,
      "right": null,
      "top": null,
      "visibility": null,
      "width": null
     }
    }
   }
  }
 },
 "nbformat": 4,
 "nbformat_minor": 1
}
