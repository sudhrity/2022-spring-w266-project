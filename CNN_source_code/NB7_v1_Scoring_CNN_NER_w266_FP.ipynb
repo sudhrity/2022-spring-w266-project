{
 "cells": [
  {
   "cell_type": "code",
   "execution_count": 1,
   "metadata": {
    "executionInfo": {
     "elapsed": 1463,
     "status": "ok",
     "timestamp": 1647042582565,
     "user": {
      "displayName": "Sudhrity Mondal",
      "photoUrl": "https://lh3.googleusercontent.com/a-/AOh14GjdLRgPC40ZQQVs03l36W8pJ7OBsjvQEm8WvkqAATE=s64",
      "userId": "02222642944056104592"
     },
     "user_tz": 480
    },
    "id": "sUPGDF4eEVyL"
   },
   "outputs": [],
   "source": [
    "import os\n",
    "import json\n",
    "import joblib\n",
    "import time\n",
    "import pandas as pd\n",
    "import numpy as np\n",
    "import random\n",
    "from IPython.display import display, HTML\n",
    "import torch\n",
    "\n",
    "import nltk\n",
    "\n",
    "# # Better pandas table\n",
    "# from google.colab import data_table\n",
    "# data_table.enable_dataframe_formatter()"
   ]
  },
  {
   "cell_type": "code",
   "execution_count": 2,
   "metadata": {
    "colab": {
     "base_uri": "https://localhost:8080/"
    },
    "executionInfo": {
     "elapsed": 19870,
     "status": "ok",
     "timestamp": 1647042605687,
     "user": {
      "displayName": "Sudhrity Mondal",
      "photoUrl": "https://lh3.googleusercontent.com/a-/AOh14GjdLRgPC40ZQQVs03l36W8pJ7OBsjvQEm8WvkqAATE=s64",
      "userId": "02222642944056104592"
     },
     "user_tz": 480
    },
    "id": "W6KAdaw3vBaL",
    "outputId": "3e8222e3-3e53-4eb3-f9df-5a4ca96fcaf9"
   },
   "outputs": [
    {
     "name": "stdout",
     "output_type": "stream",
     "text": [
      "fatal: destination path 'transformers' already exists and is not an empty directory.\n",
      "\u001b[31mERROR: pip's dependency resolver does not currently take into account all the packages that are installed. This behaviour is the source of the following dependency conflicts.\n",
      "simplet5 0.1.4 requires transformers==4.16.2, but you have transformers 4.18.0.dev0 which is incompatible.\u001b[0m\u001b[31m\n",
      "\u001b[0m"
     ]
    }
   ],
   "source": [
    "#connect to hugging face\n",
    "!git clone https://github.com/huggingface/transformers \\\n",
    "&& cd transformers \\\n",
    "install\n",
    "!pip install -q ./transformers"
   ]
  },
  {
   "cell_type": "code",
   "execution_count": 3,
   "metadata": {
    "executionInfo": {
     "elapsed": 8,
     "status": "ok",
     "timestamp": 1647042619999,
     "user": {
      "displayName": "Sudhrity Mondal",
      "photoUrl": "https://lh3.googleusercontent.com/a-/AOh14GjdLRgPC40ZQQVs03l36W8pJ7OBsjvQEm8WvkqAATE=s64",
      "userId": "02222642944056104592"
     },
     "user_tz": 480
    },
    "id": "JHwOEMZkvBaL"
   },
   "outputs": [],
   "source": [
    "import transformers\n",
    "from transformers import BartTokenizer, BartForConditionalGeneration"
   ]
  },
  {
   "cell_type": "code",
   "execution_count": 4,
   "metadata": {
    "colab": {
     "base_uri": "https://localhost:8080/"
    },
    "executionInfo": {
     "elapsed": 9835,
     "status": "ok",
     "timestamp": 1647042619998,
     "user": {
      "displayName": "Sudhrity Mondal",
      "photoUrl": "https://lh3.googleusercontent.com/a-/AOh14GjdLRgPC40ZQQVs03l36W8pJ7OBsjvQEm8WvkqAATE=s64",
      "userId": "02222642944056104592"
     },
     "user_tz": 480
    },
    "id": "J8ooBEmvvBaM",
    "outputId": "8ef27f94-3fcc-4823-f4e0-7237cefa9643"
   },
   "outputs": [
    {
     "name": "stdout",
     "output_type": "stream",
     "text": [
      "Requirement already satisfied: simpletransformers in /home/ubuntu/anaconda3/lib/python3.8/site-packages (0.63.4)\n",
      "Requirement already satisfied: tqdm>=4.47.0 in /home/ubuntu/anaconda3/lib/python3.8/site-packages (from simpletransformers) (4.62.3)\n",
      "Requirement already satisfied: datasets in /home/ubuntu/anaconda3/lib/python3.8/site-packages (from simpletransformers) (1.18.3)\n",
      "Requirement already satisfied: scipy in /home/ubuntu/anaconda3/lib/python3.8/site-packages (from simpletransformers) (1.6.2)\n",
      "Requirement already satisfied: tokenizers in /home/ubuntu/anaconda3/lib/python3.8/site-packages (from simpletransformers) (0.11.4)\n",
      "Requirement already satisfied: seqeval in /home/ubuntu/anaconda3/lib/python3.8/site-packages (from simpletransformers) (1.2.2)\n",
      "Requirement already satisfied: scikit-learn in /home/ubuntu/anaconda3/lib/python3.8/site-packages (from simpletransformers) (0.24.1)\n",
      "Requirement already satisfied: requests in /home/ubuntu/anaconda3/lib/python3.8/site-packages (from simpletransformers) (2.25.1)\n",
      "Requirement already satisfied: regex in /home/ubuntu/anaconda3/lib/python3.8/site-packages (from simpletransformers) (2021.4.4)\n",
      "Requirement already satisfied: pandas in /home/ubuntu/anaconda3/lib/python3.8/site-packages (from simpletransformers) (1.2.4)\n",
      "Requirement already satisfied: numpy in /home/ubuntu/anaconda3/lib/python3.8/site-packages (from simpletransformers) (1.19.5)\n",
      "Requirement already satisfied: transformers>=4.6.0 in /home/ubuntu/anaconda3/lib/python3.8/site-packages (from simpletransformers) (4.18.0.dev0)\n",
      "Requirement already satisfied: sentencepiece in /home/ubuntu/anaconda3/lib/python3.8/site-packages (from simpletransformers) (0.1.96)\n",
      "Requirement already satisfied: streamlit in /home/ubuntu/anaconda3/lib/python3.8/site-packages (from simpletransformers) (1.5.1)\n",
      "Requirement already satisfied: wandb>=0.10.32 in /home/ubuntu/anaconda3/lib/python3.8/site-packages (from simpletransformers) (0.12.10)\n",
      "Requirement already satisfied: tensorboard in /home/ubuntu/anaconda3/lib/python3.8/site-packages (from simpletransformers) (2.6.0)\n",
      "Requirement already satisfied: huggingface-hub<1.0,>=0.1.0 in /home/ubuntu/anaconda3/lib/python3.8/site-packages (from transformers>=4.6.0->simpletransformers) (0.4.0)\n",
      "Requirement already satisfied: packaging>=20.0 in /home/ubuntu/anaconda3/lib/python3.8/site-packages (from transformers>=4.6.0->simpletransformers) (20.9)\n",
      "Requirement already satisfied: pyyaml>=5.1 in /home/ubuntu/anaconda3/lib/python3.8/site-packages (from transformers>=4.6.0->simpletransformers) (5.4.1)\n",
      "Requirement already satisfied: filelock in /home/ubuntu/anaconda3/lib/python3.8/site-packages (from transformers>=4.6.0->simpletransformers) (3.0.12)\n",
      "Requirement already satisfied: sacremoses in /home/ubuntu/anaconda3/lib/python3.8/site-packages (from transformers>=4.6.0->simpletransformers) (0.0.47)\n",
      "Requirement already satisfied: pathtools in /home/ubuntu/anaconda3/lib/python3.8/site-packages (from wandb>=0.10.32->simpletransformers) (0.1.2)\n",
      "Requirement already satisfied: psutil>=5.0.0 in /home/ubuntu/anaconda3/lib/python3.8/site-packages (from wandb>=0.10.32->simpletransformers) (5.8.0)\n",
      "Requirement already satisfied: python-dateutil>=2.6.1 in /home/ubuntu/anaconda3/lib/python3.8/site-packages (from wandb>=0.10.32->simpletransformers) (2.8.1)\n",
      "Requirement already satisfied: GitPython>=1.0.0 in /home/ubuntu/anaconda3/lib/python3.8/site-packages (from wandb>=0.10.32->simpletransformers) (3.1.26)\n",
      "Requirement already satisfied: docker-pycreds>=0.4.0 in /home/ubuntu/anaconda3/lib/python3.8/site-packages (from wandb>=0.10.32->simpletransformers) (0.4.0)\n",
      "Requirement already satisfied: sentry-sdk>=1.0.0 in /home/ubuntu/anaconda3/lib/python3.8/site-packages (from wandb>=0.10.32->simpletransformers) (1.5.5)\n",
      "Requirement already satisfied: protobuf>=3.12.0 in /home/ubuntu/anaconda3/lib/python3.8/site-packages (from wandb>=0.10.32->simpletransformers) (3.19.4)\n",
      "Requirement already satisfied: promise<3,>=2.0 in /home/ubuntu/anaconda3/lib/python3.8/site-packages (from wandb>=0.10.32->simpletransformers) (2.3)\n",
      "Requirement already satisfied: six>=1.13.0 in /home/ubuntu/anaconda3/lib/python3.8/site-packages (from wandb>=0.10.32->simpletransformers) (1.15.0)\n",
      "Requirement already satisfied: Click!=8.0.0,>=7.0 in /home/ubuntu/anaconda3/lib/python3.8/site-packages (from wandb>=0.10.32->simpletransformers) (7.1.2)\n",
      "Requirement already satisfied: yaspin>=1.0.0 in /home/ubuntu/anaconda3/lib/python3.8/site-packages (from wandb>=0.10.32->simpletransformers) (2.1.0)\n",
      "Requirement already satisfied: shortuuid>=0.5.0 in /home/ubuntu/anaconda3/lib/python3.8/site-packages (from wandb>=0.10.32->simpletransformers) (1.0.8)\n",
      "Requirement already satisfied: certifi>=2017.4.17 in /home/ubuntu/anaconda3/lib/python3.8/site-packages (from requests->simpletransformers) (2020.12.5)\n",
      "Requirement already satisfied: urllib3<1.27,>=1.21.1 in /home/ubuntu/anaconda3/lib/python3.8/site-packages (from requests->simpletransformers) (1.26.4)\n",
      "Requirement already satisfied: chardet<5,>=3.0.2 in /home/ubuntu/anaconda3/lib/python3.8/site-packages (from requests->simpletransformers) (4.0.0)\n",
      "Requirement already satisfied: idna<3,>=2.5 in /home/ubuntu/anaconda3/lib/python3.8/site-packages (from requests->simpletransformers) (2.10)\n",
      "Requirement already satisfied: aiohttp in /home/ubuntu/anaconda3/lib/python3.8/site-packages (from datasets->simpletransformers) (3.8.1)\n",
      "Requirement already satisfied: multiprocess in /home/ubuntu/anaconda3/lib/python3.8/site-packages (from datasets->simpletransformers) (0.70.12.2)\n",
      "Requirement already satisfied: dill in /home/ubuntu/anaconda3/lib/python3.8/site-packages (from datasets->simpletransformers) (0.3.4)\n",
      "Requirement already satisfied: xxhash in /home/ubuntu/anaconda3/lib/python3.8/site-packages (from datasets->simpletransformers) (2.0.2)\n",
      "Requirement already satisfied: pyarrow!=4.0.0,>=3.0.0 in /home/ubuntu/anaconda3/lib/python3.8/site-packages (from datasets->simpletransformers) (7.0.0)\n",
      "Requirement already satisfied: fsspec[http]>=2021.05.0 in /home/ubuntu/anaconda3/lib/python3.8/site-packages (from datasets->simpletransformers) (2022.1.0)\n",
      "Requirement already satisfied: pytz>=2017.3 in /home/ubuntu/anaconda3/lib/python3.8/site-packages (from pandas->simpletransformers) (2021.1)\n",
      "Requirement already satisfied: joblib>=0.11 in /home/ubuntu/anaconda3/lib/python3.8/site-packages (from scikit-learn->simpletransformers) (1.0.1)\n",
      "Requirement already satisfied: threadpoolctl>=2.0.0 in /home/ubuntu/anaconda3/lib/python3.8/site-packages (from scikit-learn->simpletransformers) (2.1.0)\n",
      "Requirement already satisfied: validators in /home/ubuntu/anaconda3/lib/python3.8/site-packages (from streamlit->simpletransformers) (0.18.2)\n",
      "Requirement already satisfied: attrs in /home/ubuntu/anaconda3/lib/python3.8/site-packages (from streamlit->simpletransformers) (20.3.0)\n",
      "Requirement already satisfied: toml in /home/ubuntu/anaconda3/lib/python3.8/site-packages (from streamlit->simpletransformers) (0.10.2)\n",
      "Requirement already satisfied: pympler>=0.9 in /home/ubuntu/anaconda3/lib/python3.8/site-packages (from streamlit->simpletransformers) (1.0.1)\n",
      "Requirement already satisfied: astor in /home/ubuntu/anaconda3/lib/python3.8/site-packages (from streamlit->simpletransformers) (0.8.1)\n",
      "Requirement already satisfied: pillow>=6.2.0 in /home/ubuntu/anaconda3/lib/python3.8/site-packages (from streamlit->simpletransformers) (8.2.0)\n",
      "Requirement already satisfied: tornado>=5.0 in /home/ubuntu/anaconda3/lib/python3.8/site-packages (from streamlit->simpletransformers) (6.1)\n",
      "Requirement already satisfied: watchdog in /home/ubuntu/anaconda3/lib/python3.8/site-packages (from streamlit->simpletransformers) (1.0.2)\n",
      "Requirement already satisfied: pydeck>=0.1.dev5 in /home/ubuntu/anaconda3/lib/python3.8/site-packages (from streamlit->simpletransformers) (0.7.1)\n",
      "Requirement already satisfied: base58 in /home/ubuntu/anaconda3/lib/python3.8/site-packages (from streamlit->simpletransformers) (2.1.1)\n",
      "Requirement already satisfied: blinker in /home/ubuntu/anaconda3/lib/python3.8/site-packages (from streamlit->simpletransformers) (1.4)\n",
      "Requirement already satisfied: tzlocal in /home/ubuntu/anaconda3/lib/python3.8/site-packages (from streamlit->simpletransformers) (4.1)\n",
      "Requirement already satisfied: cachetools>=4.0 in /home/ubuntu/anaconda3/lib/python3.8/site-packages (from streamlit->simpletransformers) (4.2.4)\n",
      "Requirement already satisfied: altair>=3.2.0 in /home/ubuntu/anaconda3/lib/python3.8/site-packages (from streamlit->simpletransformers) (4.2.0)\n",
      "Requirement already satisfied: tensorboard-plugin-wit>=1.6.0 in /home/ubuntu/anaconda3/lib/python3.8/site-packages (from tensorboard->simpletransformers) (1.8.1)\n",
      "Requirement already satisfied: markdown>=2.6.8 in /home/ubuntu/anaconda3/lib/python3.8/site-packages (from tensorboard->simpletransformers) (3.3.6)\n",
      "Requirement already satisfied: google-auth-oauthlib<0.5,>=0.4.1 in /home/ubuntu/anaconda3/lib/python3.8/site-packages (from tensorboard->simpletransformers) (0.4.6)\n",
      "Requirement already satisfied: setuptools>=41.0.0 in /home/ubuntu/anaconda3/lib/python3.8/site-packages (from tensorboard->simpletransformers) (59.5.0)\n",
      "Requirement already satisfied: absl-py>=0.4 in /home/ubuntu/anaconda3/lib/python3.8/site-packages (from tensorboard->simpletransformers) (0.15.0)\n"
     ]
    },
    {
     "name": "stdout",
     "output_type": "stream",
     "text": [
      "Requirement already satisfied: grpcio>=1.24.3 in /home/ubuntu/anaconda3/lib/python3.8/site-packages (from tensorboard->simpletransformers) (1.43.0)\n",
      "Requirement already satisfied: tensorboard-data-server<0.7.0,>=0.6.0 in /home/ubuntu/anaconda3/lib/python3.8/site-packages (from tensorboard->simpletransformers) (0.6.1)\n",
      "Requirement already satisfied: google-auth<2,>=1.6.3 in /home/ubuntu/anaconda3/lib/python3.8/site-packages (from tensorboard->simpletransformers) (1.35.0)\n",
      "Requirement already satisfied: wheel>=0.26 in /home/ubuntu/anaconda3/lib/python3.8/site-packages (from tensorboard->simpletransformers) (0.36.2)\n",
      "Requirement already satisfied: werkzeug>=0.11.15 in /home/ubuntu/anaconda3/lib/python3.8/site-packages (from tensorboard->simpletransformers) (1.0.1)\n",
      "Requirement already satisfied: entrypoints in /home/ubuntu/anaconda3/lib/python3.8/site-packages (from altair>=3.2.0->streamlit->simpletransformers) (0.3)\n",
      "Requirement already satisfied: jsonschema>=3.0 in /home/ubuntu/anaconda3/lib/python3.8/site-packages (from altair>=3.2.0->streamlit->simpletransformers) (3.2.0)\n",
      "Requirement already satisfied: jinja2 in /home/ubuntu/anaconda3/lib/python3.8/site-packages (from altair>=3.2.0->streamlit->simpletransformers) (2.11.3)\n",
      "Requirement already satisfied: toolz in /home/ubuntu/anaconda3/lib/python3.8/site-packages (from altair>=3.2.0->streamlit->simpletransformers) (0.11.1)\n",
      "Requirement already satisfied: gitdb<5,>=4.0.1 in /home/ubuntu/anaconda3/lib/python3.8/site-packages (from GitPython>=1.0.0->wandb>=0.10.32->simpletransformers) (4.0.9)\n",
      "Requirement already satisfied: pyasn1-modules>=0.2.1 in /home/ubuntu/anaconda3/lib/python3.8/site-packages (from google-auth<2,>=1.6.3->tensorboard->simpletransformers) (0.2.8)\n",
      "Requirement already satisfied: rsa<5,>=3.1.4 in /home/ubuntu/anaconda3/lib/python3.8/site-packages (from google-auth<2,>=1.6.3->tensorboard->simpletransformers) (4.8)\n",
      "Requirement already satisfied: requests-oauthlib>=0.7.0 in /home/ubuntu/anaconda3/lib/python3.8/site-packages (from google-auth-oauthlib<0.5,>=0.4.1->tensorboard->simpletransformers) (1.3.1)\n",
      "Requirement already satisfied: typing-extensions>=3.7.4.3 in /home/ubuntu/anaconda3/lib/python3.8/site-packages (from huggingface-hub<1.0,>=0.1.0->transformers>=4.6.0->simpletransformers) (3.7.4.3)\n",
      "Requirement already satisfied: importlib-metadata>=4.4 in /home/ubuntu/anaconda3/lib/python3.8/site-packages (from markdown>=2.6.8->tensorboard->simpletransformers) (4.11.0)\n",
      "Requirement already satisfied: pyparsing>=2.0.2 in /home/ubuntu/anaconda3/lib/python3.8/site-packages (from packaging>=20.0->transformers>=4.6.0->simpletransformers) (2.4.7)\n",
      "Requirement already satisfied: traitlets>=4.3.2 in /home/ubuntu/anaconda3/lib/python3.8/site-packages (from pydeck>=0.1.dev5->streamlit->simpletransformers) (5.0.5)\n",
      "Requirement already satisfied: ipywidgets>=7.0.0 in /home/ubuntu/anaconda3/lib/python3.8/site-packages (from pydeck>=0.1.dev5->streamlit->simpletransformers) (7.6.3)\n",
      "Requirement already satisfied: ipykernel>=5.1.2 in /home/ubuntu/anaconda3/lib/python3.8/site-packages (from pydeck>=0.1.dev5->streamlit->simpletransformers) (5.3.4)\n",
      "Requirement already satisfied: termcolor<2.0.0,>=1.1.0 in /home/ubuntu/anaconda3/lib/python3.8/site-packages (from yaspin>=1.0.0->wandb>=0.10.32->simpletransformers) (1.1.0)\n",
      "Requirement already satisfied: charset-normalizer<3.0,>=2.0 in /home/ubuntu/anaconda3/lib/python3.8/site-packages (from aiohttp->datasets->simpletransformers) (2.0.12)\n",
      "Requirement already satisfied: yarl<2.0,>=1.0 in /home/ubuntu/anaconda3/lib/python3.8/site-packages (from aiohttp->datasets->simpletransformers) (1.7.2)\n",
      "Requirement already satisfied: multidict<7.0,>=4.5 in /home/ubuntu/anaconda3/lib/python3.8/site-packages (from aiohttp->datasets->simpletransformers) (6.0.2)\n",
      "Requirement already satisfied: frozenlist>=1.1.1 in /home/ubuntu/anaconda3/lib/python3.8/site-packages (from aiohttp->datasets->simpletransformers) (1.3.0)\n",
      "Requirement already satisfied: aiosignal>=1.1.2 in /home/ubuntu/anaconda3/lib/python3.8/site-packages (from aiohttp->datasets->simpletransformers) (1.2.0)\n",
      "Requirement already satisfied: async-timeout<5.0,>=4.0.0a3 in /home/ubuntu/anaconda3/lib/python3.8/site-packages (from aiohttp->datasets->simpletransformers) (4.0.2)\n",
      "Requirement already satisfied: pytz-deprecation-shim in /home/ubuntu/anaconda3/lib/python3.8/site-packages (from tzlocal->streamlit->simpletransformers) (0.1.0.post0)\n",
      "Requirement already satisfied: backports.zoneinfo in /home/ubuntu/anaconda3/lib/python3.8/site-packages (from tzlocal->streamlit->simpletransformers) (0.2.1)\n",
      "Requirement already satisfied: decorator>=3.4.0 in /home/ubuntu/anaconda3/lib/python3.8/site-packages (from validators->streamlit->simpletransformers) (5.0.6)\n",
      "Requirement already satisfied: smmap<6,>=3.0.1 in /home/ubuntu/anaconda3/lib/python3.8/site-packages (from gitdb<5,>=4.0.1->GitPython>=1.0.0->wandb>=0.10.32->simpletransformers) (5.0.0)\n",
      "Requirement already satisfied: zipp>=0.5 in /home/ubuntu/anaconda3/lib/python3.8/site-packages (from importlib-metadata>=4.4->markdown>=2.6.8->tensorboard->simpletransformers) (3.4.1)\n",
      "Requirement already satisfied: ipython>=5.0.0 in /home/ubuntu/anaconda3/lib/python3.8/site-packages (from ipykernel>=5.1.2->pydeck>=0.1.dev5->streamlit->simpletransformers) (7.22.0)\n",
      "Requirement already satisfied: jupyter-client in /home/ubuntu/anaconda3/lib/python3.8/site-packages (from ipykernel>=5.1.2->pydeck>=0.1.dev5->streamlit->simpletransformers) (6.1.12)\n",
      "Requirement already satisfied: nbformat>=4.2.0 in /home/ubuntu/anaconda3/lib/python3.8/site-packages (from ipywidgets>=7.0.0->pydeck>=0.1.dev5->streamlit->simpletransformers) (5.1.3)\n",
      "Requirement already satisfied: jupyterlab-widgets>=1.0.0 in /home/ubuntu/anaconda3/lib/python3.8/site-packages (from ipywidgets>=7.0.0->pydeck>=0.1.dev5->streamlit->simpletransformers) (1.0.0)\n",
      "Requirement already satisfied: widgetsnbextension~=3.5.0 in /home/ubuntu/anaconda3/lib/python3.8/site-packages (from ipywidgets>=7.0.0->pydeck>=0.1.dev5->streamlit->simpletransformers) (3.5.1)\n",
      "Requirement already satisfied: MarkupSafe>=0.23 in /home/ubuntu/anaconda3/lib/python3.8/site-packages (from jinja2->altair>=3.2.0->streamlit->simpletransformers) (1.1.1)\n",
      "Requirement already satisfied: pyrsistent>=0.14.0 in /home/ubuntu/anaconda3/lib/python3.8/site-packages (from jsonschema>=3.0->altair>=3.2.0->streamlit->simpletransformers) (0.17.3)\n",
      "Requirement already satisfied: pyasn1<0.5.0,>=0.4.6 in /home/ubuntu/anaconda3/lib/python3.8/site-packages (from pyasn1-modules>=0.2.1->google-auth<2,>=1.6.3->tensorboard->simpletransformers) (0.4.8)\n",
      "Requirement already satisfied: oauthlib>=3.0.0 in /home/ubuntu/anaconda3/lib/python3.8/site-packages (from requests-oauthlib>=0.7.0->google-auth-oauthlib<0.5,>=0.4.1->tensorboard->simpletransformers) (3.2.0)\n",
      "Requirement already satisfied: ipython-genutils in /home/ubuntu/anaconda3/lib/python3.8/site-packages (from traitlets>=4.3.2->pydeck>=0.1.dev5->streamlit->simpletransformers) (0.2.0)\n",
      "Requirement already satisfied: tzdata in /home/ubuntu/anaconda3/lib/python3.8/site-packages (from pytz-deprecation-shim->tzlocal->streamlit->simpletransformers) (2021.5)\n",
      "Requirement already satisfied: jedi>=0.16 in /home/ubuntu/anaconda3/lib/python3.8/site-packages (from ipython>=5.0.0->ipykernel>=5.1.2->pydeck>=0.1.dev5->streamlit->simpletransformers) (0.17.2)\n",
      "Requirement already satisfied: pexpect>4.3 in /home/ubuntu/anaconda3/lib/python3.8/site-packages (from ipython>=5.0.0->ipykernel>=5.1.2->pydeck>=0.1.dev5->streamlit->simpletransformers) (4.8.0)\n",
      "Requirement already satisfied: backcall in /home/ubuntu/anaconda3/lib/python3.8/site-packages (from ipython>=5.0.0->ipykernel>=5.1.2->pydeck>=0.1.dev5->streamlit->simpletransformers) (0.2.0)\n",
      "Requirement already satisfied: pickleshare in /home/ubuntu/anaconda3/lib/python3.8/site-packages (from ipython>=5.0.0->ipykernel>=5.1.2->pydeck>=0.1.dev5->streamlit->simpletransformers) (0.7.5)\n",
      "Requirement already satisfied: pygments in /home/ubuntu/anaconda3/lib/python3.8/site-packages (from ipython>=5.0.0->ipykernel>=5.1.2->pydeck>=0.1.dev5->streamlit->simpletransformers) (2.8.1)\n",
      "Requirement already satisfied: prompt-toolkit!=3.0.0,!=3.0.1,<3.1.0,>=2.0.0 in /home/ubuntu/anaconda3/lib/python3.8/site-packages (from ipython>=5.0.0->ipykernel>=5.1.2->pydeck>=0.1.dev5->streamlit->simpletransformers) (3.0.17)\n",
      "Requirement already satisfied: jupyter-core in /home/ubuntu/anaconda3/lib/python3.8/site-packages (from nbformat>=4.2.0->ipywidgets>=7.0.0->pydeck>=0.1.dev5->streamlit->simpletransformers) (4.7.1)\n"
     ]
    },
    {
     "name": "stdout",
     "output_type": "stream",
     "text": [
      "Requirement already satisfied: notebook>=4.4.1 in /home/ubuntu/anaconda3/lib/python3.8/site-packages (from widgetsnbextension~=3.5.0->ipywidgets>=7.0.0->pydeck>=0.1.dev5->streamlit->simpletransformers) (6.3.0)\n",
      "Requirement already satisfied: pyzmq>=13 in /home/ubuntu/anaconda3/lib/python3.8/site-packages (from jupyter-client->ipykernel>=5.1.2->pydeck>=0.1.dev5->streamlit->simpletransformers) (20.0.0)\n",
      "Requirement already satisfied: parso<0.8.0,>=0.7.0 in /home/ubuntu/anaconda3/lib/python3.8/site-packages (from jedi>=0.16->ipython>=5.0.0->ipykernel>=5.1.2->pydeck>=0.1.dev5->streamlit->simpletransformers) (0.7.0)\n",
      "Requirement already satisfied: argon2-cffi in /home/ubuntu/anaconda3/lib/python3.8/site-packages (from notebook>=4.4.1->widgetsnbextension~=3.5.0->ipywidgets>=7.0.0->pydeck>=0.1.dev5->streamlit->simpletransformers) (20.1.0)\n",
      "Requirement already satisfied: terminado>=0.8.3 in /home/ubuntu/anaconda3/lib/python3.8/site-packages (from notebook>=4.4.1->widgetsnbextension~=3.5.0->ipywidgets>=7.0.0->pydeck>=0.1.dev5->streamlit->simpletransformers) (0.9.4)\n",
      "Requirement already satisfied: nbconvert in /home/ubuntu/anaconda3/lib/python3.8/site-packages (from notebook>=4.4.1->widgetsnbextension~=3.5.0->ipywidgets>=7.0.0->pydeck>=0.1.dev5->streamlit->simpletransformers) (6.0.7)\n",
      "Requirement already satisfied: Send2Trash>=1.5.0 in /home/ubuntu/anaconda3/lib/python3.8/site-packages (from notebook>=4.4.1->widgetsnbextension~=3.5.0->ipywidgets>=7.0.0->pydeck>=0.1.dev5->streamlit->simpletransformers) (1.5.0)\n",
      "Requirement already satisfied: prometheus-client in /home/ubuntu/anaconda3/lib/python3.8/site-packages (from notebook>=4.4.1->widgetsnbextension~=3.5.0->ipywidgets>=7.0.0->pydeck>=0.1.dev5->streamlit->simpletransformers) (0.10.1)\n",
      "Requirement already satisfied: ptyprocess>=0.5 in /home/ubuntu/anaconda3/lib/python3.8/site-packages (from pexpect>4.3->ipython>=5.0.0->ipykernel>=5.1.2->pydeck>=0.1.dev5->streamlit->simpletransformers) (0.7.0)\n",
      "Requirement already satisfied: wcwidth in /home/ubuntu/anaconda3/lib/python3.8/site-packages (from prompt-toolkit!=3.0.0,!=3.0.1,<3.1.0,>=2.0.0->ipython>=5.0.0->ipykernel>=5.1.2->pydeck>=0.1.dev5->streamlit->simpletransformers) (0.2.5)\n",
      "Requirement already satisfied: cffi>=1.0.0 in /home/ubuntu/anaconda3/lib/python3.8/site-packages (from argon2-cffi->notebook>=4.4.1->widgetsnbextension~=3.5.0->ipywidgets>=7.0.0->pydeck>=0.1.dev5->streamlit->simpletransformers) (1.14.5)\n",
      "Requirement already satisfied: jupyterlab-pygments in /home/ubuntu/anaconda3/lib/python3.8/site-packages (from nbconvert->notebook>=4.4.1->widgetsnbextension~=3.5.0->ipywidgets>=7.0.0->pydeck>=0.1.dev5->streamlit->simpletransformers) (0.1.2)\n",
      "Requirement already satisfied: defusedxml in /home/ubuntu/anaconda3/lib/python3.8/site-packages (from nbconvert->notebook>=4.4.1->widgetsnbextension~=3.5.0->ipywidgets>=7.0.0->pydeck>=0.1.dev5->streamlit->simpletransformers) (0.7.1)\n",
      "Requirement already satisfied: testpath in /home/ubuntu/anaconda3/lib/python3.8/site-packages (from nbconvert->notebook>=4.4.1->widgetsnbextension~=3.5.0->ipywidgets>=7.0.0->pydeck>=0.1.dev5->streamlit->simpletransformers) (0.4.4)\n",
      "Requirement already satisfied: mistune<2,>=0.8.1 in /home/ubuntu/anaconda3/lib/python3.8/site-packages (from nbconvert->notebook>=4.4.1->widgetsnbextension~=3.5.0->ipywidgets>=7.0.0->pydeck>=0.1.dev5->streamlit->simpletransformers) (0.8.4)\n",
      "Requirement already satisfied: pandocfilters>=1.4.1 in /home/ubuntu/anaconda3/lib/python3.8/site-packages (from nbconvert->notebook>=4.4.1->widgetsnbextension~=3.5.0->ipywidgets>=7.0.0->pydeck>=0.1.dev5->streamlit->simpletransformers) (1.4.3)\n",
      "Requirement already satisfied: bleach in /home/ubuntu/anaconda3/lib/python3.8/site-packages (from nbconvert->notebook>=4.4.1->widgetsnbextension~=3.5.0->ipywidgets>=7.0.0->pydeck>=0.1.dev5->streamlit->simpletransformers) (3.3.0)\n",
      "Requirement already satisfied: nbclient<0.6.0,>=0.5.0 in /home/ubuntu/anaconda3/lib/python3.8/site-packages (from nbconvert->notebook>=4.4.1->widgetsnbextension~=3.5.0->ipywidgets>=7.0.0->pydeck>=0.1.dev5->streamlit->simpletransformers) (0.5.3)\n",
      "Requirement already satisfied: pycparser in /home/ubuntu/anaconda3/lib/python3.8/site-packages (from cffi>=1.0.0->argon2-cffi->notebook>=4.4.1->widgetsnbextension~=3.5.0->ipywidgets>=7.0.0->pydeck>=0.1.dev5->streamlit->simpletransformers) (2.20)\n",
      "Requirement already satisfied: nest-asyncio in /home/ubuntu/anaconda3/lib/python3.8/site-packages (from nbclient<0.6.0,>=0.5.0->nbconvert->notebook>=4.4.1->widgetsnbextension~=3.5.0->ipywidgets>=7.0.0->pydeck>=0.1.dev5->streamlit->simpletransformers) (1.5.1)\n",
      "Requirement already satisfied: async-generator in /home/ubuntu/anaconda3/lib/python3.8/site-packages (from nbclient<0.6.0,>=0.5.0->nbconvert->notebook>=4.4.1->widgetsnbextension~=3.5.0->ipywidgets>=7.0.0->pydeck>=0.1.dev5->streamlit->simpletransformers) (1.10)\n",
      "Requirement already satisfied: webencodings in /home/ubuntu/anaconda3/lib/python3.8/site-packages (from bleach->nbconvert->notebook>=4.4.1->widgetsnbextension~=3.5.0->ipywidgets>=7.0.0->pydeck>=0.1.dev5->streamlit->simpletransformers) (0.5.1)\n"
     ]
    }
   ],
   "source": [
    "# Installing transformers\n",
    "!pip install simpletransformers\n",
    "#!pip install transformers\n",
    "# Importing necessary libraries from simple transformers\n",
    "from simpletransformers.seq2seq import Seq2SeqModel,Seq2SeqArgs"
   ]
  },
  {
   "cell_type": "code",
   "execution_count": 5,
   "metadata": {
    "colab": {
     "base_uri": "https://localhost:8080/"
    },
    "executionInfo": {
     "elapsed": 4723,
     "status": "ok",
     "timestamp": 1647042624716,
     "user": {
      "displayName": "Sudhrity Mondal",
      "photoUrl": "https://lh3.googleusercontent.com/a-/AOh14GjdLRgPC40ZQQVs03l36W8pJ7OBsjvQEm8WvkqAATE=s64",
      "userId": "02222642944056104592"
     },
     "user_tz": 480
    },
    "id": "zbeaHCjuvBaN",
    "outputId": "7b3bd937-5e9f-4905-db06-0a42d25a34ad"
   },
   "outputs": [
    {
     "name": "stdout",
     "output_type": "stream",
     "text": [
      "Requirement already satisfied: ipywidgets in /home/ubuntu/anaconda3/lib/python3.8/site-packages (7.6.3)\n",
      "Requirement already satisfied: nbformat>=4.2.0 in /home/ubuntu/anaconda3/lib/python3.8/site-packages (from ipywidgets) (5.1.3)\n",
      "Requirement already satisfied: ipython>=4.0.0 in /home/ubuntu/anaconda3/lib/python3.8/site-packages (from ipywidgets) (7.22.0)\n",
      "Requirement already satisfied: jupyterlab-widgets>=1.0.0 in /home/ubuntu/anaconda3/lib/python3.8/site-packages (from ipywidgets) (1.0.0)\n",
      "Requirement already satisfied: ipykernel>=4.5.1 in /home/ubuntu/anaconda3/lib/python3.8/site-packages (from ipywidgets) (5.3.4)\n",
      "Requirement already satisfied: traitlets>=4.3.1 in /home/ubuntu/anaconda3/lib/python3.8/site-packages (from ipywidgets) (5.0.5)\n",
      "Requirement already satisfied: widgetsnbextension~=3.5.0 in /home/ubuntu/anaconda3/lib/python3.8/site-packages (from ipywidgets) (3.5.1)\n",
      "Requirement already satisfied: jupyter-client in /home/ubuntu/anaconda3/lib/python3.8/site-packages (from ipykernel>=4.5.1->ipywidgets) (6.1.12)\n",
      "Requirement already satisfied: tornado>=4.2 in /home/ubuntu/anaconda3/lib/python3.8/site-packages (from ipykernel>=4.5.1->ipywidgets) (6.1)\n",
      "Requirement already satisfied: pexpect>4.3 in /home/ubuntu/anaconda3/lib/python3.8/site-packages (from ipython>=4.0.0->ipywidgets) (4.8.0)\n",
      "Requirement already satisfied: pickleshare in /home/ubuntu/anaconda3/lib/python3.8/site-packages (from ipython>=4.0.0->ipywidgets) (0.7.5)\n",
      "Requirement already satisfied: prompt-toolkit!=3.0.0,!=3.0.1,<3.1.0,>=2.0.0 in /home/ubuntu/anaconda3/lib/python3.8/site-packages (from ipython>=4.0.0->ipywidgets) (3.0.17)\n",
      "Requirement already satisfied: jedi>=0.16 in /home/ubuntu/anaconda3/lib/python3.8/site-packages (from ipython>=4.0.0->ipywidgets) (0.17.2)\n",
      "Requirement already satisfied: pygments in /home/ubuntu/anaconda3/lib/python3.8/site-packages (from ipython>=4.0.0->ipywidgets) (2.8.1)\n",
      "Requirement already satisfied: backcall in /home/ubuntu/anaconda3/lib/python3.8/site-packages (from ipython>=4.0.0->ipywidgets) (0.2.0)\n",
      "Requirement already satisfied: decorator in /home/ubuntu/anaconda3/lib/python3.8/site-packages (from ipython>=4.0.0->ipywidgets) (5.0.6)\n",
      "Requirement already satisfied: setuptools>=18.5 in /home/ubuntu/anaconda3/lib/python3.8/site-packages (from ipython>=4.0.0->ipywidgets) (59.5.0)\n",
      "Requirement already satisfied: ipython-genutils in /home/ubuntu/anaconda3/lib/python3.8/site-packages (from nbformat>=4.2.0->ipywidgets) (0.2.0)\n",
      "Requirement already satisfied: jupyter-core in /home/ubuntu/anaconda3/lib/python3.8/site-packages (from nbformat>=4.2.0->ipywidgets) (4.7.1)\n",
      "Requirement already satisfied: jsonschema!=2.5.0,>=2.4 in /home/ubuntu/anaconda3/lib/python3.8/site-packages (from nbformat>=4.2.0->ipywidgets) (3.2.0)\n",
      "Requirement already satisfied: notebook>=4.4.1 in /home/ubuntu/anaconda3/lib/python3.8/site-packages (from widgetsnbextension~=3.5.0->ipywidgets) (6.3.0)\n",
      "Requirement already satisfied: parso<0.8.0,>=0.7.0 in /home/ubuntu/anaconda3/lib/python3.8/site-packages (from jedi>=0.16->ipython>=4.0.0->ipywidgets) (0.7.0)\n",
      "Requirement already satisfied: six>=1.11.0 in /home/ubuntu/anaconda3/lib/python3.8/site-packages (from jsonschema!=2.5.0,>=2.4->nbformat>=4.2.0->ipywidgets) (1.15.0)\n",
      "Requirement already satisfied: attrs>=17.4.0 in /home/ubuntu/anaconda3/lib/python3.8/site-packages (from jsonschema!=2.5.0,>=2.4->nbformat>=4.2.0->ipywidgets) (20.3.0)\n",
      "Requirement already satisfied: pyrsistent>=0.14.0 in /home/ubuntu/anaconda3/lib/python3.8/site-packages (from jsonschema!=2.5.0,>=2.4->nbformat>=4.2.0->ipywidgets) (0.17.3)\n",
      "Requirement already satisfied: Send2Trash>=1.5.0 in /home/ubuntu/anaconda3/lib/python3.8/site-packages (from notebook>=4.4.1->widgetsnbextension~=3.5.0->ipywidgets) (1.5.0)\n",
      "Requirement already satisfied: pyzmq>=17 in /home/ubuntu/anaconda3/lib/python3.8/site-packages (from notebook>=4.4.1->widgetsnbextension~=3.5.0->ipywidgets) (20.0.0)\n",
      "Requirement already satisfied: argon2-cffi in /home/ubuntu/anaconda3/lib/python3.8/site-packages (from notebook>=4.4.1->widgetsnbextension~=3.5.0->ipywidgets) (20.1.0)\n",
      "Requirement already satisfied: terminado>=0.8.3 in /home/ubuntu/anaconda3/lib/python3.8/site-packages (from notebook>=4.4.1->widgetsnbextension~=3.5.0->ipywidgets) (0.9.4)\n",
      "Requirement already satisfied: jinja2 in /home/ubuntu/anaconda3/lib/python3.8/site-packages (from notebook>=4.4.1->widgetsnbextension~=3.5.0->ipywidgets) (2.11.3)\n",
      "Requirement already satisfied: nbconvert in /home/ubuntu/anaconda3/lib/python3.8/site-packages (from notebook>=4.4.1->widgetsnbextension~=3.5.0->ipywidgets) (6.0.7)\n",
      "Requirement already satisfied: prometheus-client in /home/ubuntu/anaconda3/lib/python3.8/site-packages (from notebook>=4.4.1->widgetsnbextension~=3.5.0->ipywidgets) (0.10.1)\n",
      "Requirement already satisfied: python-dateutil>=2.1 in /home/ubuntu/anaconda3/lib/python3.8/site-packages (from jupyter-client->ipykernel>=4.5.1->ipywidgets) (2.8.1)\n",
      "Requirement already satisfied: ptyprocess>=0.5 in /home/ubuntu/anaconda3/lib/python3.8/site-packages (from pexpect>4.3->ipython>=4.0.0->ipywidgets) (0.7.0)\n",
      "Requirement already satisfied: wcwidth in /home/ubuntu/anaconda3/lib/python3.8/site-packages (from prompt-toolkit!=3.0.0,!=3.0.1,<3.1.0,>=2.0.0->ipython>=4.0.0->ipywidgets) (0.2.5)\n",
      "Requirement already satisfied: cffi>=1.0.0 in /home/ubuntu/anaconda3/lib/python3.8/site-packages (from argon2-cffi->notebook>=4.4.1->widgetsnbextension~=3.5.0->ipywidgets) (1.14.5)\n",
      "Requirement already satisfied: MarkupSafe>=0.23 in /home/ubuntu/anaconda3/lib/python3.8/site-packages (from jinja2->notebook>=4.4.1->widgetsnbextension~=3.5.0->ipywidgets) (1.1.1)\n",
      "Requirement already satisfied: defusedxml in /home/ubuntu/anaconda3/lib/python3.8/site-packages (from nbconvert->notebook>=4.4.1->widgetsnbextension~=3.5.0->ipywidgets) (0.7.1)\n",
      "Requirement already satisfied: entrypoints>=0.2.2 in /home/ubuntu/anaconda3/lib/python3.8/site-packages (from nbconvert->notebook>=4.4.1->widgetsnbextension~=3.5.0->ipywidgets) (0.3)\n",
      "Requirement already satisfied: nbclient<0.6.0,>=0.5.0 in /home/ubuntu/anaconda3/lib/python3.8/site-packages (from nbconvert->notebook>=4.4.1->widgetsnbextension~=3.5.0->ipywidgets) (0.5.3)\n",
      "Requirement already satisfied: bleach in /home/ubuntu/anaconda3/lib/python3.8/site-packages (from nbconvert->notebook>=4.4.1->widgetsnbextension~=3.5.0->ipywidgets) (3.3.0)\n",
      "Requirement already satisfied: mistune<2,>=0.8.1 in /home/ubuntu/anaconda3/lib/python3.8/site-packages (from nbconvert->notebook>=4.4.1->widgetsnbextension~=3.5.0->ipywidgets) (0.8.4)\n",
      "Requirement already satisfied: jupyterlab-pygments in /home/ubuntu/anaconda3/lib/python3.8/site-packages (from nbconvert->notebook>=4.4.1->widgetsnbextension~=3.5.0->ipywidgets) (0.1.2)\n",
      "Requirement already satisfied: testpath in /home/ubuntu/anaconda3/lib/python3.8/site-packages (from nbconvert->notebook>=4.4.1->widgetsnbextension~=3.5.0->ipywidgets) (0.4.4)\n",
      "Requirement already satisfied: pandocfilters>=1.4.1 in /home/ubuntu/anaconda3/lib/python3.8/site-packages (from nbconvert->notebook>=4.4.1->widgetsnbextension~=3.5.0->ipywidgets) (1.4.3)\n",
      "Requirement already satisfied: pycparser in /home/ubuntu/anaconda3/lib/python3.8/site-packages (from cffi>=1.0.0->argon2-cffi->notebook>=4.4.1->widgetsnbextension~=3.5.0->ipywidgets) (2.20)\n",
      "Requirement already satisfied: nest-asyncio in /home/ubuntu/anaconda3/lib/python3.8/site-packages (from nbclient<0.6.0,>=0.5.0->nbconvert->notebook>=4.4.1->widgetsnbextension~=3.5.0->ipywidgets) (1.5.1)\n",
      "Requirement already satisfied: async-generator in /home/ubuntu/anaconda3/lib/python3.8/site-packages (from nbclient<0.6.0,>=0.5.0->nbconvert->notebook>=4.4.1->widgetsnbextension~=3.5.0->ipywidgets) (1.10)\n",
      "Requirement already satisfied: packaging in /home/ubuntu/anaconda3/lib/python3.8/site-packages (from bleach->nbconvert->notebook>=4.4.1->widgetsnbextension~=3.5.0->ipywidgets) (20.9)\n",
      "Requirement already satisfied: webencodings in /home/ubuntu/anaconda3/lib/python3.8/site-packages (from bleach->nbconvert->notebook>=4.4.1->widgetsnbextension~=3.5.0->ipywidgets) (0.5.1)\n",
      "Requirement already satisfied: pyparsing>=2.0.2 in /home/ubuntu/anaconda3/lib/python3.8/site-packages (from packaging->bleach->nbconvert->notebook>=4.4.1->widgetsnbextension~=3.5.0->ipywidgets) (2.4.7)\n"
     ]
    },
    {
     "name": "stdout",
     "output_type": "stream",
     "text": [
      "Note: you may need to restart the kernel to use updated packages.\n"
     ]
    }
   ],
   "source": [
    "pip install ipywidgets"
   ]
  },
  {
   "cell_type": "code",
   "execution_count": 6,
   "metadata": {
    "colab": {
     "base_uri": "https://localhost:8080/"
    },
    "executionInfo": {
     "elapsed": 223,
     "status": "ok",
     "timestamp": 1647042624930,
     "user": {
      "displayName": "Sudhrity Mondal",
      "photoUrl": "https://lh3.googleusercontent.com/a-/AOh14GjdLRgPC40ZQQVs03l36W8pJ7OBsjvQEm8WvkqAATE=s64",
      "userId": "02222642944056104592"
     },
     "user_tz": 480
    },
    "id": "W7PM7iZmvBaN",
    "outputId": "234f5ead-4b12-4676-d781-fda8ae344e6b"
   },
   "outputs": [
    {
     "name": "stdout",
     "output_type": "stream",
     "text": [
      "Using:  cuda\n"
     ]
    }
   ],
   "source": [
    "device = torch.device(\"cuda\" if torch.cuda.is_available() else \"cpu\")\n",
    "print('Using: ', device)"
   ]
  },
  {
   "cell_type": "code",
   "execution_count": 7,
   "metadata": {
    "colab": {
     "base_uri": "https://localhost:8080/"
    },
    "executionInfo": {
     "elapsed": 21982,
     "status": "ok",
     "timestamp": 1647042650000,
     "user": {
      "displayName": "Sudhrity Mondal",
      "photoUrl": "https://lh3.googleusercontent.com/a-/AOh14GjdLRgPC40ZQQVs03l36W8pJ7OBsjvQEm8WvkqAATE=s64",
      "userId": "02222642944056104592"
     },
     "user_tz": 480
    },
    "id": "g88emQUOwJLE",
    "outputId": "be8d1cbc-e530-48f9-e411-44945ee5f5ff"
   },
   "outputs": [],
   "source": [
    "# from google.colab import drive\n",
    "# drive.mount('/content/drive')"
   ]
  },
  {
   "cell_type": "code",
   "execution_count": 8,
   "metadata": {
    "executionInfo": {
     "elapsed": 203,
     "status": "ok",
     "timestamp": 1647042653679,
     "user": {
      "displayName": "Sudhrity Mondal",
      "photoUrl": "https://lh3.googleusercontent.com/a-/AOh14GjdLRgPC40ZQQVs03l36W8pJ7OBsjvQEm8WvkqAATE=s64",
      "userId": "02222642944056104592"
     },
     "user_tz": 480
    },
    "id": "qk6OnnphsEeZ"
   },
   "outputs": [],
   "source": [
    "# path_models = '/content/drive/MyDrive/w266/models/'\n",
    "# path_outputs = '/content/drive/MyDrive/w266/outputs/'\n",
    "# path_processed_data= '/content/drive/MyDrive/w266/processed_data/'"
   ]
  },
  {
   "cell_type": "code",
   "execution_count": 9,
   "metadata": {},
   "outputs": [],
   "source": [
    "path_models = './models/cnn_2e/'\n",
    "path_outputs = './outputs/'\n",
    "path_processed_data= './processed_data/'"
   ]
  },
  {
   "cell_type": "code",
   "execution_count": 10,
   "metadata": {
    "id": "sK_HfkoIaDBR"
   },
   "outputs": [],
   "source": [
    "data_name = 'cnn_test'\n",
    "input_filename = data_name + '_prediction_ner_v3.json' \n",
    "#out_filename = data_name + '_summary_abs.json'"
   ]
  },
  {
   "cell_type": "code",
   "execution_count": 11,
   "metadata": {
    "executionInfo": {
     "elapsed": 3385,
     "status": "ok",
     "timestamp": 1647042658359,
     "user": {
      "displayName": "Sudhrity Mondal",
      "photoUrl": "https://lh3.googleusercontent.com/a-/AOh14GjdLRgPC40ZQQVs03l36W8pJ7OBsjvQEm8WvkqAATE=s64",
      "userId": "02222642944056104592"
     },
     "user_tz": 480
    },
    "id": "1qxnmsQlvBaP"
   },
   "outputs": [],
   "source": [
    "\n",
    "jsonFile = open(os.path.join(path_processed_data, input_filename), \"r\")\n",
    "jsonContent = jsonFile.read()\n",
    "details_dict = json.loads(jsonContent)\n",
    "jsonFile.close()\n",
    "\n",
    "details = {\n",
    "    'headlines' : details_dict['headlines'],\n",
    "    'text' : details_dict['text'],\n",
    "    'keywords' : details_dict['keywords'],\n",
    "    'summary_art' : details_dict['summary_art'],\n",
    "    'entities' : details_dict['entities'],\n",
    "#    'text_ner' : details_dict['text_ner'],\n",
    "    'sentence_1s' : details_dict['sentence_1s'],\n",
    "    'sentence_3s' : details_dict['sentence_3s'],\n",
    "    'summary_ext' : details_dict['summary_ext'],\n",
    "    'summary_abs' : details_dict['summary_abs'],\n",
    "    'summary_extabs' : details_dict['summary_extabs'],\n",
    "    'summary_ner' : details_dict['summary_ner'],\n",
    "    'summary_t5' : details_dict['summary_t5'],\n",
    "    'predict_1s' : details_dict['predict_1s'],\n",
    "    'predict_3s' : details_dict['predict_3s'],\n",
    "    'predict_text' : details_dict['predict_text'],\n",
    "    'predict_ext' : details_dict['predict_ext'],\n",
    "    'predict_abs' : details_dict['predict_abs'],\n",
    "    'predict_extabs' : details_dict['predict_extabs'],\n",
    "#    'predict_ner' : details_dict['predict_ner'],\n",
    "#    'predict_t5' : details_dict['predict_t5']\n",
    "}\n",
    "\n",
    "df_score = pd.DataFrame(details)"
   ]
  },
  {
   "cell_type": "code",
   "execution_count": 12,
   "metadata": {
    "colab": {
     "base_uri": "https://localhost:8080/"
    },
    "executionInfo": {
     "elapsed": 11,
     "status": "ok",
     "timestamp": 1646925454518,
     "user": {
      "displayName": "Sudhrity Mondal",
      "photoUrl": "https://lh3.googleusercontent.com/a-/AOh14GjdLRgPC40ZQQVs03l36W8pJ7OBsjvQEm8WvkqAATE=s64",
      "userId": "02222642944056104592"
     },
     "user_tz": 480
    },
    "id": "3QjvSHFWvBaQ",
    "outputId": "c797f1f8-7c42-4a5a-b0d4-1a48cda9e22f"
   },
   "outputs": [],
   "source": [
    "#print(len(details_dict['predict_ner']))"
   ]
  },
  {
   "cell_type": "code",
   "execution_count": 13,
   "metadata": {
    "colab": {
     "base_uri": "https://localhost:8080/",
     "height": 1463
    },
    "executionInfo": {
     "elapsed": 12480,
     "status": "ok",
     "timestamp": 1646926221748,
     "user": {
      "displayName": "Sudhrity Mondal",
      "photoUrl": "https://lh3.googleusercontent.com/a-/AOh14GjdLRgPC40ZQQVs03l36W8pJ7OBsjvQEm8WvkqAATE=s64",
      "userId": "02222642944056104592"
     },
     "user_tz": 480
    },
    "id": "-Oa6BGbANvIk",
    "outputId": "64a742ab-36d9-4a43-b7c5-d0a6b52d5ad4"
   },
   "outputs": [
    {
     "data": {
      "text/html": [
       "<div>\n",
       "<style scoped>\n",
       "    .dataframe tbody tr th:only-of-type {\n",
       "        vertical-align: middle;\n",
       "    }\n",
       "\n",
       "    .dataframe tbody tr th {\n",
       "        vertical-align: top;\n",
       "    }\n",
       "\n",
       "    .dataframe thead th {\n",
       "        text-align: right;\n",
       "    }\n",
       "</style>\n",
       "<table border=\"1\" class=\"dataframe\">\n",
       "  <thead>\n",
       "    <tr style=\"text-align: right;\">\n",
       "      <th></th>\n",
       "      <th>headlines</th>\n",
       "      <th>predict_1s</th>\n",
       "      <th>predict_3s</th>\n",
       "      <th>predict_text</th>\n",
       "      <th>predict_ext</th>\n",
       "      <th>predict_abs</th>\n",
       "      <th>predict_extabs</th>\n",
       "    </tr>\n",
       "  </thead>\n",
       "  <tbody>\n",
       "    <tr>\n",
       "      <th>0</th>\n",
       "      <td>Soldier slain London street machine gunner dru...</td>\n",
       "      <td>Story highlights Drummer Lee Riggers Rigby 25 ...</td>\n",
       "      <td>UK soldier slain cleaver became military recru...</td>\n",
       "      <td>UK soldier slain cleaver attack became militar...</td>\n",
       "      <td>UK soldier slain cleaver attack became militar...</td>\n",
       "      <td>UK soldier killed London attack became drummer</td>\n",
       "      <td>UK soldier killed soldier loved soccer loved life</td>\n",
       "    </tr>\n",
       "    <tr>\n",
       "      <th>1</th>\n",
       "      <td>New York probes report EMTs ignored woman died</td>\n",
       "      <td>New York   Officials investigating reports two...</td>\n",
       "      <td>Fire dispatchers trained help pregnant worker ...</td>\n",
       "      <td>Fire dispatchers trained emergency medical car...</td>\n",
       "      <td>Fire dispatchers trained emergency medical car...</td>\n",
       "      <td>NYPD fire dispatchers charged death woman coll...</td>\n",
       "      <td>NYPD fire chief charged death 2 dispatchers</td>\n",
       "    </tr>\n",
       "    <tr>\n",
       "      <th>2</th>\n",
       "      <td>Erupt typical travel pattern</td>\n",
       "      <td>Editor note Share volcano photos CNN iReport .</td>\n",
       "      <td>Volcano summit The world hottest place ever see</td>\n",
       "      <td>Scientists hope Antarctica volcano discovery h...</td>\n",
       "      <td>Scientists hope Antarctica volcano discovery h...</td>\n",
       "      <td>The Antarctic volcano dreams . . ever.</td>\n",
       "      <td>The Antarctic volcano dreams . . ever.</td>\n",
       "    </tr>\n",
       "    <tr>\n",
       "      <th>3</th>\n",
       "      <td>Sentencing phase begin convicted Ohio serial k...</td>\n",
       "      <td>An Ohio jury Monday begin sentencing phase c...</td>\n",
       "      <td>Ohio jury begins sentencing phase convicted se...</td>\n",
       "      <td>Ohio jury begins sentencing phase convicted se...</td>\n",
       "      <td>Ohio serial killer Anthony Sowell goes sentenc...</td>\n",
       "      <td>ExCleveland man pleads guilty murder 11 women</td>\n",
       "      <td>Death row inmate gets life sentence Ohio killings</td>\n",
       "    </tr>\n",
       "    <tr>\n",
       "      <th>4</th>\n",
       "      <td>Girl loses 65 pounds fight childhood obesity</td>\n",
       "      <td>Update In July 2014 Breanna Bond 12 competed...</td>\n",
       "      <td>Weight loss inspires mom daughter fight fight ...</td>\n",
       "      <td>Weight loss battle childhood obesity</td>\n",
       "      <td>Weight loss helps kids fight diabetes</td>\n",
       "      <td>Teen loses 79 pounds loses 100 pounds</td>\n",
       "      <td>Weight loss inspires teen swimmer lose 100 pounds</td>\n",
       "    </tr>\n",
       "    <tr>\n",
       "      <th>...</th>\n",
       "      <td>...</td>\n",
       "      <td>...</td>\n",
       "      <td>...</td>\n",
       "      <td>...</td>\n",
       "      <td>...</td>\n",
       "      <td>...</td>\n",
       "      <td>...</td>\n",
       "    </tr>\n",
       "    <tr>\n",
       "      <th>9155</th>\n",
       "      <td>What evidence Syrian chemical weapons attack</td>\n",
       "      <td>outside experts help us establish whether thi...</td>\n",
       "      <td>Syrian opposition accuses regime using chemica...</td>\n",
       "      <td>Syria chemical weapons report No credible evid...</td>\n",
       "      <td>U. S.  seeks probe alleged chemical weapons us...</td>\n",
       "      <td>Syria chemical weapons report No evidence chem...</td>\n",
       "      <td>Putin U. S.  must step Iraq defense</td>\n",
       "    </tr>\n",
       "    <tr>\n",
       "      <th>9156</th>\n",
       "      <td>A town copes lives lost Texas blast</td>\n",
       "      <td>West Texas   Since little boys growing West Te...</td>\n",
       "      <td>Texas brothers volunteer firefighters help sav...</td>\n",
       "      <td>Texas town mourns 9 firstresponders killed fire</td>\n",
       "      <td>9 firstresponders killed Texas blaze remembered</td>\n",
       "      <td>Firefighters killed blaze save lives</td>\n",
       "      <td>9 killed Colorado fire officials say</td>\n",
       "    </tr>\n",
       "    <tr>\n",
       "      <th>9157</th>\n",
       "      <td>Voluntary recall another compounding facility</td>\n",
       "      <td>Government Accountability Office released rep...</td>\n",
       "      <td>FDA investigating deadly compounding pharmacy ...</td>\n",
       "      <td>FDA orders new look compounding pharmacy safety</td>\n",
       "      <td>FDA orders new look compounding pharmacy safety</td>\n",
       "      <td>FDA probes possible link tainted drugs linked ...</td>\n",
       "      <td>FDA probes possible link tainted drugs linked ...</td>\n",
       "    </tr>\n",
       "    <tr>\n",
       "      <th>9158</th>\n",
       "      <td>Crowdsourced maps help mobile users compare ne...</td>\n",
       "      <td>Editor note Amy Gahran writes mobile tech CNN .</td>\n",
       "      <td>Mobile apps help kids get ahead mobile apps</td>\n",
       "      <td>Why mobile apps matter</td>\n",
       "      <td>Why mobile apps matter</td>\n",
       "      <td>Why I quit Facebook</td>\n",
       "      <td>Google launches mobile app search results</td>\n",
       "    </tr>\n",
       "    <tr>\n",
       "      <th>9159</th>\n",
       "      <td>Survivors shocked double attack</td>\n",
       "      <td>Story highlights Victims bus bomb hospital att...</td>\n",
       "      <td>Bus bombing victims defiant shocked</td>\n",
       "      <td>Bus bombing victims defiant shocked</td>\n",
       "      <td>Survivors Pakistan bus bombing defiant shocked</td>\n",
       "      <td>Pakistani women burn alive school fire</td>\n",
       "      <td>University bus bombing kills 5 injures dozens</td>\n",
       "    </tr>\n",
       "  </tbody>\n",
       "</table>\n",
       "<p>9160 rows × 7 columns</p>\n",
       "</div>"
      ],
      "text/plain": [
       "                                              headlines  \\\n",
       "0     Soldier slain London street machine gunner dru...   \n",
       "1        New York probes report EMTs ignored woman died   \n",
       "2                          Erupt typical travel pattern   \n",
       "3     Sentencing phase begin convicted Ohio serial k...   \n",
       "4          Girl loses 65 pounds fight childhood obesity   \n",
       "...                                                 ...   \n",
       "9155       What evidence Syrian chemical weapons attack   \n",
       "9156                A town copes lives lost Texas blast   \n",
       "9157      Voluntary recall another compounding facility   \n",
       "9158  Crowdsourced maps help mobile users compare ne...   \n",
       "9159                    Survivors shocked double attack   \n",
       "\n",
       "                                             predict_1s  \\\n",
       "0     Story highlights Drummer Lee Riggers Rigby 25 ...   \n",
       "1     New York   Officials investigating reports two...   \n",
       "2        Editor note Share volcano photos CNN iReport .   \n",
       "3       An Ohio jury Monday begin sentencing phase c...   \n",
       "4       Update In July 2014 Breanna Bond 12 competed...   \n",
       "...                                                 ...   \n",
       "9155   outside experts help us establish whether thi...   \n",
       "9156  West Texas   Since little boys growing West Te...   \n",
       "9157   Government Accountability Office released rep...   \n",
       "9158    Editor note Amy Gahran writes mobile tech CNN .   \n",
       "9159  Story highlights Victims bus bomb hospital att...   \n",
       "\n",
       "                                             predict_3s  \\\n",
       "0     UK soldier slain cleaver became military recru...   \n",
       "1     Fire dispatchers trained help pregnant worker ...   \n",
       "2       Volcano summit The world hottest place ever see   \n",
       "3     Ohio jury begins sentencing phase convicted se...   \n",
       "4     Weight loss inspires mom daughter fight fight ...   \n",
       "...                                                 ...   \n",
       "9155  Syrian opposition accuses regime using chemica...   \n",
       "9156  Texas brothers volunteer firefighters help sav...   \n",
       "9157  FDA investigating deadly compounding pharmacy ...   \n",
       "9158        Mobile apps help kids get ahead mobile apps   \n",
       "9159                Bus bombing victims defiant shocked   \n",
       "\n",
       "                                           predict_text  \\\n",
       "0     UK soldier slain cleaver attack became militar...   \n",
       "1     Fire dispatchers trained emergency medical car...   \n",
       "2     Scientists hope Antarctica volcano discovery h...   \n",
       "3     Ohio jury begins sentencing phase convicted se...   \n",
       "4                  Weight loss battle childhood obesity   \n",
       "...                                                 ...   \n",
       "9155  Syria chemical weapons report No credible evid...   \n",
       "9156    Texas town mourns 9 firstresponders killed fire   \n",
       "9157    FDA orders new look compounding pharmacy safety   \n",
       "9158                             Why mobile apps matter   \n",
       "9159                Bus bombing victims defiant shocked   \n",
       "\n",
       "                                            predict_ext  \\\n",
       "0     UK soldier slain cleaver attack became militar...   \n",
       "1     Fire dispatchers trained emergency medical car...   \n",
       "2     Scientists hope Antarctica volcano discovery h...   \n",
       "3     Ohio serial killer Anthony Sowell goes sentenc...   \n",
       "4                 Weight loss helps kids fight diabetes   \n",
       "...                                                 ...   \n",
       "9155  U. S.  seeks probe alleged chemical weapons us...   \n",
       "9156    9 firstresponders killed Texas blaze remembered   \n",
       "9157    FDA orders new look compounding pharmacy safety   \n",
       "9158                             Why mobile apps matter   \n",
       "9159     Survivors Pakistan bus bombing defiant shocked   \n",
       "\n",
       "                                            predict_abs  \\\n",
       "0        UK soldier killed London attack became drummer   \n",
       "1     NYPD fire dispatchers charged death woman coll...   \n",
       "2               The Antarctic volcano dreams . . ever.    \n",
       "3         ExCleveland man pleads guilty murder 11 women   \n",
       "4                 Teen loses 79 pounds loses 100 pounds   \n",
       "...                                                 ...   \n",
       "9155  Syria chemical weapons report No evidence chem...   \n",
       "9156               Firefighters killed blaze save lives   \n",
       "9157  FDA probes possible link tainted drugs linked ...   \n",
       "9158                                Why I quit Facebook   \n",
       "9159             Pakistani women burn alive school fire   \n",
       "\n",
       "                                         predict_extabs  \n",
       "0     UK soldier killed soldier loved soccer loved life  \n",
       "1           NYPD fire chief charged death 2 dispatchers  \n",
       "2               The Antarctic volcano dreams . . ever.   \n",
       "3     Death row inmate gets life sentence Ohio killings  \n",
       "4     Weight loss inspires teen swimmer lose 100 pounds  \n",
       "...                                                 ...  \n",
       "9155                Putin U. S.  must step Iraq defense  \n",
       "9156               9 killed Colorado fire officials say  \n",
       "9157  FDA probes possible link tainted drugs linked ...  \n",
       "9158          Google launches mobile app search results  \n",
       "9159      University bus bombing kills 5 injures dozens  \n",
       "\n",
       "[9160 rows x 7 columns]"
      ]
     },
     "execution_count": 13,
     "metadata": {},
     "output_type": "execute_result"
    }
   ],
   "source": [
    "df_results = {k: details[k] for k in ('headlines', 'predict_1s', 'predict_3s', 'predict_text', 'predict_ext', 'predict_abs', 'predict_extabs')}\n",
    "pd.DataFrame(df_results)"
   ]
  },
  {
   "cell_type": "code",
   "execution_count": 14,
   "metadata": {},
   "outputs": [
    {
     "name": "stdout",
     "output_type": "stream",
     "text": [
      "Requirement already satisfied: Rouge in /home/ubuntu/anaconda3/lib/python3.8/site-packages (1.0.1)\n",
      "Requirement already satisfied: six in /home/ubuntu/anaconda3/lib/python3.8/site-packages (from Rouge) (1.15.0)\n",
      "Note: you may need to restart the kernel to use updated packages.\n"
     ]
    }
   ],
   "source": [
    "pip install Rouge"
   ]
  },
  {
   "cell_type": "code",
   "execution_count": 15,
   "metadata": {},
   "outputs": [],
   "source": [
    "from rouge import Rouge\n",
    "rouge = Rouge()"
   ]
  },
  {
   "cell_type": "code",
   "execution_count": 16,
   "metadata": {
    "id": "nmkUfJIQOs8s"
   },
   "outputs": [
    {
     "data": {
      "text/html": [
       "<div>\n",
       "<style scoped>\n",
       "    .dataframe tbody tr th:only-of-type {\n",
       "        vertical-align: middle;\n",
       "    }\n",
       "\n",
       "    .dataframe tbody tr th {\n",
       "        vertical-align: top;\n",
       "    }\n",
       "\n",
       "    .dataframe thead th {\n",
       "        text-align: right;\n",
       "    }\n",
       "</style>\n",
       "<table border=\"1\" class=\"dataframe\">\n",
       "  <thead>\n",
       "    <tr style=\"text-align: right;\">\n",
       "      <th></th>\n",
       "      <th>rouge-1</th>\n",
       "      <th>rouge-2</th>\n",
       "      <th>rouge-l</th>\n",
       "    </tr>\n",
       "  </thead>\n",
       "  <tbody>\n",
       "    <tr>\n",
       "      <th>r</th>\n",
       "      <td>0.272922</td>\n",
       "      <td>0.089370</td>\n",
       "      <td>0.241525</td>\n",
       "    </tr>\n",
       "    <tr>\n",
       "      <th>p</th>\n",
       "      <td>0.109200</td>\n",
       "      <td>0.030277</td>\n",
       "      <td>0.098448</td>\n",
       "    </tr>\n",
       "    <tr>\n",
       "      <th>f</th>\n",
       "      <td>0.142266</td>\n",
       "      <td>0.041741</td>\n",
       "      <td>0.126898</td>\n",
       "    </tr>\n",
       "  </tbody>\n",
       "</table>\n",
       "</div>"
      ],
      "text/plain": [
       "    rouge-1   rouge-2   rouge-l\n",
       "r  0.272922  0.089370  0.241525\n",
       "p  0.109200  0.030277  0.098448\n",
       "f  0.142266  0.041741  0.126898"
      ]
     },
     "execution_count": 16,
     "metadata": {},
     "output_type": "execute_result"
    }
   ],
   "source": [
    "score_1s = rouge.get_scores(details_dict['predict_1s'], details_dict['headlines'], avg=True)\n",
    "df_results = {k: score_1s[k] for k in ('rouge-1', 'rouge-2', 'rouge-l')}\n",
    "pd.DataFrame(df_results)"
   ]
  },
  {
   "cell_type": "code",
   "execution_count": 17,
   "metadata": {},
   "outputs": [
    {
     "data": {
      "text/html": [
       "<div>\n",
       "<style scoped>\n",
       "    .dataframe tbody tr th:only-of-type {\n",
       "        vertical-align: middle;\n",
       "    }\n",
       "\n",
       "    .dataframe tbody tr th {\n",
       "        vertical-align: top;\n",
       "    }\n",
       "\n",
       "    .dataframe thead th {\n",
       "        text-align: right;\n",
       "    }\n",
       "</style>\n",
       "<table border=\"1\" class=\"dataframe\">\n",
       "  <thead>\n",
       "    <tr style=\"text-align: right;\">\n",
       "      <th></th>\n",
       "      <th>rouge-1</th>\n",
       "      <th>rouge-2</th>\n",
       "      <th>rouge-l</th>\n",
       "    </tr>\n",
       "  </thead>\n",
       "  <tbody>\n",
       "    <tr>\n",
       "      <th>r</th>\n",
       "      <td>0.283993</td>\n",
       "      <td>0.110531</td>\n",
       "      <td>0.265490</td>\n",
       "    </tr>\n",
       "    <tr>\n",
       "      <th>p</th>\n",
       "      <td>0.282199</td>\n",
       "      <td>0.108220</td>\n",
       "      <td>0.263905</td>\n",
       "    </tr>\n",
       "    <tr>\n",
       "      <th>f</th>\n",
       "      <td>0.277124</td>\n",
       "      <td>0.106598</td>\n",
       "      <td>0.259101</td>\n",
       "    </tr>\n",
       "  </tbody>\n",
       "</table>\n",
       "</div>"
      ],
      "text/plain": [
       "    rouge-1   rouge-2   rouge-l\n",
       "r  0.283993  0.110531  0.265490\n",
       "p  0.282199  0.108220  0.263905\n",
       "f  0.277124  0.106598  0.259101"
      ]
     },
     "execution_count": 17,
     "metadata": {},
     "output_type": "execute_result"
    }
   ],
   "source": [
    "score_3s = rouge.get_scores(details_dict['predict_3s'], details_dict['headlines'], avg=True)\n",
    "df_results = {k: score_3s[k] for k in ('rouge-1', 'rouge-2', 'rouge-l')}\n",
    "pd.DataFrame(df_results)"
   ]
  },
  {
   "cell_type": "code",
   "execution_count": 18,
   "metadata": {},
   "outputs": [
    {
     "data": {
      "text/html": [
       "<div>\n",
       "<style scoped>\n",
       "    .dataframe tbody tr th:only-of-type {\n",
       "        vertical-align: middle;\n",
       "    }\n",
       "\n",
       "    .dataframe tbody tr th {\n",
       "        vertical-align: top;\n",
       "    }\n",
       "\n",
       "    .dataframe thead th {\n",
       "        text-align: right;\n",
       "    }\n",
       "</style>\n",
       "<table border=\"1\" class=\"dataframe\">\n",
       "  <thead>\n",
       "    <tr style=\"text-align: right;\">\n",
       "      <th></th>\n",
       "      <th>rouge-1</th>\n",
       "      <th>rouge-2</th>\n",
       "      <th>rouge-l</th>\n",
       "    </tr>\n",
       "  </thead>\n",
       "  <tbody>\n",
       "    <tr>\n",
       "      <th>r</th>\n",
       "      <td>0.312894</td>\n",
       "      <td>0.119527</td>\n",
       "      <td>0.291087</td>\n",
       "    </tr>\n",
       "    <tr>\n",
       "      <th>p</th>\n",
       "      <td>0.306454</td>\n",
       "      <td>0.114797</td>\n",
       "      <td>0.284996</td>\n",
       "    </tr>\n",
       "    <tr>\n",
       "      <th>f</th>\n",
       "      <td>0.303171</td>\n",
       "      <td>0.114123</td>\n",
       "      <td>0.281948</td>\n",
       "    </tr>\n",
       "  </tbody>\n",
       "</table>\n",
       "</div>"
      ],
      "text/plain": [
       "    rouge-1   rouge-2   rouge-l\n",
       "r  0.312894  0.119527  0.291087\n",
       "p  0.306454  0.114797  0.284996\n",
       "f  0.303171  0.114123  0.281948"
      ]
     },
     "execution_count": 18,
     "metadata": {},
     "output_type": "execute_result"
    }
   ],
   "source": [
    "score_text = rouge.get_scores(details_dict['predict_text'], details_dict['headlines'], avg=True)\n",
    "df_results = {k: score_text[k] for k in ('rouge-1', 'rouge-2', 'rouge-l')}\n",
    "pd.DataFrame(df_results)"
   ]
  },
  {
   "cell_type": "code",
   "execution_count": 19,
   "metadata": {},
   "outputs": [
    {
     "data": {
      "text/html": [
       "<div>\n",
       "<style scoped>\n",
       "    .dataframe tbody tr th:only-of-type {\n",
       "        vertical-align: middle;\n",
       "    }\n",
       "\n",
       "    .dataframe tbody tr th {\n",
       "        vertical-align: top;\n",
       "    }\n",
       "\n",
       "    .dataframe thead th {\n",
       "        text-align: right;\n",
       "    }\n",
       "</style>\n",
       "<table border=\"1\" class=\"dataframe\">\n",
       "  <thead>\n",
       "    <tr style=\"text-align: right;\">\n",
       "      <th></th>\n",
       "      <th>rouge-1</th>\n",
       "      <th>rouge-2</th>\n",
       "      <th>rouge-l</th>\n",
       "    </tr>\n",
       "  </thead>\n",
       "  <tbody>\n",
       "    <tr>\n",
       "      <th>r</th>\n",
       "      <td>0.302569</td>\n",
       "      <td>0.114378</td>\n",
       "      <td>0.281460</td>\n",
       "    </tr>\n",
       "    <tr>\n",
       "      <th>p</th>\n",
       "      <td>0.299093</td>\n",
       "      <td>0.111136</td>\n",
       "      <td>0.278101</td>\n",
       "    </tr>\n",
       "    <tr>\n",
       "      <th>f</th>\n",
       "      <td>0.294356</td>\n",
       "      <td>0.109771</td>\n",
       "      <td>0.273707</td>\n",
       "    </tr>\n",
       "  </tbody>\n",
       "</table>\n",
       "</div>"
      ],
      "text/plain": [
       "    rouge-1   rouge-2   rouge-l\n",
       "r  0.302569  0.114378  0.281460\n",
       "p  0.299093  0.111136  0.278101\n",
       "f  0.294356  0.109771  0.273707"
      ]
     },
     "execution_count": 19,
     "metadata": {},
     "output_type": "execute_result"
    }
   ],
   "source": [
    "score_ext = rouge.get_scores(details_dict['predict_ext'], details_dict['headlines'], avg=True)\n",
    "df_results = {k: score_ext[k] for k in ('rouge-1', 'rouge-2', 'rouge-l')}\n",
    "pd.DataFrame(df_results)"
   ]
  },
  {
   "cell_type": "code",
   "execution_count": 20,
   "metadata": {},
   "outputs": [
    {
     "data": {
      "text/html": [
       "<div>\n",
       "<style scoped>\n",
       "    .dataframe tbody tr th:only-of-type {\n",
       "        vertical-align: middle;\n",
       "    }\n",
       "\n",
       "    .dataframe tbody tr th {\n",
       "        vertical-align: top;\n",
       "    }\n",
       "\n",
       "    .dataframe thead th {\n",
       "        text-align: right;\n",
       "    }\n",
       "</style>\n",
       "<table border=\"1\" class=\"dataframe\">\n",
       "  <thead>\n",
       "    <tr style=\"text-align: right;\">\n",
       "      <th></th>\n",
       "      <th>rouge-1</th>\n",
       "      <th>rouge-2</th>\n",
       "      <th>rouge-l</th>\n",
       "    </tr>\n",
       "  </thead>\n",
       "  <tbody>\n",
       "    <tr>\n",
       "      <th>r</th>\n",
       "      <td>0.233984</td>\n",
       "      <td>0.079583</td>\n",
       "      <td>0.220967</td>\n",
       "    </tr>\n",
       "    <tr>\n",
       "      <th>p</th>\n",
       "      <td>0.242024</td>\n",
       "      <td>0.081581</td>\n",
       "      <td>0.228319</td>\n",
       "    </tr>\n",
       "    <tr>\n",
       "      <th>f</th>\n",
       "      <td>0.232929</td>\n",
       "      <td>0.078454</td>\n",
       "      <td>0.219844</td>\n",
       "    </tr>\n",
       "  </tbody>\n",
       "</table>\n",
       "</div>"
      ],
      "text/plain": [
       "    rouge-1   rouge-2   rouge-l\n",
       "r  0.233984  0.079583  0.220967\n",
       "p  0.242024  0.081581  0.228319\n",
       "f  0.232929  0.078454  0.219844"
      ]
     },
     "execution_count": 20,
     "metadata": {},
     "output_type": "execute_result"
    }
   ],
   "source": [
    "score_abs = rouge.get_scores(details_dict['predict_abs'], details_dict['headlines'], avg=True)\n",
    "df_results = {k: score_abs[k] for k in ('rouge-1', 'rouge-2', 'rouge-l')}\n",
    "pd.DataFrame(df_results)"
   ]
  },
  {
   "cell_type": "code",
   "execution_count": 21,
   "metadata": {},
   "outputs": [
    {
     "data": {
      "text/html": [
       "<div>\n",
       "<style scoped>\n",
       "    .dataframe tbody tr th:only-of-type {\n",
       "        vertical-align: middle;\n",
       "    }\n",
       "\n",
       "    .dataframe tbody tr th {\n",
       "        vertical-align: top;\n",
       "    }\n",
       "\n",
       "    .dataframe thead th {\n",
       "        text-align: right;\n",
       "    }\n",
       "</style>\n",
       "<table border=\"1\" class=\"dataframe\">\n",
       "  <thead>\n",
       "    <tr style=\"text-align: right;\">\n",
       "      <th></th>\n",
       "      <th>rouge-1</th>\n",
       "      <th>rouge-2</th>\n",
       "      <th>rouge-l</th>\n",
       "    </tr>\n",
       "  </thead>\n",
       "  <tbody>\n",
       "    <tr>\n",
       "      <th>r</th>\n",
       "      <td>0.225712</td>\n",
       "      <td>0.075680</td>\n",
       "      <td>0.212256</td>\n",
       "    </tr>\n",
       "    <tr>\n",
       "      <th>p</th>\n",
       "      <td>0.234660</td>\n",
       "      <td>0.077775</td>\n",
       "      <td>0.220335</td>\n",
       "    </tr>\n",
       "    <tr>\n",
       "      <th>f</th>\n",
       "      <td>0.225142</td>\n",
       "      <td>0.074592</td>\n",
       "      <td>0.211520</td>\n",
       "    </tr>\n",
       "  </tbody>\n",
       "</table>\n",
       "</div>"
      ],
      "text/plain": [
       "    rouge-1   rouge-2   rouge-l\n",
       "r  0.225712  0.075680  0.212256\n",
       "p  0.234660  0.077775  0.220335\n",
       "f  0.225142  0.074592  0.211520"
      ]
     },
     "execution_count": 21,
     "metadata": {},
     "output_type": "execute_result"
    }
   ],
   "source": [
    "score_extabs = rouge.get_scores(details_dict['predict_extabs'], details_dict['headlines'], avg=True)\n",
    "df_results = {k: score_extabs[k] for k in ('rouge-1', 'rouge-2', 'rouge-l')}\n",
    "pd.DataFrame(df_results)"
   ]
  },
  {
   "cell_type": "code",
   "execution_count": 22,
   "metadata": {},
   "outputs": [],
   "source": [
    "# score_ner = rouge.get_scores(details_dict['predict_ner'], details_dict['headlines'], avg=True)\n",
    "# df_results = {k: score_ner[k] for k in ('rouge-1', 'rouge-2', 'rouge-l')}\n",
    "# pd.DataFrame(df_results)"
   ]
  },
  {
   "cell_type": "code",
   "execution_count": 23,
   "metadata": {},
   "outputs": [],
   "source": [
    "# score_t5 = rouge.get_scores(details_dict['predict_t5'], details_dict['headlines'], avg=True)\n",
    "# df_results = {k: score_t5[k] for k in ('rouge-1', 'rouge-2', 'rouge-l')}\n",
    "# pd.DataFrame(df_results)"
   ]
  },
  {
   "cell_type": "code",
   "execution_count": 24,
   "metadata": {},
   "outputs": [
    {
     "data": {
      "text/html": [
       "<div>\n",
       "<style scoped>\n",
       "    .dataframe tbody tr th:only-of-type {\n",
       "        vertical-align: middle;\n",
       "    }\n",
       "\n",
       "    .dataframe tbody tr th {\n",
       "        vertical-align: top;\n",
       "    }\n",
       "\n",
       "    .dataframe thead th {\n",
       "        text-align: right;\n",
       "    }\n",
       "</style>\n",
       "<table border=\"1\" class=\"dataframe\">\n",
       "  <thead>\n",
       "    <tr style=\"text-align: right;\">\n",
       "      <th></th>\n",
       "      <th>rouge-1</th>\n",
       "      <th>rouge-2</th>\n",
       "      <th>rouge-l</th>\n",
       "    </tr>\n",
       "  </thead>\n",
       "  <tbody>\n",
       "    <tr>\n",
       "      <th>r</th>\n",
       "      <td>0.343929</td>\n",
       "      <td>0.137817</td>\n",
       "      <td>0.320208</td>\n",
       "    </tr>\n",
       "    <tr>\n",
       "      <th>p</th>\n",
       "      <td>0.337781</td>\n",
       "      <td>0.132888</td>\n",
       "      <td>0.314184</td>\n",
       "    </tr>\n",
       "    <tr>\n",
       "      <th>f</th>\n",
       "      <td>0.333528</td>\n",
       "      <td>0.131681</td>\n",
       "      <td>0.310347</td>\n",
       "    </tr>\n",
       "  </tbody>\n",
       "</table>\n",
       "</div>"
      ],
      "text/plain": [
       "    rouge-1   rouge-2   rouge-l\n",
       "r  0.343929  0.137817  0.320208\n",
       "p  0.337781  0.132888  0.314184\n",
       "f  0.333528  0.131681  0.310347"
      ]
     },
     "execution_count": 24,
     "metadata": {},
     "output_type": "execute_result"
    }
   ],
   "source": [
    "score_art = rouge.get_scores(details_dict['predict_art'], details_dict['headlines'], avg=True)\n",
    "df_results = {k: score_art[k] for k in ('rouge-1', 'rouge-2', 'rouge-l')}\n",
    "pd.DataFrame(df_results)"
   ]
  },
  {
   "cell_type": "code",
   "execution_count": 25,
   "metadata": {},
   "outputs": [],
   "source": [
    "rouge_1 = {'baseline (1s)': {'r': score_1s['rouge-1']['r'], 'p':score_1s['rouge-1']['p'], 'f': score_1s['rouge-1']['f']}, \n",
    "        'baseline (3s)': {'r': score_3s['rouge-1']['r'], 'p':score_3s['rouge-1']['p'], 'f': score_3s['rouge-1']['f']}, \n",
    "           'text': {'r': score_text['rouge-1']['r'], 'p':score_text['rouge-1']['p'], 'f': score_text['rouge-1']['f']},\n",
    "           'ext': {'r': score_ext['rouge-1']['r'], 'p':score_ext['rouge-1']['p'], 'f': score_ext['rouge-1']['f']},\n",
    "           'abs': {'r': score_abs['rouge-1']['r'], 'p':score_abs['rouge-1']['p'], 'f': score_abs['rouge-1']['f']},\n",
    "           'extabs': {'r': score_extabs['rouge-1']['r'], 'p':score_extabs['rouge-1']['p'], 'f': score_extabs['rouge-1']['f']},\n",
    "           'artsum': {'r': score_art['rouge-1']['r'], 'p':score_art['rouge-1']['p'], 'f': score_art['rouge-1']['f']},\n",
    "#           't5': {'r': score_t5['rouge-1']['r'], 'p':score_t5['rouge-1']['p'], 'f': score_t5['rouge-1']['f']},\n",
    "}"
   ]
  },
  {
   "cell_type": "code",
   "execution_count": 26,
   "metadata": {},
   "outputs": [
    {
     "data": {
      "text/html": [
       "<div>\n",
       "<style scoped>\n",
       "    .dataframe tbody tr th:only-of-type {\n",
       "        vertical-align: middle;\n",
       "    }\n",
       "\n",
       "    .dataframe tbody tr th {\n",
       "        vertical-align: top;\n",
       "    }\n",
       "\n",
       "    .dataframe thead th {\n",
       "        text-align: right;\n",
       "    }\n",
       "</style>\n",
       "<table border=\"1\" class=\"dataframe\">\n",
       "  <thead>\n",
       "    <tr style=\"text-align: right;\">\n",
       "      <th></th>\n",
       "      <th>artsum</th>\n",
       "      <th>text</th>\n",
       "      <th>ext</th>\n",
       "      <th>baseline (3s)</th>\n",
       "      <th>baseline (1s)</th>\n",
       "      <th>abs</th>\n",
       "      <th>extabs</th>\n",
       "    </tr>\n",
       "  </thead>\n",
       "  <tbody>\n",
       "    <tr>\n",
       "      <th>r</th>\n",
       "      <td>0.343929</td>\n",
       "      <td>0.312894</td>\n",
       "      <td>0.302569</td>\n",
       "      <td>0.283993</td>\n",
       "      <td>0.272922</td>\n",
       "      <td>0.233984</td>\n",
       "      <td>0.225712</td>\n",
       "    </tr>\n",
       "    <tr>\n",
       "      <th>p</th>\n",
       "      <td>0.337781</td>\n",
       "      <td>0.306454</td>\n",
       "      <td>0.299093</td>\n",
       "      <td>0.282199</td>\n",
       "      <td>0.109200</td>\n",
       "      <td>0.242024</td>\n",
       "      <td>0.234660</td>\n",
       "    </tr>\n",
       "    <tr>\n",
       "      <th>f</th>\n",
       "      <td>0.333528</td>\n",
       "      <td>0.303171</td>\n",
       "      <td>0.294356</td>\n",
       "      <td>0.277124</td>\n",
       "      <td>0.142266</td>\n",
       "      <td>0.232929</td>\n",
       "      <td>0.225142</td>\n",
       "    </tr>\n",
       "  </tbody>\n",
       "</table>\n",
       "</div>"
      ],
      "text/plain": [
       "     artsum      text       ext  baseline (3s)  baseline (1s)       abs  \\\n",
       "r  0.343929  0.312894  0.302569       0.283993       0.272922  0.233984   \n",
       "p  0.337781  0.306454  0.299093       0.282199       0.109200  0.242024   \n",
       "f  0.333528  0.303171  0.294356       0.277124       0.142266  0.232929   \n",
       "\n",
       "     extabs  \n",
       "r  0.225712  \n",
       "p  0.234660  \n",
       "f  0.225142  "
      ]
     },
     "execution_count": 26,
     "metadata": {},
     "output_type": "execute_result"
    }
   ],
   "source": [
    "df_results = {k: rouge_1[k] for k in ('artsum', 'text', 'ext', 'baseline (3s)',  'baseline (1s)', 'abs', 'extabs', )}\n",
    "pd.DataFrame(df_results)"
   ]
  },
  {
   "cell_type": "code",
   "execution_count": 27,
   "metadata": {},
   "outputs": [
    {
     "data": {
      "text/html": [
       "<div>\n",
       "<style scoped>\n",
       "    .dataframe tbody tr th:only-of-type {\n",
       "        vertical-align: middle;\n",
       "    }\n",
       "\n",
       "    .dataframe tbody tr th {\n",
       "        vertical-align: top;\n",
       "    }\n",
       "\n",
       "    .dataframe thead th {\n",
       "        text-align: right;\n",
       "    }\n",
       "</style>\n",
       "<table border=\"1\" class=\"dataframe\">\n",
       "  <thead>\n",
       "    <tr style=\"text-align: right;\">\n",
       "      <th></th>\n",
       "      <th>artsum</th>\n",
       "      <th>text</th>\n",
       "      <th>ext</th>\n",
       "      <th>baseline (3s)</th>\n",
       "      <th>baseline (1s)</th>\n",
       "      <th>abs</th>\n",
       "      <th>extabs</th>\n",
       "    </tr>\n",
       "  </thead>\n",
       "  <tbody>\n",
       "    <tr>\n",
       "      <th>r</th>\n",
       "      <td>0.137817</td>\n",
       "      <td>0.119527</td>\n",
       "      <td>0.114378</td>\n",
       "      <td>0.110531</td>\n",
       "      <td>0.089370</td>\n",
       "      <td>0.079583</td>\n",
       "      <td>0.075680</td>\n",
       "    </tr>\n",
       "    <tr>\n",
       "      <th>p</th>\n",
       "      <td>0.132888</td>\n",
       "      <td>0.114797</td>\n",
       "      <td>0.111136</td>\n",
       "      <td>0.108220</td>\n",
       "      <td>0.030277</td>\n",
       "      <td>0.081581</td>\n",
       "      <td>0.077775</td>\n",
       "    </tr>\n",
       "    <tr>\n",
       "      <th>f</th>\n",
       "      <td>0.131681</td>\n",
       "      <td>0.114123</td>\n",
       "      <td>0.109771</td>\n",
       "      <td>0.106598</td>\n",
       "      <td>0.041741</td>\n",
       "      <td>0.078454</td>\n",
       "      <td>0.074592</td>\n",
       "    </tr>\n",
       "  </tbody>\n",
       "</table>\n",
       "</div>"
      ],
      "text/plain": [
       "     artsum      text       ext  baseline (3s)  baseline (1s)       abs  \\\n",
       "r  0.137817  0.119527  0.114378       0.110531       0.089370  0.079583   \n",
       "p  0.132888  0.114797  0.111136       0.108220       0.030277  0.081581   \n",
       "f  0.131681  0.114123  0.109771       0.106598       0.041741  0.078454   \n",
       "\n",
       "     extabs  \n",
       "r  0.075680  \n",
       "p  0.077775  \n",
       "f  0.074592  "
      ]
     },
     "execution_count": 27,
     "metadata": {},
     "output_type": "execute_result"
    }
   ],
   "source": [
    "rouge_2 = {'baseline (1s)': {'r': score_1s['rouge-2']['r'], 'p':score_1s['rouge-2']['p'], 'f': score_1s['rouge-2']['f']}, \n",
    "        'baseline (3s)': {'r': score_3s['rouge-2']['r'], 'p':score_3s['rouge-2']['p'], 'f': score_3s['rouge-2']['f']}, \n",
    "           'text': {'r': score_text['rouge-2']['r'], 'p':score_text['rouge-2']['p'], 'f': score_text['rouge-2']['f']},\n",
    "           'ext': {'r': score_ext['rouge-2']['r'], 'p':score_ext['rouge-2']['p'], 'f': score_ext['rouge-2']['f']},\n",
    "           'abs': {'r': score_abs['rouge-2']['r'], 'p':score_abs['rouge-2']['p'], 'f': score_abs['rouge-2']['f']},\n",
    "           'extabs': {'r': score_extabs['rouge-2']['r'], 'p':score_extabs['rouge-2']['p'], 'f': score_extabs['rouge-2']['f']},\n",
    "           'artsum': {'r': score_art['rouge-2']['r'], 'p':score_art['rouge-2']['p'], 'f': score_art['rouge-2']['f']},\n",
    "#           't5': {'r': score_t5['rouge-2']['r'], 'p':score_t5['rouge-2']['p'], 'f': score_t5['rouge-2']['f']},\n",
    "}\n",
    "df_results = {k: rouge_2[k] for k in ('artsum', 'text', 'ext', 'baseline (3s)',  'baseline (1s)', 'abs', 'extabs', )}\n",
    "pd.DataFrame(df_results)"
   ]
  },
  {
   "cell_type": "code",
   "execution_count": 30,
   "metadata": {},
   "outputs": [
    {
     "data": {
      "text/html": [
       "<div>\n",
       "<style scoped>\n",
       "    .dataframe tbody tr th:only-of-type {\n",
       "        vertical-align: middle;\n",
       "    }\n",
       "\n",
       "    .dataframe tbody tr th {\n",
       "        vertical-align: top;\n",
       "    }\n",
       "\n",
       "    .dataframe thead th {\n",
       "        text-align: right;\n",
       "    }\n",
       "</style>\n",
       "<table border=\"1\" class=\"dataframe\">\n",
       "  <thead>\n",
       "    <tr style=\"text-align: right;\">\n",
       "      <th></th>\n",
       "      <th>artsum</th>\n",
       "      <th>text</th>\n",
       "      <th>ext</th>\n",
       "      <th>baseline (3s)</th>\n",
       "      <th>baseline (1s)</th>\n",
       "      <th>abs</th>\n",
       "      <th>extabs</th>\n",
       "    </tr>\n",
       "  </thead>\n",
       "  <tbody>\n",
       "    <tr>\n",
       "      <th>r</th>\n",
       "      <td>0.320208</td>\n",
       "      <td>0.291087</td>\n",
       "      <td>0.281460</td>\n",
       "      <td>0.265490</td>\n",
       "      <td>0.241525</td>\n",
       "      <td>0.220967</td>\n",
       "      <td>0.212256</td>\n",
       "    </tr>\n",
       "    <tr>\n",
       "      <th>p</th>\n",
       "      <td>0.314184</td>\n",
       "      <td>0.284996</td>\n",
       "      <td>0.278101</td>\n",
       "      <td>0.263905</td>\n",
       "      <td>0.098448</td>\n",
       "      <td>0.228319</td>\n",
       "      <td>0.220335</td>\n",
       "    </tr>\n",
       "    <tr>\n",
       "      <th>f</th>\n",
       "      <td>0.310347</td>\n",
       "      <td>0.281948</td>\n",
       "      <td>0.273707</td>\n",
       "      <td>0.259101</td>\n",
       "      <td>0.126898</td>\n",
       "      <td>0.219844</td>\n",
       "      <td>0.211520</td>\n",
       "    </tr>\n",
       "  </tbody>\n",
       "</table>\n",
       "</div>"
      ],
      "text/plain": [
       "     artsum      text       ext  baseline (3s)  baseline (1s)       abs  \\\n",
       "r  0.320208  0.291087  0.281460       0.265490       0.241525  0.220967   \n",
       "p  0.314184  0.284996  0.278101       0.263905       0.098448  0.228319   \n",
       "f  0.310347  0.281948  0.273707       0.259101       0.126898  0.219844   \n",
       "\n",
       "     extabs  \n",
       "r  0.212256  \n",
       "p  0.220335  \n",
       "f  0.211520  "
      ]
     },
     "execution_count": 30,
     "metadata": {},
     "output_type": "execute_result"
    }
   ],
   "source": [
    "rouge_l = {'baseline (1s)': {'r': score_1s['rouge-l']['r'], 'p':score_1s['rouge-l']['p'], 'f': score_1s['rouge-l']['f']}, \n",
    "        'baseline (3s)': {'r': score_3s['rouge-l']['r'], 'p':score_3s['rouge-l']['p'], 'f': score_3s['rouge-l']['f']}, \n",
    "           'text': {'r': score_text['rouge-l']['r'], 'p':score_text['rouge-l']['p'], 'f': score_text['rouge-l']['f']},\n",
    "           'ext': {'r': score_ext['rouge-l']['r'], 'p':score_ext['rouge-l']['p'], 'f': score_ext['rouge-l']['f']},\n",
    "           'abs': {'r': score_abs['rouge-l']['r'], 'p':score_abs['rouge-l']['p'], 'f': score_abs['rouge-l']['f']},\n",
    "           'extabs': {'r': score_extabs['rouge-l']['r'], 'p':score_extabs['rouge-l']['p'], 'f': score_extabs['rouge-l']['f']},\n",
    "           'artsum': {'r': score_art['rouge-l']['r'], 'p':score_art['rouge-l']['p'], 'f': score_art['rouge-l']['f']},\n",
    "#           't5': {'r': score_t5['rouge-l']['r'], 'p':score_t5['rouge-l']['p'], 'f': score_t5['rouge-l']['f']},\n",
    "}\n",
    "df_results = {k: rouge_l[k] for k in ('artsum', 'text', 'ext', 'baseline (3s)',  'baseline (1s)', 'abs', 'extabs', )}\n",
    "pd.DataFrame(df_results)"
   ]
  },
  {
   "cell_type": "code",
   "execution_count": 29,
   "metadata": {},
   "outputs": [],
   "source": [
    "# Evaluation Metrics - BLEU implementation\n",
    "from nltk.translate.bleu_score import sentence_bleu\n"
   ]
  },
  {
   "cell_type": "code",
   "execution_count": 30,
   "metadata": {},
   "outputs": [],
   "source": [
    "# Function to calculate the score\n",
    "def calc_bleu(x, y):\n",
    "    L = 0\n",
    "    for i, j in zip(x, y):\n",
    "      L += sentence_bleu([i], j, weights=(0.25, 0.25, 0.25, 0.25), smoothing_function=None,  auto_reweigh=False,)\n",
    "\n",
    "    # Average BLEU score of whole corpuses\n",
    "    return round(L/len(x), 4)\n",
    "\n"
   ]
  },
  {
   "cell_type": "code",
   "execution_count": 31,
   "metadata": {},
   "outputs": [
    {
     "name": "stderr",
     "output_type": "stream",
     "text": [
      "/home/ubuntu/anaconda3/lib/python3.8/site-packages/nltk/translate/bleu_score.py:516: UserWarning: \n",
      "The hypothesis contains 0 counts of 3-gram overlaps.\n",
      "Therefore the BLEU score evaluates to 0, independently of\n",
      "how many N-gram overlaps of lower order it contains.\n",
      "Consider using lower n-gram order or use SmoothingFunction()\n",
      "  warnings.warn(_msg)\n",
      "/home/ubuntu/anaconda3/lib/python3.8/site-packages/nltk/translate/bleu_score.py:516: UserWarning: \n",
      "The hypothesis contains 0 counts of 4-gram overlaps.\n",
      "Therefore the BLEU score evaluates to 0, independently of\n",
      "how many N-gram overlaps of lower order it contains.\n",
      "Consider using lower n-gram order or use SmoothingFunction()\n",
      "  warnings.warn(_msg)\n",
      "/home/ubuntu/anaconda3/lib/python3.8/site-packages/nltk/translate/bleu_score.py:516: UserWarning: \n",
      "The hypothesis contains 0 counts of 2-gram overlaps.\n",
      "Therefore the BLEU score evaluates to 0, independently of\n",
      "how many N-gram overlaps of lower order it contains.\n",
      "Consider using lower n-gram order or use SmoothingFunction()\n",
      "  warnings.warn(_msg)\n"
     ]
    },
    {
     "name": "stdout",
     "output_type": "stream",
     "text": [
      "BLEU score: 0.1328\n"
     ]
    }
   ],
   "source": [
    "bleu_1s = calc_bleu(details_dict['headlines'], details_dict['predict_1s'])\n",
    "print(\"BLEU score: {:.04f}\".format(bleu_1s))"
   ]
  },
  {
   "cell_type": "code",
   "execution_count": 32,
   "metadata": {},
   "outputs": [
    {
     "name": "stdout",
     "output_type": "stream",
     "text": [
      "BLEU score: 0.3128\n"
     ]
    }
   ],
   "source": [
    "bleu_3s = calc_bleu(details_dict['headlines'], details_dict['predict_3s'])\n",
    "print(\"BLEU score: {:.04f}\".format(bleu_3s))"
   ]
  },
  {
   "cell_type": "code",
   "execution_count": 33,
   "metadata": {},
   "outputs": [
    {
     "name": "stdout",
     "output_type": "stream",
     "text": [
      "BLEU score: 0.3408\n"
     ]
    }
   ],
   "source": [
    "bleu_text = calc_bleu(details_dict['headlines'], details_dict['predict_text'])\n",
    "print(\"BLEU score: {:.04f}\".format(bleu_text))"
   ]
  },
  {
   "cell_type": "code",
   "execution_count": 34,
   "metadata": {},
   "outputs": [
    {
     "name": "stdout",
     "output_type": "stream",
     "text": [
      "BLEU score: 0.3325\n"
     ]
    }
   ],
   "source": [
    "bleu_ext = calc_bleu(details_dict['headlines'], details_dict['predict_ext'])\n",
    "print(\"BLEU score: {:.04f}\".format(bleu_ext))"
   ]
  },
  {
   "cell_type": "code",
   "execution_count": 35,
   "metadata": {},
   "outputs": [
    {
     "name": "stdout",
     "output_type": "stream",
     "text": [
      "BLEU score: 0.2777\n"
     ]
    }
   ],
   "source": [
    "bleu_abs = calc_bleu(details_dict['headlines'], details_dict['predict_abs'])\n",
    "print(\"BLEU score: {:.04f}\".format(bleu_abs))"
   ]
  },
  {
   "cell_type": "code",
   "execution_count": 36,
   "metadata": {},
   "outputs": [
    {
     "name": "stdout",
     "output_type": "stream",
     "text": [
      "BLEU score: 0.2700\n"
     ]
    }
   ],
   "source": [
    "bleu_extabs = calc_bleu(details_dict['headlines'], details_dict['predict_extabs'])\n",
    "print(\"BLEU score: {:.04f}\".format(bleu_extabs))"
   ]
  },
  {
   "cell_type": "code",
   "execution_count": 37,
   "metadata": {},
   "outputs": [],
   "source": [
    "# bleu_ner = calc_bleu(details_dict['headlines'], details_dict['predict_ner'])\n",
    "# print(\"BLEU score: {:.04f}\".format(bleu_ner))"
   ]
  },
  {
   "cell_type": "code",
   "execution_count": 38,
   "metadata": {},
   "outputs": [],
   "source": [
    "# bleu_t5 = calc_bleu(details_dict['headlines'], details_dict['predict_t5'])\n",
    "# print(\"BLEU score: {:.04f}\".format(bleu_t5))"
   ]
  },
  {
   "cell_type": "code",
   "execution_count": 39,
   "metadata": {},
   "outputs": [
    {
     "name": "stdout",
     "output_type": "stream",
     "text": [
      "BLEU score: 0.3691\n"
     ]
    }
   ],
   "source": [
    "bleu_art = calc_bleu(details_dict['headlines'], details_dict['predict_art'])\n",
    "print(\"BLEU score: {:.04f}\".format(bleu_art))"
   ]
  },
  {
   "cell_type": "code",
   "execution_count": 40,
   "metadata": {},
   "outputs": [],
   "source": [
    "bleu_score = {'baseline (1s)': {'bleu_score': bleu_1s}, \n",
    "                'baseline (3s)': {'bleu_score': bleu_3s}, \n",
    "    'text' : {'bleu_score': bleu_text}, \n",
    "    'ext' : {'bleu_score': bleu_ext},\n",
    "    'abs' : {'bleu_score': bleu_abs},\n",
    "    'extabs' : {'bleu_score': bleu_extabs},\n",
    "    'artsum' : {'bleu_score': bleu_art},\n",
    "#    't5' : {'bleu_score': bleu_t5}\n",
    "}"
   ]
  },
  {
   "cell_type": "code",
   "execution_count": 41,
   "metadata": {},
   "outputs": [
    {
     "data": {
      "text/html": [
       "<div>\n",
       "<style scoped>\n",
       "    .dataframe tbody tr th:only-of-type {\n",
       "        vertical-align: middle;\n",
       "    }\n",
       "\n",
       "    .dataframe tbody tr th {\n",
       "        vertical-align: top;\n",
       "    }\n",
       "\n",
       "    .dataframe thead th {\n",
       "        text-align: right;\n",
       "    }\n",
       "</style>\n",
       "<table border=\"1\" class=\"dataframe\">\n",
       "  <thead>\n",
       "    <tr style=\"text-align: right;\">\n",
       "      <th></th>\n",
       "      <th>artsum</th>\n",
       "      <th>text</th>\n",
       "      <th>ext</th>\n",
       "      <th>baseline (3s)</th>\n",
       "      <th>abs</th>\n",
       "      <th>extabs</th>\n",
       "      <th>baseline (1s)</th>\n",
       "    </tr>\n",
       "  </thead>\n",
       "  <tbody>\n",
       "    <tr>\n",
       "      <th>bleu_score</th>\n",
       "      <td>0.3691</td>\n",
       "      <td>0.3408</td>\n",
       "      <td>0.3325</td>\n",
       "      <td>0.3128</td>\n",
       "      <td>0.2777</td>\n",
       "      <td>0.27</td>\n",
       "      <td>0.1328</td>\n",
       "    </tr>\n",
       "  </tbody>\n",
       "</table>\n",
       "</div>"
      ],
      "text/plain": [
       "            artsum    text     ext  baseline (3s)     abs  extabs  \\\n",
       "bleu_score  0.3691  0.3408  0.3325         0.3128  0.2777    0.27   \n",
       "\n",
       "            baseline (1s)  \n",
       "bleu_score         0.1328  "
      ]
     },
     "execution_count": 41,
     "metadata": {},
     "output_type": "execute_result"
    }
   ],
   "source": [
    "df_results = {k: bleu_score[k] for k in ('artsum', 'text', 'ext', 'baseline (3s)',  'abs', 'extabs', 'baseline (1s)')}\n",
    "pd.DataFrame(df_results)"
   ]
  },
  {
   "cell_type": "code",
   "execution_count": 42,
   "metadata": {},
   "outputs": [
    {
     "name": "stdout",
     "output_type": "stream",
     "text": [
      "Requirement already satisfied: bert-score in /home/ubuntu/anaconda3/lib/python3.8/site-packages (0.3.11)\n",
      "Requirement already satisfied: tqdm>=4.31.1 in /home/ubuntu/anaconda3/lib/python3.8/site-packages (from bert-score) (4.62.3)\n",
      "Requirement already satisfied: torch>=1.0.0 in /home/ubuntu/anaconda3/lib/python3.8/site-packages (from bert-score) (1.10.2)\n",
      "Requirement already satisfied: matplotlib in /home/ubuntu/anaconda3/lib/python3.8/site-packages (from bert-score) (3.3.4)\n",
      "Requirement already satisfied: packaging>=20.9 in /home/ubuntu/anaconda3/lib/python3.8/site-packages (from bert-score) (20.9)\n",
      "Requirement already satisfied: pandas>=1.0.1 in /home/ubuntu/anaconda3/lib/python3.8/site-packages (from bert-score) (1.2.4)\n",
      "Requirement already satisfied: transformers>=3.0.0numpy in /home/ubuntu/anaconda3/lib/python3.8/site-packages (from bert-score) (4.17.0.dev0)\n",
      "Requirement already satisfied: requests in /home/ubuntu/anaconda3/lib/python3.8/site-packages (from bert-score) (2.25.1)\n",
      "Requirement already satisfied: pyparsing>=2.0.2 in /home/ubuntu/anaconda3/lib/python3.8/site-packages (from packaging>=20.9->bert-score) (2.4.7)\n",
      "Requirement already satisfied: python-dateutil>=2.7.3 in /home/ubuntu/anaconda3/lib/python3.8/site-packages (from pandas>=1.0.1->bert-score) (2.8.1)\n",
      "Requirement already satisfied: pytz>=2017.3 in /home/ubuntu/anaconda3/lib/python3.8/site-packages (from pandas>=1.0.1->bert-score) (2021.1)\n",
      "Requirement already satisfied: numpy>=1.16.5 in /home/ubuntu/anaconda3/lib/python3.8/site-packages (from pandas>=1.0.1->bert-score) (1.19.5)\n",
      "Requirement already satisfied: typing_extensions in /home/ubuntu/anaconda3/lib/python3.8/site-packages (from torch>=1.0.0->bert-score) (3.7.4.3)\n",
      "Requirement already satisfied: tokenizers!=0.11.3,>=0.10.1 in /home/ubuntu/anaconda3/lib/python3.8/site-packages (from transformers>=3.0.0numpy->bert-score) (0.11.4)\n",
      "Requirement already satisfied: filelock in /home/ubuntu/anaconda3/lib/python3.8/site-packages (from transformers>=3.0.0numpy->bert-score) (3.0.12)\n",
      "Requirement already satisfied: regex!=2019.12.17 in /home/ubuntu/anaconda3/lib/python3.8/site-packages (from transformers>=3.0.0numpy->bert-score) (2021.4.4)\n",
      "Requirement already satisfied: sacremoses in /home/ubuntu/anaconda3/lib/python3.8/site-packages (from transformers>=3.0.0numpy->bert-score) (0.0.47)\n",
      "Requirement already satisfied: huggingface-hub<1.0,>=0.1.0 in /home/ubuntu/anaconda3/lib/python3.8/site-packages (from transformers>=3.0.0numpy->bert-score) (0.4.0)\n",
      "Requirement already satisfied: pyyaml>=5.1 in /home/ubuntu/anaconda3/lib/python3.8/site-packages (from transformers>=3.0.0numpy->bert-score) (5.4.1)\n",
      "Requirement already satisfied: cycler>=0.10 in /home/ubuntu/anaconda3/lib/python3.8/site-packages (from matplotlib->bert-score) (0.10.0)\n",
      "Requirement already satisfied: pillow>=6.2.0 in /home/ubuntu/anaconda3/lib/python3.8/site-packages (from matplotlib->bert-score) (8.2.0)\n",
      "Requirement already satisfied: kiwisolver>=1.0.1 in /home/ubuntu/anaconda3/lib/python3.8/site-packages (from matplotlib->bert-score) (1.3.1)\n",
      "Requirement already satisfied: idna<3,>=2.5 in /home/ubuntu/anaconda3/lib/python3.8/site-packages (from requests->bert-score) (2.10)\n",
      "Requirement already satisfied: chardet<5,>=3.0.2 in /home/ubuntu/anaconda3/lib/python3.8/site-packages (from requests->bert-score) (4.0.0)\n",
      "Requirement already satisfied: certifi>=2017.4.17 in /home/ubuntu/anaconda3/lib/python3.8/site-packages (from requests->bert-score) (2020.12.5)\n",
      "Requirement already satisfied: urllib3<1.27,>=1.21.1 in /home/ubuntu/anaconda3/lib/python3.8/site-packages (from requests->bert-score) (1.26.4)\n",
      "Requirement already satisfied: six in /home/ubuntu/anaconda3/lib/python3.8/site-packages (from cycler>=0.10->matplotlib->bert-score) (1.15.0)\n",
      "Requirement already satisfied: click in /home/ubuntu/anaconda3/lib/python3.8/site-packages (from sacremoses->transformers>=3.0.0numpy->bert-score) (7.1.2)\n",
      "Requirement already satisfied: joblib in /home/ubuntu/anaconda3/lib/python3.8/site-packages (from sacremoses->transformers>=3.0.0numpy->bert-score) (1.0.1)\n",
      "Note: you may need to restart the kernel to use updated packages.\n"
     ]
    }
   ],
   "source": [
    "pip install bert-score"
   ]
  },
  {
   "cell_type": "code",
   "execution_count": 43,
   "metadata": {},
   "outputs": [],
   "source": [
    "from bert_score import score"
   ]
  },
  {
   "cell_type": "code",
   "execution_count": 44,
   "metadata": {},
   "outputs": [
    {
     "name": "stderr",
     "output_type": "stream",
     "text": [
      "Some weights of the model checkpoint at roberta-large were not used when initializing RobertaModel: ['lm_head.layer_norm.weight', 'lm_head.bias', 'lm_head.decoder.weight', 'lm_head.layer_norm.bias', 'lm_head.dense.bias', 'lm_head.dense.weight']\n",
      "- This IS expected if you are initializing RobertaModel from the checkpoint of a model trained on another task or with another architecture (e.g. initializing a BertForSequenceClassification model from a BertForPreTraining model).\n",
      "- This IS NOT expected if you are initializing RobertaModel from the checkpoint of a model that you expect to be exactly identical (initializing a BertForSequenceClassification model from a BertForSequenceClassification model).\n"
     ]
    },
    {
     "name": "stdout",
     "output_type": "stream",
     "text": [
      "calculating scores...\n",
      "computing bert embedding.\n"
     ]
    },
    {
     "data": {
      "application/vnd.jupyter.widget-view+json": {
       "model_id": "c531adb41e4142059fa697f94843fa1f",
       "version_major": 2,
       "version_minor": 0
      },
      "text/plain": [
       "  0%|          | 0/274 [00:00<?, ?it/s]"
      ]
     },
     "metadata": {},
     "output_type": "display_data"
    },
    {
     "name": "stdout",
     "output_type": "stream",
     "text": [
      "computing greedy matching.\n"
     ]
    },
    {
     "data": {
      "application/vnd.jupyter.widget-view+json": {
       "model_id": "dafc508726e84e76b154d0410b638332",
       "version_major": 2,
       "version_minor": 0
      },
      "text/plain": [
       "  0%|          | 0/144 [00:00<?, ?it/s]"
      ]
     },
     "metadata": {},
     "output_type": "display_data"
    },
    {
     "name": "stdout",
     "output_type": "stream",
     "text": [
      "done in 57.26 seconds, 159.96 sentences/sec\n"
     ]
    }
   ],
   "source": [
    "# Baseline\n",
    "P, R, F1 = score(details_dict['predict_1s'], details_dict['headlines'], lang=\"en\", verbose=True)\n",
    "F1_1s = F1.mean().item()\n",
    "P_1s = P.mean().item()\n",
    "R_1s = R.mean().item()"
   ]
  },
  {
   "cell_type": "code",
   "execution_count": 45,
   "metadata": {},
   "outputs": [
    {
     "name": "stderr",
     "output_type": "stream",
     "text": [
      "Some weights of the model checkpoint at roberta-large were not used when initializing RobertaModel: ['lm_head.layer_norm.weight', 'lm_head.bias', 'lm_head.decoder.weight', 'lm_head.layer_norm.bias', 'lm_head.dense.bias', 'lm_head.dense.weight']\n",
      "- This IS expected if you are initializing RobertaModel from the checkpoint of a model trained on another task or with another architecture (e.g. initializing a BertForSequenceClassification model from a BertForPreTraining model).\n",
      "- This IS NOT expected if you are initializing RobertaModel from the checkpoint of a model that you expect to be exactly identical (initializing a BertForSequenceClassification model from a BertForSequenceClassification model).\n"
     ]
    },
    {
     "name": "stdout",
     "output_type": "stream",
     "text": [
      "calculating scores...\n",
      "computing bert embedding.\n"
     ]
    },
    {
     "data": {
      "application/vnd.jupyter.widget-view+json": {
       "model_id": "62e67111830b43158625f0a01db1e430",
       "version_major": 2,
       "version_minor": 0
      },
      "text/plain": [
       "  0%|          | 0/281 [00:00<?, ?it/s]"
      ]
     },
     "metadata": {},
     "output_type": "display_data"
    },
    {
     "name": "stdout",
     "output_type": "stream",
     "text": [
      "computing greedy matching.\n"
     ]
    },
    {
     "data": {
      "application/vnd.jupyter.widget-view+json": {
       "model_id": "a424f5babd5b4094bad4bb36a244ca41",
       "version_major": 2,
       "version_minor": 0
      },
      "text/plain": [
       "  0%|          | 0/144 [00:00<?, ?it/s]"
      ]
     },
     "metadata": {},
     "output_type": "display_data"
    },
    {
     "name": "stdout",
     "output_type": "stream",
     "text": [
      "done in 37.69 seconds, 243.06 sentences/sec\n"
     ]
    }
   ],
   "source": [
    "# Ext\n",
    "P, R, F1 = score(details_dict['predict_3s'], details_dict['headlines'], lang=\"en\", verbose=True)\n",
    "F1_3s = F1.mean().item()\n",
    "P_3s = P.mean().item()\n",
    "R_3s = R.mean().item()\n"
   ]
  },
  {
   "cell_type": "code",
   "execution_count": 46,
   "metadata": {},
   "outputs": [
    {
     "name": "stderr",
     "output_type": "stream",
     "text": [
      "Some weights of the model checkpoint at roberta-large were not used when initializing RobertaModel: ['lm_head.layer_norm.weight', 'lm_head.bias', 'lm_head.decoder.weight', 'lm_head.layer_norm.bias', 'lm_head.dense.bias', 'lm_head.dense.weight']\n",
      "- This IS expected if you are initializing RobertaModel from the checkpoint of a model trained on another task or with another architecture (e.g. initializing a BertForSequenceClassification model from a BertForPreTraining model).\n",
      "- This IS NOT expected if you are initializing RobertaModel from the checkpoint of a model that you expect to be exactly identical (initializing a BertForSequenceClassification model from a BertForSequenceClassification model).\n"
     ]
    },
    {
     "name": "stdout",
     "output_type": "stream",
     "text": [
      "calculating scores...\n",
      "computing bert embedding.\n"
     ]
    },
    {
     "data": {
      "application/vnd.jupyter.widget-view+json": {
       "model_id": "07dfd48e44da4b94a1cb3dc573aec50c",
       "version_major": 2,
       "version_minor": 0
      },
      "text/plain": [
       "  0%|          | 0/284 [00:00<?, ?it/s]"
      ]
     },
     "metadata": {},
     "output_type": "display_data"
    },
    {
     "name": "stdout",
     "output_type": "stream",
     "text": [
      "computing greedy matching.\n"
     ]
    },
    {
     "data": {
      "application/vnd.jupyter.widget-view+json": {
       "model_id": "ab687503423541839c731072e2646dcc",
       "version_major": 2,
       "version_minor": 0
      },
      "text/plain": [
       "  0%|          | 0/144 [00:00<?, ?it/s]"
      ]
     },
     "metadata": {},
     "output_type": "display_data"
    },
    {
     "name": "stdout",
     "output_type": "stream",
     "text": [
      "done in 38.65 seconds, 236.97 sentences/sec\n"
     ]
    }
   ],
   "source": [
    "# Abs\n",
    "P, R, F1 = score(details_dict['predict_text'], details_dict['headlines'], lang=\"en\", verbose=True)\n",
    "F1_text = F1.mean().item()\n",
    "P_text = P.mean().item()\n",
    "R_text = R.mean().item()"
   ]
  },
  {
   "cell_type": "code",
   "execution_count": 47,
   "metadata": {},
   "outputs": [
    {
     "name": "stderr",
     "output_type": "stream",
     "text": [
      "Some weights of the model checkpoint at roberta-large were not used when initializing RobertaModel: ['lm_head.layer_norm.weight', 'lm_head.bias', 'lm_head.decoder.weight', 'lm_head.layer_norm.bias', 'lm_head.dense.bias', 'lm_head.dense.weight']\n",
      "- This IS expected if you are initializing RobertaModel from the checkpoint of a model trained on another task or with another architecture (e.g. initializing a BertForSequenceClassification model from a BertForPreTraining model).\n",
      "- This IS NOT expected if you are initializing RobertaModel from the checkpoint of a model that you expect to be exactly identical (initializing a BertForSequenceClassification model from a BertForSequenceClassification model).\n"
     ]
    },
    {
     "name": "stdout",
     "output_type": "stream",
     "text": [
      "calculating scores...\n",
      "computing bert embedding.\n"
     ]
    },
    {
     "data": {
      "application/vnd.jupyter.widget-view+json": {
       "model_id": "e275a0078bc747b0b9bfd58ca9042986",
       "version_major": 2,
       "version_minor": 0
      },
      "text/plain": [
       "  0%|          | 0/283 [00:00<?, ?it/s]"
      ]
     },
     "metadata": {},
     "output_type": "display_data"
    },
    {
     "name": "stdout",
     "output_type": "stream",
     "text": [
      "computing greedy matching.\n"
     ]
    },
    {
     "data": {
      "application/vnd.jupyter.widget-view+json": {
       "model_id": "b6a419e8e8d142e4a94a9808fec038ce",
       "version_major": 2,
       "version_minor": 0
      },
      "text/plain": [
       "  0%|          | 0/144 [00:00<?, ?it/s]"
      ]
     },
     "metadata": {},
     "output_type": "display_data"
    },
    {
     "name": "stdout",
     "output_type": "stream",
     "text": [
      "done in 39.31 seconds, 233.02 sentences/sec\n"
     ]
    }
   ],
   "source": [
    "# ExtAbs\n",
    "P, R, F1 = score(details_dict['predict_ext'], details_dict['headlines'], lang=\"en\", verbose=True)\n",
    "F1_ext = F1.mean().item()\n",
    "P_ext = P.mean().item()\n",
    "R_ext = R.mean().item()"
   ]
  },
  {
   "cell_type": "code",
   "execution_count": 48,
   "metadata": {},
   "outputs": [
    {
     "name": "stderr",
     "output_type": "stream",
     "text": [
      "Some weights of the model checkpoint at roberta-large were not used when initializing RobertaModel: ['lm_head.layer_norm.weight', 'lm_head.bias', 'lm_head.decoder.weight', 'lm_head.layer_norm.bias', 'lm_head.dense.bias', 'lm_head.dense.weight']\n",
      "- This IS expected if you are initializing RobertaModel from the checkpoint of a model trained on another task or with another architecture (e.g. initializing a BertForSequenceClassification model from a BertForPreTraining model).\n",
      "- This IS NOT expected if you are initializing RobertaModel from the checkpoint of a model that you expect to be exactly identical (initializing a BertForSequenceClassification model from a BertForSequenceClassification model).\n"
     ]
    },
    {
     "name": "stdout",
     "output_type": "stream",
     "text": [
      "calculating scores...\n",
      "computing bert embedding.\n"
     ]
    },
    {
     "data": {
      "application/vnd.jupyter.widget-view+json": {
       "model_id": "7a995964b329426fb9ad6daf942ed5d8",
       "version_major": 2,
       "version_minor": 0
      },
      "text/plain": [
       "  0%|          | 0/283 [00:00<?, ?it/s]"
      ]
     },
     "metadata": {},
     "output_type": "display_data"
    },
    {
     "name": "stdout",
     "output_type": "stream",
     "text": [
      "computing greedy matching.\n"
     ]
    },
    {
     "data": {
      "application/vnd.jupyter.widget-view+json": {
       "model_id": "a7b1a644a9c1493f93aa54604558c720",
       "version_major": 2,
       "version_minor": 0
      },
      "text/plain": [
       "  0%|          | 0/144 [00:00<?, ?it/s]"
      ]
     },
     "metadata": {},
     "output_type": "display_data"
    },
    {
     "name": "stdout",
     "output_type": "stream",
     "text": [
      "done in 39.40 seconds, 232.50 sentences/sec\n"
     ]
    }
   ],
   "source": [
    "P, R, F1 = score(details_dict['predict_abs'], details_dict['headlines'], lang=\"en\", verbose=True)\n",
    "F1_abs = F1.mean().item()\n",
    "P_abs = P.mean().item()\n",
    "R_abs = R.mean().item()"
   ]
  },
  {
   "cell_type": "code",
   "execution_count": 49,
   "metadata": {},
   "outputs": [
    {
     "name": "stderr",
     "output_type": "stream",
     "text": [
      "Some weights of the model checkpoint at roberta-large were not used when initializing RobertaModel: ['lm_head.layer_norm.weight', 'lm_head.bias', 'lm_head.decoder.weight', 'lm_head.layer_norm.bias', 'lm_head.dense.bias', 'lm_head.dense.weight']\n",
      "- This IS expected if you are initializing RobertaModel from the checkpoint of a model trained on another task or with another architecture (e.g. initializing a BertForSequenceClassification model from a BertForPreTraining model).\n",
      "- This IS NOT expected if you are initializing RobertaModel from the checkpoint of a model that you expect to be exactly identical (initializing a BertForSequenceClassification model from a BertForSequenceClassification model).\n"
     ]
    },
    {
     "name": "stdout",
     "output_type": "stream",
     "text": [
      "calculating scores...\n",
      "computing bert embedding.\n"
     ]
    },
    {
     "data": {
      "application/vnd.jupyter.widget-view+json": {
       "model_id": "113f147337f440caa3a4c7f9b9337749",
       "version_major": 2,
       "version_minor": 0
      },
      "text/plain": [
       "  0%|          | 0/281 [00:00<?, ?it/s]"
      ]
     },
     "metadata": {},
     "output_type": "display_data"
    },
    {
     "name": "stdout",
     "output_type": "stream",
     "text": [
      "computing greedy matching.\n"
     ]
    },
    {
     "data": {
      "application/vnd.jupyter.widget-view+json": {
       "model_id": "d8d8e82494364e9ab601b0d3ba954468",
       "version_major": 2,
       "version_minor": 0
      },
      "text/plain": [
       "  0%|          | 0/144 [00:00<?, ?it/s]"
      ]
     },
     "metadata": {},
     "output_type": "display_data"
    },
    {
     "name": "stdout",
     "output_type": "stream",
     "text": [
      "done in 39.92 seconds, 229.47 sentences/sec\n"
     ]
    }
   ],
   "source": [
    "P, R, F1 = score(details_dict['predict_extabs'], details_dict['headlines'], lang=\"en\", verbose=True)\n",
    "F1_extabs = F1.mean().item()\n",
    "P_extabs = P.mean().item()\n",
    "R_extabs = R.mean().item()"
   ]
  },
  {
   "cell_type": "code",
   "execution_count": 50,
   "metadata": {},
   "outputs": [],
   "source": [
    "# P, R, F1 = score(details_dict['predict_ner'], details_dict['headlines'], lang=\"en\", verbose=True)\n",
    "# F1_ner = F1.mean().item()\n",
    "# P_ner = P.mean().item()\n",
    "# R_ner = R.mean().item()"
   ]
  },
  {
   "cell_type": "code",
   "execution_count": 51,
   "metadata": {},
   "outputs": [],
   "source": [
    "# P, R, F1 = score(details_dict['predict_t5'], details_dict['headlines'], lang=\"en\", verbose=True)\n",
    "# F1_t5 = F1.mean().item()\n",
    "# P_t5 = P.mean().item()\n",
    "# R_t5 = R.mean().item()"
   ]
  },
  {
   "cell_type": "code",
   "execution_count": 52,
   "metadata": {},
   "outputs": [
    {
     "name": "stderr",
     "output_type": "stream",
     "text": [
      "Some weights of the model checkpoint at roberta-large were not used when initializing RobertaModel: ['lm_head.layer_norm.weight', 'lm_head.bias', 'lm_head.decoder.weight', 'lm_head.layer_norm.bias', 'lm_head.dense.bias', 'lm_head.dense.weight']\n",
      "- This IS expected if you are initializing RobertaModel from the checkpoint of a model trained on another task or with another architecture (e.g. initializing a BertForSequenceClassification model from a BertForPreTraining model).\n",
      "- This IS NOT expected if you are initializing RobertaModel from the checkpoint of a model that you expect to be exactly identical (initializing a BertForSequenceClassification model from a BertForSequenceClassification model).\n"
     ]
    },
    {
     "name": "stdout",
     "output_type": "stream",
     "text": [
      "calculating scores...\n",
      "computing bert embedding.\n"
     ]
    },
    {
     "data": {
      "application/vnd.jupyter.widget-view+json": {
       "model_id": "859f7f43e0cd4cb7a86b9b599f3a64b5",
       "version_major": 2,
       "version_minor": 0
      },
      "text/plain": [
       "  0%|          | 0/283 [00:00<?, ?it/s]"
      ]
     },
     "metadata": {},
     "output_type": "display_data"
    },
    {
     "name": "stdout",
     "output_type": "stream",
     "text": [
      "computing greedy matching.\n"
     ]
    },
    {
     "data": {
      "application/vnd.jupyter.widget-view+json": {
       "model_id": "81af524d4f3249cdb70ec345764d24e6",
       "version_major": 2,
       "version_minor": 0
      },
      "text/plain": [
       "  0%|          | 0/144 [00:00<?, ?it/s]"
      ]
     },
     "metadata": {},
     "output_type": "display_data"
    },
    {
     "name": "stdout",
     "output_type": "stream",
     "text": [
      "done in 41.52 seconds, 220.64 sentences/sec\n"
     ]
    }
   ],
   "source": [
    "P, R, F1 = score(details_dict['predict_art'], details_dict['headlines'], lang=\"en\", verbose=True)\n",
    "F1_art = F1.mean().item()\n",
    "P_art = P.mean().item()\n",
    "R_art = R.mean().item()"
   ]
  },
  {
   "cell_type": "code",
   "execution_count": 53,
   "metadata": {},
   "outputs": [],
   "source": [
    "# import matplotlib.pyplot as plt\n",
    "# plt.hist(F1, bins=20)\n",
    "# plt.show()\n",
    "# from bert_score import plot_example\n",
    "\n",
    "# p1 = P1[0]\n",
    "# y = Y[0]\n",
    "# plot_example(p1, y, lang=\"en\")"
   ]
  },
  {
   "cell_type": "code",
   "execution_count": 54,
   "metadata": {},
   "outputs": [],
   "source": [
    "# bert_score = {'baseline': {'P': P_base,\n",
    "#   'R': R_base,\n",
    "#   'F1': F1_base}, \n",
    "#    'ext' : {'P': P_ext,\n",
    "#   'R': R_ext,\n",
    "#   'F1': F1_ext}, \n",
    "#   'abs' : {'P': P_abs,\n",
    "#   'R': R_abs,\n",
    "#   'F1': F1_abs},\n",
    "#   'extabs' : {'P': P_extabs,\n",
    "#   'R': R_extabs,\n",
    "#   'F1': F1_extabs},\n",
    "# }\n",
    "\n",
    "bert_score = {'P': {  'art': P_art,\n",
    "                      'text': P_text,\n",
    "                      'ext': P_ext,\n",
    "  'baseline (3 sentences)': P_3s,\n",
    "\n",
    "  'abs': P_abs,\n",
    "  'extabs': P_extabs,\n",
    "'baseline (1 sentence)': P_1s,}, \n",
    "   'R' : {  'art': R_art,\n",
    "            'text': R_text,\n",
    "            'ext': R_ext,\n",
    "  'baseline (3 sentences)': R_3s,\n",
    "  'abs': R_abs,\n",
    "  'extabs': R_extabs,\n",
    "   'baseline (1 sentence)': R_1s,}, \n",
    "  'F1' : {  'art': F1_art,\n",
    "            'text': F1_text,\n",
    "            'ext': F1_ext,\n",
    "  'baseline (3 sentences)': F1_3s,\n",
    "  'abs': F1_abs,\n",
    "  'extabs': F1_extabs,\n",
    "  'baseline (1 sentence)': F1_1s,},\n",
    "}\n",
    "\n"
   ]
  },
  {
   "cell_type": "code",
   "execution_count": 55,
   "metadata": {},
   "outputs": [
    {
     "data": {
      "text/html": [
       "<div>\n",
       "<style scoped>\n",
       "    .dataframe tbody tr th:only-of-type {\n",
       "        vertical-align: middle;\n",
       "    }\n",
       "\n",
       "    .dataframe tbody tr th {\n",
       "        vertical-align: top;\n",
       "    }\n",
       "\n",
       "    .dataframe thead th {\n",
       "        text-align: right;\n",
       "    }\n",
       "</style>\n",
       "<table border=\"1\" class=\"dataframe\">\n",
       "  <thead>\n",
       "    <tr style=\"text-align: right;\">\n",
       "      <th></th>\n",
       "      <th>P</th>\n",
       "      <th>R</th>\n",
       "      <th>F1</th>\n",
       "    </tr>\n",
       "  </thead>\n",
       "  <tbody>\n",
       "    <tr>\n",
       "      <th>art</th>\n",
       "      <td>0.885727</td>\n",
       "      <td>0.882444</td>\n",
       "      <td>0.883887</td>\n",
       "    </tr>\n",
       "    <tr>\n",
       "      <th>text</th>\n",
       "      <td>0.882811</td>\n",
       "      <td>0.879360</td>\n",
       "      <td>0.880891</td>\n",
       "    </tr>\n",
       "    <tr>\n",
       "      <th>ext</th>\n",
       "      <td>0.881873</td>\n",
       "      <td>0.877882</td>\n",
       "      <td>0.879682</td>\n",
       "    </tr>\n",
       "    <tr>\n",
       "      <th>baseline (3 sentences)</th>\n",
       "      <td>0.879829</td>\n",
       "      <td>0.874897</td>\n",
       "      <td>0.877168</td>\n",
       "    </tr>\n",
       "    <tr>\n",
       "      <th>abs</th>\n",
       "      <td>0.875696</td>\n",
       "      <td>0.868051</td>\n",
       "      <td>0.871677</td>\n",
       "    </tr>\n",
       "    <tr>\n",
       "      <th>extabs</th>\n",
       "      <td>0.874679</td>\n",
       "      <td>0.866587</td>\n",
       "      <td>0.870435</td>\n",
       "    </tr>\n",
       "    <tr>\n",
       "      <th>baseline (1 sentence)</th>\n",
       "      <td>0.819547</td>\n",
       "      <td>0.851331</td>\n",
       "      <td>0.834391</td>\n",
       "    </tr>\n",
       "  </tbody>\n",
       "</table>\n",
       "</div>"
      ],
      "text/plain": [
       "                               P         R        F1\n",
       "art                     0.885727  0.882444  0.883887\n",
       "text                    0.882811  0.879360  0.880891\n",
       "ext                     0.881873  0.877882  0.879682\n",
       "baseline (3 sentences)  0.879829  0.874897  0.877168\n",
       "abs                     0.875696  0.868051  0.871677\n",
       "extabs                  0.874679  0.866587  0.870435\n",
       "baseline (1 sentence)   0.819547  0.851331  0.834391"
      ]
     },
     "execution_count": 55,
     "metadata": {},
     "output_type": "execute_result"
    }
   ],
   "source": [
    "df_results = {k: bert_score[k] for k in ('P', 'R', 'F1')}\n",
    "pd.DataFrame(df_results)"
   ]
  },
  {
   "cell_type": "code",
   "execution_count": null,
   "metadata": {},
   "outputs": [],
   "source": [
    "\n"
   ]
  },
  {
   "cell_type": "code",
   "execution_count": 56,
   "metadata": {},
   "outputs": [],
   "source": [
    "#!pip install --upgrade pip  # ensures that pip is current\n",
    "#!git clone https://github.com/google-research/bleurt.git\n",
    "#!cd bleurt\n",
    "#!pip install ."
   ]
  },
  {
   "cell_type": "code",
   "execution_count": 57,
   "metadata": {},
   "outputs": [],
   "source": [
    "# import unittest\n",
    "\n",
    "# python -m unittest bleurt.score_test\n",
    "# python -m unittest bleurt.score_not_eager_test\n",
    "# python -m unittest bleurt.finetune_test\n",
    "# python -m unittest bleurt.score_files_test"
   ]
  },
  {
   "cell_type": "code",
   "execution_count": 58,
   "metadata": {},
   "outputs": [],
   "source": [
    "from functools import reduce\n",
    "  \n",
    "def average(lst):\n",
    "    return reduce(lambda a, b: a + b, lst) / len(lst)"
   ]
  },
  {
   "cell_type": "code",
   "execution_count": 59,
   "metadata": {},
   "outputs": [],
   "source": [
    "from bleurt import score"
   ]
  },
  {
   "cell_type": "code",
   "execution_count": 60,
   "metadata": {},
   "outputs": [
    {
     "name": "stdout",
     "output_type": "stream",
     "text": [
      "INFO:tensorflow:Reading checkpoint bleurt/bleurt/test_checkpoint.\n",
      "INFO:tensorflow:Config file found, reading.\n",
      "INFO:tensorflow:Will load checkpoint dbleurt_tiny\n",
      "INFO:tensorflow:Loads full paths and checks that files exists.\n",
      "INFO:tensorflow:... name:dbleurt_tiny\n",
      "INFO:tensorflow:... vocab_file:vocab.txt\n",
      "INFO:tensorflow:... bert_config_file:bert_config.json\n",
      "INFO:tensorflow:... do_lower_case:True\n",
      "INFO:tensorflow:... max_seq_length:512\n",
      "INFO:tensorflow:Creating BLEURT scorer.\n",
      "INFO:tensorflow:Creating WordPiece tokenizer.\n",
      "INFO:tensorflow:WordPiece tokenizer instantiated.\n",
      "INFO:tensorflow:Creating Eager Mode predictor.\n",
      "INFO:tensorflow:Loading model.\n",
      "INFO:tensorflow:BLEURT initialized.\n"
     ]
    }
   ],
   "source": [
    "checkpoint = \"bleurt/bleurt/test_checkpoint\"\n",
    "scorer = score.BleurtScorer(checkpoint)"
   ]
  },
  {
   "cell_type": "code",
   "execution_count": 61,
   "metadata": {},
   "outputs": [],
   "source": [
    "scores = scorer.score(references=details_dict['headlines'], candidates=details_dict['predict_1s']) \n",
    "bleurt_1s = average(scores)"
   ]
  },
  {
   "cell_type": "code",
   "execution_count": 62,
   "metadata": {},
   "outputs": [],
   "source": [
    "scores = scorer.score(references=details_dict['headlines'], candidates=details_dict['predict_3s']) \n",
    "bleurt_3s = average(scores)"
   ]
  },
  {
   "cell_type": "code",
   "execution_count": 63,
   "metadata": {},
   "outputs": [],
   "source": [
    "scores = scorer.score(references=details_dict['headlines'], candidates=details_dict['predict_text']) \n",
    "bleurt_text = average(scores)"
   ]
  },
  {
   "cell_type": "code",
   "execution_count": 64,
   "metadata": {},
   "outputs": [],
   "source": [
    "scores = scorer.score(references=details_dict['headlines'], candidates=details_dict['predict_ext']) \n",
    "bleurt_ext = average(scores)"
   ]
  },
  {
   "cell_type": "code",
   "execution_count": 65,
   "metadata": {},
   "outputs": [],
   "source": [
    "scores = scorer.score(references=details_dict['headlines'], candidates=details_dict['predict_abs']) \n",
    "bleurt_abs = average(scores)"
   ]
  },
  {
   "cell_type": "code",
   "execution_count": 66,
   "metadata": {},
   "outputs": [],
   "source": [
    "scores = scorer.score(references=details_dict['headlines'], candidates=details_dict['predict_extabs']) \n",
    "bleurt_extabs = average(scores)"
   ]
  },
  {
   "cell_type": "code",
   "execution_count": 67,
   "metadata": {},
   "outputs": [],
   "source": [
    "# scores = scorer.score(references=details_dict['headlines'], candidates=details_dict['predict_ner']) \n",
    "# bleurt_ner = average(scores)"
   ]
  },
  {
   "cell_type": "code",
   "execution_count": 68,
   "metadata": {},
   "outputs": [],
   "source": [
    "# scores = scorer.score(references=details_dict['headlines'], candidates=details_dict['predict_t5']) \n",
    "# bleurt_t5 = average(scores)"
   ]
  },
  {
   "cell_type": "code",
   "execution_count": 69,
   "metadata": {},
   "outputs": [],
   "source": [
    "scores = scorer.score(references=details_dict['headlines'], candidates=details_dict['predict_art']) \n",
    "bleurt_art = average(scores)"
   ]
  },
  {
   "cell_type": "code",
   "execution_count": 70,
   "metadata": {},
   "outputs": [],
   "source": [
    "bleurt_score = {'baseline (1s)': {'bleurt_score': bleurt_1s}, \n",
    "                'baseline (3s)': {'bleurt_score': bleurt_3s}, \n",
    "    'text' : {'bleurt_score': bleurt_text}, \n",
    "    'ext' : {'bleurt_score': bleurt_ext},\n",
    "    'abs' : {'bleurt_score': bleurt_abs},\n",
    "    'extabs' : {'bleurt_score': bleurt_extabs},\n",
    "#    'ner' : {'bleurt_score': bleurt_ner},\n",
    "#    't5' : {'bleurt_score': bleurt_t5},\n",
    "    'art' : {'bleurt_score': bleurt_art},                \n",
    "}\n",
    "\n",
    "# bleurt_score = {'bleurt_score': {'baseline': bleurt_baseline}, \n",
    "#    'bleurt_score' : {'ext': bleurt_ext}, \n",
    "#   'bleurt_score' : {'abs': bleurt_abs},\n",
    "#   'bleurt_score' : {'extabs': bleurt_extabs}\n",
    "# }\n",
    "\n",
    "#bleurt_score = {'bleurt_score': {'baseline': bleurt_baseline, 'ext': bleurt_ext, 'abs': bleurt_abs, 'extabs': bleurt_extabs}}"
   ]
  },
  {
   "cell_type": "code",
   "execution_count": 71,
   "metadata": {},
   "outputs": [
    {
     "data": {
      "text/html": [
       "<div>\n",
       "<style scoped>\n",
       "    .dataframe tbody tr th:only-of-type {\n",
       "        vertical-align: middle;\n",
       "    }\n",
       "\n",
       "    .dataframe tbody tr th {\n",
       "        vertical-align: top;\n",
       "    }\n",
       "\n",
       "    .dataframe thead th {\n",
       "        text-align: right;\n",
       "    }\n",
       "</style>\n",
       "<table border=\"1\" class=\"dataframe\">\n",
       "  <thead>\n",
       "    <tr style=\"text-align: right;\">\n",
       "      <th></th>\n",
       "      <th>art</th>\n",
       "      <th>text</th>\n",
       "      <th>ext</th>\n",
       "      <th>baseline (3s)</th>\n",
       "      <th>abs</th>\n",
       "      <th>extabs</th>\n",
       "      <th>baseline (1s)</th>\n",
       "    </tr>\n",
       "  </thead>\n",
       "  <tbody>\n",
       "    <tr>\n",
       "      <th>bleurt_score</th>\n",
       "      <td>-0.563968</td>\n",
       "      <td>-0.615786</td>\n",
       "      <td>-0.633653</td>\n",
       "      <td>-0.670758</td>\n",
       "      <td>-0.7601</td>\n",
       "      <td>-0.778038</td>\n",
       "      <td>-0.811343</td>\n",
       "    </tr>\n",
       "  </tbody>\n",
       "</table>\n",
       "</div>"
      ],
      "text/plain": [
       "                   art      text       ext  baseline (3s)     abs    extabs  \\\n",
       "bleurt_score -0.563968 -0.615786 -0.633653      -0.670758 -0.7601 -0.778038   \n",
       "\n",
       "              baseline (1s)  \n",
       "bleurt_score      -0.811343  "
      ]
     },
     "execution_count": 71,
     "metadata": {},
     "output_type": "execute_result"
    }
   ],
   "source": [
    "#df_results = {k: bleurt_score[k] for k in ('bleurt_score')}\n",
    "df_results = {k: bleurt_score[k] for k in ('art', 'text', 'ext', 'baseline (3s)', 'abs', 'extabs', 'baseline (1s)')}\n",
    "pd.DataFrame(df_results)"
   ]
  },
  {
   "cell_type": "code",
   "execution_count": null,
   "metadata": {},
   "outputs": [],
   "source": []
  },
  {
   "cell_type": "code",
   "execution_count": 72,
   "metadata": {},
   "outputs": [],
   "source": [
    "#score = nltk.translate.meteor_score.meteor_score(reference, model)\n",
    "# print (nltk.translate.meteor_score.meteor_score(\n",
    "#     [\"this is an apple\", \"that is an apple\"], \"an apple on this tree\"))\n",
    "# print (nltk.translate.meteor_score.meteor_score(\n",
    "#     [\"this is an apple\", \"that is an apple\"], \"a red color fruit\"))\n",
    "# nltk.translate.meteor_score.meteor_score(P1, \"a red color fruit\")"
   ]
  },
  {
   "cell_type": "code",
   "execution_count": 73,
   "metadata": {},
   "outputs": [],
   "source": [
    "# meteor_score_1s = 0\n",
    "# for x, y in zip(details_dict['headlines'], details_dict['predict_1s']):\n",
    "#     meteor_score_1s += nltk.translate.meteor_score.meteor_score(x, y)\n",
    "# meteor_score_1s = meteor_score_1s/len(details_dict['headlines'])\n",
    "# meteor_score_1s"
   ]
  },
  {
   "cell_type": "code",
   "execution_count": 74,
   "metadata": {},
   "outputs": [],
   "source": [
    "# meteor_score_3s = 0\n",
    "# for x, y in zip(details_dict['headlines'], details_dict['predict_3s']):\n",
    "#     meteor_score_3s += nltk.translate.meteor_score.meteor_score(x, y)\n",
    "# meteor_score_3s = meteor_score_3s/len(details_dict['headlines'])\n",
    "# meteor_score_3s"
   ]
  },
  {
   "cell_type": "code",
   "execution_count": 75,
   "metadata": {},
   "outputs": [],
   "source": [
    "# meteor_score_text = 0\n",
    "# for x, y in zip(details_dict['headlines'], details_dict['predict_text']):\n",
    "#     meteor_score_text += nltk.translate.meteor_score.meteor_score(x, y)\n",
    "# meteor_score_text = meteor_score_text/len(details_dict['headlines'])\n",
    "# meteor_score_text"
   ]
  },
  {
   "cell_type": "code",
   "execution_count": 76,
   "metadata": {},
   "outputs": [],
   "source": [
    "# meteor_score_ext = 0\n",
    "# for x, y in zip(details_dict['headlines'], details_dict['predict_ext']):\n",
    "#     meteor_score_ext += nltk.translate.meteor_score.meteor_score(x, y)\n",
    "# meteor_score_ext = meteor_score_ext/len(details_dict['headlines'])\n",
    "# meteor_score_ext"
   ]
  },
  {
   "cell_type": "code",
   "execution_count": 77,
   "metadata": {},
   "outputs": [],
   "source": [
    "# meteor_score_abs = 0\n",
    "# for x, y in zip(details_dict['headlines'], details_dict['predict_abs']):\n",
    "#     meteor_score_abs += nltk.translate.meteor_score.meteor_score(x, y)\n",
    "# meteor_score_abs = meteor_score_abs/len(details_dict['headlines'])\n",
    "# meteor_score_abs"
   ]
  },
  {
   "cell_type": "code",
   "execution_count": 78,
   "metadata": {},
   "outputs": [],
   "source": [
    "# meteor_score_extabs = 0\n",
    "# for x, y in zip(details_dict['headlines'], details_dict['predict_extabs']):\n",
    "#     meteor_score_extabs += nltk.translate.meteor_score.meteor_score(x, y)\n",
    "# meteor_score_extabs = meteor_score_extabs/len(details_dict['headlines'])\n",
    "# meteor_score_extabs"
   ]
  },
  {
   "cell_type": "code",
   "execution_count": 79,
   "metadata": {},
   "outputs": [],
   "source": [
    "# meteor_score_ner = 0\n",
    "# for x, y in zip(details_dict['headlines'], details_dict['predict_ner']):\n",
    "#     meteor_score_ner += nltk.translate.meteor_score.meteor_score(x, y)\n",
    "# meteor_score_ner = meteor_score_ner/len(details_dict['headlines'])\n",
    "# meteor_score_ner"
   ]
  },
  {
   "cell_type": "code",
   "execution_count": 80,
   "metadata": {},
   "outputs": [],
   "source": [
    "# meteor_score_t5 = 0\n",
    "# for x, y in zip(details_dict['headlines'], details_dict['predict_t5']):\n",
    "#     meteor_score_t5 += nltk.translate.meteor_score.meteor_score(x, y)\n",
    "# meteor_score_t5 = meteor_score_t5/len(details_dict['headlines'])\n",
    "# meteor_score_t5"
   ]
  },
  {
   "cell_type": "code",
   "execution_count": 81,
   "metadata": {},
   "outputs": [],
   "source": [
    "# meteor_score_art = 0\n",
    "# for x, y in zip(details_dict['headlines'], details_dict['predict_art']):\n",
    "#     meteor_score_art += nltk.translate.meteor_score.meteor_score(x, y)\n",
    "# meteor_score_art = meteor_score_art/len(details_dict['headlines'])\n",
    "# meteor_score_art"
   ]
  },
  {
   "cell_type": "code",
   "execution_count": 82,
   "metadata": {},
   "outputs": [],
   "source": [
    "# meteor_score = {'baseline (1s)': {'meteor_score': meteor_score_1s}, \n",
    "#                 'baseline (3s)': {'meteor_score': meteor_score_3s}, \n",
    "#     'text' : {'meteor_score': meteor_score_text}, \n",
    "#     'ext' : {'meteor_score': meteor_score_ext},\n",
    "#     'abs' : {'meteor_score': meteor_score_abs},\n",
    "#     'extabs' : {'meteor_score': meteor_score_extabs},\n",
    "#     'ner' : {'meteor_score': meteor_score_ner},\n",
    "#     't5' : {'meteor_score': meteor_score_t5},\n",
    "#     'art' : {'meteor_score': meteor_score_art}\n",
    "# }\n",
    "# df_results = {k: meteor_score[k] for k in ('baseline (1s)', 'baseline (3s)', 'text', 'ext', 'abs', 'extabs', 'ner', 't5', 'art')}\n",
    "# pd.DataFrame(df_results)"
   ]
  },
  {
   "cell_type": "code",
   "execution_count": 83,
   "metadata": {},
   "outputs": [
    {
     "data": {
      "text/plain": [
       "9160"
      ]
     },
     "execution_count": 83,
     "metadata": {},
     "output_type": "execute_result"
    }
   ],
   "source": [
    "len(details_dict['headlines'])"
   ]
  },
  {
   "cell_type": "code",
   "execution_count": null,
   "metadata": {},
   "outputs": [],
   "source": []
  }
 ],
 "metadata": {
  "accelerator": "GPU",
  "colab": {
   "collapsed_sections": [],
   "machine_shape": "hm",
   "name": "NB7_v1_Scoring_CNN_w266_FP.ipynb",
   "provenance": [
    {
     "file_id": "1RHp1fLnqWyUqouDRgTmiel8TiehSYLM9",
     "timestamp": 1647037306355
    },
    {
     "file_id": "1pgtzGinW820RYUR_OZd5L3XfZq_YH67N",
     "timestamp": 1646918109982
    }
   ]
  },
  "kernelspec": {
   "display_name": "Python 3",
   "language": "python",
   "name": "python3"
  },
  "language_info": {
   "codemirror_mode": {
    "name": "ipython",
    "version": 3
   },
   "file_extension": ".py",
   "mimetype": "text/x-python",
   "name": "python",
   "nbconvert_exporter": "python",
   "pygments_lexer": "ipython3",
   "version": "3.8.8"
  },
  "widgets": {
   "application/vnd.jupyter.widget-state+json": {
    "0410109dca6c426daeff3e6d8474b4e3": {
     "model_module": "@jupyter-widgets/base",
     "model_module_version": "1.2.0",
     "model_name": "LayoutModel",
     "state": {
      "_model_module": "@jupyter-widgets/base",
      "_model_module_version": "1.2.0",
      "_model_name": "LayoutModel",
      "_view_count": null,
      "_view_module": "@jupyter-widgets/base",
      "_view_module_version": "1.2.0",
      "_view_name": "LayoutView",
      "align_content": null,
      "align_items": null,
      "align_self": null,
      "border": null,
      "bottom": null,
      "display": null,
      "flex": null,
      "flex_flow": null,
      "grid_area": null,
      "grid_auto_columns": null,
      "grid_auto_flow": null,
      "grid_auto_rows": null,
      "grid_column": null,
      "grid_gap": null,
      "grid_row": null,
      "grid_template_areas": null,
      "grid_template_columns": null,
      "grid_template_rows": null,
      "height": null,
      "justify_content": null,
      "justify_items": null,
      "left": null,
      "margin": null,
      "max_height": null,
      "max_width": null,
      "min_height": null,
      "min_width": null,
      "object_fit": null,
      "object_position": null,
      "order": null,
      "overflow": null,
      "overflow_x": null,
      "overflow_y": null,
      "padding": null,
      "right": null,
      "top": null,
      "visibility": null,
      "width": null
     }
    },
    "0bdb7d629509478ebf6823aced460793": {
     "model_module": "@jupyter-widgets/base",
     "model_module_version": "1.2.0",
     "model_name": "LayoutModel",
     "state": {
      "_model_module": "@jupyter-widgets/base",
      "_model_module_version": "1.2.0",
      "_model_name": "LayoutModel",
      "_view_count": null,
      "_view_module": "@jupyter-widgets/base",
      "_view_module_version": "1.2.0",
      "_view_name": "LayoutView",
      "align_content": null,
      "align_items": null,
      "align_self": null,
      "border": null,
      "bottom": null,
      "display": null,
      "flex": null,
      "flex_flow": null,
      "grid_area": null,
      "grid_auto_columns": null,
      "grid_auto_flow": null,
      "grid_auto_rows": null,
      "grid_column": null,
      "grid_gap": null,
      "grid_row": null,
      "grid_template_areas": null,
      "grid_template_columns": null,
      "grid_template_rows": null,
      "height": null,
      "justify_content": null,
      "justify_items": null,
      "left": null,
      "margin": null,
      "max_height": null,
      "max_width": null,
      "min_height": null,
      "min_width": null,
      "object_fit": null,
      "object_position": null,
      "order": null,
      "overflow": null,
      "overflow_x": null,
      "overflow_y": null,
      "padding": null,
      "right": null,
      "top": null,
      "visibility": null,
      "width": null
     }
    },
    "0f4200f367a84656a3dc19b59d7f30f8": {
     "model_module": "@jupyter-widgets/base",
     "model_module_version": "1.2.0",
     "model_name": "LayoutModel",
     "state": {
      "_model_module": "@jupyter-widgets/base",
      "_model_module_version": "1.2.0",
      "_model_name": "LayoutModel",
      "_view_count": null,
      "_view_module": "@jupyter-widgets/base",
      "_view_module_version": "1.2.0",
      "_view_name": "LayoutView",
      "align_content": null,
      "align_items": null,
      "align_self": null,
      "border": null,
      "bottom": null,
      "display": null,
      "flex": null,
      "flex_flow": null,
      "grid_area": null,
      "grid_auto_columns": null,
      "grid_auto_flow": null,
      "grid_auto_rows": null,
      "grid_column": null,
      "grid_gap": null,
      "grid_row": null,
      "grid_template_areas": null,
      "grid_template_columns": null,
      "grid_template_rows": null,
      "height": null,
      "justify_content": null,
      "justify_items": null,
      "left": null,
      "margin": null,
      "max_height": null,
      "max_width": null,
      "min_height": null,
      "min_width": null,
      "object_fit": null,
      "object_position": null,
      "order": null,
      "overflow": null,
      "overflow_x": null,
      "overflow_y": null,
      "padding": null,
      "right": null,
      "top": null,
      "visibility": null,
      "width": null
     }
    },
    "17117ddd7ce44cab9a52555164039a20": {
     "model_module": "@jupyter-widgets/controls",
     "model_module_version": "1.5.0",
     "model_name": "HTMLModel",
     "state": {
      "_dom_classes": [],
      "_model_module": "@jupyter-widgets/controls",
      "_model_module_version": "1.5.0",
      "_model_name": "HTMLModel",
      "_view_count": null,
      "_view_module": "@jupyter-widgets/controls",
      "_view_module_version": "1.5.0",
      "_view_name": "HTMLView",
      "description": "",
      "description_tooltip": null,
      "layout": "IPY_MODEL_7ee622e3911a4f248881a0fcece5569c",
      "placeholder": "​",
      "style": "IPY_MODEL_8eb5616e582f425aa87030e02a46ffc1",
      "value": " 1158/1158 [06:07&lt;00:00,  4.02it/s]"
     }
    },
    "2f3b70bdae424b818a819d4c449ce54d": {
     "model_module": "@jupyter-widgets/controls",
     "model_module_version": "1.5.0",
     "model_name": "DescriptionStyleModel",
     "state": {
      "_model_module": "@jupyter-widgets/controls",
      "_model_module_version": "1.5.0",
      "_model_name": "DescriptionStyleModel",
      "_view_count": null,
      "_view_module": "@jupyter-widgets/base",
      "_view_module_version": "1.2.0",
      "_view_name": "StyleView",
      "description_width": ""
     }
    },
    "5b7d01d8d9b745bc8630c361c2c63179": {
     "model_module": "@jupyter-widgets/controls",
     "model_module_version": "1.5.0",
     "model_name": "HTMLModel",
     "state": {
      "_dom_classes": [],
      "_model_module": "@jupyter-widgets/controls",
      "_model_module_version": "1.5.0",
      "_model_name": "HTMLModel",
      "_view_count": null,
      "_view_module": "@jupyter-widgets/controls",
      "_view_module_version": "1.5.0",
      "_view_name": "HTMLView",
      "description": "",
      "description_tooltip": null,
      "layout": "IPY_MODEL_0bdb7d629509478ebf6823aced460793",
      "placeholder": "​",
      "style": "IPY_MODEL_b52888078df542b79e04fd5617bcbf75",
      "value": "Generating outputs: 100%"
     }
    },
    "61c93ac33af447ae8b00368ccd9e2d1f": {
     "model_module": "@jupyter-widgets/base",
     "model_module_version": "1.2.0",
     "model_name": "LayoutModel",
     "state": {
      "_model_module": "@jupyter-widgets/base",
      "_model_module_version": "1.2.0",
      "_model_name": "LayoutModel",
      "_view_count": null,
      "_view_module": "@jupyter-widgets/base",
      "_view_module_version": "1.2.0",
      "_view_name": "LayoutView",
      "align_content": null,
      "align_items": null,
      "align_self": null,
      "border": null,
      "bottom": null,
      "display": null,
      "flex": null,
      "flex_flow": null,
      "grid_area": null,
      "grid_auto_columns": null,
      "grid_auto_flow": null,
      "grid_auto_rows": null,
      "grid_column": null,
      "grid_gap": null,
      "grid_row": null,
      "grid_template_areas": null,
      "grid_template_columns": null,
      "grid_template_rows": null,
      "height": null,
      "justify_content": null,
      "justify_items": null,
      "left": null,
      "margin": null,
      "max_height": null,
      "max_width": null,
      "min_height": null,
      "min_width": null,
      "object_fit": null,
      "object_position": null,
      "order": null,
      "overflow": null,
      "overflow_x": null,
      "overflow_y": null,
      "padding": null,
      "right": null,
      "top": null,
      "visibility": null,
      "width": null
     }
    },
    "6c81f61a463947af83e2bc961346d576": {
     "model_module": "@jupyter-widgets/controls",
     "model_module_version": "1.5.0",
     "model_name": "HBoxModel",
     "state": {
      "_dom_classes": [],
      "_model_module": "@jupyter-widgets/controls",
      "_model_module_version": "1.5.0",
      "_model_name": "HBoxModel",
      "_view_count": null,
      "_view_module": "@jupyter-widgets/controls",
      "_view_module_version": "1.5.0",
      "_view_name": "HBoxView",
      "box_style": "",
      "children": [
       "IPY_MODEL_f0a21eec331648cb99941d5c8ed26ac6",
       "IPY_MODEL_bdd4bf2e2aef4cea856d3fe91e0e04ed",
       "IPY_MODEL_8f2d5e80f5ef4526a3c611b95cbea7b5"
      ],
      "layout": "IPY_MODEL_0f4200f367a84656a3dc19b59d7f30f8"
     }
    },
    "76e569527e96439e9b6d2eb7b6e8d73c": {
     "model_module": "@jupyter-widgets/base",
     "model_module_version": "1.2.0",
     "model_name": "LayoutModel",
     "state": {
      "_model_module": "@jupyter-widgets/base",
      "_model_module_version": "1.2.0",
      "_model_name": "LayoutModel",
      "_view_count": null,
      "_view_module": "@jupyter-widgets/base",
      "_view_module_version": "1.2.0",
      "_view_name": "LayoutView",
      "align_content": null,
      "align_items": null,
      "align_self": null,
      "border": null,
      "bottom": null,
      "display": null,
      "flex": null,
      "flex_flow": null,
      "grid_area": null,
      "grid_auto_columns": null,
      "grid_auto_flow": null,
      "grid_auto_rows": null,
      "grid_column": null,
      "grid_gap": null,
      "grid_row": null,
      "grid_template_areas": null,
      "grid_template_columns": null,
      "grid_template_rows": null,
      "height": null,
      "justify_content": null,
      "justify_items": null,
      "left": null,
      "margin": null,
      "max_height": null,
      "max_width": null,
      "min_height": null,
      "min_width": null,
      "object_fit": null,
      "object_position": null,
      "order": null,
      "overflow": null,
      "overflow_x": null,
      "overflow_y": null,
      "padding": null,
      "right": null,
      "top": null,
      "visibility": null,
      "width": null
     }
    },
    "7ee622e3911a4f248881a0fcece5569c": {
     "model_module": "@jupyter-widgets/base",
     "model_module_version": "1.2.0",
     "model_name": "LayoutModel",
     "state": {
      "_model_module": "@jupyter-widgets/base",
      "_model_module_version": "1.2.0",
      "_model_name": "LayoutModel",
      "_view_count": null,
      "_view_module": "@jupyter-widgets/base",
      "_view_module_version": "1.2.0",
      "_view_name": "LayoutView",
      "align_content": null,
      "align_items": null,
      "align_self": null,
      "border": null,
      "bottom": null,
      "display": null,
      "flex": null,
      "flex_flow": null,
      "grid_area": null,
      "grid_auto_columns": null,
      "grid_auto_flow": null,
      "grid_auto_rows": null,
      "grid_column": null,
      "grid_gap": null,
      "grid_row": null,
      "grid_template_areas": null,
      "grid_template_columns": null,
      "grid_template_rows": null,
      "height": null,
      "justify_content": null,
      "justify_items": null,
      "left": null,
      "margin": null,
      "max_height": null,
      "max_width": null,
      "min_height": null,
      "min_width": null,
      "object_fit": null,
      "object_position": null,
      "order": null,
      "overflow": null,
      "overflow_x": null,
      "overflow_y": null,
      "padding": null,
      "right": null,
      "top": null,
      "visibility": null,
      "width": null
     }
    },
    "7f6a9fa730bf4187aaa95b8c0aec7fb5": {
     "model_module": "@jupyter-widgets/base",
     "model_module_version": "1.2.0",
     "model_name": "LayoutModel",
     "state": {
      "_model_module": "@jupyter-widgets/base",
      "_model_module_version": "1.2.0",
      "_model_name": "LayoutModel",
      "_view_count": null,
      "_view_module": "@jupyter-widgets/base",
      "_view_module_version": "1.2.0",
      "_view_name": "LayoutView",
      "align_content": null,
      "align_items": null,
      "align_self": null,
      "border": null,
      "bottom": null,
      "display": null,
      "flex": null,
      "flex_flow": null,
      "grid_area": null,
      "grid_auto_columns": null,
      "grid_auto_flow": null,
      "grid_auto_rows": null,
      "grid_column": null,
      "grid_gap": null,
      "grid_row": null,
      "grid_template_areas": null,
      "grid_template_columns": null,
      "grid_template_rows": null,
      "height": null,
      "justify_content": null,
      "justify_items": null,
      "left": null,
      "margin": null,
      "max_height": null,
      "max_width": null,
      "min_height": null,
      "min_width": null,
      "object_fit": null,
      "object_position": null,
      "order": null,
      "overflow": null,
      "overflow_x": null,
      "overflow_y": null,
      "padding": null,
      "right": null,
      "top": null,
      "visibility": null,
      "width": null
     }
    },
    "83e6ecf7c3714d949cdd7ec28a0361b6": {
     "model_module": "@jupyter-widgets/controls",
     "model_module_version": "1.5.0",
     "model_name": "ProgressStyleModel",
     "state": {
      "_model_module": "@jupyter-widgets/controls",
      "_model_module_version": "1.5.0",
      "_model_name": "ProgressStyleModel",
      "_view_count": null,
      "_view_module": "@jupyter-widgets/base",
      "_view_module_version": "1.2.0",
      "_view_name": "StyleView",
      "bar_color": null,
      "description_width": ""
     }
    },
    "875c87a63135429f9de9b5ff84b14df8": {
     "model_module": "@jupyter-widgets/controls",
     "model_module_version": "1.5.0",
     "model_name": "FloatProgressModel",
     "state": {
      "_dom_classes": [],
      "_model_module": "@jupyter-widgets/controls",
      "_model_module_version": "1.5.0",
      "_model_name": "FloatProgressModel",
      "_view_count": null,
      "_view_module": "@jupyter-widgets/controls",
      "_view_module_version": "1.5.0",
      "_view_name": "ProgressView",
      "bar_style": "success",
      "description": "",
      "description_tooltip": null,
      "layout": "IPY_MODEL_61c93ac33af447ae8b00368ccd9e2d1f",
      "max": 1158,
      "min": 0,
      "orientation": "horizontal",
      "style": "IPY_MODEL_bde2510f812548eeac225d54c6ae1672",
      "value": 1158
     }
    },
    "8eb5616e582f425aa87030e02a46ffc1": {
     "model_module": "@jupyter-widgets/controls",
     "model_module_version": "1.5.0",
     "model_name": "DescriptionStyleModel",
     "state": {
      "_model_module": "@jupyter-widgets/controls",
      "_model_module_version": "1.5.0",
      "_model_name": "DescriptionStyleModel",
      "_view_count": null,
      "_view_module": "@jupyter-widgets/base",
      "_view_module_version": "1.2.0",
      "_view_name": "StyleView",
      "description_width": ""
     }
    },
    "8f2d5e80f5ef4526a3c611b95cbea7b5": {
     "model_module": "@jupyter-widgets/controls",
     "model_module_version": "1.5.0",
     "model_name": "HTMLModel",
     "state": {
      "_dom_classes": [],
      "_model_module": "@jupyter-widgets/controls",
      "_model_module_version": "1.5.0",
      "_model_name": "HTMLModel",
      "_view_count": null,
      "_view_module": "@jupyter-widgets/controls",
      "_view_module_version": "1.5.0",
      "_view_name": "HTMLView",
      "description": "",
      "description_tooltip": null,
      "layout": "IPY_MODEL_eedae8e506aa4cea975d5b23ef490d43",
      "placeholder": "​",
      "style": "IPY_MODEL_dd518d3e0a7f474388e237c4ff9b43e8",
      "value": " 1158/1158 [05:52&lt;00:00,  3.83it/s]"
     }
    },
    "aa6af2e947d7487f89f594b42bd38492": {
     "model_module": "@jupyter-widgets/controls",
     "model_module_version": "1.5.0",
     "model_name": "HBoxModel",
     "state": {
      "_dom_classes": [],
      "_model_module": "@jupyter-widgets/controls",
      "_model_module_version": "1.5.0",
      "_model_name": "HBoxModel",
      "_view_count": null,
      "_view_module": "@jupyter-widgets/controls",
      "_view_module_version": "1.5.0",
      "_view_name": "HBoxView",
      "box_style": "",
      "children": [
       "IPY_MODEL_5b7d01d8d9b745bc8630c361c2c63179",
       "IPY_MODEL_875c87a63135429f9de9b5ff84b14df8",
       "IPY_MODEL_17117ddd7ce44cab9a52555164039a20"
      ],
      "layout": "IPY_MODEL_76e569527e96439e9b6d2eb7b6e8d73c"
     }
    },
    "b52888078df542b79e04fd5617bcbf75": {
     "model_module": "@jupyter-widgets/controls",
     "model_module_version": "1.5.0",
     "model_name": "DescriptionStyleModel",
     "state": {
      "_model_module": "@jupyter-widgets/controls",
      "_model_module_version": "1.5.0",
      "_model_name": "DescriptionStyleModel",
      "_view_count": null,
      "_view_module": "@jupyter-widgets/base",
      "_view_module_version": "1.2.0",
      "_view_name": "StyleView",
      "description_width": ""
     }
    },
    "bdd4bf2e2aef4cea856d3fe91e0e04ed": {
     "model_module": "@jupyter-widgets/controls",
     "model_module_version": "1.5.0",
     "model_name": "FloatProgressModel",
     "state": {
      "_dom_classes": [],
      "_model_module": "@jupyter-widgets/controls",
      "_model_module_version": "1.5.0",
      "_model_name": "FloatProgressModel",
      "_view_count": null,
      "_view_module": "@jupyter-widgets/controls",
      "_view_module_version": "1.5.0",
      "_view_name": "ProgressView",
      "bar_style": "success",
      "description": "",
      "description_tooltip": null,
      "layout": "IPY_MODEL_0410109dca6c426daeff3e6d8474b4e3",
      "max": 1158,
      "min": 0,
      "orientation": "horizontal",
      "style": "IPY_MODEL_83e6ecf7c3714d949cdd7ec28a0361b6",
      "value": 1158
     }
    },
    "bde2510f812548eeac225d54c6ae1672": {
     "model_module": "@jupyter-widgets/controls",
     "model_module_version": "1.5.0",
     "model_name": "ProgressStyleModel",
     "state": {
      "_model_module": "@jupyter-widgets/controls",
      "_model_module_version": "1.5.0",
      "_model_name": "ProgressStyleModel",
      "_view_count": null,
      "_view_module": "@jupyter-widgets/base",
      "_view_module_version": "1.2.0",
      "_view_name": "StyleView",
      "bar_color": null,
      "description_width": ""
     }
    },
    "dd518d3e0a7f474388e237c4ff9b43e8": {
     "model_module": "@jupyter-widgets/controls",
     "model_module_version": "1.5.0",
     "model_name": "DescriptionStyleModel",
     "state": {
      "_model_module": "@jupyter-widgets/controls",
      "_model_module_version": "1.5.0",
      "_model_name": "DescriptionStyleModel",
      "_view_count": null,
      "_view_module": "@jupyter-widgets/base",
      "_view_module_version": "1.2.0",
      "_view_name": "StyleView",
      "description_width": ""
     }
    },
    "eedae8e506aa4cea975d5b23ef490d43": {
     "model_module": "@jupyter-widgets/base",
     "model_module_version": "1.2.0",
     "model_name": "LayoutModel",
     "state": {
      "_model_module": "@jupyter-widgets/base",
      "_model_module_version": "1.2.0",
      "_model_name": "LayoutModel",
      "_view_count": null,
      "_view_module": "@jupyter-widgets/base",
      "_view_module_version": "1.2.0",
      "_view_name": "LayoutView",
      "align_content": null,
      "align_items": null,
      "align_self": null,
      "border": null,
      "bottom": null,
      "display": null,
      "flex": null,
      "flex_flow": null,
      "grid_area": null,
      "grid_auto_columns": null,
      "grid_auto_flow": null,
      "grid_auto_rows": null,
      "grid_column": null,
      "grid_gap": null,
      "grid_row": null,
      "grid_template_areas": null,
      "grid_template_columns": null,
      "grid_template_rows": null,
      "height": null,
      "justify_content": null,
      "justify_items": null,
      "left": null,
      "margin": null,
      "max_height": null,
      "max_width": null,
      "min_height": null,
      "min_width": null,
      "object_fit": null,
      "object_position": null,
      "order": null,
      "overflow": null,
      "overflow_x": null,
      "overflow_y": null,
      "padding": null,
      "right": null,
      "top": null,
      "visibility": null,
      "width": null
     }
    },
    "f0a21eec331648cb99941d5c8ed26ac6": {
     "model_module": "@jupyter-widgets/controls",
     "model_module_version": "1.5.0",
     "model_name": "HTMLModel",
     "state": {
      "_dom_classes": [],
      "_model_module": "@jupyter-widgets/controls",
      "_model_module_version": "1.5.0",
      "_model_name": "HTMLModel",
      "_view_count": null,
      "_view_module": "@jupyter-widgets/controls",
      "_view_module_version": "1.5.0",
      "_view_name": "HTMLView",
      "description": "",
      "description_tooltip": null,
      "layout": "IPY_MODEL_7f6a9fa730bf4187aaa95b8c0aec7fb5",
      "placeholder": "​",
      "style": "IPY_MODEL_2f3b70bdae424b818a819d4c449ce54d",
      "value": "Generating outputs: 100%"
     }
    }
   }
  }
 },
 "nbformat": 4,
 "nbformat_minor": 1
}
