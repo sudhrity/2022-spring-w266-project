{
 "cells": [
  {
   "cell_type": "code",
   "execution_count": 1,
   "metadata": {
    "id": "sUPGDF4eEVyL"
   },
   "outputs": [],
   "source": [
    "import os\n",
    "import json\n",
    "import joblib\n",
    "import time\n",
    "\n",
    "import pandas as pd\n",
    "import random\n",
    "from IPython.display import display, HTML"
   ]
  },
  {
   "cell_type": "code",
   "execution_count": 2,
   "metadata": {},
   "outputs": [],
   "source": [
    "import torch\n",
    "import transformers\n",
    "from transformers import BartTokenizer, BartForConditionalGeneration"
   ]
  },
  {
   "cell_type": "code",
   "execution_count": 3,
   "metadata": {},
   "outputs": [
    {
     "name": "stdout",
     "output_type": "stream",
     "text": [
      "fatal: destination path 'transformers' already exists and is not an empty directory.\n",
      "\u001b[31mERROR: pip's dependency resolver does not currently take into account all the packages that are installed. This behaviour is the source of the following dependency conflicts.\n",
      "simplet5 0.1.4 requires transformers==4.16.2, but you have transformers 4.18.0.dev0 which is incompatible.\u001b[0m\u001b[31m\n",
      "\u001b[0m"
     ]
    }
   ],
   "source": [
    "#connect to hugging face\n",
    "!git clone https://github.com/huggingface/transformers \\\n",
    "&& cd transformers \\\n",
    "install\n",
    "!pip install -q ./transformers"
   ]
  },
  {
   "cell_type": "code",
   "execution_count": 4,
   "metadata": {},
   "outputs": [
    {
     "name": "stdout",
     "output_type": "stream",
     "text": [
      "Requirement already satisfied: simpletransformers in /home/ubuntu/anaconda3/lib/python3.8/site-packages (0.63.4)\n",
      "Requirement already satisfied: pandas in /home/ubuntu/anaconda3/lib/python3.8/site-packages (from simpletransformers) (1.2.4)\n",
      "Requirement already satisfied: seqeval in /home/ubuntu/anaconda3/lib/python3.8/site-packages (from simpletransformers) (1.2.2)\n",
      "Requirement already satisfied: numpy in /home/ubuntu/anaconda3/lib/python3.8/site-packages (from simpletransformers) (1.19.5)\n",
      "Requirement already satisfied: wandb>=0.10.32 in /home/ubuntu/anaconda3/lib/python3.8/site-packages (from simpletransformers) (0.12.10)\n",
      "Requirement already satisfied: tensorboard in /home/ubuntu/anaconda3/lib/python3.8/site-packages (from simpletransformers) (2.6.0)\n",
      "Requirement already satisfied: scipy in /home/ubuntu/anaconda3/lib/python3.8/site-packages (from simpletransformers) (1.6.2)\n",
      "Requirement already satisfied: regex in /home/ubuntu/anaconda3/lib/python3.8/site-packages (from simpletransformers) (2021.4.4)\n",
      "Requirement already satisfied: sentencepiece in /home/ubuntu/anaconda3/lib/python3.8/site-packages (from simpletransformers) (0.1.96)\n",
      "Requirement already satisfied: tqdm>=4.47.0 in /home/ubuntu/anaconda3/lib/python3.8/site-packages (from simpletransformers) (4.62.3)\n",
      "Requirement already satisfied: scikit-learn in /home/ubuntu/anaconda3/lib/python3.8/site-packages (from simpletransformers) (0.24.1)\n",
      "Requirement already satisfied: streamlit in /home/ubuntu/anaconda3/lib/python3.8/site-packages (from simpletransformers) (1.5.1)\n",
      "Requirement already satisfied: tokenizers in /home/ubuntu/anaconda3/lib/python3.8/site-packages (from simpletransformers) (0.11.4)\n",
      "Requirement already satisfied: requests in /home/ubuntu/anaconda3/lib/python3.8/site-packages (from simpletransformers) (2.25.1)\n",
      "Requirement already satisfied: transformers>=4.6.0 in /home/ubuntu/anaconda3/lib/python3.8/site-packages (from simpletransformers) (4.18.0.dev0)\n",
      "Requirement already satisfied: datasets in /home/ubuntu/anaconda3/lib/python3.8/site-packages (from simpletransformers) (1.18.3)\n",
      "Requirement already satisfied: huggingface-hub<1.0,>=0.1.0 in /home/ubuntu/anaconda3/lib/python3.8/site-packages (from transformers>=4.6.0->simpletransformers) (0.4.0)\n",
      "Requirement already satisfied: sacremoses in /home/ubuntu/anaconda3/lib/python3.8/site-packages (from transformers>=4.6.0->simpletransformers) (0.0.47)\n",
      "Requirement already satisfied: filelock in /home/ubuntu/anaconda3/lib/python3.8/site-packages (from transformers>=4.6.0->simpletransformers) (3.0.12)\n",
      "Requirement already satisfied: pyyaml>=5.1 in /home/ubuntu/anaconda3/lib/python3.8/site-packages (from transformers>=4.6.0->simpletransformers) (5.4.1)\n",
      "Requirement already satisfied: packaging>=20.0 in /home/ubuntu/anaconda3/lib/python3.8/site-packages (from transformers>=4.6.0->simpletransformers) (20.9)\n",
      "Requirement already satisfied: promise<3,>=2.0 in /home/ubuntu/anaconda3/lib/python3.8/site-packages (from wandb>=0.10.32->simpletransformers) (2.3)\n",
      "Requirement already satisfied: shortuuid>=0.5.0 in /home/ubuntu/anaconda3/lib/python3.8/site-packages (from wandb>=0.10.32->simpletransformers) (1.0.8)\n",
      "Requirement already satisfied: python-dateutil>=2.6.1 in /home/ubuntu/anaconda3/lib/python3.8/site-packages (from wandb>=0.10.32->simpletransformers) (2.8.1)\n",
      "Requirement already satisfied: sentry-sdk>=1.0.0 in /home/ubuntu/anaconda3/lib/python3.8/site-packages (from wandb>=0.10.32->simpletransformers) (1.5.5)\n",
      "Requirement already satisfied: psutil>=5.0.0 in /home/ubuntu/anaconda3/lib/python3.8/site-packages (from wandb>=0.10.32->simpletransformers) (5.8.0)\n",
      "Requirement already satisfied: GitPython>=1.0.0 in /home/ubuntu/anaconda3/lib/python3.8/site-packages (from wandb>=0.10.32->simpletransformers) (3.1.26)\n",
      "Requirement already satisfied: docker-pycreds>=0.4.0 in /home/ubuntu/anaconda3/lib/python3.8/site-packages (from wandb>=0.10.32->simpletransformers) (0.4.0)\n",
      "Requirement already satisfied: Click!=8.0.0,>=7.0 in /home/ubuntu/anaconda3/lib/python3.8/site-packages (from wandb>=0.10.32->simpletransformers) (7.1.2)\n",
      "Requirement already satisfied: pathtools in /home/ubuntu/anaconda3/lib/python3.8/site-packages (from wandb>=0.10.32->simpletransformers) (0.1.2)\n",
      "Requirement already satisfied: yaspin>=1.0.0 in /home/ubuntu/anaconda3/lib/python3.8/site-packages (from wandb>=0.10.32->simpletransformers) (2.1.0)\n",
      "Requirement already satisfied: protobuf>=3.12.0 in /home/ubuntu/anaconda3/lib/python3.8/site-packages (from wandb>=0.10.32->simpletransformers) (3.19.4)\n",
      "Requirement already satisfied: six>=1.13.0 in /home/ubuntu/anaconda3/lib/python3.8/site-packages (from wandb>=0.10.32->simpletransformers) (1.15.0)\n",
      "Requirement already satisfied: urllib3<1.27,>=1.21.1 in /home/ubuntu/anaconda3/lib/python3.8/site-packages (from requests->simpletransformers) (1.26.4)\n",
      "Requirement already satisfied: idna<3,>=2.5 in /home/ubuntu/anaconda3/lib/python3.8/site-packages (from requests->simpletransformers) (2.10)\n",
      "Requirement already satisfied: certifi>=2017.4.17 in /home/ubuntu/anaconda3/lib/python3.8/site-packages (from requests->simpletransformers) (2020.12.5)\n",
      "Requirement already satisfied: chardet<5,>=3.0.2 in /home/ubuntu/anaconda3/lib/python3.8/site-packages (from requests->simpletransformers) (4.0.0)\n",
      "Requirement already satisfied: fsspec[http]>=2021.05.0 in /home/ubuntu/anaconda3/lib/python3.8/site-packages (from datasets->simpletransformers) (2022.1.0)\n",
      "Requirement already satisfied: multiprocess in /home/ubuntu/anaconda3/lib/python3.8/site-packages (from datasets->simpletransformers) (0.70.12.2)\n",
      "Requirement already satisfied: pyarrow!=4.0.0,>=3.0.0 in /home/ubuntu/anaconda3/lib/python3.8/site-packages (from datasets->simpletransformers) (7.0.0)\n",
      "Requirement already satisfied: xxhash in /home/ubuntu/anaconda3/lib/python3.8/site-packages (from datasets->simpletransformers) (2.0.2)\n",
      "Requirement already satisfied: aiohttp in /home/ubuntu/anaconda3/lib/python3.8/site-packages (from datasets->simpletransformers) (3.8.1)\n",
      "Requirement already satisfied: dill in /home/ubuntu/anaconda3/lib/python3.8/site-packages (from datasets->simpletransformers) (0.3.4)\n",
      "Requirement already satisfied: pytz>=2017.3 in /home/ubuntu/anaconda3/lib/python3.8/site-packages (from pandas->simpletransformers) (2021.1)\n",
      "Requirement already satisfied: threadpoolctl>=2.0.0 in /home/ubuntu/anaconda3/lib/python3.8/site-packages (from scikit-learn->simpletransformers) (2.1.0)\n",
      "Requirement already satisfied: joblib>=0.11 in /home/ubuntu/anaconda3/lib/python3.8/site-packages (from scikit-learn->simpletransformers) (1.0.1)\n",
      "Requirement already satisfied: base58 in /home/ubuntu/anaconda3/lib/python3.8/site-packages (from streamlit->simpletransformers) (2.1.1)\n",
      "Requirement already satisfied: attrs in /home/ubuntu/anaconda3/lib/python3.8/site-packages (from streamlit->simpletransformers) (20.3.0)\n",
      "Requirement already satisfied: cachetools>=4.0 in /home/ubuntu/anaconda3/lib/python3.8/site-packages (from streamlit->simpletransformers) (4.2.4)\n",
      "Requirement already satisfied: blinker in /home/ubuntu/anaconda3/lib/python3.8/site-packages (from streamlit->simpletransformers) (1.4)\n",
      "Requirement already satisfied: tzlocal in /home/ubuntu/anaconda3/lib/python3.8/site-packages (from streamlit->simpletransformers) (4.1)\n",
      "Requirement already satisfied: validators in /home/ubuntu/anaconda3/lib/python3.8/site-packages (from streamlit->simpletransformers) (0.18.2)\n",
      "Requirement already satisfied: tornado>=5.0 in /home/ubuntu/anaconda3/lib/python3.8/site-packages (from streamlit->simpletransformers) (6.1)\n",
      "Requirement already satisfied: pympler>=0.9 in /home/ubuntu/anaconda3/lib/python3.8/site-packages (from streamlit->simpletransformers) (1.0.1)\n",
      "Requirement already satisfied: toml in /home/ubuntu/anaconda3/lib/python3.8/site-packages (from streamlit->simpletransformers) (0.10.2)\n",
      "Requirement already satisfied: pydeck>=0.1.dev5 in /home/ubuntu/anaconda3/lib/python3.8/site-packages (from streamlit->simpletransformers) (0.7.1)\n",
      "Requirement already satisfied: altair>=3.2.0 in /home/ubuntu/anaconda3/lib/python3.8/site-packages (from streamlit->simpletransformers) (4.2.0)\n",
      "Requirement already satisfied: astor in /home/ubuntu/anaconda3/lib/python3.8/site-packages (from streamlit->simpletransformers) (0.8.1)\n",
      "Requirement already satisfied: pillow>=6.2.0 in /home/ubuntu/anaconda3/lib/python3.8/site-packages (from streamlit->simpletransformers) (8.2.0)\n",
      "Requirement already satisfied: watchdog in /home/ubuntu/anaconda3/lib/python3.8/site-packages (from streamlit->simpletransformers) (1.0.2)\n",
      "Requirement already satisfied: grpcio>=1.24.3 in /home/ubuntu/anaconda3/lib/python3.8/site-packages (from tensorboard->simpletransformers) (1.43.0)\n",
      "Requirement already satisfied: absl-py>=0.4 in /home/ubuntu/anaconda3/lib/python3.8/site-packages (from tensorboard->simpletransformers) (0.15.0)\n",
      "Requirement already satisfied: wheel>=0.26 in /home/ubuntu/anaconda3/lib/python3.8/site-packages (from tensorboard->simpletransformers) (0.36.2)\n",
      "Requirement already satisfied: setuptools>=41.0.0 in /home/ubuntu/anaconda3/lib/python3.8/site-packages (from tensorboard->simpletransformers) (59.5.0)\n",
      "Requirement already satisfied: markdown>=2.6.8 in /home/ubuntu/anaconda3/lib/python3.8/site-packages (from tensorboard->simpletransformers) (3.3.6)\n",
      "Requirement already satisfied: werkzeug>=0.11.15 in /home/ubuntu/anaconda3/lib/python3.8/site-packages (from tensorboard->simpletransformers) (1.0.1)\n",
      "Requirement already satisfied: tensorboard-plugin-wit>=1.6.0 in /home/ubuntu/anaconda3/lib/python3.8/site-packages (from tensorboard->simpletransformers) (1.8.1)\n",
      "Requirement already satisfied: google-auth-oauthlib<0.5,>=0.4.1 in /home/ubuntu/anaconda3/lib/python3.8/site-packages (from tensorboard->simpletransformers) (0.4.6)\n",
      "Requirement already satisfied: google-auth<2,>=1.6.3 in /home/ubuntu/anaconda3/lib/python3.8/site-packages (from tensorboard->simpletransformers) (1.35.0)\n",
      "Requirement already satisfied: tensorboard-data-server<0.7.0,>=0.6.0 in /home/ubuntu/anaconda3/lib/python3.8/site-packages (from tensorboard->simpletransformers) (0.6.1)\n",
      "Requirement already satisfied: jsonschema>=3.0 in /home/ubuntu/anaconda3/lib/python3.8/site-packages (from altair>=3.2.0->streamlit->simpletransformers) (3.2.0)\n",
      "Requirement already satisfied: entrypoints in /home/ubuntu/anaconda3/lib/python3.8/site-packages (from altair>=3.2.0->streamlit->simpletransformers) (0.3)\n",
      "Requirement already satisfied: toolz in /home/ubuntu/anaconda3/lib/python3.8/site-packages (from altair>=3.2.0->streamlit->simpletransformers) (0.11.1)\n",
      "Requirement already satisfied: jinja2 in /home/ubuntu/anaconda3/lib/python3.8/site-packages (from altair>=3.2.0->streamlit->simpletransformers) (2.11.3)\n"
     ]
    },
    {
     "name": "stdout",
     "output_type": "stream",
     "text": [
      "Requirement already satisfied: gitdb<5,>=4.0.1 in /home/ubuntu/anaconda3/lib/python3.8/site-packages (from GitPython>=1.0.0->wandb>=0.10.32->simpletransformers) (4.0.9)\n",
      "Requirement already satisfied: pyasn1-modules>=0.2.1 in /home/ubuntu/anaconda3/lib/python3.8/site-packages (from google-auth<2,>=1.6.3->tensorboard->simpletransformers) (0.2.8)\n",
      "Requirement already satisfied: rsa<5,>=3.1.4 in /home/ubuntu/anaconda3/lib/python3.8/site-packages (from google-auth<2,>=1.6.3->tensorboard->simpletransformers) (4.8)\n",
      "Requirement already satisfied: requests-oauthlib>=0.7.0 in /home/ubuntu/anaconda3/lib/python3.8/site-packages (from google-auth-oauthlib<0.5,>=0.4.1->tensorboard->simpletransformers) (1.3.1)\n",
      "Requirement already satisfied: typing-extensions>=3.7.4.3 in /home/ubuntu/anaconda3/lib/python3.8/site-packages (from huggingface-hub<1.0,>=0.1.0->transformers>=4.6.0->simpletransformers) (3.7.4.3)\n",
      "Requirement already satisfied: importlib-metadata>=4.4 in /home/ubuntu/anaconda3/lib/python3.8/site-packages (from markdown>=2.6.8->tensorboard->simpletransformers) (4.11.0)\n",
      "Requirement already satisfied: pyparsing>=2.0.2 in /home/ubuntu/anaconda3/lib/python3.8/site-packages (from packaging>=20.0->transformers>=4.6.0->simpletransformers) (2.4.7)\n",
      "Requirement already satisfied: ipykernel>=5.1.2 in /home/ubuntu/anaconda3/lib/python3.8/site-packages (from pydeck>=0.1.dev5->streamlit->simpletransformers) (5.3.4)\n",
      "Requirement already satisfied: traitlets>=4.3.2 in /home/ubuntu/anaconda3/lib/python3.8/site-packages (from pydeck>=0.1.dev5->streamlit->simpletransformers) (5.0.5)\n",
      "Requirement already satisfied: ipywidgets>=7.0.0 in /home/ubuntu/anaconda3/lib/python3.8/site-packages (from pydeck>=0.1.dev5->streamlit->simpletransformers) (7.6.3)\n",
      "Requirement already satisfied: termcolor<2.0.0,>=1.1.0 in /home/ubuntu/anaconda3/lib/python3.8/site-packages (from yaspin>=1.0.0->wandb>=0.10.32->simpletransformers) (1.1.0)\n",
      "Requirement already satisfied: multidict<7.0,>=4.5 in /home/ubuntu/anaconda3/lib/python3.8/site-packages (from aiohttp->datasets->simpletransformers) (6.0.2)\n",
      "Requirement already satisfied: yarl<2.0,>=1.0 in /home/ubuntu/anaconda3/lib/python3.8/site-packages (from aiohttp->datasets->simpletransformers) (1.7.2)\n",
      "Requirement already satisfied: charset-normalizer<3.0,>=2.0 in /home/ubuntu/anaconda3/lib/python3.8/site-packages (from aiohttp->datasets->simpletransformers) (2.0.12)\n",
      "Requirement already satisfied: async-timeout<5.0,>=4.0.0a3 in /home/ubuntu/anaconda3/lib/python3.8/site-packages (from aiohttp->datasets->simpletransformers) (4.0.2)\n",
      "Requirement already satisfied: frozenlist>=1.1.1 in /home/ubuntu/anaconda3/lib/python3.8/site-packages (from aiohttp->datasets->simpletransformers) (1.3.0)\n",
      "Requirement already satisfied: aiosignal>=1.1.2 in /home/ubuntu/anaconda3/lib/python3.8/site-packages (from aiohttp->datasets->simpletransformers) (1.2.0)\n",
      "Requirement already satisfied: backports.zoneinfo in /home/ubuntu/anaconda3/lib/python3.8/site-packages (from tzlocal->streamlit->simpletransformers) (0.2.1)\n",
      "Requirement already satisfied: pytz-deprecation-shim in /home/ubuntu/anaconda3/lib/python3.8/site-packages (from tzlocal->streamlit->simpletransformers) (0.1.0.post0)\n",
      "Requirement already satisfied: decorator>=3.4.0 in /home/ubuntu/anaconda3/lib/python3.8/site-packages (from validators->streamlit->simpletransformers) (5.0.6)\n",
      "Requirement already satisfied: smmap<6,>=3.0.1 in /home/ubuntu/anaconda3/lib/python3.8/site-packages (from gitdb<5,>=4.0.1->GitPython>=1.0.0->wandb>=0.10.32->simpletransformers) (5.0.0)\n",
      "Requirement already satisfied: zipp>=0.5 in /home/ubuntu/anaconda3/lib/python3.8/site-packages (from importlib-metadata>=4.4->markdown>=2.6.8->tensorboard->simpletransformers) (3.4.1)\n",
      "Requirement already satisfied: ipython>=5.0.0 in /home/ubuntu/anaconda3/lib/python3.8/site-packages (from ipykernel>=5.1.2->pydeck>=0.1.dev5->streamlit->simpletransformers) (7.22.0)\n",
      "Requirement already satisfied: jupyter-client in /home/ubuntu/anaconda3/lib/python3.8/site-packages (from ipykernel>=5.1.2->pydeck>=0.1.dev5->streamlit->simpletransformers) (6.1.12)\n",
      "Requirement already satisfied: jupyterlab-widgets>=1.0.0 in /home/ubuntu/anaconda3/lib/python3.8/site-packages (from ipywidgets>=7.0.0->pydeck>=0.1.dev5->streamlit->simpletransformers) (1.0.0)\n",
      "Requirement already satisfied: nbformat>=4.2.0 in /home/ubuntu/anaconda3/lib/python3.8/site-packages (from ipywidgets>=7.0.0->pydeck>=0.1.dev5->streamlit->simpletransformers) (5.1.3)\n",
      "Requirement already satisfied: widgetsnbextension~=3.5.0 in /home/ubuntu/anaconda3/lib/python3.8/site-packages (from ipywidgets>=7.0.0->pydeck>=0.1.dev5->streamlit->simpletransformers) (3.5.1)\n",
      "Requirement already satisfied: MarkupSafe>=0.23 in /home/ubuntu/anaconda3/lib/python3.8/site-packages (from jinja2->altair>=3.2.0->streamlit->simpletransformers) (1.1.1)\n",
      "Requirement already satisfied: pyrsistent>=0.14.0 in /home/ubuntu/anaconda3/lib/python3.8/site-packages (from jsonschema>=3.0->altair>=3.2.0->streamlit->simpletransformers) (0.17.3)\n",
      "Requirement already satisfied: pyasn1<0.5.0,>=0.4.6 in /home/ubuntu/anaconda3/lib/python3.8/site-packages (from pyasn1-modules>=0.2.1->google-auth<2,>=1.6.3->tensorboard->simpletransformers) (0.4.8)\n",
      "Requirement already satisfied: oauthlib>=3.0.0 in /home/ubuntu/anaconda3/lib/python3.8/site-packages (from requests-oauthlib>=0.7.0->google-auth-oauthlib<0.5,>=0.4.1->tensorboard->simpletransformers) (3.2.0)\n",
      "Requirement already satisfied: ipython-genutils in /home/ubuntu/anaconda3/lib/python3.8/site-packages (from traitlets>=4.3.2->pydeck>=0.1.dev5->streamlit->simpletransformers) (0.2.0)\n",
      "Requirement already satisfied: tzdata in /home/ubuntu/anaconda3/lib/python3.8/site-packages (from pytz-deprecation-shim->tzlocal->streamlit->simpletransformers) (2021.5)\n",
      "Requirement already satisfied: prompt-toolkit!=3.0.0,!=3.0.1,<3.1.0,>=2.0.0 in /home/ubuntu/anaconda3/lib/python3.8/site-packages (from ipython>=5.0.0->ipykernel>=5.1.2->pydeck>=0.1.dev5->streamlit->simpletransformers) (3.0.17)\n",
      "Requirement already satisfied: pygments in /home/ubuntu/anaconda3/lib/python3.8/site-packages (from ipython>=5.0.0->ipykernel>=5.1.2->pydeck>=0.1.dev5->streamlit->simpletransformers) (2.8.1)\n",
      "Requirement already satisfied: pickleshare in /home/ubuntu/anaconda3/lib/python3.8/site-packages (from ipython>=5.0.0->ipykernel>=5.1.2->pydeck>=0.1.dev5->streamlit->simpletransformers) (0.7.5)\n",
      "Requirement already satisfied: backcall in /home/ubuntu/anaconda3/lib/python3.8/site-packages (from ipython>=5.0.0->ipykernel>=5.1.2->pydeck>=0.1.dev5->streamlit->simpletransformers) (0.2.0)\n",
      "Requirement already satisfied: jedi>=0.16 in /home/ubuntu/anaconda3/lib/python3.8/site-packages (from ipython>=5.0.0->ipykernel>=5.1.2->pydeck>=0.1.dev5->streamlit->simpletransformers) (0.17.2)\n",
      "Requirement already satisfied: pexpect>4.3 in /home/ubuntu/anaconda3/lib/python3.8/site-packages (from ipython>=5.0.0->ipykernel>=5.1.2->pydeck>=0.1.dev5->streamlit->simpletransformers) (4.8.0)\n",
      "Requirement already satisfied: jupyter-core in /home/ubuntu/anaconda3/lib/python3.8/site-packages (from nbformat>=4.2.0->ipywidgets>=7.0.0->pydeck>=0.1.dev5->streamlit->simpletransformers) (4.7.1)\n",
      "Requirement already satisfied: notebook>=4.4.1 in /home/ubuntu/anaconda3/lib/python3.8/site-packages (from widgetsnbextension~=3.5.0->ipywidgets>=7.0.0->pydeck>=0.1.dev5->streamlit->simpletransformers) (6.3.0)\n",
      "Requirement already satisfied: pyzmq>=13 in /home/ubuntu/anaconda3/lib/python3.8/site-packages (from jupyter-client->ipykernel>=5.1.2->pydeck>=0.1.dev5->streamlit->simpletransformers) (20.0.0)\n",
      "Requirement already satisfied: parso<0.8.0,>=0.7.0 in /home/ubuntu/anaconda3/lib/python3.8/site-packages (from jedi>=0.16->ipython>=5.0.0->ipykernel>=5.1.2->pydeck>=0.1.dev5->streamlit->simpletransformers) (0.7.0)\n",
      "Requirement already satisfied: terminado>=0.8.3 in /home/ubuntu/anaconda3/lib/python3.8/site-packages (from notebook>=4.4.1->widgetsnbextension~=3.5.0->ipywidgets>=7.0.0->pydeck>=0.1.dev5->streamlit->simpletransformers) (0.9.4)\n",
      "Requirement already satisfied: prometheus-client in /home/ubuntu/anaconda3/lib/python3.8/site-packages (from notebook>=4.4.1->widgetsnbextension~=3.5.0->ipywidgets>=7.0.0->pydeck>=0.1.dev5->streamlit->simpletransformers) (0.10.1)\n",
      "Requirement already satisfied: Send2Trash>=1.5.0 in /home/ubuntu/anaconda3/lib/python3.8/site-packages (from notebook>=4.4.1->widgetsnbextension~=3.5.0->ipywidgets>=7.0.0->pydeck>=0.1.dev5->streamlit->simpletransformers) (1.5.0)\n",
      "Requirement already satisfied: argon2-cffi in /home/ubuntu/anaconda3/lib/python3.8/site-packages (from notebook>=4.4.1->widgetsnbextension~=3.5.0->ipywidgets>=7.0.0->pydeck>=0.1.dev5->streamlit->simpletransformers) (20.1.0)\n",
      "Requirement already satisfied: nbconvert in /home/ubuntu/anaconda3/lib/python3.8/site-packages (from notebook>=4.4.1->widgetsnbextension~=3.5.0->ipywidgets>=7.0.0->pydeck>=0.1.dev5->streamlit->simpletransformers) (6.0.7)\n",
      "Requirement already satisfied: ptyprocess>=0.5 in /home/ubuntu/anaconda3/lib/python3.8/site-packages (from pexpect>4.3->ipython>=5.0.0->ipykernel>=5.1.2->pydeck>=0.1.dev5->streamlit->simpletransformers) (0.7.0)\n",
      "Requirement already satisfied: wcwidth in /home/ubuntu/anaconda3/lib/python3.8/site-packages (from prompt-toolkit!=3.0.0,!=3.0.1,<3.1.0,>=2.0.0->ipython>=5.0.0->ipykernel>=5.1.2->pydeck>=0.1.dev5->streamlit->simpletransformers) (0.2.5)\n"
     ]
    },
    {
     "name": "stdout",
     "output_type": "stream",
     "text": [
      "Requirement already satisfied: cffi>=1.0.0 in /home/ubuntu/anaconda3/lib/python3.8/site-packages (from argon2-cffi->notebook>=4.4.1->widgetsnbextension~=3.5.0->ipywidgets>=7.0.0->pydeck>=0.1.dev5->streamlit->simpletransformers) (1.14.5)\n",
      "Requirement already satisfied: testpath in /home/ubuntu/anaconda3/lib/python3.8/site-packages (from nbconvert->notebook>=4.4.1->widgetsnbextension~=3.5.0->ipywidgets>=7.0.0->pydeck>=0.1.dev5->streamlit->simpletransformers) (0.4.4)\n",
      "Requirement already satisfied: pandocfilters>=1.4.1 in /home/ubuntu/anaconda3/lib/python3.8/site-packages (from nbconvert->notebook>=4.4.1->widgetsnbextension~=3.5.0->ipywidgets>=7.0.0->pydeck>=0.1.dev5->streamlit->simpletransformers) (1.4.3)\n",
      "Requirement already satisfied: nbclient<0.6.0,>=0.5.0 in /home/ubuntu/anaconda3/lib/python3.8/site-packages (from nbconvert->notebook>=4.4.1->widgetsnbextension~=3.5.0->ipywidgets>=7.0.0->pydeck>=0.1.dev5->streamlit->simpletransformers) (0.5.3)\n",
      "Requirement already satisfied: mistune<2,>=0.8.1 in /home/ubuntu/anaconda3/lib/python3.8/site-packages (from nbconvert->notebook>=4.4.1->widgetsnbextension~=3.5.0->ipywidgets>=7.0.0->pydeck>=0.1.dev5->streamlit->simpletransformers) (0.8.4)\n",
      "Requirement already satisfied: bleach in /home/ubuntu/anaconda3/lib/python3.8/site-packages (from nbconvert->notebook>=4.4.1->widgetsnbextension~=3.5.0->ipywidgets>=7.0.0->pydeck>=0.1.dev5->streamlit->simpletransformers) (3.3.0)\n",
      "Requirement already satisfied: defusedxml in /home/ubuntu/anaconda3/lib/python3.8/site-packages (from nbconvert->notebook>=4.4.1->widgetsnbextension~=3.5.0->ipywidgets>=7.0.0->pydeck>=0.1.dev5->streamlit->simpletransformers) (0.7.1)\n",
      "Requirement already satisfied: jupyterlab-pygments in /home/ubuntu/anaconda3/lib/python3.8/site-packages (from nbconvert->notebook>=4.4.1->widgetsnbextension~=3.5.0->ipywidgets>=7.0.0->pydeck>=0.1.dev5->streamlit->simpletransformers) (0.1.2)\n",
      "Requirement already satisfied: pycparser in /home/ubuntu/anaconda3/lib/python3.8/site-packages (from cffi>=1.0.0->argon2-cffi->notebook>=4.4.1->widgetsnbextension~=3.5.0->ipywidgets>=7.0.0->pydeck>=0.1.dev5->streamlit->simpletransformers) (2.20)\n",
      "Requirement already satisfied: nest-asyncio in /home/ubuntu/anaconda3/lib/python3.8/site-packages (from nbclient<0.6.0,>=0.5.0->nbconvert->notebook>=4.4.1->widgetsnbextension~=3.5.0->ipywidgets>=7.0.0->pydeck>=0.1.dev5->streamlit->simpletransformers) (1.5.1)\n",
      "Requirement already satisfied: async-generator in /home/ubuntu/anaconda3/lib/python3.8/site-packages (from nbclient<0.6.0,>=0.5.0->nbconvert->notebook>=4.4.1->widgetsnbextension~=3.5.0->ipywidgets>=7.0.0->pydeck>=0.1.dev5->streamlit->simpletransformers) (1.10)\n",
      "Requirement already satisfied: webencodings in /home/ubuntu/anaconda3/lib/python3.8/site-packages (from bleach->nbconvert->notebook>=4.4.1->widgetsnbextension~=3.5.0->ipywidgets>=7.0.0->pydeck>=0.1.dev5->streamlit->simpletransformers) (0.5.1)\n",
      "Requirement already satisfied: transformers in /home/ubuntu/anaconda3/lib/python3.8/site-packages (4.18.0.dev0)\n",
      "Requirement already satisfied: tokenizers!=0.11.3,<0.13,>=0.11.1 in /home/ubuntu/anaconda3/lib/python3.8/site-packages (from transformers) (0.11.4)\n",
      "Requirement already satisfied: packaging>=20.0 in /home/ubuntu/anaconda3/lib/python3.8/site-packages (from transformers) (20.9)\n",
      "Requirement already satisfied: tqdm>=4.27 in /home/ubuntu/anaconda3/lib/python3.8/site-packages (from transformers) (4.62.3)\n",
      "Requirement already satisfied: filelock in /home/ubuntu/anaconda3/lib/python3.8/site-packages (from transformers) (3.0.12)\n",
      "Requirement already satisfied: numpy>=1.17 in /home/ubuntu/anaconda3/lib/python3.8/site-packages (from transformers) (1.19.5)\n",
      "Requirement already satisfied: requests in /home/ubuntu/anaconda3/lib/python3.8/site-packages (from transformers) (2.25.1)\n",
      "Requirement already satisfied: huggingface-hub<1.0,>=0.1.0 in /home/ubuntu/anaconda3/lib/python3.8/site-packages (from transformers) (0.4.0)\n",
      "Requirement already satisfied: pyyaml>=5.1 in /home/ubuntu/anaconda3/lib/python3.8/site-packages (from transformers) (5.4.1)\n",
      "Requirement already satisfied: sacremoses in /home/ubuntu/anaconda3/lib/python3.8/site-packages (from transformers) (0.0.47)\n",
      "Requirement already satisfied: regex!=2019.12.17 in /home/ubuntu/anaconda3/lib/python3.8/site-packages (from transformers) (2021.4.4)\n",
      "Requirement already satisfied: typing-extensions>=3.7.4.3 in /home/ubuntu/anaconda3/lib/python3.8/site-packages (from huggingface-hub<1.0,>=0.1.0->transformers) (3.7.4.3)\n",
      "Requirement already satisfied: pyparsing>=2.0.2 in /home/ubuntu/anaconda3/lib/python3.8/site-packages (from packaging>=20.0->transformers) (2.4.7)\n",
      "Requirement already satisfied: certifi>=2017.4.17 in /home/ubuntu/anaconda3/lib/python3.8/site-packages (from requests->transformers) (2020.12.5)\n",
      "Requirement already satisfied: idna<3,>=2.5 in /home/ubuntu/anaconda3/lib/python3.8/site-packages (from requests->transformers) (2.10)\n",
      "Requirement already satisfied: chardet<5,>=3.0.2 in /home/ubuntu/anaconda3/lib/python3.8/site-packages (from requests->transformers) (4.0.0)\n",
      "Requirement already satisfied: urllib3<1.27,>=1.21.1 in /home/ubuntu/anaconda3/lib/python3.8/site-packages (from requests->transformers) (1.26.4)\n",
      "Requirement already satisfied: click in /home/ubuntu/anaconda3/lib/python3.8/site-packages (from sacremoses->transformers) (7.1.2)\n",
      "Requirement already satisfied: joblib in /home/ubuntu/anaconda3/lib/python3.8/site-packages (from sacremoses->transformers) (1.0.1)\n",
      "Requirement already satisfied: six in /home/ubuntu/anaconda3/lib/python3.8/site-packages (from sacremoses->transformers) (1.15.0)\n"
     ]
    }
   ],
   "source": [
    "# Installing transformers\n",
    "!pip install simpletransformers\n",
    "!pip install transformers\n",
    "# Importing necessary libraries from simple transformers\n",
    "import pandas as pd\n",
    "from simpletransformers.seq2seq import Seq2SeqModel,Seq2SeqArgs"
   ]
  },
  {
   "cell_type": "code",
   "execution_count": 5,
   "metadata": {},
   "outputs": [
    {
     "name": "stdout",
     "output_type": "stream",
     "text": [
      "Requirement already satisfied: ipywidgets in /home/ubuntu/anaconda3/lib/python3.8/site-packages (7.6.3)\n",
      "Requirement already satisfied: traitlets>=4.3.1 in /home/ubuntu/anaconda3/lib/python3.8/site-packages (from ipywidgets) (5.0.5)\n",
      "Requirement already satisfied: widgetsnbextension~=3.5.0 in /home/ubuntu/anaconda3/lib/python3.8/site-packages (from ipywidgets) (3.5.1)\n",
      "Requirement already satisfied: ipython>=4.0.0 in /home/ubuntu/anaconda3/lib/python3.8/site-packages (from ipywidgets) (7.22.0)\n",
      "Requirement already satisfied: jupyterlab-widgets>=1.0.0 in /home/ubuntu/anaconda3/lib/python3.8/site-packages (from ipywidgets) (1.0.0)\n",
      "Requirement already satisfied: ipykernel>=4.5.1 in /home/ubuntu/anaconda3/lib/python3.8/site-packages (from ipywidgets) (5.3.4)\n",
      "Requirement already satisfied: nbformat>=4.2.0 in /home/ubuntu/anaconda3/lib/python3.8/site-packages (from ipywidgets) (5.1.3)\n",
      "Requirement already satisfied: tornado>=4.2 in /home/ubuntu/anaconda3/lib/python3.8/site-packages (from ipykernel>=4.5.1->ipywidgets) (6.1)\n",
      "Requirement already satisfied: jupyter-client in /home/ubuntu/anaconda3/lib/python3.8/site-packages (from ipykernel>=4.5.1->ipywidgets) (6.1.12)\n",
      "Requirement already satisfied: pickleshare in /home/ubuntu/anaconda3/lib/python3.8/site-packages (from ipython>=4.0.0->ipywidgets) (0.7.5)\n",
      "Requirement already satisfied: jedi>=0.16 in /home/ubuntu/anaconda3/lib/python3.8/site-packages (from ipython>=4.0.0->ipywidgets) (0.17.2)\n",
      "Requirement already satisfied: prompt-toolkit!=3.0.0,!=3.0.1,<3.1.0,>=2.0.0 in /home/ubuntu/anaconda3/lib/python3.8/site-packages (from ipython>=4.0.0->ipywidgets) (3.0.17)\n",
      "Requirement already satisfied: pygments in /home/ubuntu/anaconda3/lib/python3.8/site-packages (from ipython>=4.0.0->ipywidgets) (2.8.1)\n",
      "Requirement already satisfied: setuptools>=18.5 in /home/ubuntu/anaconda3/lib/python3.8/site-packages (from ipython>=4.0.0->ipywidgets) (59.5.0)\n",
      "Requirement already satisfied: backcall in /home/ubuntu/anaconda3/lib/python3.8/site-packages (from ipython>=4.0.0->ipywidgets) (0.2.0)\n",
      "Requirement already satisfied: pexpect>4.3 in /home/ubuntu/anaconda3/lib/python3.8/site-packages (from ipython>=4.0.0->ipywidgets) (4.8.0)\n",
      "Requirement already satisfied: decorator in /home/ubuntu/anaconda3/lib/python3.8/site-packages (from ipython>=4.0.0->ipywidgets) (5.0.6)\n",
      "Requirement already satisfied: ipython-genutils in /home/ubuntu/anaconda3/lib/python3.8/site-packages (from nbformat>=4.2.0->ipywidgets) (0.2.0)\n",
      "Requirement already satisfied: jsonschema!=2.5.0,>=2.4 in /home/ubuntu/anaconda3/lib/python3.8/site-packages (from nbformat>=4.2.0->ipywidgets) (3.2.0)\n",
      "Requirement already satisfied: jupyter-core in /home/ubuntu/anaconda3/lib/python3.8/site-packages (from nbformat>=4.2.0->ipywidgets) (4.7.1)\n",
      "Requirement already satisfied: notebook>=4.4.1 in /home/ubuntu/anaconda3/lib/python3.8/site-packages (from widgetsnbextension~=3.5.0->ipywidgets) (6.3.0)\n",
      "Requirement already satisfied: parso<0.8.0,>=0.7.0 in /home/ubuntu/anaconda3/lib/python3.8/site-packages (from jedi>=0.16->ipython>=4.0.0->ipywidgets) (0.7.0)\n",
      "Requirement already satisfied: attrs>=17.4.0 in /home/ubuntu/anaconda3/lib/python3.8/site-packages (from jsonschema!=2.5.0,>=2.4->nbformat>=4.2.0->ipywidgets) (20.3.0)\n",
      "Requirement already satisfied: six>=1.11.0 in /home/ubuntu/anaconda3/lib/python3.8/site-packages (from jsonschema!=2.5.0,>=2.4->nbformat>=4.2.0->ipywidgets) (1.15.0)\n",
      "Requirement already satisfied: pyrsistent>=0.14.0 in /home/ubuntu/anaconda3/lib/python3.8/site-packages (from jsonschema!=2.5.0,>=2.4->nbformat>=4.2.0->ipywidgets) (0.17.3)\n",
      "Requirement already satisfied: argon2-cffi in /home/ubuntu/anaconda3/lib/python3.8/site-packages (from notebook>=4.4.1->widgetsnbextension~=3.5.0->ipywidgets) (20.1.0)\n",
      "Requirement already satisfied: jinja2 in /home/ubuntu/anaconda3/lib/python3.8/site-packages (from notebook>=4.4.1->widgetsnbextension~=3.5.0->ipywidgets) (2.11.3)\n",
      "Requirement already satisfied: Send2Trash>=1.5.0 in /home/ubuntu/anaconda3/lib/python3.8/site-packages (from notebook>=4.4.1->widgetsnbextension~=3.5.0->ipywidgets) (1.5.0)\n",
      "Requirement already satisfied: terminado>=0.8.3 in /home/ubuntu/anaconda3/lib/python3.8/site-packages (from notebook>=4.4.1->widgetsnbextension~=3.5.0->ipywidgets) (0.9.4)\n",
      "Requirement already satisfied: pyzmq>=17 in /home/ubuntu/anaconda3/lib/python3.8/site-packages (from notebook>=4.4.1->widgetsnbextension~=3.5.0->ipywidgets) (20.0.0)\n",
      "Requirement already satisfied: nbconvert in /home/ubuntu/anaconda3/lib/python3.8/site-packages (from notebook>=4.4.1->widgetsnbextension~=3.5.0->ipywidgets) (6.0.7)\n",
      "Requirement already satisfied: prometheus-client in /home/ubuntu/anaconda3/lib/python3.8/site-packages (from notebook>=4.4.1->widgetsnbextension~=3.5.0->ipywidgets) (0.10.1)\n",
      "Requirement already satisfied: python-dateutil>=2.1 in /home/ubuntu/anaconda3/lib/python3.8/site-packages (from jupyter-client->ipykernel>=4.5.1->ipywidgets) (2.8.1)\n",
      "Requirement already satisfied: ptyprocess>=0.5 in /home/ubuntu/anaconda3/lib/python3.8/site-packages (from pexpect>4.3->ipython>=4.0.0->ipywidgets) (0.7.0)\n",
      "Requirement already satisfied: wcwidth in /home/ubuntu/anaconda3/lib/python3.8/site-packages (from prompt-toolkit!=3.0.0,!=3.0.1,<3.1.0,>=2.0.0->ipython>=4.0.0->ipywidgets) (0.2.5)\n",
      "Requirement already satisfied: cffi>=1.0.0 in /home/ubuntu/anaconda3/lib/python3.8/site-packages (from argon2-cffi->notebook>=4.4.1->widgetsnbextension~=3.5.0->ipywidgets) (1.14.5)\n",
      "Requirement already satisfied: MarkupSafe>=0.23 in /home/ubuntu/anaconda3/lib/python3.8/site-packages (from jinja2->notebook>=4.4.1->widgetsnbextension~=3.5.0->ipywidgets) (1.1.1)\n",
      "Requirement already satisfied: nbclient<0.6.0,>=0.5.0 in /home/ubuntu/anaconda3/lib/python3.8/site-packages (from nbconvert->notebook>=4.4.1->widgetsnbextension~=3.5.0->ipywidgets) (0.5.3)\n",
      "Requirement already satisfied: jupyterlab-pygments in /home/ubuntu/anaconda3/lib/python3.8/site-packages (from nbconvert->notebook>=4.4.1->widgetsnbextension~=3.5.0->ipywidgets) (0.1.2)\n",
      "Requirement already satisfied: entrypoints>=0.2.2 in /home/ubuntu/anaconda3/lib/python3.8/site-packages (from nbconvert->notebook>=4.4.1->widgetsnbextension~=3.5.0->ipywidgets) (0.3)\n",
      "Requirement already satisfied: bleach in /home/ubuntu/anaconda3/lib/python3.8/site-packages (from nbconvert->notebook>=4.4.1->widgetsnbextension~=3.5.0->ipywidgets) (3.3.0)\n",
      "Requirement already satisfied: defusedxml in /home/ubuntu/anaconda3/lib/python3.8/site-packages (from nbconvert->notebook>=4.4.1->widgetsnbextension~=3.5.0->ipywidgets) (0.7.1)\n",
      "Requirement already satisfied: mistune<2,>=0.8.1 in /home/ubuntu/anaconda3/lib/python3.8/site-packages (from nbconvert->notebook>=4.4.1->widgetsnbextension~=3.5.0->ipywidgets) (0.8.4)\n",
      "Requirement already satisfied: testpath in /home/ubuntu/anaconda3/lib/python3.8/site-packages (from nbconvert->notebook>=4.4.1->widgetsnbextension~=3.5.0->ipywidgets) (0.4.4)\n",
      "Requirement already satisfied: pandocfilters>=1.4.1 in /home/ubuntu/anaconda3/lib/python3.8/site-packages (from nbconvert->notebook>=4.4.1->widgetsnbextension~=3.5.0->ipywidgets) (1.4.3)\n",
      "Requirement already satisfied: pycparser in /home/ubuntu/anaconda3/lib/python3.8/site-packages (from cffi>=1.0.0->argon2-cffi->notebook>=4.4.1->widgetsnbextension~=3.5.0->ipywidgets) (2.20)\n",
      "Requirement already satisfied: nest-asyncio in /home/ubuntu/anaconda3/lib/python3.8/site-packages (from nbclient<0.6.0,>=0.5.0->nbconvert->notebook>=4.4.1->widgetsnbextension~=3.5.0->ipywidgets) (1.5.1)\n",
      "Requirement already satisfied: async-generator in /home/ubuntu/anaconda3/lib/python3.8/site-packages (from nbclient<0.6.0,>=0.5.0->nbconvert->notebook>=4.4.1->widgetsnbextension~=3.5.0->ipywidgets) (1.10)\n",
      "Requirement already satisfied: packaging in /home/ubuntu/anaconda3/lib/python3.8/site-packages (from bleach->nbconvert->notebook>=4.4.1->widgetsnbextension~=3.5.0->ipywidgets) (20.9)\n",
      "Requirement already satisfied: webencodings in /home/ubuntu/anaconda3/lib/python3.8/site-packages (from bleach->nbconvert->notebook>=4.4.1->widgetsnbextension~=3.5.0->ipywidgets) (0.5.1)\n",
      "Requirement already satisfied: pyparsing>=2.0.2 in /home/ubuntu/anaconda3/lib/python3.8/site-packages (from packaging->bleach->nbconvert->notebook>=4.4.1->widgetsnbextension~=3.5.0->ipywidgets) (2.4.7)\n"
     ]
    },
    {
     "name": "stdout",
     "output_type": "stream",
     "text": [
      "Note: you may need to restart the kernel to use updated packages.\n"
     ]
    }
   ],
   "source": [
    "pip install ipywidgets"
   ]
  },
  {
   "cell_type": "code",
   "execution_count": 6,
   "metadata": {},
   "outputs": [
    {
     "name": "stdout",
     "output_type": "stream",
     "text": [
      "Using:  cuda\n"
     ]
    }
   ],
   "source": [
    "device = torch.device(\"cuda\" if torch.cuda.is_available() else \"cpu\")\n",
    "print('Using: ', device)"
   ]
  },
  {
   "cell_type": "code",
   "execution_count": 7,
   "metadata": {
    "id": "2RLP9n430teL"
   },
   "outputs": [],
   "source": [
    "headlines_processed = []\n",
    "clean_news = []\n",
    "dataset = []\n",
    "target = []\n",
    "count = 0"
   ]
  },
  {
   "cell_type": "code",
   "execution_count": 8,
   "metadata": {
    "id": "qk6OnnphsEeZ"
   },
   "outputs": [],
   "source": [
    "path_models = './models/'\n",
    "path_outputs = './outputs/'\n",
    "path_processed_data= './processed_data/'"
   ]
  },
  {
   "cell_type": "code",
   "execution_count": 9,
   "metadata": {},
   "outputs": [],
   "source": [
    "jsonFile = open(os.path.join(path_processed_data, 'cnn_train_v3.json'), \"r\")\n",
    "jsonContent = jsonFile.read()\n",
    "details_dict = json.loads(jsonContent)\n",
    "jsonFile.close()\n",
    "\n",
    "X_train = details_dict['text']\n",
    "Y_train = details_dict['headlines']\n",
    "\n",
    "jsonFile = open(os.path.join(path_processed_data, 'cnn_valid_v3.json'), \"r\")\n",
    "jsonContent = jsonFile.read()\n",
    "details_dict = json.loads(jsonContent)\n",
    "jsonFile.close()\n",
    "\n",
    "X_valid = details_dict['text']\n",
    "Y_valid = details_dict['headlines']\n",
    "\n",
    "jsonFile = open(os.path.join(path_processed_data, 'cnn_test_v3.json'), \"r\")\n",
    "jsonContent = jsonFile.read()\n",
    "details_dict = json.loads(jsonContent)\n",
    "jsonFile.close()\n",
    "\n",
    "X_test = details_dict['text']\n",
    "Y_test = details_dict['headlines']\n"
   ]
  },
  {
   "cell_type": "code",
   "execution_count": 10,
   "metadata": {},
   "outputs": [
    {
     "name": "stdout",
     "output_type": "stream",
     "text": [
      "73280 73280 9160 9160 9160 9160\n"
     ]
    }
   ],
   "source": [
    "print(len(X_train), len(Y_train), len(X_valid), len(Y_valid), len(X_test), len(Y_test))"
   ]
  },
  {
   "cell_type": "code",
   "execution_count": 11,
   "metadata": {},
   "outputs": [
    {
     "data": {
      "text/plain": [
       "['Washington   Two Secret Service members resigned Colombia prostitution scandal agency said Tuesday another member forced two cleared serious misconduct .  The latest resignations brought nine total number members resigned forced controversy three others cleared serious allegations still facing possible administrative discipline .  A total 24 people  12 Secret Service members 12 U . S .  military members  investigation alleged prostitution scandal .  Military officials carrying separate investigation personnel .  Meanwhile top Republican Senate Judiciary Committee said Tuesday wants outside investigation determine whether White House staff members engaged inappropriate behavior Colombia .  Im going satisfied get independent look this Sen .  Chuck Grassley Iowa told CNN .  Grassley said wants inspector general Department Homeland Security investigate White House staff members possible involvement controversy embarrassed Secret Service raised questions possible security breach President Barack Obama trip Cartagena Colombia Summit Americans month .  Acknowledging inquiry would outside inspector general jurisdiction require Obama invitation Grassley said president keep promise maintain unprecedented openness transparency administration .  On Monday White House spokesman Jay Carney said White House Counsel Kathryn Ruemmler conducted internal review weekend found wrongdoing members Obama advance team Colombia ahead president trip .  Senate Judiciary Chairman Patrick Leahy DVermont scoffed idea outside inquiry Tuesday saying Grassley request political .  Im little frustrated anybody tries make politics this Leahy said repeating words politics political multiple times .  The fact matter is totally transparent this Leahy said White House .  Based told private briefings Leahy said saw evidence Obama staffers traveled Colombia ahead president arrival behaved inappropriately .  There probably disappointed White House involved investigations going find somebody involved nobody involved Leahy said .  Let get politics .  Were talking president United States .  It matter security play politics .  Homeland Security Secretary Janet Napolitano appear Senate Judiciary Committee Wednesday first congressional hearing since scandal erupted .  Obama commented scandal interview Tuesday broadcast NBC Late Night With Jimmy Fallon saying 99 . 9 Secret Service agents great work put lives line .  So couple knuckleheads detract do guys thinking I know Obama said .  That anymore .  Defense Secretary Leon Panetta said Tuesday no tolerance kind behavior alleged Cartagena noting Marines involved altercation prostitutes Brazil last year demoted punished .  Panetta asked December incident news conference Brazil according TV pool report .  Three Marines State Department employee involved altercation payment dancers prostitutes Brazilian club .  One woman allegedly started fight inside Marine vehicle injured kicked vehicle tried get back in .  A spokesman Joint Chiefs Staff said Tuesday officials including Vice Admiral William Gortney director Joint Staff brief senators Armed Services Committee Thursday military investigation scandal .  Grassley meanwhile demanding White House counsel make public details internal inquiry addition independent investigation White House staffers .  On Monday night Grassley sent letter Ruemmler asking inquiry conducted conclusion reached .  Asked Grassley letter Tuesday Carney said seen it .  In letter Grassley noted asked Secret Service Director Mark Sullivan whether White House advance staffers involved received answer Monday .  Grassley asked answers 14 questions including details White House review conducted whether White House staffers overnight guests whether additional room charges incurred .  Until now aftershocks outrage Secret Service scandal largely bipartisan .  Grassley demands Leahy reaction first major signs partyline division controversy .  Senate Homeland Security Chairman Joe Lieberman Connecticut independent caucuses Democrats often differs them said satisfied White House Counsel internal inquiry .  I think much line one cases where White House counsel says nobody White House staff involved behavior I prepared accept that Lieberman said .   And find true going find it going big mistake White House I reason doubt say .  Lieberman said intends hold committee hearing focusing potential misconduct inside Secret Service beyond happened Colombia .  It going happened before whether evidence misconduct agents Secret Service Lieberman said .  Whether therefore preventative action taken administration Secret Service and finally going make sure happen again Since scandal broke several whistleblowers called committee called credible reports incidents similar Colombia Lieberman said .  He would provide additional details .  After spoke however Senate Homeland Security Committee spokeswoman Leslie Phillips said Lieberman misspoke .  The committee received call one person claimed information possible misconduct committee staff yet talk person determine whether information relevant said .  House Oversight Committee Chairman Darrell Issa said Tuesday committee heard allegations similar misconduct Secret Service agents dating back years .  Like Lieberman offered specifics .  On Monday officials said member U . S .  military assigned White House Communications Agency investigation connection alleged misconduct Colombia bringing 12 total number military personnel reviewed .  One Defense Department official said military member admitted leadership involved misconduct of kind Colombia .  The agency nonWhite House office provides president secure communications travels .  It staffed members military report Defense Information Systems Agency .  While 11 military members investigated U . S .  Southern Command unclear would investigate White House Communications Agency staffer relieved duty agency reassigned Military District Washington Pentagon spokesman Capt .  John Kirby said .  According sources alleged prostitutes  youngest early 20s  signed Hotel Caribe Cartagena Secret Service members apparently stayed flashing local ID cards .  One women allegedly later involved dispute much paid night brought entire incident light sparked controversy United States Colombia .  That woman identified Dania Suarez whose neighbors described 24yearold single mother studies English .  Suarez seen neighborhood since controversy erupted though visitor took suitcases house recently said .  While soliciting prostitution cases legal adults Colombia military law bars service members patronizing prostitutes engaging conduct unbecoming officer or enlisted personnel conduct prejudicial good order discipline .  It also considered breach Secret Service conduct code government sources said .  CNN Tom Cohen Deirdre Walsh contributed report . ']"
      ]
     },
     "execution_count": 11,
     "metadata": {},
     "output_type": "execute_result"
    }
   ],
   "source": [
    "X_train[1:2]"
   ]
  },
  {
   "cell_type": "code",
   "execution_count": 12,
   "metadata": {},
   "outputs": [
    {
     "data": {
      "text/plain": [
       "['Two Secret Service agents resign Colombia scandal']"
      ]
     },
     "execution_count": 12,
     "metadata": {},
     "output_type": "execute_result"
    }
   ],
   "source": [
    "Y_train[1:2]"
   ]
  },
  {
   "cell_type": "code",
   "execution_count": 13,
   "metadata": {},
   "outputs": [],
   "source": [
    "details = {\n",
    "    'headlines' : Y_train,\n",
    "    'text' : X_train\n",
    "}\n",
    "\n",
    "df_train = pd.DataFrame(details)"
   ]
  },
  {
   "cell_type": "code",
   "execution_count": 14,
   "metadata": {},
   "outputs": [],
   "source": [
    "details = {\n",
    "    'headlines' : Y_valid,\n",
    "    'text' : X_valid\n",
    "}\n",
    "\n",
    "df_valid = pd.DataFrame(details)"
   ]
  },
  {
   "cell_type": "code",
   "execution_count": 15,
   "metadata": {},
   "outputs": [],
   "source": [
    "details = {\n",
    "    'headlines' : Y_test,\n",
    "    'text' : X_test\n",
    "}\n",
    "\n",
    "df_test = pd.DataFrame(details)"
   ]
  },
  {
   "cell_type": "code",
   "execution_count": 16,
   "metadata": {
    "id": "SZNOjwz_jzjo"
   },
   "outputs": [
    {
     "name": "stdout",
     "output_type": "stream",
     "text": [
      "Using:  cuda\n"
     ]
    }
   ],
   "source": [
    "# Import\n",
    "\n",
    "\n",
    "tokenizer = BartTokenizer.from_pretrained(\"facebook/bart-large-cnn\")\n",
    "model = BartForConditionalGeneration.from_pretrained(\"facebook/bart-large-cnn\")\n",
    "\n",
    "torch_device = torch.device(\"cuda\" if torch.cuda.is_available() else \"cpu\")\n",
    "print('Using: ', torch_device)\n"
   ]
  },
  {
   "cell_type": "code",
   "execution_count": 17,
   "metadata": {
    "id": "_S8Zge55WtSX"
   },
   "outputs": [],
   "source": [
    "# Rename columns as per pretrained model required format\n",
    "df_train=df_train.rename(columns={'headlines':'target_text','text':'input_text'})\n",
    "df_valid=df_valid.rename(columns={'headlines':'target_text','text':'input_text'})\n",
    "df_test=df_test.rename(columns={'headlines':'target_text','text':'input_text'})\n",
    "#df = {dataset, target}\n",
    "model_args = Seq2SeqArgs()\n",
    "# Initializing number of epochs\n",
    "#model_args.num_train_epochs = 25\n",
    "model_args.num_train_epochs = 2\n",
    "# Initializing no_save arg\n",
    "model_args.no_save = True\n",
    "model_args.overwrite_output_dir = True\n",
    "\n",
    "# Initializing evaluation args\n",
    "model_args.evaluate_generated_text = True\n",
    "model_args.evaluate_during_training = True\n",
    "model_args.evaluate_during_training_verbose = True"
   ]
  },
  {
   "cell_type": "code",
   "execution_count": 18,
   "metadata": {
    "scrolled": true
   },
   "outputs": [
    {
     "data": {
      "text/plain": [
       "'U . N .  report highlights unspeakable atrocities North Korea'"
      ]
     },
     "execution_count": 18,
     "metadata": {},
     "output_type": "execute_result"
    }
   ],
   "source": [
    "df_train['target_text'][0]"
   ]
  },
  {
   "cell_type": "code",
   "execution_count": 19,
   "metadata": {},
   "outputs": [
    {
     "data": {
      "text/plain": [
       "'Story highlights United Nations inquiry looking human rights violations North Korea The rights probe documented unspeakable atrocities witness interviews Commission listened prison camp survivors suffered childhoods starvation North Korea rejected testimony slander put forward human scum A mother forced drown baby prison camp inmate compelled eat rodents lizards survive  horrific experiences documented United Nations inquiry human rights violations North Korea .  According man headed study examples unspeakable atrocities collected date suggest widespread abuses scale requiring international response .  What seen heard far  specificity detail shocking character personal testimony  appears without doubt demand followup action world community accountability behalf Democratic People Republic Korea Michael Kirby chair threemember commission inquiry told U . N .  Human Rights Council Tuesday .  The remarks contained draft report updating council work commission ahead final report U . N .  General Assembly slated March .  Pyongyang refused cooperate investigation rejects validity .  Kirby said interim findings based testimony given public hearings Seoul Tokyo last month sources including North Korean defectors former regime officials survivors political prison camps families Japanese South Koreans abducted North Korean agents .  The individual testimonies emerging public hearings instances represent isolated cases said .  They representative largescale patterns may constitute systematic gross human rights violations .  JUST WATCHED UN hears story North Korean torture Replay More Videos  .  .  .  MUST WATCH UN hears story North Korean torture 0124 PLAY VIDEO JUST WATCHED North Korea prison camps Replay More Videos  .  .  .  MUST WATCH North Korea prison camps 0249 PLAY VIDEO JUST WATCHED Korea forgotten POWs Replay More Videos  .  .  .  MUST WATCH Korea forgotten POWs 0250 PLAY VIDEO READ MORE Defectors describe horror heartbreak North Korea labor camps Kirby said inquiry heard from ordinary people faced torture imprisonment nothing watching foreign soap operas holding religious belief .  One woman given account witnessing female inmate forced drown baby bucket man spoken forced burn corpses many prisoners died starvation scattering remains crops .  The commission listened political prison camp survivors suffered childhoods starvation unspeakable atrocities product guilt association practice punishing generations family member perceived views affiliation said referring account Shin Donghyuk highprofile North Korean defector whose horrific experiences documented biography Escape Camp 14 .  Imprisoned birth said Shin eaten rodents lizards grass survive witness public execution mother brother .  Kirby also referred testimony given parents Megumi Yokota 13yearold Japanese girl abducted North Korean agents way home school 1977 .  Yokota one 13 Japanese kidnapped North Korea held North Korean facility way training spies regime said seven others dead .  International attention North Korea previously focused halting nuclear weapons program but response increasingly detailed reports human rights abuses emerging isolated state U . N .  Human Rights Council elected March establish commission .  Human rights groups estimate many 200000 people held network prison camps North Korea part system crush political dissent .  READ MORE Torture starvation rife North Korea political prisons Kirby noted rays hope change emerging North Korea past  including regime signing international convention recognizing rights disabled moving reopen Kaesong industrial complex operated cooperation South Korea  proven ephemeral .  North Korea stonewalled invitations participate inquiry said official news agency rejecting testimony slander put forward human scum said .  He said commission would seek identify North Korean institutions officials responsible gross human rights violations clarify mechanisms prosecutions might occur .  North Korea member International Criminal Court court empowered investigate potential abuse nonsignatories request U . N .  Security Council . '"
      ]
     },
     "execution_count": 19,
     "metadata": {},
     "output_type": "execute_result"
    }
   ],
   "source": [
    "df_train['input_text'][0]"
   ]
  },
  {
   "cell_type": "code",
   "execution_count": 20,
   "metadata": {},
   "outputs": [
    {
     "data": {
      "text/plain": [
       "'Blame genetics bad driving study finds'"
      ]
     },
     "execution_count": 20,
     "metadata": {},
     "output_type": "execute_result"
    }
   ],
   "source": [
    "df_valid['target_text'][0]"
   ]
  },
  {
   "cell_type": "code",
   "execution_count": 21,
   "metadata": {},
   "outputs": [
    {
     "data": {
      "text/plain": [
       "' secreted area brain associated activity .  The protein helps facilitate communication among brain cells helps retain memory .  However people gene variation Cramer studied BDNF secretion limited .  These people make errors getgo forget learned time away Cramer said statement .  Cramer team researchers set find variant affected driving .  They recruited 29 people drive 15 laps simulated course difficult curves turns .  Twentytwo participants gene variant seven did .  The researchers wanted see effectively participants learned navigate twists turns subsequent lap .  Four days later repeated test .  The participants variant worse times .  They also retained less second goround .  Id curious know genetics people get car crashes Cramer said .  I wonder accident rate higher drivers variant .  Unfortunately test determine whether someone gene variant commercially available . '"
      ]
     },
     "execution_count": 21,
     "metadata": {},
     "output_type": "execute_result"
    }
   ],
   "source": [
    "df_valid['input_text'][0]"
   ]
  },
  {
   "cell_type": "code",
   "execution_count": 22,
   "metadata": {},
   "outputs": [
    {
     "data": {
      "text/plain": [
       "'Soldier slain London street machine gunner drummer dad'"
      ]
     },
     "execution_count": 22,
     "metadata": {},
     "output_type": "execute_result"
    }
   ],
   "source": [
    "df_test['target_text'][0]"
   ]
  },
  {
   "cell_type": "code",
   "execution_count": 23,
   "metadata": {},
   "outputs": [
    {
     "data": {
      "text/plain": [
       "'Story highlights Drummer Lee Riggers Rigby 25 machine gunner became recruiter He real character infantry commanding officer says As drummer stood outside Royal Palaces He also father 2yearold son Jack The British soldier slain gruesome cleaver attack London wellliked infantryman machine gunner served Afghanistan Cyprus became military recruiter ceremonial drummer outside royal palaces military said Thursday .  Drummer Lee Rigby 25 part Regimental Recruiting Team London machine gunner part 2nd Battalion Royal Regiment Fusiliers .  The Fusiliers infantry group known hackle feather plume military headdress .  Rigby 2yearold son Jack UK Ministry Defense said .  Witness Attackers were animals Fellow soldiers described engaging personality .  He joined army 2006 acquired nickname Riggers platoon .  He real character within Second Fusiliers Lt .  Col .  Jim Taylor commanding officer 2nd Fusiliers said statement .  Larger life heart Corps Drums .  An experienced talented side drummer machine gunner true warrior served distinction Afghanistan Germany Cyprus .  Rigby also loved soccer Manchester United soldiers said .  He one Battalion great characters always smiling always ready brighten mood fellow Fusiliers Warrant Officer Ned Miller 2nd Fusiliers said statement .  He easily identified whilst parade huge smile face proud member Drums .  He would always stop chat tell Manchester United would win league again .  Rigby born Crumpsall Manchester .  After joining army first post Cyprus machine gunner Dhekelia military said .  In 2008 assigned Hounslow West London became an integral member Corps Drums throughout Battalion time public duties highlight part Household Division Beating Retreat  real honour line infantry Corps Drums ministry said .  London attack mirrors plot behead Muslim soldier In 2009 deployed operations for first time sent Afghanistan Helmand province member fire support group Patrol Base Woqab .  He returned UK completed second tour public duties .  Later followed battalion Celle Germany .  In 2011 became recruiter Regimental Headquarters Tower London .  London attack Terrorist targeting soldiers home again Rigby was cheeky humorous man always joke brighten mood extremely popular member Fire Support Group said Capt .  Alan Williamson Rigby platoon commander 2010 2011 .  Rigby death attracted worldwide attention slaying scene captured cell phone camera . '"
      ]
     },
     "execution_count": 23,
     "metadata": {},
     "output_type": "execute_result"
    }
   ],
   "source": [
    "df_test['input_text'][0]"
   ]
  },
  {
   "cell_type": "code",
   "execution_count": 24,
   "metadata": {
    "colab": {
     "base_uri": "https://localhost:8080/",
     "height": 49,
     "referenced_widgets": [
      "2359eb5cbae14f9491a0773266689b88",
      "61bb9a947d354113a5aea94614bbc16d",
      "c0fffc55cf36497597dd17d5deab16ed",
      "970afe25185c4ab5bb46d9bcc7cdef05",
      "7a3a9ac7179d44989553ed77db5a1d30",
      "1f5f3c54cfe94744a5edc2249f9980ff",
      "9ec381d401c746a4bbe20fc08be64520",
      "6d75bd691e6348fbae23f4a3cec3d3f1",
      "c966b37ee8cc441e8a47248aec1b62bb",
      "5d66f67729914763afd6ce4c76457169",
      "43bd954abc734213847d1b133e35045e"
     ]
    },
    "id": "6hu3A3sdWvOf",
    "outputId": "2291bbd0-0cda-4c8c-b812-e418c382d6cf"
   },
   "outputs": [],
   "source": [
    "model = Seq2SeqModel(\n",
    "encoder_decoder_type=\"bart\",\n",
    "encoder_decoder_name=\"facebook/bart-large-cnn\",\n",
    "args=model_args,\n",
    "use_cuda=True,\n",
    ")\n",
    "# Splitting data into train-test\n",
    "# from sklearn.model_selection import train_test_split\n",
    "# train_df, test_df = train_test_split(df, test_size=0.2)\n"
   ]
  },
  {
   "cell_type": "code",
   "execution_count": 25,
   "metadata": {},
   "outputs": [
    {
     "data": {
      "text/plain": [
       "((73280, 2), (9160, 2), (9160, 2))"
      ]
     },
     "execution_count": 25,
     "metadata": {},
     "output_type": "execute_result"
    }
   ],
   "source": [
    "df_train.shape, df_valid.shape, df_test.shape"
   ]
  },
  {
   "cell_type": "code",
   "execution_count": 26,
   "metadata": {},
   "outputs": [
    {
     "data": {
      "text/plain": [
       "7"
      ]
     },
     "execution_count": 26,
     "metadata": {},
     "output_type": "execute_result"
    }
   ],
   "source": [
    "len(df_train)//10000"
   ]
  },
  {
   "cell_type": "code",
   "execution_count": 27,
   "metadata": {},
   "outputs": [],
   "source": [
    "def current_time_min():\n",
    "    time_in_mins = time.time()/60.0\n",
    "    return round(time_in_mins, 4)"
   ]
  },
  {
   "cell_type": "code",
   "execution_count": null,
   "metadata": {
    "scrolled": true
   },
   "outputs": [
    {
     "data": {
      "application/vnd.jupyter.widget-view+json": {
       "model_id": "64646e467f3f4d71bacabfe0141ad2f6",
       "version_major": 2,
       "version_minor": 0
      },
      "text/plain": [
       "  0%|          | 0/10000 [00:00<?, ?it/s]"
      ]
     },
     "metadata": {},
     "output_type": "display_data"
    },
    {
     "name": "stderr",
     "output_type": "stream",
     "text": [
      "/home/ubuntu/anaconda3/lib/python3.8/site-packages/transformers/optimization.py:306: FutureWarning: This implementation of AdamW is deprecated and will be removed in a future version. Use the PyTorch implementation torch.optim.AdamW instead, or set `no_deprecation_warning=True` to disable this warning\n",
      "  warnings.warn(\n"
     ]
    },
    {
     "data": {
      "application/vnd.jupyter.widget-view+json": {
       "model_id": "0854700c2ef04e6b94e08b05d6827647",
       "version_major": 2,
       "version_minor": 0
      },
      "text/plain": [
       "Epoch:   0%|          | 0/2 [00:00<?, ?it/s]"
      ]
     },
     "metadata": {},
     "output_type": "display_data"
    },
    {
     "data": {
      "application/vnd.jupyter.widget-view+json": {
       "model_id": "7d6f278e39284e83bd384701742b90e5",
       "version_major": 2,
       "version_minor": 0
      },
      "text/plain": [
       "Running Epoch 0 of 2:   0%|          | 0/1250 [00:00<?, ?it/s]"
      ]
     },
     "metadata": {},
     "output_type": "display_data"
    },
    {
     "name": "stderr",
     "output_type": "stream",
     "text": [
      "/home/ubuntu/anaconda3/lib/python3.8/site-packages/torch/optim/lr_scheduler.py:129: UserWarning: Detected call of `lr_scheduler.step()` before `optimizer.step()`. In PyTorch 1.1.0 and later, you should call them in the opposite order: `optimizer.step()` before `lr_scheduler.step()`.  Failure to do this will result in PyTorch skipping the first value of the learning rate schedule. See more details at https://pytorch.org/docs/stable/optim.html#how-to-adjust-learning-rate\n",
      "  warnings.warn(\"Detected call of `lr_scheduler.step()` before `optimizer.step()`. \"\n"
     ]
    },
    {
     "data": {
      "application/vnd.jupyter.widget-view+json": {
       "model_id": "8d5cf97b64484894afdc75ffc96a5901",
       "version_major": 2,
       "version_minor": 0
      },
      "text/plain": [
       "  0%|          | 0/9160 [00:00<?, ?it/s]"
      ]
     },
     "metadata": {},
     "output_type": "display_data"
    },
    {
     "data": {
      "application/vnd.jupyter.widget-view+json": {
       "model_id": "8f580237e3e441a4bff3d56ae853324c",
       "version_major": 2,
       "version_minor": 0
      },
      "text/plain": [
       "Generating outputs:   0%|          | 0/1145 [00:00<?, ?it/s]"
      ]
     },
     "metadata": {},
     "output_type": "display_data"
    },
    {
     "data": {
      "application/vnd.jupyter.widget-view+json": {
       "model_id": "ca0636db1a3b4adeb819d8a6fd272f9e",
       "version_major": 2,
       "version_minor": 0
      },
      "text/plain": [
       "Running Epoch 1 of 2:   0%|          | 0/1250 [00:00<?, ?it/s]"
      ]
     },
     "metadata": {},
     "output_type": "display_data"
    },
    {
     "data": {
      "application/vnd.jupyter.widget-view+json": {
       "model_id": "22fcd9ac18d347518210da08e0715c95",
       "version_major": 2,
       "version_minor": 0
      },
      "text/plain": [
       "  0%|          | 0/9160 [00:00<?, ?it/s]"
      ]
     },
     "metadata": {},
     "output_type": "display_data"
    },
    {
     "data": {
      "application/vnd.jupyter.widget-view+json": {
       "model_id": "e9d627804326464ba8878ba10872a5c3",
       "version_major": 2,
       "version_minor": 0
      },
      "text/plain": [
       "Generating outputs:   0%|          | 0/1145 [00:00<?, ?it/s]"
      ]
     },
     "metadata": {},
     "output_type": "display_data"
    },
    {
     "data": {
      "application/vnd.jupyter.widget-view+json": {
       "model_id": "9a354d99db504b2e957bd2b2b0b9f359",
       "version_major": 2,
       "version_minor": 0
      },
      "text/plain": [
       "  0%|          | 0/9160 [00:00<?, ?it/s]"
      ]
     },
     "metadata": {},
     "output_type": "display_data"
    },
    {
     "data": {
      "application/vnd.jupyter.widget-view+json": {
       "model_id": "2ae435f8b7c843d1b6e27f7edec37ed2",
       "version_major": 2,
       "version_minor": 0
      },
      "text/plain": [
       "Generating outputs:   0%|          | 0/1145 [00:00<?, ?it/s]"
      ]
     },
     "metadata": {},
     "output_type": "display_data"
    },
    {
     "data": {
      "application/vnd.jupyter.widget-view+json": {
       "model_id": "097cddd95c6b4b74ac85f459296fec1d",
       "version_major": 2,
       "version_minor": 0
      },
      "text/plain": [
       "  0%|          | 0/9160 [00:00<?, ?it/s]"
      ]
     },
     "metadata": {},
     "output_type": "display_data"
    },
    {
     "data": {
      "application/vnd.jupyter.widget-view+json": {
       "model_id": "0da5fbf073f744a39650b22a8340b625",
       "version_major": 2,
       "version_minor": 0
      },
      "text/plain": [
       "Running Evaluation:   0%|          | 0/1145 [00:00<?, ?it/s]"
      ]
     },
     "metadata": {},
     "output_type": "display_data"
    },
    {
     "data": {
      "application/vnd.jupyter.widget-view+json": {
       "model_id": "6179ad353e554789bc5d3fcb4bd59d3f",
       "version_major": 2,
       "version_minor": 0
      },
      "text/plain": [
       "Generating outputs:   0%|          | 0/1145 [00:00<?, ?it/s]"
      ]
     },
     "metadata": {},
     "output_type": "display_data"
    },
    {
     "name": "stdout",
     "output_type": "stream",
     "text": [
      "Count:  1 Results:  {'eval_loss': 3.1190239879241677}\n"
     ]
    },
    {
     "data": {
      "application/vnd.jupyter.widget-view+json": {
       "model_id": "3a86d5485d5c4012a1705651bdb1bcf2",
       "version_major": 2,
       "version_minor": 0
      },
      "text/plain": [
       "  0%|          | 0/10000 [00:00<?, ?it/s]"
      ]
     },
     "metadata": {},
     "output_type": "display_data"
    },
    {
     "data": {
      "application/vnd.jupyter.widget-view+json": {
       "model_id": "de6335dbc06a4383a532948a81240707",
       "version_major": 2,
       "version_minor": 0
      },
      "text/plain": [
       "Epoch:   0%|          | 0/2 [00:00<?, ?it/s]"
      ]
     },
     "metadata": {},
     "output_type": "display_data"
    },
    {
     "data": {
      "application/vnd.jupyter.widget-view+json": {
       "model_id": "244a769009fc449a998764eb6882f214",
       "version_major": 2,
       "version_minor": 0
      },
      "text/plain": [
       "Running Epoch 0 of 2:   0%|          | 0/1250 [00:00<?, ?it/s]"
      ]
     },
     "metadata": {},
     "output_type": "display_data"
    },
    {
     "data": {
      "application/vnd.jupyter.widget-view+json": {
       "model_id": "871233191ce44848be24eb27d7cd2335",
       "version_major": 2,
       "version_minor": 0
      },
      "text/plain": [
       "  0%|          | 0/9160 [00:00<?, ?it/s]"
      ]
     },
     "metadata": {},
     "output_type": "display_data"
    },
    {
     "data": {
      "application/vnd.jupyter.widget-view+json": {
       "model_id": "8d6a5ed625f34fde849ebc95a688ede0",
       "version_major": 2,
       "version_minor": 0
      },
      "text/plain": [
       "Generating outputs:   0%|          | 0/1145 [00:00<?, ?it/s]"
      ]
     },
     "metadata": {},
     "output_type": "display_data"
    },
    {
     "data": {
      "application/vnd.jupyter.widget-view+json": {
       "model_id": "3e8babba0fef428f93ec9b87130456fe",
       "version_major": 2,
       "version_minor": 0
      },
      "text/plain": [
       "Running Epoch 1 of 2:   0%|          | 0/1250 [00:00<?, ?it/s]"
      ]
     },
     "metadata": {},
     "output_type": "display_data"
    },
    {
     "data": {
      "application/vnd.jupyter.widget-view+json": {
       "model_id": "03ae9cd99ddd47c1b3ad0377334473a1",
       "version_major": 2,
       "version_minor": 0
      },
      "text/plain": [
       "  0%|          | 0/9160 [00:00<?, ?it/s]"
      ]
     },
     "metadata": {},
     "output_type": "display_data"
    },
    {
     "data": {
      "application/vnd.jupyter.widget-view+json": {
       "model_id": "4e8ee716fae44824b3122baf7260d8f0",
       "version_major": 2,
       "version_minor": 0
      },
      "text/plain": [
       "Generating outputs:   0%|          | 0/1145 [00:00<?, ?it/s]"
      ]
     },
     "metadata": {},
     "output_type": "display_data"
    },
    {
     "data": {
      "application/vnd.jupyter.widget-view+json": {
       "model_id": "715b83f18fd84e0bae84624b90f31545",
       "version_major": 2,
       "version_minor": 0
      },
      "text/plain": [
       "  0%|          | 0/9160 [00:00<?, ?it/s]"
      ]
     },
     "metadata": {},
     "output_type": "display_data"
    },
    {
     "data": {
      "application/vnd.jupyter.widget-view+json": {
       "model_id": "ded31f328a3844fe8646a80b3f480d02",
       "version_major": 2,
       "version_minor": 0
      },
      "text/plain": [
       "Generating outputs:   0%|          | 0/1145 [00:00<?, ?it/s]"
      ]
     },
     "metadata": {},
     "output_type": "display_data"
    },
    {
     "data": {
      "application/vnd.jupyter.widget-view+json": {
       "model_id": "a69b8b8c624e482d8ed553c33f1112e0",
       "version_major": 2,
       "version_minor": 0
      },
      "text/plain": [
       "  0%|          | 0/9160 [00:00<?, ?it/s]"
      ]
     },
     "metadata": {},
     "output_type": "display_data"
    },
    {
     "data": {
      "application/vnd.jupyter.widget-view+json": {
       "model_id": "35970a2c69454967ab24752543d53b56",
       "version_major": 2,
       "version_minor": 0
      },
      "text/plain": [
       "Running Evaluation:   0%|          | 0/1145 [00:00<?, ?it/s]"
      ]
     },
     "metadata": {},
     "output_type": "display_data"
    },
    {
     "data": {
      "application/vnd.jupyter.widget-view+json": {
       "model_id": "b840966a985f4e12b0215b16e7787e4f",
       "version_major": 2,
       "version_minor": 0
      },
      "text/plain": [
       "Generating outputs:   0%|          | 0/1145 [00:00<?, ?it/s]"
      ]
     },
     "metadata": {},
     "output_type": "display_data"
    },
    {
     "name": "stdout",
     "output_type": "stream",
     "text": [
      "Count:  2 Results:  {'eval_loss': 3.1034028110545795}\n"
     ]
    },
    {
     "data": {
      "application/vnd.jupyter.widget-view+json": {
       "model_id": "6c9aa3bf881f49398096a8d6d7795a1f",
       "version_major": 2,
       "version_minor": 0
      },
      "text/plain": [
       "  0%|          | 0/10000 [00:00<?, ?it/s]"
      ]
     },
     "metadata": {},
     "output_type": "display_data"
    },
    {
     "data": {
      "application/vnd.jupyter.widget-view+json": {
       "model_id": "28e2679d849148c886679baa6639f001",
       "version_major": 2,
       "version_minor": 0
      },
      "text/plain": [
       "Epoch:   0%|          | 0/2 [00:00<?, ?it/s]"
      ]
     },
     "metadata": {},
     "output_type": "display_data"
    },
    {
     "data": {
      "application/vnd.jupyter.widget-view+json": {
       "model_id": "a79bf5c742914be1880c38c081674653",
       "version_major": 2,
       "version_minor": 0
      },
      "text/plain": [
       "Running Epoch 0 of 2:   0%|          | 0/1250 [00:00<?, ?it/s]"
      ]
     },
     "metadata": {},
     "output_type": "display_data"
    }
   ],
   "source": [
    "# Training the model and keeping eval dataset as test data\n",
    "# 16000 for aws, 800 for local VM\n",
    "batch_size_train = 10000\n",
    "batch_size_test = batch_size_train//4\n",
    "number_of_batches = len(df_train)//batch_size_train\n",
    "#count = 0\n",
    "epocs = model_args.num_train_epochs\n",
    "acc_time = 0\n",
    "\n",
    "for i in range(number_of_batches):\n",
    "    start_time = current_time_min()\n",
    "    count += 1\n",
    "    start_offset_train = i * batch_size_train\n",
    "    start_offset_test = i * batch_size_test\n",
    "    end_offset_train = start_offset_train + batch_size_train\n",
    "    end_offset_test = start_offset_test + batch_size_test\n",
    "    model.train_model(df_train[start_offset_train:end_offset_train], eval_data=df_valid)\n",
    "    model_filename = \"model_\" + str(count) + \"_\" + str(start_offset_train) + \"_\" + str(end_offset_train) + \"_\" + str(epocs) + \"e.pkl\"\n",
    "    joblib.dump(model, os.path.join(path_models, model_filename))\n",
    "    results = model.eval_model(df_test)\n",
    "    batch_time = current_time_min() - start_time\n",
    "    acc_time = acc_time + batch_time/60\n",
    "    randint = random.randrange(1, len(df_test), 3)\n",
    "    results_json = {\n",
    "        'iteration' : count,\n",
    "        'start' : start_offset_train,\n",
    "        'end' : end_offset_train,\n",
    "        'eval_loss' : results[\"eval_loss\"],\n",
    "        'batch_time' : batch_time,\n",
    "        'acc_time' : acc_time\n",
    "    }\n",
    "    jsonString = json.dumps(results_json)\n",
    "    results_filename = \"results_\" + str(start_offset_train) + \"_\" + str(end_offset_train) + \"_\" + str(count)\n",
    "    results_file = open(os.path.join(path_models, \"results.txt\"), \"a\")\n",
    "    results_file.write(jsonString + '\\n')\n",
    "    results_file.close()\n",
    "    print(\"Count: \", count, \"Results: \", results)\n"
   ]
  },
  {
   "cell_type": "code",
   "execution_count": null,
   "metadata": {},
   "outputs": [],
   "source": [
    "    acc_time = 0\n",
    "    acc_time = acc_time + batch_time/60\n",
    "    randint = random.randrange(1, len(df_test), 3)\n",
    "    results_json = {\n",
    "        'iteration' : count,\n",
    "        'start' : start_offset_train,\n",
    "        'end' : end_offset_train,\n",
    "        'eval_loss' : results[\"eval_loss\"],\n",
    "        'batch_time' : batch_time,\n",
    "        'acc_time' : acc_time\n",
    "    }\n",
    "    jsonString = json.dumps(results_json)\n",
    "    results_filename = \"results_\" + str(start_offset_train) + \"_\" + str(end_offset_train) + \"_\" + str(count)\n",
    "    results_file = open(os.path.join(path_models, \"results.txt\"), \"a\")\n",
    "    results_file.write(jsonString + '\\n')\n",
    "    results_file.close()\n",
    "    print(\"Count: \", count, \"Results: \", results)"
   ]
  },
  {
   "cell_type": "code",
   "execution_count": null,
   "metadata": {
    "id": "ParBzQX_WxOG"
   },
   "outputs": [],
   "source": [
    "# Generating summaries on news test data\n",
    "results = model.eval_model(df_test[100:200])\n",
    "# print the loss\n",
    "results"
   ]
  },
  {
   "cell_type": "code",
   "execution_count": null,
   "metadata": {
    "id": "XuUiBZsBpobL"
   },
   "outputs": [],
   "source": [
    "\n",
    "\n",
    "# MODEL_PATH = os.path.join(path_models, 'bart.model')\n",
    "\n",
    "# torch.save(model, MODEL_PATH)"
   ]
  },
  {
   "cell_type": "code",
   "execution_count": null,
   "metadata": {},
   "outputs": [],
   "source": [
    "joblib.dump(model, os.path.join(path_models, 'model.pkl'))"
   ]
  },
  {
   "cell_type": "code",
   "execution_count": null,
   "metadata": {
    "id": "_VazJyuXrfZh"
   },
   "outputs": [],
   "source": [
    "model = Seq2SeqModel(encoder_decoder_type=\"bart\",\n",
    "  encoder_decoder_name=\"facebook/bart-large\",\n",
    "  args=model_args,\n",
    "  use_cuda=False,)\n",
    "\n",
    "model.load(torch.load(MODEL_PATH))\n"
   ]
  },
  {
   "cell_type": "code",
   "execution_count": null,
   "metadata": {},
   "outputs": [],
   "source": [
    "model = joblib.load(os.path.join(path_models, 'model.pkl'))"
   ]
  },
  {
   "cell_type": "code",
   "execution_count": null,
   "metadata": {},
   "outputs": [],
   "source": [
    "# model.eval()"
   ]
  },
  {
   "cell_type": "code",
   "execution_count": null,
   "metadata": {
    "id": "wQu20JmOWzKU"
   },
   "outputs": [],
   "source": [
    "# Original test data text summary for top 10 news\n",
    "#value = randint(0, 10)\n",
    "for i in test_df.target_text[422:423]:\n",
    "  print(i)\n",
    "\n"
   ]
  },
  {
   "cell_type": "code",
   "execution_count": null,
   "metadata": {
    "id": "y5ufZsWBpiRb"
   },
   "outputs": [],
   "source": [
    "# Predicted summary\n",
    "for i in test_df.input_text[1000:1050]:\n",
    "  print(model.predict([i]))"
   ]
  },
  {
   "cell_type": "code",
   "execution_count": null,
   "metadata": {},
   "outputs": [],
   "source": []
  }
 ],
 "metadata": {
  "accelerator": "GPU",
  "colab": {
   "collapsed_sections": [],
   "machine_shape": "hm",
   "name": "v3.m_w266_FP_NB2_Text_Summarization.ipynb",
   "provenance": []
  },
  "kernelspec": {
   "display_name": "Python 3",
   "language": "python",
   "name": "python3"
  },
  "language_info": {
   "codemirror_mode": {
    "name": "ipython",
    "version": 3
   },
   "file_extension": ".py",
   "mimetype": "text/x-python",
   "name": "python",
   "nbconvert_exporter": "python",
   "pygments_lexer": "ipython3",
   "version": "3.8.8"
  },
  "widgets": {
   "application/vnd.jupyter.widget-state+json": {
    "1f5f3c54cfe94744a5edc2249f9980ff": {
     "model_module": "@jupyter-widgets/controls",
     "model_module_version": "1.5.0",
     "model_name": "DescriptionStyleModel",
     "state": {
      "_model_module": "@jupyter-widgets/controls",
      "_model_module_version": "1.5.0",
      "_model_name": "DescriptionStyleModel",
      "_view_count": null,
      "_view_module": "@jupyter-widgets/base",
      "_view_module_version": "1.2.0",
      "_view_name": "StyleView",
      "description_width": ""
     }
    },
    "2359eb5cbae14f9491a0773266689b88": {
     "model_module": "@jupyter-widgets/controls",
     "model_module_version": "1.5.0",
     "model_name": "HBoxModel",
     "state": {
      "_dom_classes": [],
      "_model_module": "@jupyter-widgets/controls",
      "_model_module_version": "1.5.0",
      "_model_name": "HBoxModel",
      "_view_count": null,
      "_view_module": "@jupyter-widgets/controls",
      "_view_module_version": "1.5.0",
      "_view_name": "HBoxView",
      "box_style": "",
      "children": [
       "IPY_MODEL_c0fffc55cf36497597dd17d5deab16ed",
       "IPY_MODEL_970afe25185c4ab5bb46d9bcc7cdef05",
       "IPY_MODEL_7a3a9ac7179d44989553ed77db5a1d30"
      ],
      "layout": "IPY_MODEL_61bb9a947d354113a5aea94614bbc16d"
     }
    },
    "43bd954abc734213847d1b133e35045e": {
     "model_module": "@jupyter-widgets/base",
     "model_module_version": "1.2.0",
     "model_name": "LayoutModel",
     "state": {
      "_model_module": "@jupyter-widgets/base",
      "_model_module_version": "1.2.0",
      "_model_name": "LayoutModel",
      "_view_count": null,
      "_view_module": "@jupyter-widgets/base",
      "_view_module_version": "1.2.0",
      "_view_name": "LayoutView",
      "align_content": null,
      "align_items": null,
      "align_self": null,
      "border": null,
      "bottom": null,
      "display": null,
      "flex": null,
      "flex_flow": null,
      "grid_area": null,
      "grid_auto_columns": null,
      "grid_auto_flow": null,
      "grid_auto_rows": null,
      "grid_column": null,
      "grid_gap": null,
      "grid_row": null,
      "grid_template_areas": null,
      "grid_template_columns": null,
      "grid_template_rows": null,
      "height": null,
      "justify_content": null,
      "justify_items": null,
      "left": null,
      "margin": null,
      "max_height": null,
      "max_width": null,
      "min_height": null,
      "min_width": null,
      "object_fit": null,
      "object_position": null,
      "order": null,
      "overflow": null,
      "overflow_x": null,
      "overflow_y": null,
      "padding": null,
      "right": null,
      "top": null,
      "visibility": null,
      "width": null
     }
    },
    "5d66f67729914763afd6ce4c76457169": {
     "model_module": "@jupyter-widgets/controls",
     "model_module_version": "1.5.0",
     "model_name": "DescriptionStyleModel",
     "state": {
      "_model_module": "@jupyter-widgets/controls",
      "_model_module_version": "1.5.0",
      "_model_name": "DescriptionStyleModel",
      "_view_count": null,
      "_view_module": "@jupyter-widgets/base",
      "_view_module_version": "1.2.0",
      "_view_name": "StyleView",
      "description_width": ""
     }
    },
    "61bb9a947d354113a5aea94614bbc16d": {
     "model_module": "@jupyter-widgets/base",
     "model_module_version": "1.2.0",
     "model_name": "LayoutModel",
     "state": {
      "_model_module": "@jupyter-widgets/base",
      "_model_module_version": "1.2.0",
      "_model_name": "LayoutModel",
      "_view_count": null,
      "_view_module": "@jupyter-widgets/base",
      "_view_module_version": "1.2.0",
      "_view_name": "LayoutView",
      "align_content": null,
      "align_items": null,
      "align_self": null,
      "border": null,
      "bottom": null,
      "display": null,
      "flex": null,
      "flex_flow": null,
      "grid_area": null,
      "grid_auto_columns": null,
      "grid_auto_flow": null,
      "grid_auto_rows": null,
      "grid_column": null,
      "grid_gap": null,
      "grid_row": null,
      "grid_template_areas": null,
      "grid_template_columns": null,
      "grid_template_rows": null,
      "height": null,
      "justify_content": null,
      "justify_items": null,
      "left": null,
      "margin": null,
      "max_height": null,
      "max_width": null,
      "min_height": null,
      "min_width": null,
      "object_fit": null,
      "object_position": null,
      "order": null,
      "overflow": null,
      "overflow_x": null,
      "overflow_y": null,
      "padding": null,
      "right": null,
      "top": null,
      "visibility": null,
      "width": null
     }
    },
    "6d75bd691e6348fbae23f4a3cec3d3f1": {
     "model_module": "@jupyter-widgets/controls",
     "model_module_version": "1.5.0",
     "model_name": "ProgressStyleModel",
     "state": {
      "_model_module": "@jupyter-widgets/controls",
      "_model_module_version": "1.5.0",
      "_model_name": "ProgressStyleModel",
      "_view_count": null,
      "_view_module": "@jupyter-widgets/base",
      "_view_module_version": "1.2.0",
      "_view_name": "StyleView",
      "bar_color": null,
      "description_width": ""
     }
    },
    "7a3a9ac7179d44989553ed77db5a1d30": {
     "model_module": "@jupyter-widgets/controls",
     "model_module_version": "1.5.0",
     "model_name": "HTMLModel",
     "state": {
      "_dom_classes": [],
      "_model_module": "@jupyter-widgets/controls",
      "_model_module_version": "1.5.0",
      "_model_name": "HTMLModel",
      "_view_count": null,
      "_view_module": "@jupyter-widgets/controls",
      "_view_module_version": "1.5.0",
      "_view_name": "HTMLView",
      "description": "",
      "description_tooltip": null,
      "layout": "IPY_MODEL_43bd954abc734213847d1b133e35045e",
      "placeholder": "​",
      "style": "IPY_MODEL_5d66f67729914763afd6ce4c76457169",
      "value": " 0/158331 [00:01&lt;?, ?it/s]"
     }
    },
    "970afe25185c4ab5bb46d9bcc7cdef05": {
     "model_module": "@jupyter-widgets/controls",
     "model_module_version": "1.5.0",
     "model_name": "FloatProgressModel",
     "state": {
      "_dom_classes": [],
      "_model_module": "@jupyter-widgets/controls",
      "_model_module_version": "1.5.0",
      "_model_name": "FloatProgressModel",
      "_view_count": null,
      "_view_module": "@jupyter-widgets/controls",
      "_view_module_version": "1.5.0",
      "_view_name": "ProgressView",
      "bar_style": "",
      "description": "",
      "description_tooltip": null,
      "layout": "IPY_MODEL_c966b37ee8cc441e8a47248aec1b62bb",
      "max": 158331,
      "min": 0,
      "orientation": "horizontal",
      "style": "IPY_MODEL_6d75bd691e6348fbae23f4a3cec3d3f1",
      "value": 0
     }
    },
    "9ec381d401c746a4bbe20fc08be64520": {
     "model_module": "@jupyter-widgets/base",
     "model_module_version": "1.2.0",
     "model_name": "LayoutModel",
     "state": {
      "_model_module": "@jupyter-widgets/base",
      "_model_module_version": "1.2.0",
      "_model_name": "LayoutModel",
      "_view_count": null,
      "_view_module": "@jupyter-widgets/base",
      "_view_module_version": "1.2.0",
      "_view_name": "LayoutView",
      "align_content": null,
      "align_items": null,
      "align_self": null,
      "border": null,
      "bottom": null,
      "display": null,
      "flex": null,
      "flex_flow": null,
      "grid_area": null,
      "grid_auto_columns": null,
      "grid_auto_flow": null,
      "grid_auto_rows": null,
      "grid_column": null,
      "grid_gap": null,
      "grid_row": null,
      "grid_template_areas": null,
      "grid_template_columns": null,
      "grid_template_rows": null,
      "height": null,
      "justify_content": null,
      "justify_items": null,
      "left": null,
      "margin": null,
      "max_height": null,
      "max_width": null,
      "min_height": null,
      "min_width": null,
      "object_fit": null,
      "object_position": null,
      "order": null,
      "overflow": null,
      "overflow_x": null,
      "overflow_y": null,
      "padding": null,
      "right": null,
      "top": null,
      "visibility": null,
      "width": null
     }
    },
    "c0fffc55cf36497597dd17d5deab16ed": {
     "model_module": "@jupyter-widgets/controls",
     "model_module_version": "1.5.0",
     "model_name": "HTMLModel",
     "state": {
      "_dom_classes": [],
      "_model_module": "@jupyter-widgets/controls",
      "_model_module_version": "1.5.0",
      "_model_name": "HTMLModel",
      "_view_count": null,
      "_view_module": "@jupyter-widgets/controls",
      "_view_module_version": "1.5.0",
      "_view_name": "HTMLView",
      "description": "",
      "description_tooltip": null,
      "layout": "IPY_MODEL_9ec381d401c746a4bbe20fc08be64520",
      "placeholder": "​",
      "style": "IPY_MODEL_1f5f3c54cfe94744a5edc2249f9980ff",
      "value": "  0%"
     }
    },
    "c966b37ee8cc441e8a47248aec1b62bb": {
     "model_module": "@jupyter-widgets/base",
     "model_module_version": "1.2.0",
     "model_name": "LayoutModel",
     "state": {
      "_model_module": "@jupyter-widgets/base",
      "_model_module_version": "1.2.0",
      "_model_name": "LayoutModel",
      "_view_count": null,
      "_view_module": "@jupyter-widgets/base",
      "_view_module_version": "1.2.0",
      "_view_name": "LayoutView",
      "align_content": null,
      "align_items": null,
      "align_self": null,
      "border": null,
      "bottom": null,
      "display": null,
      "flex": null,
      "flex_flow": null,
      "grid_area": null,
      "grid_auto_columns": null,
      "grid_auto_flow": null,
      "grid_auto_rows": null,
      "grid_column": null,
      "grid_gap": null,
      "grid_row": null,
      "grid_template_areas": null,
      "grid_template_columns": null,
      "grid_template_rows": null,
      "height": null,
      "justify_content": null,
      "justify_items": null,
      "left": null,
      "margin": null,
      "max_height": null,
      "max_width": null,
      "min_height": null,
      "min_width": null,
      "object_fit": null,
      "object_position": null,
      "order": null,
      "overflow": null,
      "overflow_x": null,
      "overflow_y": null,
      "padding": null,
      "right": null,
      "top": null,
      "visibility": null,
      "width": null
     }
    }
   }
  }
 },
 "nbformat": 4,
 "nbformat_minor": 1
}
