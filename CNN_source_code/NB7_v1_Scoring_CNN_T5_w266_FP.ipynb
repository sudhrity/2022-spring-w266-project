{
 "cells": [
  {
   "cell_type": "code",
   "execution_count": 23,
   "metadata": {
    "executionInfo": {
     "elapsed": 1463,
     "status": "ok",
     "timestamp": 1647042582565,
     "user": {
      "displayName": "Sudhrity Mondal",
      "photoUrl": "https://lh3.googleusercontent.com/a-/AOh14GjdLRgPC40ZQQVs03l36W8pJ7OBsjvQEm8WvkqAATE=s64",
      "userId": "02222642944056104592"
     },
     "user_tz": 480
    },
    "id": "sUPGDF4eEVyL"
   },
   "outputs": [],
   "source": [
    "import os\n",
    "import json\n",
    "import joblib\n",
    "import time\n",
    "import pandas as pd\n",
    "import numpy as np\n",
    "import random\n",
    "from IPython.display import display, HTML\n",
    "import torch\n",
    "\n",
    "import nltk\n",
    "\n",
    "# # Better pandas table\n",
    "# from google.colab import data_table\n",
    "# data_table.enable_dataframe_formatter()"
   ]
  },
  {
   "cell_type": "code",
   "execution_count": 24,
   "metadata": {
    "colab": {
     "base_uri": "https://localhost:8080/"
    },
    "executionInfo": {
     "elapsed": 19870,
     "status": "ok",
     "timestamp": 1647042605687,
     "user": {
      "displayName": "Sudhrity Mondal",
      "photoUrl": "https://lh3.googleusercontent.com/a-/AOh14GjdLRgPC40ZQQVs03l36W8pJ7OBsjvQEm8WvkqAATE=s64",
      "userId": "02222642944056104592"
     },
     "user_tz": 480
    },
    "id": "W6KAdaw3vBaL",
    "outputId": "3e8222e3-3e53-4eb3-f9df-5a4ca96fcaf9"
   },
   "outputs": [
    {
     "name": "stdout",
     "output_type": "stream",
     "text": [
      "fatal: destination path 'transformers' already exists and is not an empty directory.\n",
      "\u001b[31mERROR: pip's dependency resolver does not currently take into account all the packages that are installed. This behaviour is the source of the following dependency conflicts.\n",
      "simplet5 0.1.4 requires transformers==4.16.2, but you have transformers 4.18.0.dev0 which is incompatible.\u001b[0m\u001b[31m\n",
      "\u001b[0m"
     ]
    }
   ],
   "source": [
    "#connect to hugging face\n",
    "!git clone https://github.com/huggingface/transformers \\\n",
    "&& cd transformers \\\n",
    "install\n",
    "!pip install -q ./transformers"
   ]
  },
  {
   "cell_type": "code",
   "execution_count": 25,
   "metadata": {
    "executionInfo": {
     "elapsed": 8,
     "status": "ok",
     "timestamp": 1647042619999,
     "user": {
      "displayName": "Sudhrity Mondal",
      "photoUrl": "https://lh3.googleusercontent.com/a-/AOh14GjdLRgPC40ZQQVs03l36W8pJ7OBsjvQEm8WvkqAATE=s64",
      "userId": "02222642944056104592"
     },
     "user_tz": 480
    },
    "id": "JHwOEMZkvBaL"
   },
   "outputs": [],
   "source": [
    "import transformers\n",
    "from transformers import BartTokenizer, BartForConditionalGeneration"
   ]
  },
  {
   "cell_type": "code",
   "execution_count": 26,
   "metadata": {
    "colab": {
     "base_uri": "https://localhost:8080/"
    },
    "executionInfo": {
     "elapsed": 9835,
     "status": "ok",
     "timestamp": 1647042619998,
     "user": {
      "displayName": "Sudhrity Mondal",
      "photoUrl": "https://lh3.googleusercontent.com/a-/AOh14GjdLRgPC40ZQQVs03l36W8pJ7OBsjvQEm8WvkqAATE=s64",
      "userId": "02222642944056104592"
     },
     "user_tz": 480
    },
    "id": "J8ooBEmvvBaM",
    "outputId": "8ef27f94-3fcc-4823-f4e0-7237cefa9643"
   },
   "outputs": [
    {
     "name": "stdout",
     "output_type": "stream",
     "text": [
      "Requirement already satisfied: simpletransformers in /home/ubuntu/anaconda3/lib/python3.8/site-packages (0.63.4)\n",
      "Requirement already satisfied: requests in /home/ubuntu/anaconda3/lib/python3.8/site-packages (from simpletransformers) (2.25.1)\n",
      "Requirement already satisfied: scikit-learn in /home/ubuntu/anaconda3/lib/python3.8/site-packages (from simpletransformers) (0.24.1)\n",
      "Requirement already satisfied: numpy in /home/ubuntu/anaconda3/lib/python3.8/site-packages (from simpletransformers) (1.19.5)\n",
      "Requirement already satisfied: sentencepiece in /home/ubuntu/anaconda3/lib/python3.8/site-packages (from simpletransformers) (0.1.96)\n",
      "Requirement already satisfied: tqdm>=4.47.0 in /home/ubuntu/anaconda3/lib/python3.8/site-packages (from simpletransformers) (4.62.3)\n",
      "Requirement already satisfied: datasets in /home/ubuntu/anaconda3/lib/python3.8/site-packages (from simpletransformers) (1.18.3)\n",
      "Requirement already satisfied: tokenizers in /home/ubuntu/anaconda3/lib/python3.8/site-packages (from simpletransformers) (0.11.4)\n",
      "Requirement already satisfied: streamlit in /home/ubuntu/anaconda3/lib/python3.8/site-packages (from simpletransformers) (1.5.1)\n",
      "Requirement already satisfied: regex in /home/ubuntu/anaconda3/lib/python3.8/site-packages (from simpletransformers) (2021.4.4)\n",
      "Requirement already satisfied: tensorboard in /home/ubuntu/anaconda3/lib/python3.8/site-packages (from simpletransformers) (2.6.0)\n",
      "Requirement already satisfied: wandb>=0.10.32 in /home/ubuntu/anaconda3/lib/python3.8/site-packages (from simpletransformers) (0.12.10)\n",
      "Requirement already satisfied: scipy in /home/ubuntu/anaconda3/lib/python3.8/site-packages (from simpletransformers) (1.6.2)\n",
      "Requirement already satisfied: transformers>=4.6.0 in /home/ubuntu/anaconda3/lib/python3.8/site-packages (from simpletransformers) (4.18.0.dev0)\n",
      "Requirement already satisfied: pandas in /home/ubuntu/anaconda3/lib/python3.8/site-packages (from simpletransformers) (1.2.4)\n",
      "Requirement already satisfied: seqeval in /home/ubuntu/anaconda3/lib/python3.8/site-packages (from simpletransformers) (1.2.2)\n",
      "Requirement already satisfied: huggingface-hub<1.0,>=0.1.0 in /home/ubuntu/anaconda3/lib/python3.8/site-packages (from transformers>=4.6.0->simpletransformers) (0.4.0)\n",
      "Requirement already satisfied: packaging>=20.0 in /home/ubuntu/anaconda3/lib/python3.8/site-packages (from transformers>=4.6.0->simpletransformers) (20.9)\n",
      "Requirement already satisfied: filelock in /home/ubuntu/anaconda3/lib/python3.8/site-packages (from transformers>=4.6.0->simpletransformers) (3.0.12)\n",
      "Requirement already satisfied: sacremoses in /home/ubuntu/anaconda3/lib/python3.8/site-packages (from transformers>=4.6.0->simpletransformers) (0.0.47)\n",
      "Requirement already satisfied: pyyaml>=5.1 in /home/ubuntu/anaconda3/lib/python3.8/site-packages (from transformers>=4.6.0->simpletransformers) (5.4.1)\n",
      "Requirement already satisfied: shortuuid>=0.5.0 in /home/ubuntu/anaconda3/lib/python3.8/site-packages (from wandb>=0.10.32->simpletransformers) (1.0.8)\n",
      "Requirement already satisfied: pathtools in /home/ubuntu/anaconda3/lib/python3.8/site-packages (from wandb>=0.10.32->simpletransformers) (0.1.2)\n",
      "Requirement already satisfied: GitPython>=1.0.0 in /home/ubuntu/anaconda3/lib/python3.8/site-packages (from wandb>=0.10.32->simpletransformers) (3.1.26)\n",
      "Requirement already satisfied: python-dateutil>=2.6.1 in /home/ubuntu/anaconda3/lib/python3.8/site-packages (from wandb>=0.10.32->simpletransformers) (2.8.1)\n",
      "Requirement already satisfied: promise<3,>=2.0 in /home/ubuntu/anaconda3/lib/python3.8/site-packages (from wandb>=0.10.32->simpletransformers) (2.3)\n",
      "Requirement already satisfied: sentry-sdk>=1.0.0 in /home/ubuntu/anaconda3/lib/python3.8/site-packages (from wandb>=0.10.32->simpletransformers) (1.5.5)\n",
      "Requirement already satisfied: Click!=8.0.0,>=7.0 in /home/ubuntu/anaconda3/lib/python3.8/site-packages (from wandb>=0.10.32->simpletransformers) (7.1.2)\n",
      "Requirement already satisfied: protobuf>=3.12.0 in /home/ubuntu/anaconda3/lib/python3.8/site-packages (from wandb>=0.10.32->simpletransformers) (3.19.4)\n",
      "Requirement already satisfied: six>=1.13.0 in /home/ubuntu/anaconda3/lib/python3.8/site-packages (from wandb>=0.10.32->simpletransformers) (1.15.0)\n",
      "Requirement already satisfied: psutil>=5.0.0 in /home/ubuntu/anaconda3/lib/python3.8/site-packages (from wandb>=0.10.32->simpletransformers) (5.8.0)\n",
      "Requirement already satisfied: docker-pycreds>=0.4.0 in /home/ubuntu/anaconda3/lib/python3.8/site-packages (from wandb>=0.10.32->simpletransformers) (0.4.0)\n",
      "Requirement already satisfied: yaspin>=1.0.0 in /home/ubuntu/anaconda3/lib/python3.8/site-packages (from wandb>=0.10.32->simpletransformers) (2.1.0)\n",
      "Requirement already satisfied: urllib3<1.27,>=1.21.1 in /home/ubuntu/anaconda3/lib/python3.8/site-packages (from requests->simpletransformers) (1.26.4)\n",
      "Requirement already satisfied: chardet<5,>=3.0.2 in /home/ubuntu/anaconda3/lib/python3.8/site-packages (from requests->simpletransformers) (4.0.0)\n",
      "Requirement already satisfied: certifi>=2017.4.17 in /home/ubuntu/anaconda3/lib/python3.8/site-packages (from requests->simpletransformers) (2020.12.5)\n",
      "Requirement already satisfied: idna<3,>=2.5 in /home/ubuntu/anaconda3/lib/python3.8/site-packages (from requests->simpletransformers) (2.10)\n",
      "Requirement already satisfied: dill in /home/ubuntu/anaconda3/lib/python3.8/site-packages (from datasets->simpletransformers) (0.3.4)\n",
      "Requirement already satisfied: xxhash in /home/ubuntu/anaconda3/lib/python3.8/site-packages (from datasets->simpletransformers) (2.0.2)\n",
      "Requirement already satisfied: fsspec[http]>=2021.05.0 in /home/ubuntu/anaconda3/lib/python3.8/site-packages (from datasets->simpletransformers) (2022.1.0)\n",
      "Requirement already satisfied: multiprocess in /home/ubuntu/anaconda3/lib/python3.8/site-packages (from datasets->simpletransformers) (0.70.12.2)\n",
      "Requirement already satisfied: aiohttp in /home/ubuntu/anaconda3/lib/python3.8/site-packages (from datasets->simpletransformers) (3.8.1)\n",
      "Requirement already satisfied: pyarrow!=4.0.0,>=3.0.0 in /home/ubuntu/anaconda3/lib/python3.8/site-packages (from datasets->simpletransformers) (7.0.0)\n",
      "Requirement already satisfied: pytz>=2017.3 in /home/ubuntu/anaconda3/lib/python3.8/site-packages (from pandas->simpletransformers) (2021.1)\n",
      "Requirement already satisfied: joblib>=0.11 in /home/ubuntu/anaconda3/lib/python3.8/site-packages (from scikit-learn->simpletransformers) (1.0.1)\n",
      "Requirement already satisfied: threadpoolctl>=2.0.0 in /home/ubuntu/anaconda3/lib/python3.8/site-packages (from scikit-learn->simpletransformers) (2.1.0)\n",
      "Requirement already satisfied: pydeck>=0.1.dev5 in /home/ubuntu/anaconda3/lib/python3.8/site-packages (from streamlit->simpletransformers) (0.7.1)\n",
      "Requirement already satisfied: base58 in /home/ubuntu/anaconda3/lib/python3.8/site-packages (from streamlit->simpletransformers) (2.1.1)\n",
      "Requirement already satisfied: pympler>=0.9 in /home/ubuntu/anaconda3/lib/python3.8/site-packages (from streamlit->simpletransformers) (1.0.1)\n",
      "Requirement already satisfied: cachetools>=4.0 in /home/ubuntu/anaconda3/lib/python3.8/site-packages (from streamlit->simpletransformers) (4.2.4)\n",
      "Requirement already satisfied: attrs in /home/ubuntu/anaconda3/lib/python3.8/site-packages (from streamlit->simpletransformers) (20.3.0)\n",
      "Requirement already satisfied: watchdog in /home/ubuntu/anaconda3/lib/python3.8/site-packages (from streamlit->simpletransformers) (1.0.2)\n",
      "Requirement already satisfied: altair>=3.2.0 in /home/ubuntu/anaconda3/lib/python3.8/site-packages (from streamlit->simpletransformers) (4.2.0)\n",
      "Requirement already satisfied: toml in /home/ubuntu/anaconda3/lib/python3.8/site-packages (from streamlit->simpletransformers) (0.10.2)\n",
      "Requirement already satisfied: blinker in /home/ubuntu/anaconda3/lib/python3.8/site-packages (from streamlit->simpletransformers) (1.4)\n",
      "Requirement already satisfied: tornado>=5.0 in /home/ubuntu/anaconda3/lib/python3.8/site-packages (from streamlit->simpletransformers) (6.1)\n",
      "Requirement already satisfied: validators in /home/ubuntu/anaconda3/lib/python3.8/site-packages (from streamlit->simpletransformers) (0.18.2)\n",
      "Requirement already satisfied: astor in /home/ubuntu/anaconda3/lib/python3.8/site-packages (from streamlit->simpletransformers) (0.8.1)\n",
      "Requirement already satisfied: pillow>=6.2.0 in /home/ubuntu/anaconda3/lib/python3.8/site-packages (from streamlit->simpletransformers) (8.2.0)\n",
      "Requirement already satisfied: tzlocal in /home/ubuntu/anaconda3/lib/python3.8/site-packages (from streamlit->simpletransformers) (4.1)\n",
      "Requirement already satisfied: setuptools>=41.0.0 in /home/ubuntu/anaconda3/lib/python3.8/site-packages (from tensorboard->simpletransformers) (59.5.0)\n",
      "Requirement already satisfied: google-auth<2,>=1.6.3 in /home/ubuntu/anaconda3/lib/python3.8/site-packages (from tensorboard->simpletransformers) (1.35.0)\n",
      "Requirement already satisfied: wheel>=0.26 in /home/ubuntu/anaconda3/lib/python3.8/site-packages (from tensorboard->simpletransformers) (0.36.2)\n",
      "Requirement already satisfied: werkzeug>=0.11.15 in /home/ubuntu/anaconda3/lib/python3.8/site-packages (from tensorboard->simpletransformers) (1.0.1)\n",
      "Requirement already satisfied: markdown>=2.6.8 in /home/ubuntu/anaconda3/lib/python3.8/site-packages (from tensorboard->simpletransformers) (3.3.6)\n",
      "Requirement already satisfied: absl-py>=0.4 in /home/ubuntu/anaconda3/lib/python3.8/site-packages (from tensorboard->simpletransformers) (0.15.0)\n",
      "Requirement already satisfied: tensorboard-data-server<0.7.0,>=0.6.0 in /home/ubuntu/anaconda3/lib/python3.8/site-packages (from tensorboard->simpletransformers) (0.6.1)\n",
      "Requirement already satisfied: tensorboard-plugin-wit>=1.6.0 in /home/ubuntu/anaconda3/lib/python3.8/site-packages (from tensorboard->simpletransformers) (1.8.1)\n",
      "Requirement already satisfied: google-auth-oauthlib<0.5,>=0.4.1 in /home/ubuntu/anaconda3/lib/python3.8/site-packages (from tensorboard->simpletransformers) (0.4.6)\n",
      "Requirement already satisfied: grpcio>=1.24.3 in /home/ubuntu/anaconda3/lib/python3.8/site-packages (from tensorboard->simpletransformers) (1.43.0)\n",
      "Requirement already satisfied: jsonschema>=3.0 in /home/ubuntu/anaconda3/lib/python3.8/site-packages (from altair>=3.2.0->streamlit->simpletransformers) (3.2.0)\n",
      "Requirement already satisfied: jinja2 in /home/ubuntu/anaconda3/lib/python3.8/site-packages (from altair>=3.2.0->streamlit->simpletransformers) (2.11.3)\n",
      "Requirement already satisfied: entrypoints in /home/ubuntu/anaconda3/lib/python3.8/site-packages (from altair>=3.2.0->streamlit->simpletransformers) (0.3)\n",
      "Requirement already satisfied: toolz in /home/ubuntu/anaconda3/lib/python3.8/site-packages (from altair>=3.2.0->streamlit->simpletransformers) (0.11.1)\n"
     ]
    },
    {
     "name": "stdout",
     "output_type": "stream",
     "text": [
      "Requirement already satisfied: gitdb<5,>=4.0.1 in /home/ubuntu/anaconda3/lib/python3.8/site-packages (from GitPython>=1.0.0->wandb>=0.10.32->simpletransformers) (4.0.9)\n",
      "Requirement already satisfied: rsa<5,>=3.1.4 in /home/ubuntu/anaconda3/lib/python3.8/site-packages (from google-auth<2,>=1.6.3->tensorboard->simpletransformers) (4.8)\n",
      "Requirement already satisfied: pyasn1-modules>=0.2.1 in /home/ubuntu/anaconda3/lib/python3.8/site-packages (from google-auth<2,>=1.6.3->tensorboard->simpletransformers) (0.2.8)\n",
      "Requirement already satisfied: requests-oauthlib>=0.7.0 in /home/ubuntu/anaconda3/lib/python3.8/site-packages (from google-auth-oauthlib<0.5,>=0.4.1->tensorboard->simpletransformers) (1.3.1)\n",
      "Requirement already satisfied: typing-extensions>=3.7.4.3 in /home/ubuntu/anaconda3/lib/python3.8/site-packages (from huggingface-hub<1.0,>=0.1.0->transformers>=4.6.0->simpletransformers) (3.7.4.3)\n",
      "Requirement already satisfied: importlib-metadata>=4.4 in /home/ubuntu/anaconda3/lib/python3.8/site-packages (from markdown>=2.6.8->tensorboard->simpletransformers) (4.11.0)\n",
      "Requirement already satisfied: pyparsing>=2.0.2 in /home/ubuntu/anaconda3/lib/python3.8/site-packages (from packaging>=20.0->transformers>=4.6.0->simpletransformers) (2.4.7)\n",
      "Requirement already satisfied: ipykernel>=5.1.2 in /home/ubuntu/anaconda3/lib/python3.8/site-packages (from pydeck>=0.1.dev5->streamlit->simpletransformers) (5.3.4)\n",
      "Requirement already satisfied: ipywidgets>=7.0.0 in /home/ubuntu/anaconda3/lib/python3.8/site-packages (from pydeck>=0.1.dev5->streamlit->simpletransformers) (7.6.3)\n",
      "Requirement already satisfied: traitlets>=4.3.2 in /home/ubuntu/anaconda3/lib/python3.8/site-packages (from pydeck>=0.1.dev5->streamlit->simpletransformers) (5.0.5)\n",
      "Requirement already satisfied: termcolor<2.0.0,>=1.1.0 in /home/ubuntu/anaconda3/lib/python3.8/site-packages (from yaspin>=1.0.0->wandb>=0.10.32->simpletransformers) (1.1.0)\n",
      "Requirement already satisfied: async-timeout<5.0,>=4.0.0a3 in /home/ubuntu/anaconda3/lib/python3.8/site-packages (from aiohttp->datasets->simpletransformers) (4.0.2)\n",
      "Requirement already satisfied: yarl<2.0,>=1.0 in /home/ubuntu/anaconda3/lib/python3.8/site-packages (from aiohttp->datasets->simpletransformers) (1.7.2)\n",
      "Requirement already satisfied: multidict<7.0,>=4.5 in /home/ubuntu/anaconda3/lib/python3.8/site-packages (from aiohttp->datasets->simpletransformers) (6.0.2)\n",
      "Requirement already satisfied: frozenlist>=1.1.1 in /home/ubuntu/anaconda3/lib/python3.8/site-packages (from aiohttp->datasets->simpletransformers) (1.3.0)\n",
      "Requirement already satisfied: charset-normalizer<3.0,>=2.0 in /home/ubuntu/anaconda3/lib/python3.8/site-packages (from aiohttp->datasets->simpletransformers) (2.0.12)\n",
      "Requirement already satisfied: aiosignal>=1.1.2 in /home/ubuntu/anaconda3/lib/python3.8/site-packages (from aiohttp->datasets->simpletransformers) (1.2.0)\n",
      "Requirement already satisfied: backports.zoneinfo in /home/ubuntu/anaconda3/lib/python3.8/site-packages (from tzlocal->streamlit->simpletransformers) (0.2.1)\n",
      "Requirement already satisfied: pytz-deprecation-shim in /home/ubuntu/anaconda3/lib/python3.8/site-packages (from tzlocal->streamlit->simpletransformers) (0.1.0.post0)\n",
      "Requirement already satisfied: decorator>=3.4.0 in /home/ubuntu/anaconda3/lib/python3.8/site-packages (from validators->streamlit->simpletransformers) (5.0.6)\n",
      "Requirement already satisfied: smmap<6,>=3.0.1 in /home/ubuntu/anaconda3/lib/python3.8/site-packages (from gitdb<5,>=4.0.1->GitPython>=1.0.0->wandb>=0.10.32->simpletransformers) (5.0.0)\n",
      "Requirement already satisfied: zipp>=0.5 in /home/ubuntu/anaconda3/lib/python3.8/site-packages (from importlib-metadata>=4.4->markdown>=2.6.8->tensorboard->simpletransformers) (3.4.1)\n",
      "Requirement already satisfied: jupyter-client in /home/ubuntu/anaconda3/lib/python3.8/site-packages (from ipykernel>=5.1.2->pydeck>=0.1.dev5->streamlit->simpletransformers) (6.1.12)\n",
      "Requirement already satisfied: ipython>=5.0.0 in /home/ubuntu/anaconda3/lib/python3.8/site-packages (from ipykernel>=5.1.2->pydeck>=0.1.dev5->streamlit->simpletransformers) (7.22.0)\n",
      "Requirement already satisfied: nbformat>=4.2.0 in /home/ubuntu/anaconda3/lib/python3.8/site-packages (from ipywidgets>=7.0.0->pydeck>=0.1.dev5->streamlit->simpletransformers) (5.1.3)\n",
      "Requirement already satisfied: jupyterlab-widgets>=1.0.0 in /home/ubuntu/anaconda3/lib/python3.8/site-packages (from ipywidgets>=7.0.0->pydeck>=0.1.dev5->streamlit->simpletransformers) (1.0.0)\n",
      "Requirement already satisfied: widgetsnbextension~=3.5.0 in /home/ubuntu/anaconda3/lib/python3.8/site-packages (from ipywidgets>=7.0.0->pydeck>=0.1.dev5->streamlit->simpletransformers) (3.5.1)\n",
      "Requirement already satisfied: MarkupSafe>=0.23 in /home/ubuntu/anaconda3/lib/python3.8/site-packages (from jinja2->altair>=3.2.0->streamlit->simpletransformers) (1.1.1)\n",
      "Requirement already satisfied: pyrsistent>=0.14.0 in /home/ubuntu/anaconda3/lib/python3.8/site-packages (from jsonschema>=3.0->altair>=3.2.0->streamlit->simpletransformers) (0.17.3)\n",
      "Requirement already satisfied: pyasn1<0.5.0,>=0.4.6 in /home/ubuntu/anaconda3/lib/python3.8/site-packages (from pyasn1-modules>=0.2.1->google-auth<2,>=1.6.3->tensorboard->simpletransformers) (0.4.8)\n",
      "Requirement already satisfied: oauthlib>=3.0.0 in /home/ubuntu/anaconda3/lib/python3.8/site-packages (from requests-oauthlib>=0.7.0->google-auth-oauthlib<0.5,>=0.4.1->tensorboard->simpletransformers) (3.2.0)\n",
      "Requirement already satisfied: ipython-genutils in /home/ubuntu/anaconda3/lib/python3.8/site-packages (from traitlets>=4.3.2->pydeck>=0.1.dev5->streamlit->simpletransformers) (0.2.0)\n",
      "Requirement already satisfied: tzdata in /home/ubuntu/anaconda3/lib/python3.8/site-packages (from pytz-deprecation-shim->tzlocal->streamlit->simpletransformers) (2021.5)\n",
      "Requirement already satisfied: pygments in /home/ubuntu/anaconda3/lib/python3.8/site-packages (from ipython>=5.0.0->ipykernel>=5.1.2->pydeck>=0.1.dev5->streamlit->simpletransformers) (2.8.1)\n",
      "Requirement already satisfied: prompt-toolkit!=3.0.0,!=3.0.1,<3.1.0,>=2.0.0 in /home/ubuntu/anaconda3/lib/python3.8/site-packages (from ipython>=5.0.0->ipykernel>=5.1.2->pydeck>=0.1.dev5->streamlit->simpletransformers) (3.0.17)\n",
      "Requirement already satisfied: jedi>=0.16 in /home/ubuntu/anaconda3/lib/python3.8/site-packages (from ipython>=5.0.0->ipykernel>=5.1.2->pydeck>=0.1.dev5->streamlit->simpletransformers) (0.17.2)\n",
      "Requirement already satisfied: backcall in /home/ubuntu/anaconda3/lib/python3.8/site-packages (from ipython>=5.0.0->ipykernel>=5.1.2->pydeck>=0.1.dev5->streamlit->simpletransformers) (0.2.0)\n",
      "Requirement already satisfied: pickleshare in /home/ubuntu/anaconda3/lib/python3.8/site-packages (from ipython>=5.0.0->ipykernel>=5.1.2->pydeck>=0.1.dev5->streamlit->simpletransformers) (0.7.5)\n",
      "Requirement already satisfied: pexpect>4.3 in /home/ubuntu/anaconda3/lib/python3.8/site-packages (from ipython>=5.0.0->ipykernel>=5.1.2->pydeck>=0.1.dev5->streamlit->simpletransformers) (4.8.0)\n",
      "Requirement already satisfied: jupyter-core in /home/ubuntu/anaconda3/lib/python3.8/site-packages (from nbformat>=4.2.0->ipywidgets>=7.0.0->pydeck>=0.1.dev5->streamlit->simpletransformers) (4.7.1)\n",
      "Requirement already satisfied: notebook>=4.4.1 in /home/ubuntu/anaconda3/lib/python3.8/site-packages (from widgetsnbextension~=3.5.0->ipywidgets>=7.0.0->pydeck>=0.1.dev5->streamlit->simpletransformers) (6.3.0)\n",
      "Requirement already satisfied: pyzmq>=13 in /home/ubuntu/anaconda3/lib/python3.8/site-packages (from jupyter-client->ipykernel>=5.1.2->pydeck>=0.1.dev5->streamlit->simpletransformers) (20.0.0)\n",
      "Requirement already satisfied: parso<0.8.0,>=0.7.0 in /home/ubuntu/anaconda3/lib/python3.8/site-packages (from jedi>=0.16->ipython>=5.0.0->ipykernel>=5.1.2->pydeck>=0.1.dev5->streamlit->simpletransformers) (0.7.0)\n",
      "Requirement already satisfied: Send2Trash>=1.5.0 in /home/ubuntu/anaconda3/lib/python3.8/site-packages (from notebook>=4.4.1->widgetsnbextension~=3.5.0->ipywidgets>=7.0.0->pydeck>=0.1.dev5->streamlit->simpletransformers) (1.5.0)\n",
      "Requirement already satisfied: terminado>=0.8.3 in /home/ubuntu/anaconda3/lib/python3.8/site-packages (from notebook>=4.4.1->widgetsnbextension~=3.5.0->ipywidgets>=7.0.0->pydeck>=0.1.dev5->streamlit->simpletransformers) (0.9.4)\n",
      "Requirement already satisfied: nbconvert in /home/ubuntu/anaconda3/lib/python3.8/site-packages (from notebook>=4.4.1->widgetsnbextension~=3.5.0->ipywidgets>=7.0.0->pydeck>=0.1.dev5->streamlit->simpletransformers) (6.0.7)\n",
      "Requirement already satisfied: argon2-cffi in /home/ubuntu/anaconda3/lib/python3.8/site-packages (from notebook>=4.4.1->widgetsnbextension~=3.5.0->ipywidgets>=7.0.0->pydeck>=0.1.dev5->streamlit->simpletransformers) (20.1.0)\n",
      "Requirement already satisfied: prometheus-client in /home/ubuntu/anaconda3/lib/python3.8/site-packages (from notebook>=4.4.1->widgetsnbextension~=3.5.0->ipywidgets>=7.0.0->pydeck>=0.1.dev5->streamlit->simpletransformers) (0.10.1)\n"
     ]
    },
    {
     "name": "stdout",
     "output_type": "stream",
     "text": [
      "Requirement already satisfied: ptyprocess>=0.5 in /home/ubuntu/anaconda3/lib/python3.8/site-packages (from pexpect>4.3->ipython>=5.0.0->ipykernel>=5.1.2->pydeck>=0.1.dev5->streamlit->simpletransformers) (0.7.0)\n",
      "Requirement already satisfied: wcwidth in /home/ubuntu/anaconda3/lib/python3.8/site-packages (from prompt-toolkit!=3.0.0,!=3.0.1,<3.1.0,>=2.0.0->ipython>=5.0.0->ipykernel>=5.1.2->pydeck>=0.1.dev5->streamlit->simpletransformers) (0.2.5)\n",
      "Requirement already satisfied: cffi>=1.0.0 in /home/ubuntu/anaconda3/lib/python3.8/site-packages (from argon2-cffi->notebook>=4.4.1->widgetsnbextension~=3.5.0->ipywidgets>=7.0.0->pydeck>=0.1.dev5->streamlit->simpletransformers) (1.14.5)\n",
      "Requirement already satisfied: nbclient<0.6.0,>=0.5.0 in /home/ubuntu/anaconda3/lib/python3.8/site-packages (from nbconvert->notebook>=4.4.1->widgetsnbextension~=3.5.0->ipywidgets>=7.0.0->pydeck>=0.1.dev5->streamlit->simpletransformers) (0.5.3)\n",
      "Requirement already satisfied: jupyterlab-pygments in /home/ubuntu/anaconda3/lib/python3.8/site-packages (from nbconvert->notebook>=4.4.1->widgetsnbextension~=3.5.0->ipywidgets>=7.0.0->pydeck>=0.1.dev5->streamlit->simpletransformers) (0.1.2)\n",
      "Requirement already satisfied: testpath in /home/ubuntu/anaconda3/lib/python3.8/site-packages (from nbconvert->notebook>=4.4.1->widgetsnbextension~=3.5.0->ipywidgets>=7.0.0->pydeck>=0.1.dev5->streamlit->simpletransformers) (0.4.4)\n",
      "Requirement already satisfied: pandocfilters>=1.4.1 in /home/ubuntu/anaconda3/lib/python3.8/site-packages (from nbconvert->notebook>=4.4.1->widgetsnbextension~=3.5.0->ipywidgets>=7.0.0->pydeck>=0.1.dev5->streamlit->simpletransformers) (1.4.3)\n",
      "Requirement already satisfied: mistune<2,>=0.8.1 in /home/ubuntu/anaconda3/lib/python3.8/site-packages (from nbconvert->notebook>=4.4.1->widgetsnbextension~=3.5.0->ipywidgets>=7.0.0->pydeck>=0.1.dev5->streamlit->simpletransformers) (0.8.4)\n",
      "Requirement already satisfied: bleach in /home/ubuntu/anaconda3/lib/python3.8/site-packages (from nbconvert->notebook>=4.4.1->widgetsnbextension~=3.5.0->ipywidgets>=7.0.0->pydeck>=0.1.dev5->streamlit->simpletransformers) (3.3.0)\n",
      "Requirement already satisfied: defusedxml in /home/ubuntu/anaconda3/lib/python3.8/site-packages (from nbconvert->notebook>=4.4.1->widgetsnbextension~=3.5.0->ipywidgets>=7.0.0->pydeck>=0.1.dev5->streamlit->simpletransformers) (0.7.1)\n",
      "Requirement already satisfied: pycparser in /home/ubuntu/anaconda3/lib/python3.8/site-packages (from cffi>=1.0.0->argon2-cffi->notebook>=4.4.1->widgetsnbextension~=3.5.0->ipywidgets>=7.0.0->pydeck>=0.1.dev5->streamlit->simpletransformers) (2.20)\n",
      "Requirement already satisfied: nest-asyncio in /home/ubuntu/anaconda3/lib/python3.8/site-packages (from nbclient<0.6.0,>=0.5.0->nbconvert->notebook>=4.4.1->widgetsnbextension~=3.5.0->ipywidgets>=7.0.0->pydeck>=0.1.dev5->streamlit->simpletransformers) (1.5.1)\n",
      "Requirement already satisfied: async-generator in /home/ubuntu/anaconda3/lib/python3.8/site-packages (from nbclient<0.6.0,>=0.5.0->nbconvert->notebook>=4.4.1->widgetsnbextension~=3.5.0->ipywidgets>=7.0.0->pydeck>=0.1.dev5->streamlit->simpletransformers) (1.10)\n",
      "Requirement already satisfied: webencodings in /home/ubuntu/anaconda3/lib/python3.8/site-packages (from bleach->nbconvert->notebook>=4.4.1->widgetsnbextension~=3.5.0->ipywidgets>=7.0.0->pydeck>=0.1.dev5->streamlit->simpletransformers) (0.5.1)\n"
     ]
    }
   ],
   "source": [
    "# Installing transformers\n",
    "!pip install simpletransformers\n",
    "#!pip install transformers\n",
    "# Importing necessary libraries from simple transformers\n",
    "from simpletransformers.seq2seq import Seq2SeqModel,Seq2SeqArgs"
   ]
  },
  {
   "cell_type": "code",
   "execution_count": 27,
   "metadata": {
    "colab": {
     "base_uri": "https://localhost:8080/"
    },
    "executionInfo": {
     "elapsed": 4723,
     "status": "ok",
     "timestamp": 1647042624716,
     "user": {
      "displayName": "Sudhrity Mondal",
      "photoUrl": "https://lh3.googleusercontent.com/a-/AOh14GjdLRgPC40ZQQVs03l36W8pJ7OBsjvQEm8WvkqAATE=s64",
      "userId": "02222642944056104592"
     },
     "user_tz": 480
    },
    "id": "zbeaHCjuvBaN",
    "outputId": "7b3bd937-5e9f-4905-db06-0a42d25a34ad"
   },
   "outputs": [
    {
     "name": "stdout",
     "output_type": "stream",
     "text": [
      "Requirement already satisfied: ipywidgets in /home/ubuntu/anaconda3/lib/python3.8/site-packages (7.6.3)\n",
      "Requirement already satisfied: nbformat>=4.2.0 in /home/ubuntu/anaconda3/lib/python3.8/site-packages (from ipywidgets) (5.1.3)\n",
      "Requirement already satisfied: jupyterlab-widgets>=1.0.0 in /home/ubuntu/anaconda3/lib/python3.8/site-packages (from ipywidgets) (1.0.0)\n",
      "Requirement already satisfied: ipython>=4.0.0 in /home/ubuntu/anaconda3/lib/python3.8/site-packages (from ipywidgets) (7.22.0)\n",
      "Requirement already satisfied: traitlets>=4.3.1 in /home/ubuntu/anaconda3/lib/python3.8/site-packages (from ipywidgets) (5.0.5)\n",
      "Requirement already satisfied: ipykernel>=4.5.1 in /home/ubuntu/anaconda3/lib/python3.8/site-packages (from ipywidgets) (5.3.4)\n",
      "Requirement already satisfied: widgetsnbextension~=3.5.0 in /home/ubuntu/anaconda3/lib/python3.8/site-packages (from ipywidgets) (3.5.1)\n",
      "Requirement already satisfied: tornado>=4.2 in /home/ubuntu/anaconda3/lib/python3.8/site-packages (from ipykernel>=4.5.1->ipywidgets) (6.1)\n",
      "Requirement already satisfied: jupyter-client in /home/ubuntu/anaconda3/lib/python3.8/site-packages (from ipykernel>=4.5.1->ipywidgets) (6.1.12)\n",
      "Requirement already satisfied: setuptools>=18.5 in /home/ubuntu/anaconda3/lib/python3.8/site-packages (from ipython>=4.0.0->ipywidgets) (59.5.0)\n",
      "Requirement already satisfied: backcall in /home/ubuntu/anaconda3/lib/python3.8/site-packages (from ipython>=4.0.0->ipywidgets) (0.2.0)\n",
      "Requirement already satisfied: pickleshare in /home/ubuntu/anaconda3/lib/python3.8/site-packages (from ipython>=4.0.0->ipywidgets) (0.7.5)\n",
      "Requirement already satisfied: pexpect>4.3 in /home/ubuntu/anaconda3/lib/python3.8/site-packages (from ipython>=4.0.0->ipywidgets) (4.8.0)\n",
      "Requirement already satisfied: pygments in /home/ubuntu/anaconda3/lib/python3.8/site-packages (from ipython>=4.0.0->ipywidgets) (2.8.1)\n",
      "Requirement already satisfied: jedi>=0.16 in /home/ubuntu/anaconda3/lib/python3.8/site-packages (from ipython>=4.0.0->ipywidgets) (0.17.2)\n",
      "Requirement already satisfied: decorator in /home/ubuntu/anaconda3/lib/python3.8/site-packages (from ipython>=4.0.0->ipywidgets) (5.0.6)\n",
      "Requirement already satisfied: prompt-toolkit!=3.0.0,!=3.0.1,<3.1.0,>=2.0.0 in /home/ubuntu/anaconda3/lib/python3.8/site-packages (from ipython>=4.0.0->ipywidgets) (3.0.17)\n",
      "Requirement already satisfied: jupyter-core in /home/ubuntu/anaconda3/lib/python3.8/site-packages (from nbformat>=4.2.0->ipywidgets) (4.7.1)\n",
      "Requirement already satisfied: ipython-genutils in /home/ubuntu/anaconda3/lib/python3.8/site-packages (from nbformat>=4.2.0->ipywidgets) (0.2.0)\n",
      "Requirement already satisfied: jsonschema!=2.5.0,>=2.4 in /home/ubuntu/anaconda3/lib/python3.8/site-packages (from nbformat>=4.2.0->ipywidgets) (3.2.0)\n",
      "Requirement already satisfied: notebook>=4.4.1 in /home/ubuntu/anaconda3/lib/python3.8/site-packages (from widgetsnbextension~=3.5.0->ipywidgets) (6.3.0)\n",
      "Requirement already satisfied: parso<0.8.0,>=0.7.0 in /home/ubuntu/anaconda3/lib/python3.8/site-packages (from jedi>=0.16->ipython>=4.0.0->ipywidgets) (0.7.0)\n",
      "Requirement already satisfied: attrs>=17.4.0 in /home/ubuntu/anaconda3/lib/python3.8/site-packages (from jsonschema!=2.5.0,>=2.4->nbformat>=4.2.0->ipywidgets) (20.3.0)\n",
      "Requirement already satisfied: six>=1.11.0 in /home/ubuntu/anaconda3/lib/python3.8/site-packages (from jsonschema!=2.5.0,>=2.4->nbformat>=4.2.0->ipywidgets) (1.15.0)\n",
      "Requirement already satisfied: pyrsistent>=0.14.0 in /home/ubuntu/anaconda3/lib/python3.8/site-packages (from jsonschema!=2.5.0,>=2.4->nbformat>=4.2.0->ipywidgets) (0.17.3)\n",
      "Requirement already satisfied: nbconvert in /home/ubuntu/anaconda3/lib/python3.8/site-packages (from notebook>=4.4.1->widgetsnbextension~=3.5.0->ipywidgets) (6.0.7)\n",
      "Requirement already satisfied: prometheus-client in /home/ubuntu/anaconda3/lib/python3.8/site-packages (from notebook>=4.4.1->widgetsnbextension~=3.5.0->ipywidgets) (0.10.1)\n",
      "Requirement already satisfied: jinja2 in /home/ubuntu/anaconda3/lib/python3.8/site-packages (from notebook>=4.4.1->widgetsnbextension~=3.5.0->ipywidgets) (2.11.3)\n",
      "Requirement already satisfied: terminado>=0.8.3 in /home/ubuntu/anaconda3/lib/python3.8/site-packages (from notebook>=4.4.1->widgetsnbextension~=3.5.0->ipywidgets) (0.9.4)\n",
      "Requirement already satisfied: argon2-cffi in /home/ubuntu/anaconda3/lib/python3.8/site-packages (from notebook>=4.4.1->widgetsnbextension~=3.5.0->ipywidgets) (20.1.0)\n",
      "Requirement already satisfied: pyzmq>=17 in /home/ubuntu/anaconda3/lib/python3.8/site-packages (from notebook>=4.4.1->widgetsnbextension~=3.5.0->ipywidgets) (20.0.0)\n",
      "Requirement already satisfied: Send2Trash>=1.5.0 in /home/ubuntu/anaconda3/lib/python3.8/site-packages (from notebook>=4.4.1->widgetsnbextension~=3.5.0->ipywidgets) (1.5.0)\n",
      "Requirement already satisfied: python-dateutil>=2.1 in /home/ubuntu/anaconda3/lib/python3.8/site-packages (from jupyter-client->ipykernel>=4.5.1->ipywidgets) (2.8.1)\n",
      "Requirement already satisfied: ptyprocess>=0.5 in /home/ubuntu/anaconda3/lib/python3.8/site-packages (from pexpect>4.3->ipython>=4.0.0->ipywidgets) (0.7.0)\n",
      "Requirement already satisfied: wcwidth in /home/ubuntu/anaconda3/lib/python3.8/site-packages (from prompt-toolkit!=3.0.0,!=3.0.1,<3.1.0,>=2.0.0->ipython>=4.0.0->ipywidgets) (0.2.5)\n",
      "Requirement already satisfied: cffi>=1.0.0 in /home/ubuntu/anaconda3/lib/python3.8/site-packages (from argon2-cffi->notebook>=4.4.1->widgetsnbextension~=3.5.0->ipywidgets) (1.14.5)\n",
      "Requirement already satisfied: MarkupSafe>=0.23 in /home/ubuntu/anaconda3/lib/python3.8/site-packages (from jinja2->notebook>=4.4.1->widgetsnbextension~=3.5.0->ipywidgets) (1.1.1)\n",
      "Requirement already satisfied: nbclient<0.6.0,>=0.5.0 in /home/ubuntu/anaconda3/lib/python3.8/site-packages (from nbconvert->notebook>=4.4.1->widgetsnbextension~=3.5.0->ipywidgets) (0.5.3)\n",
      "Requirement already satisfied: defusedxml in /home/ubuntu/anaconda3/lib/python3.8/site-packages (from nbconvert->notebook>=4.4.1->widgetsnbextension~=3.5.0->ipywidgets) (0.7.1)\n",
      "Requirement already satisfied: bleach in /home/ubuntu/anaconda3/lib/python3.8/site-packages (from nbconvert->notebook>=4.4.1->widgetsnbextension~=3.5.0->ipywidgets) (3.3.0)\n",
      "Requirement already satisfied: entrypoints>=0.2.2 in /home/ubuntu/anaconda3/lib/python3.8/site-packages (from nbconvert->notebook>=4.4.1->widgetsnbextension~=3.5.0->ipywidgets) (0.3)\n",
      "Requirement already satisfied: jupyterlab-pygments in /home/ubuntu/anaconda3/lib/python3.8/site-packages (from nbconvert->notebook>=4.4.1->widgetsnbextension~=3.5.0->ipywidgets) (0.1.2)\n",
      "Requirement already satisfied: pandocfilters>=1.4.1 in /home/ubuntu/anaconda3/lib/python3.8/site-packages (from nbconvert->notebook>=4.4.1->widgetsnbextension~=3.5.0->ipywidgets) (1.4.3)\n",
      "Requirement already satisfied: testpath in /home/ubuntu/anaconda3/lib/python3.8/site-packages (from nbconvert->notebook>=4.4.1->widgetsnbextension~=3.5.0->ipywidgets) (0.4.4)\n",
      "Requirement already satisfied: mistune<2,>=0.8.1 in /home/ubuntu/anaconda3/lib/python3.8/site-packages (from nbconvert->notebook>=4.4.1->widgetsnbextension~=3.5.0->ipywidgets) (0.8.4)\n",
      "Requirement already satisfied: pycparser in /home/ubuntu/anaconda3/lib/python3.8/site-packages (from cffi>=1.0.0->argon2-cffi->notebook>=4.4.1->widgetsnbextension~=3.5.0->ipywidgets) (2.20)\n",
      "Requirement already satisfied: async-generator in /home/ubuntu/anaconda3/lib/python3.8/site-packages (from nbclient<0.6.0,>=0.5.0->nbconvert->notebook>=4.4.1->widgetsnbextension~=3.5.0->ipywidgets) (1.10)\n",
      "Requirement already satisfied: nest-asyncio in /home/ubuntu/anaconda3/lib/python3.8/site-packages (from nbclient<0.6.0,>=0.5.0->nbconvert->notebook>=4.4.1->widgetsnbextension~=3.5.0->ipywidgets) (1.5.1)\n",
      "Requirement already satisfied: webencodings in /home/ubuntu/anaconda3/lib/python3.8/site-packages (from bleach->nbconvert->notebook>=4.4.1->widgetsnbextension~=3.5.0->ipywidgets) (0.5.1)\n",
      "Requirement already satisfied: packaging in /home/ubuntu/anaconda3/lib/python3.8/site-packages (from bleach->nbconvert->notebook>=4.4.1->widgetsnbextension~=3.5.0->ipywidgets) (20.9)\n",
      "Requirement already satisfied: pyparsing>=2.0.2 in /home/ubuntu/anaconda3/lib/python3.8/site-packages (from packaging->bleach->nbconvert->notebook>=4.4.1->widgetsnbextension~=3.5.0->ipywidgets) (2.4.7)\n"
     ]
    },
    {
     "name": "stdout",
     "output_type": "stream",
     "text": [
      "Note: you may need to restart the kernel to use updated packages.\n"
     ]
    }
   ],
   "source": [
    "pip install ipywidgets"
   ]
  },
  {
   "cell_type": "code",
   "execution_count": 28,
   "metadata": {
    "colab": {
     "base_uri": "https://localhost:8080/"
    },
    "executionInfo": {
     "elapsed": 223,
     "status": "ok",
     "timestamp": 1647042624930,
     "user": {
      "displayName": "Sudhrity Mondal",
      "photoUrl": "https://lh3.googleusercontent.com/a-/AOh14GjdLRgPC40ZQQVs03l36W8pJ7OBsjvQEm8WvkqAATE=s64",
      "userId": "02222642944056104592"
     },
     "user_tz": 480
    },
    "id": "W7PM7iZmvBaN",
    "outputId": "234f5ead-4b12-4676-d781-fda8ae344e6b"
   },
   "outputs": [
    {
     "name": "stdout",
     "output_type": "stream",
     "text": [
      "Using:  cuda\n"
     ]
    }
   ],
   "source": [
    "device = torch.device(\"cuda\" if torch.cuda.is_available() else \"cpu\")\n",
    "print('Using: ', device)"
   ]
  },
  {
   "cell_type": "code",
   "execution_count": 29,
   "metadata": {
    "colab": {
     "base_uri": "https://localhost:8080/"
    },
    "executionInfo": {
     "elapsed": 21982,
     "status": "ok",
     "timestamp": 1647042650000,
     "user": {
      "displayName": "Sudhrity Mondal",
      "photoUrl": "https://lh3.googleusercontent.com/a-/AOh14GjdLRgPC40ZQQVs03l36W8pJ7OBsjvQEm8WvkqAATE=s64",
      "userId": "02222642944056104592"
     },
     "user_tz": 480
    },
    "id": "g88emQUOwJLE",
    "outputId": "be8d1cbc-e530-48f9-e411-44945ee5f5ff"
   },
   "outputs": [],
   "source": [
    "# from google.colab import drive\n",
    "# drive.mount('/content/drive')"
   ]
  },
  {
   "cell_type": "code",
   "execution_count": 30,
   "metadata": {
    "executionInfo": {
     "elapsed": 203,
     "status": "ok",
     "timestamp": 1647042653679,
     "user": {
      "displayName": "Sudhrity Mondal",
      "photoUrl": "https://lh3.googleusercontent.com/a-/AOh14GjdLRgPC40ZQQVs03l36W8pJ7OBsjvQEm8WvkqAATE=s64",
      "userId": "02222642944056104592"
     },
     "user_tz": 480
    },
    "id": "qk6OnnphsEeZ"
   },
   "outputs": [],
   "source": [
    "# path_models = '/content/drive/MyDrive/w266/models/'\n",
    "# path_outputs = '/content/drive/MyDrive/w266/outputs/'\n",
    "# path_processed_data= '/content/drive/MyDrive/w266/processed_data/'"
   ]
  },
  {
   "cell_type": "code",
   "execution_count": 9,
   "metadata": {},
   "outputs": [],
   "source": [
    "path_models = './models/cnn_2e/'\n",
    "path_outputs = './outputs/'\n",
    "path_processed_data= './processed_data/'"
   ]
  },
  {
   "cell_type": "code",
   "execution_count": 31,
   "metadata": {
    "id": "sK_HfkoIaDBR"
   },
   "outputs": [],
   "source": [
    "data_name = 'cnn_test'\n",
    "input_filename = data_name + '_prediction_t5_v3.json' \n",
    "#out_filename = data_name + '_summary_abs.json'"
   ]
  },
  {
   "cell_type": "code",
   "execution_count": 32,
   "metadata": {
    "executionInfo": {
     "elapsed": 3385,
     "status": "ok",
     "timestamp": 1647042658359,
     "user": {
      "displayName": "Sudhrity Mondal",
      "photoUrl": "https://lh3.googleusercontent.com/a-/AOh14GjdLRgPC40ZQQVs03l36W8pJ7OBsjvQEm8WvkqAATE=s64",
      "userId": "02222642944056104592"
     },
     "user_tz": 480
    },
    "id": "1qxnmsQlvBaP"
   },
   "outputs": [],
   "source": [
    "\n",
    "jsonFile = open(os.path.join(path_processed_data, input_filename), \"r\")\n",
    "jsonContent = jsonFile.read()\n",
    "details_dict = json.loads(jsonContent)\n",
    "jsonFile.close()\n",
    "\n",
    "details = {\n",
    "    'headlines' : details_dict['headlines'],\n",
    "    'text' : details_dict['text'],\n",
    "    'keywords' : details_dict['keywords'],\n",
    "    'summary_art' : details_dict['summary_art'],\n",
    "    'entities' : details_dict['entities'],\n",
    "#    'text_ner' : details_dict['text_ner'],\n",
    "    'sentence_1s' : details_dict['sentence_1s'],\n",
    "    'sentence_3s' : details_dict['sentence_3s'],\n",
    "    'summary_ext' : details_dict['summary_ext'],\n",
    "    'summary_abs' : details_dict['summary_abs'],\n",
    "    'summary_extabs' : details_dict['summary_extabs'],\n",
    "    'summary_ner' : details_dict['summary_ner'],\n",
    "    'summary_t5' : details_dict['summary_t5'],\n",
    "    'predict_1s' : details_dict['predict_1s'],\n",
    "    'predict_3s' : details_dict['predict_3s'],\n",
    "    'predict_text' : details_dict['predict_text'],\n",
    "    'predict_ext' : details_dict['predict_ext'],\n",
    "    'predict_abs' : details_dict['predict_abs'],\n",
    "    'predict_extabs' : details_dict['predict_extabs'],\n",
    "#    'predict_ner' : details_dict['predict_ner'],\n",
    "#    'predict_t5' : details_dict['predict_t5']\n",
    "}\n",
    "\n",
    "df_score = pd.DataFrame(details)"
   ]
  },
  {
   "cell_type": "code",
   "execution_count": 33,
   "metadata": {
    "colab": {
     "base_uri": "https://localhost:8080/"
    },
    "executionInfo": {
     "elapsed": 11,
     "status": "ok",
     "timestamp": 1646925454518,
     "user": {
      "displayName": "Sudhrity Mondal",
      "photoUrl": "https://lh3.googleusercontent.com/a-/AOh14GjdLRgPC40ZQQVs03l36W8pJ7OBsjvQEm8WvkqAATE=s64",
      "userId": "02222642944056104592"
     },
     "user_tz": 480
    },
    "id": "3QjvSHFWvBaQ",
    "outputId": "c797f1f8-7c42-4a5a-b0d4-1a48cda9e22f"
   },
   "outputs": [],
   "source": [
    "#print(len(details_dict['predict_ner']))"
   ]
  },
  {
   "cell_type": "code",
   "execution_count": 34,
   "metadata": {
    "colab": {
     "base_uri": "https://localhost:8080/",
     "height": 1463
    },
    "executionInfo": {
     "elapsed": 12480,
     "status": "ok",
     "timestamp": 1646926221748,
     "user": {
      "displayName": "Sudhrity Mondal",
      "photoUrl": "https://lh3.googleusercontent.com/a-/AOh14GjdLRgPC40ZQQVs03l36W8pJ7OBsjvQEm8WvkqAATE=s64",
      "userId": "02222642944056104592"
     },
     "user_tz": 480
    },
    "id": "-Oa6BGbANvIk",
    "outputId": "64a742ab-36d9-4a43-b7c5-d0a6b52d5ad4"
   },
   "outputs": [
    {
     "data": {
      "text/html": [
       "<div>\n",
       "<style scoped>\n",
       "    .dataframe tbody tr th:only-of-type {\n",
       "        vertical-align: middle;\n",
       "    }\n",
       "\n",
       "    .dataframe tbody tr th {\n",
       "        vertical-align: top;\n",
       "    }\n",
       "\n",
       "    .dataframe thead th {\n",
       "        text-align: right;\n",
       "    }\n",
       "</style>\n",
       "<table border=\"1\" class=\"dataframe\">\n",
       "  <thead>\n",
       "    <tr style=\"text-align: right;\">\n",
       "      <th></th>\n",
       "      <th>headlines</th>\n",
       "      <th>predict_1s</th>\n",
       "      <th>predict_3s</th>\n",
       "      <th>predict_text</th>\n",
       "      <th>predict_ext</th>\n",
       "      <th>predict_abs</th>\n",
       "      <th>predict_extabs</th>\n",
       "    </tr>\n",
       "  </thead>\n",
       "  <tbody>\n",
       "    <tr>\n",
       "      <th>0</th>\n",
       "      <td>Soldier slain London street machine gunner dru...</td>\n",
       "      <td>Story highlights Drummer Lee Riggers Rigby 25 ...</td>\n",
       "      <td>Machine gunner becomes recruiter</td>\n",
       "      <td>Machine gunner became recruiter</td>\n",
       "      <td>Machine gunner became recruiter</td>\n",
       "      <td>Drummer Lee Rigby father 2yearold son</td>\n",
       "      <td>Drummer Lee Rigby joined Royal Regiment Fusiliers</td>\n",
       "    </tr>\n",
       "    <tr>\n",
       "      <th>1</th>\n",
       "      <td>New York probes report EMTs ignored woman died</td>\n",
       "      <td>New York   Officials investigating reports two...</td>\n",
       "      <td>Fire department dispatchers refused help pregn...</td>\n",
       "      <td>New York EMTs refused help pregnant worker</td>\n",
       "      <td>New York EMTs refused help pregnant worker</td>\n",
       "      <td>New York fire department suspends 2 dispatchers</td>\n",
       "      <td>New York fire department suspends 2 dispatchers</td>\n",
       "    </tr>\n",
       "    <tr>\n",
       "      <th>2</th>\n",
       "      <td>Erupt typical travel pattern</td>\n",
       "      <td>Editor note Share volcano photos CNN iReport .</td>\n",
       "      <td>Volcano crater lifts Chilean volcano</td>\n",
       "      <td>Antarctica volcanoes...</td>\n",
       "      <td>Antarctica volcanoes...</td>\n",
       "      <td>Volcanoes around world</td>\n",
       "      <td>Volcanoes Antarctica The world hospitable volcano</td>\n",
       "    </tr>\n",
       "    <tr>\n",
       "      <th>3</th>\n",
       "      <td>Sentencing phase begin convicted Ohio serial k...</td>\n",
       "      <td>An Ohio jury Monday begin sentencing phase c...</td>\n",
       "      <td>Ohio jury decides death penalty convicted seri...</td>\n",
       "      <td>Ohio serial killer gets life sentence</td>\n",
       "      <td>Ohio serial killer Anthony Sowell gets life se...</td>\n",
       "      <td>Ohio serial killer gets sentencing</td>\n",
       "      <td>Ohio serial killer Anthony Sowell sentencing</td>\n",
       "    </tr>\n",
       "    <tr>\n",
       "      <th>4</th>\n",
       "      <td>Girl loses 65 pounds fight childhood obesity</td>\n",
       "      <td>Update In July 2014 Breanna Bond 12 competed...</td>\n",
       "      <td>Breanna Bond loses 79 pounds</td>\n",
       "      <td>How parents help kids lose weight</td>\n",
       "      <td>Teen loses 65 pounds 6 pounds</td>\n",
       "      <td>Breanna Bond loses 79 pounds</td>\n",
       "      <td>Breanna Bond The girl sank heart</td>\n",
       "    </tr>\n",
       "    <tr>\n",
       "      <th>...</th>\n",
       "      <td>...</td>\n",
       "      <td>...</td>\n",
       "      <td>...</td>\n",
       "      <td>...</td>\n",
       "      <td>...</td>\n",
       "      <td>...</td>\n",
       "      <td>...</td>\n",
       "    </tr>\n",
       "    <tr>\n",
       "      <th>9155</th>\n",
       "      <td>What evidence Syrian chemical weapons attack</td>\n",
       "      <td>outside experts help us establish whether thi...</td>\n",
       "      <td>Syrian rebels claim chemical weapons</td>\n",
       "      <td>U. N. probes Syria chemical weapons</td>\n",
       "      <td>U. N. seeks probe Syria chemical weapons</td>\n",
       "      <td>German intelligence agency says Assad regime b...</td>\n",
       "      <td>U. N. pushing nations hold action Syria</td>\n",
       "    </tr>\n",
       "    <tr>\n",
       "      <th>9156</th>\n",
       "      <td>A town copes lives lost Texas blast</td>\n",
       "      <td>West Texas   Since little boys growing West Te...</td>\n",
       "      <td>Volunteer firefighters help West Texas fire</td>\n",
       "      <td>Firefighters help victims Texas blaze</td>\n",
       "      <td>9 firstresponders die Texas blaze</td>\n",
       "      <td>14 die West Fertilizer Co. blast</td>\n",
       "      <td>9 firstresponders die firefighting blaze</td>\n",
       "    </tr>\n",
       "    <tr>\n",
       "      <th>9157</th>\n",
       "      <td>Voluntary recall another compounding facility</td>\n",
       "      <td>Government Accountability Office released rep...</td>\n",
       "      <td>Report FDA oversight gap serious</td>\n",
       "      <td>Report FDA oversight gap compounding facilities</td>\n",
       "      <td>FDA report finds serious oversight gaps</td>\n",
       "      <td>FDA slammed compounding deaths</td>\n",
       "      <td>FDA slammed compounding deaths</td>\n",
       "    </tr>\n",
       "    <tr>\n",
       "      <th>9158</th>\n",
       "      <td>Crowdsourced maps help mobile users compare ne...</td>\n",
       "      <td>Editor note Amy Gahran writes mobile tech CNN .</td>\n",
       "      <td>Mobile tech vs. desktop</td>\n",
       "      <td>Why mobile data maps matter</td>\n",
       "      <td>Why mobile data maps matter</td>\n",
       "      <td>Mobile tech revolutionizes world</td>\n",
       "      <td>How mobile apps help people stay connected</td>\n",
       "    </tr>\n",
       "    <tr>\n",
       "      <th>9159</th>\n",
       "      <td>Survivors shocked double attack</td>\n",
       "      <td>Story highlights Victims bus bomb hospital att...</td>\n",
       "      <td>Bus bombing shocked women university</td>\n",
       "      <td>Woman burns cries Were going college</td>\n",
       "      <td>Female suicide bomber kills 12 women hospital</td>\n",
       "      <td>Burned flesh still lingers Pakistani university</td>\n",
       "      <td>Female suicide bomber attacks university bus</td>\n",
       "    </tr>\n",
       "  </tbody>\n",
       "</table>\n",
       "<p>9160 rows × 7 columns</p>\n",
       "</div>"
      ],
      "text/plain": [
       "                                              headlines  \\\n",
       "0     Soldier slain London street machine gunner dru...   \n",
       "1        New York probes report EMTs ignored woman died   \n",
       "2                          Erupt typical travel pattern   \n",
       "3     Sentencing phase begin convicted Ohio serial k...   \n",
       "4          Girl loses 65 pounds fight childhood obesity   \n",
       "...                                                 ...   \n",
       "9155       What evidence Syrian chemical weapons attack   \n",
       "9156                A town copes lives lost Texas blast   \n",
       "9157      Voluntary recall another compounding facility   \n",
       "9158  Crowdsourced maps help mobile users compare ne...   \n",
       "9159                    Survivors shocked double attack   \n",
       "\n",
       "                                             predict_1s  \\\n",
       "0     Story highlights Drummer Lee Riggers Rigby 25 ...   \n",
       "1     New York   Officials investigating reports two...   \n",
       "2        Editor note Share volcano photos CNN iReport .   \n",
       "3       An Ohio jury Monday begin sentencing phase c...   \n",
       "4       Update In July 2014 Breanna Bond 12 competed...   \n",
       "...                                                 ...   \n",
       "9155   outside experts help us establish whether thi...   \n",
       "9156  West Texas   Since little boys growing West Te...   \n",
       "9157   Government Accountability Office released rep...   \n",
       "9158    Editor note Amy Gahran writes mobile tech CNN .   \n",
       "9159  Story highlights Victims bus bomb hospital att...   \n",
       "\n",
       "                                             predict_3s  \\\n",
       "0                      Machine gunner becomes recruiter   \n",
       "1     Fire department dispatchers refused help pregn...   \n",
       "2                  Volcano crater lifts Chilean volcano   \n",
       "3     Ohio jury decides death penalty convicted seri...   \n",
       "4                          Breanna Bond loses 79 pounds   \n",
       "...                                                 ...   \n",
       "9155               Syrian rebels claim chemical weapons   \n",
       "9156        Volunteer firefighters help West Texas fire   \n",
       "9157                   Report FDA oversight gap serious   \n",
       "9158                            Mobile tech vs. desktop   \n",
       "9159               Bus bombing shocked women university   \n",
       "\n",
       "                                         predict_text  \\\n",
       "0                     Machine gunner became recruiter   \n",
       "1          New York EMTs refused help pregnant worker   \n",
       "2                             Antarctica volcanoes...   \n",
       "3               Ohio serial killer gets life sentence   \n",
       "4                   How parents help kids lose weight   \n",
       "...                                               ...   \n",
       "9155              U. N. probes Syria chemical weapons   \n",
       "9156            Firefighters help victims Texas blaze   \n",
       "9157  Report FDA oversight gap compounding facilities   \n",
       "9158                      Why mobile data maps matter   \n",
       "9159             Woman burns cries Were going college   \n",
       "\n",
       "                                            predict_ext  \\\n",
       "0                       Machine gunner became recruiter   \n",
       "1            New York EMTs refused help pregnant worker   \n",
       "2                               Antarctica volcanoes...   \n",
       "3     Ohio serial killer Anthony Sowell gets life se...   \n",
       "4                         Teen loses 65 pounds 6 pounds   \n",
       "...                                                 ...   \n",
       "9155           U. N. seeks probe Syria chemical weapons   \n",
       "9156                  9 firstresponders die Texas blaze   \n",
       "9157            FDA report finds serious oversight gaps   \n",
       "9158                        Why mobile data maps matter   \n",
       "9159      Female suicide bomber kills 12 women hospital   \n",
       "\n",
       "                                            predict_abs  \\\n",
       "0                 Drummer Lee Rigby father 2yearold son   \n",
       "1       New York fire department suspends 2 dispatchers   \n",
       "2                                Volcanoes around world   \n",
       "3                    Ohio serial killer gets sentencing   \n",
       "4                          Breanna Bond loses 79 pounds   \n",
       "...                                                 ...   \n",
       "9155  German intelligence agency says Assad regime b...   \n",
       "9156                   14 die West Fertilizer Co. blast   \n",
       "9157                     FDA slammed compounding deaths   \n",
       "9158                   Mobile tech revolutionizes world   \n",
       "9159    Burned flesh still lingers Pakistani university   \n",
       "\n",
       "                                         predict_extabs  \n",
       "0     Drummer Lee Rigby joined Royal Regiment Fusiliers  \n",
       "1       New York fire department suspends 2 dispatchers  \n",
       "2     Volcanoes Antarctica The world hospitable volcano  \n",
       "3          Ohio serial killer Anthony Sowell sentencing  \n",
       "4                      Breanna Bond The girl sank heart  \n",
       "...                                                 ...  \n",
       "9155            U. N. pushing nations hold action Syria  \n",
       "9156           9 firstresponders die firefighting blaze  \n",
       "9157                     FDA slammed compounding deaths  \n",
       "9158         How mobile apps help people stay connected  \n",
       "9159       Female suicide bomber attacks university bus  \n",
       "\n",
       "[9160 rows x 7 columns]"
      ]
     },
     "execution_count": 34,
     "metadata": {},
     "output_type": "execute_result"
    }
   ],
   "source": [
    "df_results = {k: details[k] for k in ('headlines', 'predict_1s', 'predict_3s', 'predict_text', 'predict_ext', 'predict_abs', 'predict_extabs')}\n",
    "pd.DataFrame(df_results)"
   ]
  },
  {
   "cell_type": "code",
   "execution_count": 35,
   "metadata": {},
   "outputs": [
    {
     "name": "stdout",
     "output_type": "stream",
     "text": [
      "Requirement already satisfied: Rouge in /home/ubuntu/anaconda3/lib/python3.8/site-packages (1.0.1)\n",
      "Requirement already satisfied: six in /home/ubuntu/anaconda3/lib/python3.8/site-packages (from Rouge) (1.15.0)\n",
      "Note: you may need to restart the kernel to use updated packages.\n"
     ]
    }
   ],
   "source": [
    "pip install Rouge"
   ]
  },
  {
   "cell_type": "code",
   "execution_count": 36,
   "metadata": {},
   "outputs": [],
   "source": [
    "from rouge import Rouge\n",
    "rouge = Rouge()"
   ]
  },
  {
   "cell_type": "code",
   "execution_count": 37,
   "metadata": {
    "id": "nmkUfJIQOs8s"
   },
   "outputs": [
    {
     "data": {
      "text/html": [
       "<div>\n",
       "<style scoped>\n",
       "    .dataframe tbody tr th:only-of-type {\n",
       "        vertical-align: middle;\n",
       "    }\n",
       "\n",
       "    .dataframe tbody tr th {\n",
       "        vertical-align: top;\n",
       "    }\n",
       "\n",
       "    .dataframe thead th {\n",
       "        text-align: right;\n",
       "    }\n",
       "</style>\n",
       "<table border=\"1\" class=\"dataframe\">\n",
       "  <thead>\n",
       "    <tr style=\"text-align: right;\">\n",
       "      <th></th>\n",
       "      <th>rouge-1</th>\n",
       "      <th>rouge-2</th>\n",
       "      <th>rouge-l</th>\n",
       "    </tr>\n",
       "  </thead>\n",
       "  <tbody>\n",
       "    <tr>\n",
       "      <th>r</th>\n",
       "      <td>0.272922</td>\n",
       "      <td>0.089370</td>\n",
       "      <td>0.241525</td>\n",
       "    </tr>\n",
       "    <tr>\n",
       "      <th>p</th>\n",
       "      <td>0.109200</td>\n",
       "      <td>0.030277</td>\n",
       "      <td>0.098448</td>\n",
       "    </tr>\n",
       "    <tr>\n",
       "      <th>f</th>\n",
       "      <td>0.142266</td>\n",
       "      <td>0.041741</td>\n",
       "      <td>0.126898</td>\n",
       "    </tr>\n",
       "  </tbody>\n",
       "</table>\n",
       "</div>"
      ],
      "text/plain": [
       "    rouge-1   rouge-2   rouge-l\n",
       "r  0.272922  0.089370  0.241525\n",
       "p  0.109200  0.030277  0.098448\n",
       "f  0.142266  0.041741  0.126898"
      ]
     },
     "execution_count": 37,
     "metadata": {},
     "output_type": "execute_result"
    }
   ],
   "source": [
    "score_1s = rouge.get_scores(details_dict['predict_1s'], details_dict['headlines'], avg=True)\n",
    "df_results = {k: score_1s[k] for k in ('rouge-1', 'rouge-2', 'rouge-l')}\n",
    "pd.DataFrame(df_results)"
   ]
  },
  {
   "cell_type": "code",
   "execution_count": 38,
   "metadata": {},
   "outputs": [
    {
     "data": {
      "text/html": [
       "<div>\n",
       "<style scoped>\n",
       "    .dataframe tbody tr th:only-of-type {\n",
       "        vertical-align: middle;\n",
       "    }\n",
       "\n",
       "    .dataframe tbody tr th {\n",
       "        vertical-align: top;\n",
       "    }\n",
       "\n",
       "    .dataframe thead th {\n",
       "        text-align: right;\n",
       "    }\n",
       "</style>\n",
       "<table border=\"1\" class=\"dataframe\">\n",
       "  <thead>\n",
       "    <tr style=\"text-align: right;\">\n",
       "      <th></th>\n",
       "      <th>rouge-1</th>\n",
       "      <th>rouge-2</th>\n",
       "      <th>rouge-l</th>\n",
       "    </tr>\n",
       "  </thead>\n",
       "  <tbody>\n",
       "    <tr>\n",
       "      <th>r</th>\n",
       "      <td>0.252602</td>\n",
       "      <td>0.098715</td>\n",
       "      <td>0.238290</td>\n",
       "    </tr>\n",
       "    <tr>\n",
       "      <th>p</th>\n",
       "      <td>0.278804</td>\n",
       "      <td>0.110566</td>\n",
       "      <td>0.262877</td>\n",
       "    </tr>\n",
       "    <tr>\n",
       "      <th>f</th>\n",
       "      <td>0.259567</td>\n",
       "      <td>0.101613</td>\n",
       "      <td>0.244778</td>\n",
       "    </tr>\n",
       "  </tbody>\n",
       "</table>\n",
       "</div>"
      ],
      "text/plain": [
       "    rouge-1   rouge-2   rouge-l\n",
       "r  0.252602  0.098715  0.238290\n",
       "p  0.278804  0.110566  0.262877\n",
       "f  0.259567  0.101613  0.244778"
      ]
     },
     "execution_count": 38,
     "metadata": {},
     "output_type": "execute_result"
    }
   ],
   "source": [
    "score_3s = rouge.get_scores(details_dict['predict_3s'], details_dict['headlines'], avg=True)\n",
    "df_results = {k: score_3s[k] for k in ('rouge-1', 'rouge-2', 'rouge-l')}\n",
    "pd.DataFrame(df_results)"
   ]
  },
  {
   "cell_type": "code",
   "execution_count": 39,
   "metadata": {},
   "outputs": [
    {
     "data": {
      "text/html": [
       "<div>\n",
       "<style scoped>\n",
       "    .dataframe tbody tr th:only-of-type {\n",
       "        vertical-align: middle;\n",
       "    }\n",
       "\n",
       "    .dataframe tbody tr th {\n",
       "        vertical-align: top;\n",
       "    }\n",
       "\n",
       "    .dataframe thead th {\n",
       "        text-align: right;\n",
       "    }\n",
       "</style>\n",
       "<table border=\"1\" class=\"dataframe\">\n",
       "  <thead>\n",
       "    <tr style=\"text-align: right;\">\n",
       "      <th></th>\n",
       "      <th>rouge-1</th>\n",
       "      <th>rouge-2</th>\n",
       "      <th>rouge-l</th>\n",
       "    </tr>\n",
       "  </thead>\n",
       "  <tbody>\n",
       "    <tr>\n",
       "      <th>r</th>\n",
       "      <td>0.276502</td>\n",
       "      <td>0.105168</td>\n",
       "      <td>0.261143</td>\n",
       "    </tr>\n",
       "    <tr>\n",
       "      <th>p</th>\n",
       "      <td>0.311826</td>\n",
       "      <td>0.119371</td>\n",
       "      <td>0.294270</td>\n",
       "    </tr>\n",
       "    <tr>\n",
       "      <th>f</th>\n",
       "      <td>0.287278</td>\n",
       "      <td>0.108937</td>\n",
       "      <td>0.271190</td>\n",
       "    </tr>\n",
       "  </tbody>\n",
       "</table>\n",
       "</div>"
      ],
      "text/plain": [
       "    rouge-1   rouge-2   rouge-l\n",
       "r  0.276502  0.105168  0.261143\n",
       "p  0.311826  0.119371  0.294270\n",
       "f  0.287278  0.108937  0.271190"
      ]
     },
     "execution_count": 39,
     "metadata": {},
     "output_type": "execute_result"
    }
   ],
   "source": [
    "score_text = rouge.get_scores(details_dict['predict_text'], details_dict['headlines'], avg=True)\n",
    "df_results = {k: score_text[k] for k in ('rouge-1', 'rouge-2', 'rouge-l')}\n",
    "pd.DataFrame(df_results)"
   ]
  },
  {
   "cell_type": "code",
   "execution_count": 40,
   "metadata": {},
   "outputs": [
    {
     "data": {
      "text/html": [
       "<div>\n",
       "<style scoped>\n",
       "    .dataframe tbody tr th:only-of-type {\n",
       "        vertical-align: middle;\n",
       "    }\n",
       "\n",
       "    .dataframe tbody tr th {\n",
       "        vertical-align: top;\n",
       "    }\n",
       "\n",
       "    .dataframe thead th {\n",
       "        text-align: right;\n",
       "    }\n",
       "</style>\n",
       "<table border=\"1\" class=\"dataframe\">\n",
       "  <thead>\n",
       "    <tr style=\"text-align: right;\">\n",
       "      <th></th>\n",
       "      <th>rouge-1</th>\n",
       "      <th>rouge-2</th>\n",
       "      <th>rouge-l</th>\n",
       "    </tr>\n",
       "  </thead>\n",
       "  <tbody>\n",
       "    <tr>\n",
       "      <th>r</th>\n",
       "      <td>0.265991</td>\n",
       "      <td>0.100975</td>\n",
       "      <td>0.251872</td>\n",
       "    </tr>\n",
       "    <tr>\n",
       "      <th>p</th>\n",
       "      <td>0.296465</td>\n",
       "      <td>0.113328</td>\n",
       "      <td>0.280362</td>\n",
       "    </tr>\n",
       "    <tr>\n",
       "      <th>f</th>\n",
       "      <td>0.274567</td>\n",
       "      <td>0.103921</td>\n",
       "      <td>0.259830</td>\n",
       "    </tr>\n",
       "  </tbody>\n",
       "</table>\n",
       "</div>"
      ],
      "text/plain": [
       "    rouge-1   rouge-2   rouge-l\n",
       "r  0.265991  0.100975  0.251872\n",
       "p  0.296465  0.113328  0.280362\n",
       "f  0.274567  0.103921  0.259830"
      ]
     },
     "execution_count": 40,
     "metadata": {},
     "output_type": "execute_result"
    }
   ],
   "source": [
    "score_ext = rouge.get_scores(details_dict['predict_ext'], details_dict['headlines'], avg=True)\n",
    "df_results = {k: score_ext[k] for k in ('rouge-1', 'rouge-2', 'rouge-l')}\n",
    "pd.DataFrame(df_results)"
   ]
  },
  {
   "cell_type": "code",
   "execution_count": 41,
   "metadata": {},
   "outputs": [
    {
     "data": {
      "text/html": [
       "<div>\n",
       "<style scoped>\n",
       "    .dataframe tbody tr th:only-of-type {\n",
       "        vertical-align: middle;\n",
       "    }\n",
       "\n",
       "    .dataframe tbody tr th {\n",
       "        vertical-align: top;\n",
       "    }\n",
       "\n",
       "    .dataframe thead th {\n",
       "        text-align: right;\n",
       "    }\n",
       "</style>\n",
       "<table border=\"1\" class=\"dataframe\">\n",
       "  <thead>\n",
       "    <tr style=\"text-align: right;\">\n",
       "      <th></th>\n",
       "      <th>rouge-1</th>\n",
       "      <th>rouge-2</th>\n",
       "      <th>rouge-l</th>\n",
       "    </tr>\n",
       "  </thead>\n",
       "  <tbody>\n",
       "    <tr>\n",
       "      <th>r</th>\n",
       "      <td>0.235459</td>\n",
       "      <td>0.085740</td>\n",
       "      <td>0.222906</td>\n",
       "    </tr>\n",
       "    <tr>\n",
       "      <th>p</th>\n",
       "      <td>0.257883</td>\n",
       "      <td>0.095098</td>\n",
       "      <td>0.243816</td>\n",
       "    </tr>\n",
       "    <tr>\n",
       "      <th>f</th>\n",
       "      <td>0.240501</td>\n",
       "      <td>0.087483</td>\n",
       "      <td>0.227504</td>\n",
       "    </tr>\n",
       "  </tbody>\n",
       "</table>\n",
       "</div>"
      ],
      "text/plain": [
       "    rouge-1   rouge-2   rouge-l\n",
       "r  0.235459  0.085740  0.222906\n",
       "p  0.257883  0.095098  0.243816\n",
       "f  0.240501  0.087483  0.227504"
      ]
     },
     "execution_count": 41,
     "metadata": {},
     "output_type": "execute_result"
    }
   ],
   "source": [
    "score_abs = rouge.get_scores(details_dict['predict_abs'], details_dict['headlines'], avg=True)\n",
    "df_results = {k: score_abs[k] for k in ('rouge-1', 'rouge-2', 'rouge-l')}\n",
    "pd.DataFrame(df_results)"
   ]
  },
  {
   "cell_type": "code",
   "execution_count": 42,
   "metadata": {},
   "outputs": [
    {
     "data": {
      "text/html": [
       "<div>\n",
       "<style scoped>\n",
       "    .dataframe tbody tr th:only-of-type {\n",
       "        vertical-align: middle;\n",
       "    }\n",
       "\n",
       "    .dataframe tbody tr th {\n",
       "        vertical-align: top;\n",
       "    }\n",
       "\n",
       "    .dataframe thead th {\n",
       "        text-align: right;\n",
       "    }\n",
       "</style>\n",
       "<table border=\"1\" class=\"dataframe\">\n",
       "  <thead>\n",
       "    <tr style=\"text-align: right;\">\n",
       "      <th></th>\n",
       "      <th>rouge-1</th>\n",
       "      <th>rouge-2</th>\n",
       "      <th>rouge-l</th>\n",
       "    </tr>\n",
       "  </thead>\n",
       "  <tbody>\n",
       "    <tr>\n",
       "      <th>r</th>\n",
       "      <td>0.216917</td>\n",
       "      <td>0.075950</td>\n",
       "      <td>0.205077</td>\n",
       "    </tr>\n",
       "    <tr>\n",
       "      <th>p</th>\n",
       "      <td>0.240518</td>\n",
       "      <td>0.085413</td>\n",
       "      <td>0.227252</td>\n",
       "    </tr>\n",
       "    <tr>\n",
       "      <th>f</th>\n",
       "      <td>0.222871</td>\n",
       "      <td>0.078061</td>\n",
       "      <td>0.210626</td>\n",
       "    </tr>\n",
       "  </tbody>\n",
       "</table>\n",
       "</div>"
      ],
      "text/plain": [
       "    rouge-1   rouge-2   rouge-l\n",
       "r  0.216917  0.075950  0.205077\n",
       "p  0.240518  0.085413  0.227252\n",
       "f  0.222871  0.078061  0.210626"
      ]
     },
     "execution_count": 42,
     "metadata": {},
     "output_type": "execute_result"
    }
   ],
   "source": [
    "score_extabs = rouge.get_scores(details_dict['predict_extabs'], details_dict['headlines'], avg=True)\n",
    "df_results = {k: score_extabs[k] for k in ('rouge-1', 'rouge-2', 'rouge-l')}\n",
    "pd.DataFrame(df_results)"
   ]
  },
  {
   "cell_type": "code",
   "execution_count": 43,
   "metadata": {},
   "outputs": [],
   "source": [
    "# score_ner = rouge.get_scores(details_dict['predict_ner'], details_dict['headlines'], avg=True)\n",
    "# df_results = {k: score_ner[k] for k in ('rouge-1', 'rouge-2', 'rouge-l')}\n",
    "# pd.DataFrame(df_results)"
   ]
  },
  {
   "cell_type": "code",
   "execution_count": 44,
   "metadata": {},
   "outputs": [],
   "source": [
    "# score_t5 = rouge.get_scores(details_dict['predict_t5'], details_dict['headlines'], avg=True)\n",
    "# df_results = {k: score_t5[k] for k in ('rouge-1', 'rouge-2', 'rouge-l')}\n",
    "# pd.DataFrame(df_results)"
   ]
  },
  {
   "cell_type": "code",
   "execution_count": 45,
   "metadata": {},
   "outputs": [
    {
     "data": {
      "text/html": [
       "<div>\n",
       "<style scoped>\n",
       "    .dataframe tbody tr th:only-of-type {\n",
       "        vertical-align: middle;\n",
       "    }\n",
       "\n",
       "    .dataframe tbody tr th {\n",
       "        vertical-align: top;\n",
       "    }\n",
       "\n",
       "    .dataframe thead th {\n",
       "        text-align: right;\n",
       "    }\n",
       "</style>\n",
       "<table border=\"1\" class=\"dataframe\">\n",
       "  <thead>\n",
       "    <tr style=\"text-align: right;\">\n",
       "      <th></th>\n",
       "      <th>rouge-1</th>\n",
       "      <th>rouge-2</th>\n",
       "      <th>rouge-l</th>\n",
       "    </tr>\n",
       "  </thead>\n",
       "  <tbody>\n",
       "    <tr>\n",
       "      <th>r</th>\n",
       "      <td>0.313150</td>\n",
       "      <td>0.125076</td>\n",
       "      <td>0.294271</td>\n",
       "    </tr>\n",
       "    <tr>\n",
       "      <th>p</th>\n",
       "      <td>0.344602</td>\n",
       "      <td>0.138834</td>\n",
       "      <td>0.323599</td>\n",
       "    </tr>\n",
       "    <tr>\n",
       "      <th>f</th>\n",
       "      <td>0.321291</td>\n",
       "      <td>0.128126</td>\n",
       "      <td>0.301776</td>\n",
       "    </tr>\n",
       "  </tbody>\n",
       "</table>\n",
       "</div>"
      ],
      "text/plain": [
       "    rouge-1   rouge-2   rouge-l\n",
       "r  0.313150  0.125076  0.294271\n",
       "p  0.344602  0.138834  0.323599\n",
       "f  0.321291  0.128126  0.301776"
      ]
     },
     "execution_count": 45,
     "metadata": {},
     "output_type": "execute_result"
    }
   ],
   "source": [
    "score_art = rouge.get_scores(details_dict['predict_art'], details_dict['headlines'], avg=True)\n",
    "df_results = {k: score_art[k] for k in ('rouge-1', 'rouge-2', 'rouge-l')}\n",
    "pd.DataFrame(df_results)"
   ]
  },
  {
   "cell_type": "code",
   "execution_count": 46,
   "metadata": {},
   "outputs": [],
   "source": [
    "rouge_1 = {'baseline (1s)': {'r': score_1s['rouge-1']['r'], 'p':score_1s['rouge-1']['p'], 'f': score_1s['rouge-1']['f']}, \n",
    "        'baseline (3s)': {'r': score_3s['rouge-1']['r'], 'p':score_3s['rouge-1']['p'], 'f': score_3s['rouge-1']['f']}, \n",
    "           'text': {'r': score_text['rouge-1']['r'], 'p':score_text['rouge-1']['p'], 'f': score_text['rouge-1']['f']},\n",
    "           'ext': {'r': score_ext['rouge-1']['r'], 'p':score_ext['rouge-1']['p'], 'f': score_ext['rouge-1']['f']},\n",
    "           'abs': {'r': score_abs['rouge-1']['r'], 'p':score_abs['rouge-1']['p'], 'f': score_abs['rouge-1']['f']},\n",
    "           'extabs': {'r': score_extabs['rouge-1']['r'], 'p':score_extabs['rouge-1']['p'], 'f': score_extabs['rouge-1']['f']},\n",
    "           'artsum': {'r': score_art['rouge-1']['r'], 'p':score_art['rouge-1']['p'], 'f': score_art['rouge-1']['f']},\n",
    "#           't5': {'r': score_t5['rouge-1']['r'], 'p':score_t5['rouge-1']['p'], 'f': score_t5['rouge-1']['f']},\n",
    "}"
   ]
  },
  {
   "cell_type": "code",
   "execution_count": 47,
   "metadata": {},
   "outputs": [
    {
     "data": {
      "text/html": [
       "<div>\n",
       "<style scoped>\n",
       "    .dataframe tbody tr th:only-of-type {\n",
       "        vertical-align: middle;\n",
       "    }\n",
       "\n",
       "    .dataframe tbody tr th {\n",
       "        vertical-align: top;\n",
       "    }\n",
       "\n",
       "    .dataframe thead th {\n",
       "        text-align: right;\n",
       "    }\n",
       "</style>\n",
       "<table border=\"1\" class=\"dataframe\">\n",
       "  <thead>\n",
       "    <tr style=\"text-align: right;\">\n",
       "      <th></th>\n",
       "      <th>artsum</th>\n",
       "      <th>text</th>\n",
       "      <th>ext</th>\n",
       "      <th>baseline (3s)</th>\n",
       "      <th>baseline (1s)</th>\n",
       "      <th>abs</th>\n",
       "      <th>extabs</th>\n",
       "    </tr>\n",
       "  </thead>\n",
       "  <tbody>\n",
       "    <tr>\n",
       "      <th>r</th>\n",
       "      <td>0.313150</td>\n",
       "      <td>0.276502</td>\n",
       "      <td>0.265991</td>\n",
       "      <td>0.252602</td>\n",
       "      <td>0.272922</td>\n",
       "      <td>0.235459</td>\n",
       "      <td>0.216917</td>\n",
       "    </tr>\n",
       "    <tr>\n",
       "      <th>p</th>\n",
       "      <td>0.344602</td>\n",
       "      <td>0.311826</td>\n",
       "      <td>0.296465</td>\n",
       "      <td>0.278804</td>\n",
       "      <td>0.109200</td>\n",
       "      <td>0.257883</td>\n",
       "      <td>0.240518</td>\n",
       "    </tr>\n",
       "    <tr>\n",
       "      <th>f</th>\n",
       "      <td>0.321291</td>\n",
       "      <td>0.287278</td>\n",
       "      <td>0.274567</td>\n",
       "      <td>0.259567</td>\n",
       "      <td>0.142266</td>\n",
       "      <td>0.240501</td>\n",
       "      <td>0.222871</td>\n",
       "    </tr>\n",
       "  </tbody>\n",
       "</table>\n",
       "</div>"
      ],
      "text/plain": [
       "     artsum      text       ext  baseline (3s)  baseline (1s)       abs  \\\n",
       "r  0.313150  0.276502  0.265991       0.252602       0.272922  0.235459   \n",
       "p  0.344602  0.311826  0.296465       0.278804       0.109200  0.257883   \n",
       "f  0.321291  0.287278  0.274567       0.259567       0.142266  0.240501   \n",
       "\n",
       "     extabs  \n",
       "r  0.216917  \n",
       "p  0.240518  \n",
       "f  0.222871  "
      ]
     },
     "execution_count": 47,
     "metadata": {},
     "output_type": "execute_result"
    }
   ],
   "source": [
    "df_results = {k: rouge_1[k] for k in ('artsum', 'text', 'ext', 'baseline (3s)',  'baseline (1s)', 'abs', 'extabs', )}\n",
    "pd.DataFrame(df_results)"
   ]
  },
  {
   "cell_type": "code",
   "execution_count": 48,
   "metadata": {},
   "outputs": [
    {
     "data": {
      "text/html": [
       "<div>\n",
       "<style scoped>\n",
       "    .dataframe tbody tr th:only-of-type {\n",
       "        vertical-align: middle;\n",
       "    }\n",
       "\n",
       "    .dataframe tbody tr th {\n",
       "        vertical-align: top;\n",
       "    }\n",
       "\n",
       "    .dataframe thead th {\n",
       "        text-align: right;\n",
       "    }\n",
       "</style>\n",
       "<table border=\"1\" class=\"dataframe\">\n",
       "  <thead>\n",
       "    <tr style=\"text-align: right;\">\n",
       "      <th></th>\n",
       "      <th>artsum</th>\n",
       "      <th>text</th>\n",
       "      <th>ext</th>\n",
       "      <th>baseline (3s)</th>\n",
       "      <th>baseline (1s)</th>\n",
       "      <th>abs</th>\n",
       "      <th>extabs</th>\n",
       "    </tr>\n",
       "  </thead>\n",
       "  <tbody>\n",
       "    <tr>\n",
       "      <th>r</th>\n",
       "      <td>0.125076</td>\n",
       "      <td>0.105168</td>\n",
       "      <td>0.100975</td>\n",
       "      <td>0.098715</td>\n",
       "      <td>0.089370</td>\n",
       "      <td>0.085740</td>\n",
       "      <td>0.075950</td>\n",
       "    </tr>\n",
       "    <tr>\n",
       "      <th>p</th>\n",
       "      <td>0.138834</td>\n",
       "      <td>0.119371</td>\n",
       "      <td>0.113328</td>\n",
       "      <td>0.110566</td>\n",
       "      <td>0.030277</td>\n",
       "      <td>0.095098</td>\n",
       "      <td>0.085413</td>\n",
       "    </tr>\n",
       "    <tr>\n",
       "      <th>f</th>\n",
       "      <td>0.128126</td>\n",
       "      <td>0.108937</td>\n",
       "      <td>0.103921</td>\n",
       "      <td>0.101613</td>\n",
       "      <td>0.041741</td>\n",
       "      <td>0.087483</td>\n",
       "      <td>0.078061</td>\n",
       "    </tr>\n",
       "  </tbody>\n",
       "</table>\n",
       "</div>"
      ],
      "text/plain": [
       "     artsum      text       ext  baseline (3s)  baseline (1s)       abs  \\\n",
       "r  0.125076  0.105168  0.100975       0.098715       0.089370  0.085740   \n",
       "p  0.138834  0.119371  0.113328       0.110566       0.030277  0.095098   \n",
       "f  0.128126  0.108937  0.103921       0.101613       0.041741  0.087483   \n",
       "\n",
       "     extabs  \n",
       "r  0.075950  \n",
       "p  0.085413  \n",
       "f  0.078061  "
      ]
     },
     "execution_count": 48,
     "metadata": {},
     "output_type": "execute_result"
    }
   ],
   "source": [
    "rouge_2 = {'baseline (1s)': {'r': score_1s['rouge-2']['r'], 'p':score_1s['rouge-2']['p'], 'f': score_1s['rouge-2']['f']}, \n",
    "        'baseline (3s)': {'r': score_3s['rouge-2']['r'], 'p':score_3s['rouge-2']['p'], 'f': score_3s['rouge-2']['f']}, \n",
    "           'text': {'r': score_text['rouge-2']['r'], 'p':score_text['rouge-2']['p'], 'f': score_text['rouge-2']['f']},\n",
    "           'ext': {'r': score_ext['rouge-2']['r'], 'p':score_ext['rouge-2']['p'], 'f': score_ext['rouge-2']['f']},\n",
    "           'abs': {'r': score_abs['rouge-2']['r'], 'p':score_abs['rouge-2']['p'], 'f': score_abs['rouge-2']['f']},\n",
    "           'extabs': {'r': score_extabs['rouge-2']['r'], 'p':score_extabs['rouge-2']['p'], 'f': score_extabs['rouge-2']['f']},\n",
    "           'artsum': {'r': score_art['rouge-2']['r'], 'p':score_art['rouge-2']['p'], 'f': score_art['rouge-2']['f']},\n",
    "#           't5': {'r': score_t5['rouge-2']['r'], 'p':score_t5['rouge-2']['p'], 'f': score_t5['rouge-2']['f']},\n",
    "}\n",
    "df_results = {k: rouge_2[k] for k in ('artsum', 'text', 'ext', 'baseline (3s)',  'baseline (1s)', 'abs', 'extabs', )}\n",
    "pd.DataFrame(df_results)"
   ]
  },
  {
   "cell_type": "code",
   "execution_count": 49,
   "metadata": {},
   "outputs": [
    {
     "data": {
      "text/html": [
       "<div>\n",
       "<style scoped>\n",
       "    .dataframe tbody tr th:only-of-type {\n",
       "        vertical-align: middle;\n",
       "    }\n",
       "\n",
       "    .dataframe tbody tr th {\n",
       "        vertical-align: top;\n",
       "    }\n",
       "\n",
       "    .dataframe thead th {\n",
       "        text-align: right;\n",
       "    }\n",
       "</style>\n",
       "<table border=\"1\" class=\"dataframe\">\n",
       "  <thead>\n",
       "    <tr style=\"text-align: right;\">\n",
       "      <th></th>\n",
       "      <th>artsum</th>\n",
       "      <th>text</th>\n",
       "      <th>ext</th>\n",
       "      <th>baseline (3s)</th>\n",
       "      <th>baseline (1s)</th>\n",
       "      <th>abs</th>\n",
       "      <th>extabs</th>\n",
       "    </tr>\n",
       "  </thead>\n",
       "  <tbody>\n",
       "    <tr>\n",
       "      <th>r</th>\n",
       "      <td>0.294271</td>\n",
       "      <td>0.261143</td>\n",
       "      <td>0.251872</td>\n",
       "      <td>0.238290</td>\n",
       "      <td>0.241525</td>\n",
       "      <td>0.222906</td>\n",
       "      <td>0.205077</td>\n",
       "    </tr>\n",
       "    <tr>\n",
       "      <th>p</th>\n",
       "      <td>0.323599</td>\n",
       "      <td>0.294270</td>\n",
       "      <td>0.280362</td>\n",
       "      <td>0.262877</td>\n",
       "      <td>0.098448</td>\n",
       "      <td>0.243816</td>\n",
       "      <td>0.227252</td>\n",
       "    </tr>\n",
       "    <tr>\n",
       "      <th>f</th>\n",
       "      <td>0.301776</td>\n",
       "      <td>0.271190</td>\n",
       "      <td>0.259830</td>\n",
       "      <td>0.244778</td>\n",
       "      <td>0.126898</td>\n",
       "      <td>0.227504</td>\n",
       "      <td>0.210626</td>\n",
       "    </tr>\n",
       "  </tbody>\n",
       "</table>\n",
       "</div>"
      ],
      "text/plain": [
       "     artsum      text       ext  baseline (3s)  baseline (1s)       abs  \\\n",
       "r  0.294271  0.261143  0.251872       0.238290       0.241525  0.222906   \n",
       "p  0.323599  0.294270  0.280362       0.262877       0.098448  0.243816   \n",
       "f  0.301776  0.271190  0.259830       0.244778       0.126898  0.227504   \n",
       "\n",
       "     extabs  \n",
       "r  0.205077  \n",
       "p  0.227252  \n",
       "f  0.210626  "
      ]
     },
     "execution_count": 49,
     "metadata": {},
     "output_type": "execute_result"
    }
   ],
   "source": [
    "rouge_l = {'baseline (1s)': {'r': score_1s['rouge-l']['r'], 'p':score_1s['rouge-l']['p'], 'f': score_1s['rouge-l']['f']}, \n",
    "        'baseline (3s)': {'r': score_3s['rouge-l']['r'], 'p':score_3s['rouge-l']['p'], 'f': score_3s['rouge-l']['f']}, \n",
    "           'text': {'r': score_text['rouge-l']['r'], 'p':score_text['rouge-l']['p'], 'f': score_text['rouge-l']['f']},\n",
    "           'ext': {'r': score_ext['rouge-l']['r'], 'p':score_ext['rouge-l']['p'], 'f': score_ext['rouge-l']['f']},\n",
    "           'abs': {'r': score_abs['rouge-l']['r'], 'p':score_abs['rouge-l']['p'], 'f': score_abs['rouge-l']['f']},\n",
    "           'extabs': {'r': score_extabs['rouge-l']['r'], 'p':score_extabs['rouge-l']['p'], 'f': score_extabs['rouge-l']['f']},\n",
    "           'artsum': {'r': score_art['rouge-l']['r'], 'p':score_art['rouge-l']['p'], 'f': score_art['rouge-l']['f']},\n",
    "#           't5': {'r': score_t5['rouge-l']['r'], 'p':score_t5['rouge-l']['p'], 'f': score_t5['rouge-l']['f']},\n",
    "}\n",
    "df_results = {k: rouge_l[k] for k in ('artsum', 'text', 'ext', 'baseline (3s)',  'baseline (1s)', 'abs', 'extabs', )}\n",
    "pd.DataFrame(df_results)"
   ]
  },
  {
   "cell_type": "code",
   "execution_count": 50,
   "metadata": {},
   "outputs": [],
   "source": [
    "# Evaluation Metrics - BLEU implementation\n",
    "from nltk.translate.bleu_score import sentence_bleu\n"
   ]
  },
  {
   "cell_type": "code",
   "execution_count": 51,
   "metadata": {},
   "outputs": [],
   "source": [
    "# Function to calculate the score\n",
    "def calc_bleu(x, y):\n",
    "    L = 0\n",
    "    for i, j in zip(x, y):\n",
    "      L += sentence_bleu([i], j, weights=(0.25, 0.25, 0.25, 0.25), smoothing_function=None,  auto_reweigh=False,)\n",
    "\n",
    "    # Average BLEU score of whole corpuses\n",
    "    return round(L/len(x), 4)\n",
    "\n"
   ]
  },
  {
   "cell_type": "code",
   "execution_count": 52,
   "metadata": {},
   "outputs": [
    {
     "name": "stderr",
     "output_type": "stream",
     "text": [
      "/home/ubuntu/anaconda3/lib/python3.8/site-packages/nltk/translate/bleu_score.py:516: UserWarning: \n",
      "The hypothesis contains 0 counts of 3-gram overlaps.\n",
      "Therefore the BLEU score evaluates to 0, independently of\n",
      "how many N-gram overlaps of lower order it contains.\n",
      "Consider using lower n-gram order or use SmoothingFunction()\n",
      "  warnings.warn(_msg)\n",
      "/home/ubuntu/anaconda3/lib/python3.8/site-packages/nltk/translate/bleu_score.py:516: UserWarning: \n",
      "The hypothesis contains 0 counts of 4-gram overlaps.\n",
      "Therefore the BLEU score evaluates to 0, independently of\n",
      "how many N-gram overlaps of lower order it contains.\n",
      "Consider using lower n-gram order or use SmoothingFunction()\n",
      "  warnings.warn(_msg)\n",
      "/home/ubuntu/anaconda3/lib/python3.8/site-packages/nltk/translate/bleu_score.py:516: UserWarning: \n",
      "The hypothesis contains 0 counts of 2-gram overlaps.\n",
      "Therefore the BLEU score evaluates to 0, independently of\n",
      "how many N-gram overlaps of lower order it contains.\n",
      "Consider using lower n-gram order or use SmoothingFunction()\n",
      "  warnings.warn(_msg)\n"
     ]
    },
    {
     "name": "stdout",
     "output_type": "stream",
     "text": [
      "BLEU score: 0.1328\n"
     ]
    }
   ],
   "source": [
    "bleu_1s = calc_bleu(details_dict['headlines'], details_dict['predict_1s'])\n",
    "print(\"BLEU score: {:.04f}\".format(bleu_1s))"
   ]
  },
  {
   "cell_type": "code",
   "execution_count": 53,
   "metadata": {},
   "outputs": [
    {
     "name": "stdout",
     "output_type": "stream",
     "text": [
      "BLEU score: 0.2900\n"
     ]
    }
   ],
   "source": [
    "bleu_3s = calc_bleu(details_dict['headlines'], details_dict['predict_3s'])\n",
    "print(\"BLEU score: {:.04f}\".format(bleu_3s))"
   ]
  },
  {
   "cell_type": "code",
   "execution_count": 54,
   "metadata": {},
   "outputs": [
    {
     "name": "stdout",
     "output_type": "stream",
     "text": [
      "BLEU score: 0.3161\n"
     ]
    }
   ],
   "source": [
    "bleu_text = calc_bleu(details_dict['headlines'], details_dict['predict_text'])\n",
    "print(\"BLEU score: {:.04f}\".format(bleu_text))"
   ]
  },
  {
   "cell_type": "code",
   "execution_count": 55,
   "metadata": {},
   "outputs": [
    {
     "name": "stdout",
     "output_type": "stream",
     "text": [
      "BLEU score: 0.3083\n"
     ]
    }
   ],
   "source": [
    "bleu_ext = calc_bleu(details_dict['headlines'], details_dict['predict_ext'])\n",
    "print(\"BLEU score: {:.04f}\".format(bleu_ext))"
   ]
  },
  {
   "cell_type": "code",
   "execution_count": 56,
   "metadata": {},
   "outputs": [
    {
     "name": "stdout",
     "output_type": "stream",
     "text": [
      "BLEU score: 0.2767\n"
     ]
    }
   ],
   "source": [
    "bleu_abs = calc_bleu(details_dict['headlines'], details_dict['predict_abs'])\n",
    "print(\"BLEU score: {:.04f}\".format(bleu_abs))"
   ]
  },
  {
   "cell_type": "code",
   "execution_count": 57,
   "metadata": {},
   "outputs": [
    {
     "name": "stdout",
     "output_type": "stream",
     "text": [
      "BLEU score: 0.2614\n"
     ]
    }
   ],
   "source": [
    "bleu_extabs = calc_bleu(details_dict['headlines'], details_dict['predict_extabs'])\n",
    "print(\"BLEU score: {:.04f}\".format(bleu_extabs))"
   ]
  },
  {
   "cell_type": "code",
   "execution_count": 58,
   "metadata": {},
   "outputs": [],
   "source": [
    "# bleu_ner = calc_bleu(details_dict['headlines'], details_dict['predict_ner'])\n",
    "# print(\"BLEU score: {:.04f}\".format(bleu_ner))"
   ]
  },
  {
   "cell_type": "code",
   "execution_count": 59,
   "metadata": {},
   "outputs": [],
   "source": [
    "# bleu_t5 = calc_bleu(details_dict['headlines'], details_dict['predict_t5'])\n",
    "# print(\"BLEU score: {:.04f}\".format(bleu_t5))"
   ]
  },
  {
   "cell_type": "code",
   "execution_count": 60,
   "metadata": {},
   "outputs": [
    {
     "name": "stdout",
     "output_type": "stream",
     "text": [
      "BLEU score: 0.3498\n"
     ]
    }
   ],
   "source": [
    "bleu_art = calc_bleu(details_dict['headlines'], details_dict['predict_art'])\n",
    "print(\"BLEU score: {:.04f}\".format(bleu_art))"
   ]
  },
  {
   "cell_type": "code",
   "execution_count": 61,
   "metadata": {},
   "outputs": [],
   "source": [
    "bleu_score = {'baseline (1s)': {'bleu_score': bleu_1s}, \n",
    "                'baseline (3s)': {'bleu_score': bleu_3s}, \n",
    "    'text' : {'bleu_score': bleu_text}, \n",
    "    'ext' : {'bleu_score': bleu_ext},\n",
    "    'abs' : {'bleu_score': bleu_abs},\n",
    "    'extabs' : {'bleu_score': bleu_extabs},\n",
    "    'artsum' : {'bleu_score': bleu_art},\n",
    "#    't5' : {'bleu_score': bleu_t5}\n",
    "}"
   ]
  },
  {
   "cell_type": "code",
   "execution_count": 62,
   "metadata": {},
   "outputs": [
    {
     "data": {
      "text/html": [
       "<div>\n",
       "<style scoped>\n",
       "    .dataframe tbody tr th:only-of-type {\n",
       "        vertical-align: middle;\n",
       "    }\n",
       "\n",
       "    .dataframe tbody tr th {\n",
       "        vertical-align: top;\n",
       "    }\n",
       "\n",
       "    .dataframe thead th {\n",
       "        text-align: right;\n",
       "    }\n",
       "</style>\n",
       "<table border=\"1\" class=\"dataframe\">\n",
       "  <thead>\n",
       "    <tr style=\"text-align: right;\">\n",
       "      <th></th>\n",
       "      <th>artsum</th>\n",
       "      <th>text</th>\n",
       "      <th>ext</th>\n",
       "      <th>baseline (3s)</th>\n",
       "      <th>abs</th>\n",
       "      <th>extabs</th>\n",
       "      <th>baseline (1s)</th>\n",
       "    </tr>\n",
       "  </thead>\n",
       "  <tbody>\n",
       "    <tr>\n",
       "      <th>bleu_score</th>\n",
       "      <td>0.3498</td>\n",
       "      <td>0.3161</td>\n",
       "      <td>0.3083</td>\n",
       "      <td>0.29</td>\n",
       "      <td>0.2767</td>\n",
       "      <td>0.2614</td>\n",
       "      <td>0.1328</td>\n",
       "    </tr>\n",
       "  </tbody>\n",
       "</table>\n",
       "</div>"
      ],
      "text/plain": [
       "            artsum    text     ext  baseline (3s)     abs  extabs  \\\n",
       "bleu_score  0.3498  0.3161  0.3083           0.29  0.2767  0.2614   \n",
       "\n",
       "            baseline (1s)  \n",
       "bleu_score         0.1328  "
      ]
     },
     "execution_count": 62,
     "metadata": {},
     "output_type": "execute_result"
    }
   ],
   "source": [
    "df_results = {k: bleu_score[k] for k in ('artsum', 'text', 'ext', 'baseline (3s)',  'abs', 'extabs', 'baseline (1s)')}\n",
    "pd.DataFrame(df_results)"
   ]
  },
  {
   "cell_type": "code",
   "execution_count": 63,
   "metadata": {},
   "outputs": [
    {
     "name": "stdout",
     "output_type": "stream",
     "text": [
      "Requirement already satisfied: bert-score in /home/ubuntu/anaconda3/lib/python3.8/site-packages (0.3.11)\n",
      "Requirement already satisfied: matplotlib in /home/ubuntu/anaconda3/lib/python3.8/site-packages (from bert-score) (3.3.4)\n",
      "Requirement already satisfied: packaging>=20.9 in /home/ubuntu/anaconda3/lib/python3.8/site-packages (from bert-score) (20.9)\n",
      "Requirement already satisfied: pandas>=1.0.1 in /home/ubuntu/anaconda3/lib/python3.8/site-packages (from bert-score) (1.2.4)\n",
      "Requirement already satisfied: torch>=1.0.0 in /home/ubuntu/anaconda3/lib/python3.8/site-packages (from bert-score) (1.10.2)\n",
      "Requirement already satisfied: tqdm>=4.31.1 in /home/ubuntu/anaconda3/lib/python3.8/site-packages (from bert-score) (4.62.3)\n",
      "Requirement already satisfied: requests in /home/ubuntu/anaconda3/lib/python3.8/site-packages (from bert-score) (2.25.1)\n",
      "Requirement already satisfied: transformers>=3.0.0numpy in /home/ubuntu/anaconda3/lib/python3.8/site-packages (from bert-score) (4.18.0.dev0)\n",
      "Requirement already satisfied: pyparsing>=2.0.2 in /home/ubuntu/anaconda3/lib/python3.8/site-packages (from packaging>=20.9->bert-score) (2.4.7)\n",
      "Requirement already satisfied: python-dateutil>=2.7.3 in /home/ubuntu/anaconda3/lib/python3.8/site-packages (from pandas>=1.0.1->bert-score) (2.8.1)\n",
      "Requirement already satisfied: pytz>=2017.3 in /home/ubuntu/anaconda3/lib/python3.8/site-packages (from pandas>=1.0.1->bert-score) (2021.1)\n",
      "Requirement already satisfied: numpy>=1.16.5 in /home/ubuntu/anaconda3/lib/python3.8/site-packages (from pandas>=1.0.1->bert-score) (1.19.5)\n",
      "Requirement already satisfied: typing_extensions in /home/ubuntu/anaconda3/lib/python3.8/site-packages (from torch>=1.0.0->bert-score) (3.7.4.3)\n",
      "Requirement already satisfied: filelock in /home/ubuntu/anaconda3/lib/python3.8/site-packages (from transformers>=3.0.0numpy->bert-score) (3.0.12)\n",
      "Requirement already satisfied: huggingface-hub<1.0,>=0.1.0 in /home/ubuntu/anaconda3/lib/python3.8/site-packages (from transformers>=3.0.0numpy->bert-score) (0.4.0)\n",
      "Requirement already satisfied: regex!=2019.12.17 in /home/ubuntu/anaconda3/lib/python3.8/site-packages (from transformers>=3.0.0numpy->bert-score) (2021.4.4)\n",
      "Requirement already satisfied: pyyaml>=5.1 in /home/ubuntu/anaconda3/lib/python3.8/site-packages (from transformers>=3.0.0numpy->bert-score) (5.4.1)\n",
      "Requirement already satisfied: sacremoses in /home/ubuntu/anaconda3/lib/python3.8/site-packages (from transformers>=3.0.0numpy->bert-score) (0.0.47)\n",
      "Requirement already satisfied: tokenizers!=0.11.3,<0.13,>=0.11.1 in /home/ubuntu/anaconda3/lib/python3.8/site-packages (from transformers>=3.0.0numpy->bert-score) (0.11.4)\n",
      "Requirement already satisfied: kiwisolver>=1.0.1 in /home/ubuntu/anaconda3/lib/python3.8/site-packages (from matplotlib->bert-score) (1.3.1)\n",
      "Requirement already satisfied: cycler>=0.10 in /home/ubuntu/anaconda3/lib/python3.8/site-packages (from matplotlib->bert-score) (0.10.0)\n",
      "Requirement already satisfied: pillow>=6.2.0 in /home/ubuntu/anaconda3/lib/python3.8/site-packages (from matplotlib->bert-score) (8.2.0)\n",
      "Requirement already satisfied: certifi>=2017.4.17 in /home/ubuntu/anaconda3/lib/python3.8/site-packages (from requests->bert-score) (2020.12.5)\n",
      "Requirement already satisfied: chardet<5,>=3.0.2 in /home/ubuntu/anaconda3/lib/python3.8/site-packages (from requests->bert-score) (4.0.0)\n",
      "Requirement already satisfied: idna<3,>=2.5 in /home/ubuntu/anaconda3/lib/python3.8/site-packages (from requests->bert-score) (2.10)\n",
      "Requirement already satisfied: urllib3<1.27,>=1.21.1 in /home/ubuntu/anaconda3/lib/python3.8/site-packages (from requests->bert-score) (1.26.4)\n",
      "Requirement already satisfied: six in /home/ubuntu/anaconda3/lib/python3.8/site-packages (from cycler>=0.10->matplotlib->bert-score) (1.15.0)\n",
      "Requirement already satisfied: joblib in /home/ubuntu/anaconda3/lib/python3.8/site-packages (from sacremoses->transformers>=3.0.0numpy->bert-score) (1.0.1)\n",
      "Requirement already satisfied: click in /home/ubuntu/anaconda3/lib/python3.8/site-packages (from sacremoses->transformers>=3.0.0numpy->bert-score) (7.1.2)\n",
      "Note: you may need to restart the kernel to use updated packages.\n"
     ]
    }
   ],
   "source": [
    "pip install bert-score"
   ]
  },
  {
   "cell_type": "code",
   "execution_count": 64,
   "metadata": {},
   "outputs": [],
   "source": [
    "from bert_score import score"
   ]
  },
  {
   "cell_type": "code",
   "execution_count": 65,
   "metadata": {},
   "outputs": [
    {
     "name": "stderr",
     "output_type": "stream",
     "text": [
      "Some weights of the model checkpoint at roberta-large were not used when initializing RobertaModel: ['lm_head.dense.weight', 'lm_head.layer_norm.weight', 'lm_head.dense.bias', 'lm_head.decoder.weight', 'lm_head.bias', 'lm_head.layer_norm.bias']\n",
      "- This IS expected if you are initializing RobertaModel from the checkpoint of a model trained on another task or with another architecture (e.g. initializing a BertForSequenceClassification model from a BertForPreTraining model).\n",
      "- This IS NOT expected if you are initializing RobertaModel from the checkpoint of a model that you expect to be exactly identical (initializing a BertForSequenceClassification model from a BertForSequenceClassification model).\n"
     ]
    },
    {
     "name": "stdout",
     "output_type": "stream",
     "text": [
      "calculating scores...\n",
      "computing bert embedding.\n"
     ]
    },
    {
     "data": {
      "application/vnd.jupyter.widget-view+json": {
       "model_id": "7e2e53799d0f4ac6873757e32f3a4ea9",
       "version_major": 2,
       "version_minor": 0
      },
      "text/plain": [
       "  0%|          | 0/274 [00:00<?, ?it/s]"
      ]
     },
     "metadata": {},
     "output_type": "display_data"
    },
    {
     "name": "stdout",
     "output_type": "stream",
     "text": [
      "computing greedy matching.\n"
     ]
    },
    {
     "data": {
      "application/vnd.jupyter.widget-view+json": {
       "model_id": "a70a567778a9441cb62f5efceb37411a",
       "version_major": 2,
       "version_minor": 0
      },
      "text/plain": [
       "  0%|          | 0/144 [00:00<?, ?it/s]"
      ]
     },
     "metadata": {},
     "output_type": "display_data"
    },
    {
     "name": "stdout",
     "output_type": "stream",
     "text": [
      "done in 55.97 seconds, 163.65 sentences/sec\n"
     ]
    }
   ],
   "source": [
    "# Baseline\n",
    "P, R, F1 = score(details_dict['sentence_1s'], details_dict['headlines'], lang=\"en\", verbose=True)\n",
    "F1_1s = F1.mean().item()\n",
    "P_1s = P.mean().item()\n",
    "R_1s = R.mean().item()"
   ]
  },
  {
   "cell_type": "code",
   "execution_count": 66,
   "metadata": {},
   "outputs": [
    {
     "name": "stderr",
     "output_type": "stream",
     "text": [
      "Some weights of the model checkpoint at roberta-large were not used when initializing RobertaModel: ['lm_head.dense.weight', 'lm_head.layer_norm.weight', 'lm_head.dense.bias', 'lm_head.decoder.weight', 'lm_head.bias', 'lm_head.layer_norm.bias']\n",
      "- This IS expected if you are initializing RobertaModel from the checkpoint of a model trained on another task or with another architecture (e.g. initializing a BertForSequenceClassification model from a BertForPreTraining model).\n",
      "- This IS NOT expected if you are initializing RobertaModel from the checkpoint of a model that you expect to be exactly identical (initializing a BertForSequenceClassification model from a BertForSequenceClassification model).\n"
     ]
    },
    {
     "name": "stdout",
     "output_type": "stream",
     "text": [
      "calculating scores...\n",
      "computing bert embedding.\n"
     ]
    },
    {
     "data": {
      "application/vnd.jupyter.widget-view+json": {
       "model_id": "197ea54aa5934c52acde4b0a352d0116",
       "version_major": 2,
       "version_minor": 0
      },
      "text/plain": [
       "  0%|          | 0/282 [00:00<?, ?it/s]"
      ]
     },
     "metadata": {},
     "output_type": "display_data"
    },
    {
     "name": "stdout",
     "output_type": "stream",
     "text": [
      "computing greedy matching.\n"
     ]
    },
    {
     "data": {
      "application/vnd.jupyter.widget-view+json": {
       "model_id": "1ec89a90de2d403296f7a55da1fabbbf",
       "version_major": 2,
       "version_minor": 0
      },
      "text/plain": [
       "  0%|          | 0/144 [00:00<?, ?it/s]"
      ]
     },
     "metadata": {},
     "output_type": "display_data"
    },
    {
     "name": "stdout",
     "output_type": "stream",
     "text": [
      "done in 35.06 seconds, 261.25 sentences/sec\n"
     ]
    }
   ],
   "source": [
    "# Ext\n",
    "P, R, F1 = score(details_dict['predict_3s'], details_dict['headlines'], lang=\"en\", verbose=True)\n",
    "F1_3s = F1.mean().item()\n",
    "P_3s = P.mean().item()\n",
    "R_3s = R.mean().item()\n"
   ]
  },
  {
   "cell_type": "code",
   "execution_count": 67,
   "metadata": {},
   "outputs": [
    {
     "name": "stderr",
     "output_type": "stream",
     "text": [
      "Some weights of the model checkpoint at roberta-large were not used when initializing RobertaModel: ['lm_head.dense.weight', 'lm_head.layer_norm.weight', 'lm_head.dense.bias', 'lm_head.decoder.weight', 'lm_head.bias', 'lm_head.layer_norm.bias']\n",
      "- This IS expected if you are initializing RobertaModel from the checkpoint of a model trained on another task or with another architecture (e.g. initializing a BertForSequenceClassification model from a BertForPreTraining model).\n",
      "- This IS NOT expected if you are initializing RobertaModel from the checkpoint of a model that you expect to be exactly identical (initializing a BertForSequenceClassification model from a BertForSequenceClassification model).\n"
     ]
    },
    {
     "name": "stdout",
     "output_type": "stream",
     "text": [
      "calculating scores...\n",
      "computing bert embedding.\n"
     ]
    },
    {
     "data": {
      "application/vnd.jupyter.widget-view+json": {
       "model_id": "b2665d62eef54eceb4229497b1a55875",
       "version_major": 2,
       "version_minor": 0
      },
      "text/plain": [
       "  0%|          | 0/284 [00:00<?, ?it/s]"
      ]
     },
     "metadata": {},
     "output_type": "display_data"
    },
    {
     "name": "stdout",
     "output_type": "stream",
     "text": [
      "computing greedy matching.\n"
     ]
    },
    {
     "data": {
      "application/vnd.jupyter.widget-view+json": {
       "model_id": "a2bc2214d4c946128ca55cf96cb66ff8",
       "version_major": 2,
       "version_minor": 0
      },
      "text/plain": [
       "  0%|          | 0/144 [00:00<?, ?it/s]"
      ]
     },
     "metadata": {},
     "output_type": "display_data"
    },
    {
     "name": "stdout",
     "output_type": "stream",
     "text": [
      "done in 35.36 seconds, 259.02 sentences/sec\n"
     ]
    }
   ],
   "source": [
    "# Abs\n",
    "P, R, F1 = score(details_dict['predict_text'], details_dict['headlines'], lang=\"en\", verbose=True)\n",
    "F1_text = F1.mean().item()\n",
    "P_text = P.mean().item()\n",
    "R_text = R.mean().item()"
   ]
  },
  {
   "cell_type": "code",
   "execution_count": 68,
   "metadata": {},
   "outputs": [
    {
     "name": "stderr",
     "output_type": "stream",
     "text": [
      "Some weights of the model checkpoint at roberta-large were not used when initializing RobertaModel: ['lm_head.dense.weight', 'lm_head.layer_norm.weight', 'lm_head.dense.bias', 'lm_head.decoder.weight', 'lm_head.bias', 'lm_head.layer_norm.bias']\n",
      "- This IS expected if you are initializing RobertaModel from the checkpoint of a model trained on another task or with another architecture (e.g. initializing a BertForSequenceClassification model from a BertForPreTraining model).\n",
      "- This IS NOT expected if you are initializing RobertaModel from the checkpoint of a model that you expect to be exactly identical (initializing a BertForSequenceClassification model from a BertForSequenceClassification model).\n"
     ]
    },
    {
     "name": "stdout",
     "output_type": "stream",
     "text": [
      "calculating scores...\n",
      "computing bert embedding.\n"
     ]
    },
    {
     "data": {
      "application/vnd.jupyter.widget-view+json": {
       "model_id": "21bcb3cbdc844ef8afb74fcc53a90eee",
       "version_major": 2,
       "version_minor": 0
      },
      "text/plain": [
       "  0%|          | 0/283 [00:00<?, ?it/s]"
      ]
     },
     "metadata": {},
     "output_type": "display_data"
    },
    {
     "name": "stdout",
     "output_type": "stream",
     "text": [
      "computing greedy matching.\n"
     ]
    },
    {
     "data": {
      "application/vnd.jupyter.widget-view+json": {
       "model_id": "3e912f056fad4c4cb6ef21427f0406a1",
       "version_major": 2,
       "version_minor": 0
      },
      "text/plain": [
       "  0%|          | 0/144 [00:00<?, ?it/s]"
      ]
     },
     "metadata": {},
     "output_type": "display_data"
    },
    {
     "name": "stdout",
     "output_type": "stream",
     "text": [
      "done in 35.73 seconds, 256.39 sentences/sec\n"
     ]
    }
   ],
   "source": [
    "# ExtAbs\n",
    "P, R, F1 = score(details_dict['predict_ext'], details_dict['headlines'], lang=\"en\", verbose=True)\n",
    "F1_ext = F1.mean().item()\n",
    "P_ext = P.mean().item()\n",
    "R_ext = R.mean().item()"
   ]
  },
  {
   "cell_type": "code",
   "execution_count": 69,
   "metadata": {},
   "outputs": [
    {
     "name": "stderr",
     "output_type": "stream",
     "text": [
      "Some weights of the model checkpoint at roberta-large were not used when initializing RobertaModel: ['lm_head.dense.weight', 'lm_head.layer_norm.weight', 'lm_head.dense.bias', 'lm_head.decoder.weight', 'lm_head.bias', 'lm_head.layer_norm.bias']\n",
      "- This IS expected if you are initializing RobertaModel from the checkpoint of a model trained on another task or with another architecture (e.g. initializing a BertForSequenceClassification model from a BertForPreTraining model).\n",
      "- This IS NOT expected if you are initializing RobertaModel from the checkpoint of a model that you expect to be exactly identical (initializing a BertForSequenceClassification model from a BertForSequenceClassification model).\n"
     ]
    },
    {
     "name": "stdout",
     "output_type": "stream",
     "text": [
      "calculating scores...\n",
      "computing bert embedding.\n"
     ]
    },
    {
     "data": {
      "application/vnd.jupyter.widget-view+json": {
       "model_id": "7d9af0a1ec0c4320a44f713ac97b2bac",
       "version_major": 2,
       "version_minor": 0
      },
      "text/plain": [
       "  0%|          | 0/284 [00:00<?, ?it/s]"
      ]
     },
     "metadata": {},
     "output_type": "display_data"
    },
    {
     "name": "stdout",
     "output_type": "stream",
     "text": [
      "computing greedy matching.\n"
     ]
    },
    {
     "data": {
      "application/vnd.jupyter.widget-view+json": {
       "model_id": "43523505a8a148978a4bc8a9c4f1c749",
       "version_major": 2,
       "version_minor": 0
      },
      "text/plain": [
       "  0%|          | 0/144 [00:00<?, ?it/s]"
      ]
     },
     "metadata": {},
     "output_type": "display_data"
    },
    {
     "name": "stdout",
     "output_type": "stream",
     "text": [
      "done in 37.08 seconds, 247.05 sentences/sec\n"
     ]
    }
   ],
   "source": [
    "P, R, F1 = score(details_dict['predict_abs'], details_dict['headlines'], lang=\"en\", verbose=True)\n",
    "F1_abs = F1.mean().item()\n",
    "P_abs = P.mean().item()\n",
    "R_abs = R.mean().item()"
   ]
  },
  {
   "cell_type": "code",
   "execution_count": 70,
   "metadata": {},
   "outputs": [
    {
     "name": "stderr",
     "output_type": "stream",
     "text": [
      "Some weights of the model checkpoint at roberta-large were not used when initializing RobertaModel: ['lm_head.dense.weight', 'lm_head.layer_norm.weight', 'lm_head.dense.bias', 'lm_head.decoder.weight', 'lm_head.bias', 'lm_head.layer_norm.bias']\n",
      "- This IS expected if you are initializing RobertaModel from the checkpoint of a model trained on another task or with another architecture (e.g. initializing a BertForSequenceClassification model from a BertForPreTraining model).\n",
      "- This IS NOT expected if you are initializing RobertaModel from the checkpoint of a model that you expect to be exactly identical (initializing a BertForSequenceClassification model from a BertForSequenceClassification model).\n"
     ]
    },
    {
     "name": "stdout",
     "output_type": "stream",
     "text": [
      "calculating scores...\n",
      "computing bert embedding.\n"
     ]
    },
    {
     "data": {
      "application/vnd.jupyter.widget-view+json": {
       "model_id": "29f3b78b76f54016a28b23040b2d8651",
       "version_major": 2,
       "version_minor": 0
      },
      "text/plain": [
       "  0%|          | 0/283 [00:00<?, ?it/s]"
      ]
     },
     "metadata": {},
     "output_type": "display_data"
    },
    {
     "name": "stdout",
     "output_type": "stream",
     "text": [
      "computing greedy matching.\n"
     ]
    },
    {
     "data": {
      "application/vnd.jupyter.widget-view+json": {
       "model_id": "ee2c299d3a9844eb81ceea1d2b66c904",
       "version_major": 2,
       "version_minor": 0
      },
      "text/plain": [
       "  0%|          | 0/144 [00:00<?, ?it/s]"
      ]
     },
     "metadata": {},
     "output_type": "display_data"
    },
    {
     "name": "stdout",
     "output_type": "stream",
     "text": [
      "done in 36.97 seconds, 247.77 sentences/sec\n"
     ]
    }
   ],
   "source": [
    "P, R, F1 = score(details_dict['predict_extabs'], details_dict['headlines'], lang=\"en\", verbose=True)\n",
    "F1_extabs = F1.mean().item()\n",
    "P_extabs = P.mean().item()\n",
    "R_extabs = R.mean().item()"
   ]
  },
  {
   "cell_type": "code",
   "execution_count": 71,
   "metadata": {},
   "outputs": [],
   "source": [
    "# P, R, F1 = score(details_dict['predict_ner'], details_dict['headlines'], lang=\"en\", verbose=True)\n",
    "# F1_ner = F1.mean().item()\n",
    "# P_ner = P.mean().item()\n",
    "# R_ner = R.mean().item()"
   ]
  },
  {
   "cell_type": "code",
   "execution_count": 72,
   "metadata": {},
   "outputs": [],
   "source": [
    "# P, R, F1 = score(details_dict['predict_t5'], details_dict['headlines'], lang=\"en\", verbose=True)\n",
    "# F1_t5 = F1.mean().item()\n",
    "# P_t5 = P.mean().item()\n",
    "# R_t5 = R.mean().item()"
   ]
  },
  {
   "cell_type": "code",
   "execution_count": 73,
   "metadata": {},
   "outputs": [
    {
     "name": "stderr",
     "output_type": "stream",
     "text": [
      "Some weights of the model checkpoint at roberta-large were not used when initializing RobertaModel: ['lm_head.dense.weight', 'lm_head.layer_norm.weight', 'lm_head.dense.bias', 'lm_head.decoder.weight', 'lm_head.bias', 'lm_head.layer_norm.bias']\n",
      "- This IS expected if you are initializing RobertaModel from the checkpoint of a model trained on another task or with another architecture (e.g. initializing a BertForSequenceClassification model from a BertForPreTraining model).\n",
      "- This IS NOT expected if you are initializing RobertaModel from the checkpoint of a model that you expect to be exactly identical (initializing a BertForSequenceClassification model from a BertForSequenceClassification model).\n"
     ]
    },
    {
     "name": "stdout",
     "output_type": "stream",
     "text": [
      "calculating scores...\n",
      "computing bert embedding.\n"
     ]
    },
    {
     "data": {
      "application/vnd.jupyter.widget-view+json": {
       "model_id": "914410d6ea3a4ff0a7faa257087e5bce",
       "version_major": 2,
       "version_minor": 0
      },
      "text/plain": [
       "  0%|          | 0/284 [00:00<?, ?it/s]"
      ]
     },
     "metadata": {},
     "output_type": "display_data"
    },
    {
     "name": "stdout",
     "output_type": "stream",
     "text": [
      "computing greedy matching.\n"
     ]
    },
    {
     "data": {
      "application/vnd.jupyter.widget-view+json": {
       "model_id": "af71d553b2d946e6a3d659174e135cb6",
       "version_major": 2,
       "version_minor": 0
      },
      "text/plain": [
       "  0%|          | 0/144 [00:00<?, ?it/s]"
      ]
     },
     "metadata": {},
     "output_type": "display_data"
    },
    {
     "name": "stdout",
     "output_type": "stream",
     "text": [
      "done in 36.95 seconds, 247.92 sentences/sec\n"
     ]
    }
   ],
   "source": [
    "P, R, F1 = score(details_dict['predict_art'], details_dict['headlines'], lang=\"en\", verbose=True)\n",
    "F1_art = F1.mean().item()\n",
    "P_art = P.mean().item()\n",
    "R_art = R.mean().item()"
   ]
  },
  {
   "cell_type": "code",
   "execution_count": 74,
   "metadata": {},
   "outputs": [],
   "source": [
    "# import matplotlib.pyplot as plt\n",
    "# plt.hist(F1, bins=20)\n",
    "# plt.show()\n",
    "# from bert_score import plot_example\n",
    "\n",
    "# p1 = P1[0]\n",
    "# y = Y[0]\n",
    "# plot_example(p1, y, lang=\"en\")"
   ]
  },
  {
   "cell_type": "code",
   "execution_count": 75,
   "metadata": {},
   "outputs": [],
   "source": [
    "# bert_score = {'baseline': {'P': P_base,\n",
    "#   'R': R_base,\n",
    "#   'F1': F1_base}, \n",
    "#    'ext' : {'P': P_ext,\n",
    "#   'R': R_ext,\n",
    "#   'F1': F1_ext}, \n",
    "#   'abs' : {'P': P_abs,\n",
    "#   'R': R_abs,\n",
    "#   'F1': F1_abs},\n",
    "#   'extabs' : {'P': P_extabs,\n",
    "#   'R': R_extabs,\n",
    "#   'F1': F1_extabs},\n",
    "# }\n",
    "\n",
    "bert_score = {'P': {  'art': P_art,\n",
    "                      'text': P_text,\n",
    "                      'ext': P_ext,\n",
    "  'baseline (3 sentences)': P_3s,\n",
    "\n",
    "  'abs': P_abs,\n",
    "  'extabs': P_extabs,\n",
    "'baseline (1 sentence)': P_1s,}, \n",
    "   'R' : {  'art': R_art,\n",
    "            'text': R_text,\n",
    "            'ext': R_ext,\n",
    "  'baseline (3 sentences)': R_3s,\n",
    "  'abs': R_abs,\n",
    "  'extabs': R_extabs,\n",
    "   'baseline (1 sentence)': R_1s,}, \n",
    "  'F1' : {  'art': F1_art,\n",
    "            'text': F1_text,\n",
    "            'ext': F1_ext,\n",
    "  'baseline (3 sentences)': F1_3s,\n",
    "  'abs': F1_abs,\n",
    "  'extabs': F1_extabs,\n",
    "  'baseline (1 sentence)': F1_1s,},\n",
    "}\n",
    "\n"
   ]
  },
  {
   "cell_type": "code",
   "execution_count": 76,
   "metadata": {},
   "outputs": [
    {
     "data": {
      "text/html": [
       "<div>\n",
       "<style scoped>\n",
       "    .dataframe tbody tr th:only-of-type {\n",
       "        vertical-align: middle;\n",
       "    }\n",
       "\n",
       "    .dataframe tbody tr th {\n",
       "        vertical-align: top;\n",
       "    }\n",
       "\n",
       "    .dataframe thead th {\n",
       "        text-align: right;\n",
       "    }\n",
       "</style>\n",
       "<table border=\"1\" class=\"dataframe\">\n",
       "  <thead>\n",
       "    <tr style=\"text-align: right;\">\n",
       "      <th></th>\n",
       "      <th>P</th>\n",
       "      <th>R</th>\n",
       "      <th>F1</th>\n",
       "    </tr>\n",
       "  </thead>\n",
       "  <tbody>\n",
       "    <tr>\n",
       "      <th>art</th>\n",
       "      <td>0.889592</td>\n",
       "      <td>0.879209</td>\n",
       "      <td>0.884162</td>\n",
       "    </tr>\n",
       "    <tr>\n",
       "      <th>text</th>\n",
       "      <td>0.888743</td>\n",
       "      <td>0.875758</td>\n",
       "      <td>0.881998</td>\n",
       "    </tr>\n",
       "    <tr>\n",
       "      <th>ext</th>\n",
       "      <td>0.884827</td>\n",
       "      <td>0.873883</td>\n",
       "      <td>0.879121</td>\n",
       "    </tr>\n",
       "    <tr>\n",
       "      <th>baseline (3 sentences)</th>\n",
       "      <td>0.881778</td>\n",
       "      <td>0.870750</td>\n",
       "      <td>0.876025</td>\n",
       "    </tr>\n",
       "    <tr>\n",
       "      <th>abs</th>\n",
       "      <td>0.876062</td>\n",
       "      <td>0.868508</td>\n",
       "      <td>0.872057</td>\n",
       "    </tr>\n",
       "    <tr>\n",
       "      <th>extabs</th>\n",
       "      <td>0.873244</td>\n",
       "      <td>0.865663</td>\n",
       "      <td>0.869227</td>\n",
       "    </tr>\n",
       "    <tr>\n",
       "      <th>baseline (1 sentence)</th>\n",
       "      <td>0.819547</td>\n",
       "      <td>0.851331</td>\n",
       "      <td>0.834391</td>\n",
       "    </tr>\n",
       "  </tbody>\n",
       "</table>\n",
       "</div>"
      ],
      "text/plain": [
       "                               P         R        F1\n",
       "art                     0.889592  0.879209  0.884162\n",
       "text                    0.888743  0.875758  0.881998\n",
       "ext                     0.884827  0.873883  0.879121\n",
       "baseline (3 sentences)  0.881778  0.870750  0.876025\n",
       "abs                     0.876062  0.868508  0.872057\n",
       "extabs                  0.873244  0.865663  0.869227\n",
       "baseline (1 sentence)   0.819547  0.851331  0.834391"
      ]
     },
     "execution_count": 76,
     "metadata": {},
     "output_type": "execute_result"
    }
   ],
   "source": [
    "df_results = {k: bert_score[k] for k in ('P', 'R', 'F1')}\n",
    "pd.DataFrame(df_results)"
   ]
  },
  {
   "cell_type": "code",
   "execution_count": null,
   "metadata": {},
   "outputs": [],
   "source": [
    "\n"
   ]
  },
  {
   "cell_type": "code",
   "execution_count": 77,
   "metadata": {},
   "outputs": [],
   "source": [
    "#!pip install --upgrade pip  # ensures that pip is current\n",
    "#!git clone https://github.com/google-research/bleurt.git\n",
    "#!cd bleurt\n",
    "#!pip install ."
   ]
  },
  {
   "cell_type": "code",
   "execution_count": 78,
   "metadata": {},
   "outputs": [],
   "source": [
    "# import unittest\n",
    "\n",
    "# python -m unittest bleurt.score_test\n",
    "# python -m unittest bleurt.score_not_eager_test\n",
    "# python -m unittest bleurt.finetune_test\n",
    "# python -m unittest bleurt.score_files_test"
   ]
  },
  {
   "cell_type": "code",
   "execution_count": 79,
   "metadata": {},
   "outputs": [],
   "source": [
    "from functools import reduce\n",
    "  \n",
    "def average(lst):\n",
    "    return reduce(lambda a, b: a + b, lst) / len(lst)"
   ]
  },
  {
   "cell_type": "code",
   "execution_count": 80,
   "metadata": {},
   "outputs": [],
   "source": [
    "from bleurt import score"
   ]
  },
  {
   "cell_type": "code",
   "execution_count": 81,
   "metadata": {},
   "outputs": [
    {
     "name": "stdout",
     "output_type": "stream",
     "text": [
      "INFO:tensorflow:Reading checkpoint bleurt/bleurt/test_checkpoint.\n",
      "INFO:tensorflow:Config file found, reading.\n",
      "INFO:tensorflow:Will load checkpoint dbleurt_tiny\n",
      "INFO:tensorflow:Loads full paths and checks that files exists.\n",
      "INFO:tensorflow:... name:dbleurt_tiny\n",
      "INFO:tensorflow:... vocab_file:vocab.txt\n",
      "INFO:tensorflow:... bert_config_file:bert_config.json\n",
      "INFO:tensorflow:... do_lower_case:True\n",
      "INFO:tensorflow:... max_seq_length:512\n",
      "INFO:tensorflow:Creating BLEURT scorer.\n",
      "INFO:tensorflow:Creating WordPiece tokenizer.\n",
      "INFO:tensorflow:WordPiece tokenizer instantiated.\n",
      "INFO:tensorflow:Creating Eager Mode predictor.\n",
      "INFO:tensorflow:Loading model.\n",
      "INFO:tensorflow:BLEURT initialized.\n"
     ]
    }
   ],
   "source": [
    "checkpoint = \"bleurt/bleurt/test_checkpoint\"\n",
    "scorer = score.BleurtScorer(checkpoint)"
   ]
  },
  {
   "cell_type": "code",
   "execution_count": 82,
   "metadata": {},
   "outputs": [],
   "source": [
    "scores = scorer.score(references=details_dict['headlines'], candidates=details_dict['predict_1s']) \n",
    "bleurt_1s = average(scores)"
   ]
  },
  {
   "cell_type": "code",
   "execution_count": 83,
   "metadata": {},
   "outputs": [],
   "source": [
    "scores = scorer.score(references=details_dict['headlines'], candidates=details_dict['predict_3s']) \n",
    "bleurt_3s = average(scores)"
   ]
  },
  {
   "cell_type": "code",
   "execution_count": 84,
   "metadata": {},
   "outputs": [],
   "source": [
    "scores = scorer.score(references=details_dict['headlines'], candidates=details_dict['predict_text']) \n",
    "bleurt_text = average(scores)"
   ]
  },
  {
   "cell_type": "code",
   "execution_count": 85,
   "metadata": {},
   "outputs": [],
   "source": [
    "scores = scorer.score(references=details_dict['headlines'], candidates=details_dict['predict_ext']) \n",
    "bleurt_ext = average(scores)"
   ]
  },
  {
   "cell_type": "code",
   "execution_count": 86,
   "metadata": {},
   "outputs": [],
   "source": [
    "scores = scorer.score(references=details_dict['headlines'], candidates=details_dict['predict_abs']) \n",
    "bleurt_abs = average(scores)"
   ]
  },
  {
   "cell_type": "code",
   "execution_count": 87,
   "metadata": {},
   "outputs": [],
   "source": [
    "scores = scorer.score(references=details_dict['headlines'], candidates=details_dict['predict_extabs']) \n",
    "bleurt_extabs = average(scores)"
   ]
  },
  {
   "cell_type": "code",
   "execution_count": 88,
   "metadata": {},
   "outputs": [],
   "source": [
    "# scores = scorer.score(references=details_dict['headlines'], candidates=details_dict['predict_ner']) \n",
    "# bleurt_ner = average(scores)"
   ]
  },
  {
   "cell_type": "code",
   "execution_count": 89,
   "metadata": {},
   "outputs": [],
   "source": [
    "# scores = scorer.score(references=details_dict['headlines'], candidates=details_dict['predict_t5']) \n",
    "# bleurt_t5 = average(scores)"
   ]
  },
  {
   "cell_type": "code",
   "execution_count": 90,
   "metadata": {},
   "outputs": [],
   "source": [
    "scores = scorer.score(references=details_dict['headlines'], candidates=details_dict['predict_art']) \n",
    "bleurt_art = average(scores)"
   ]
  },
  {
   "cell_type": "code",
   "execution_count": 91,
   "metadata": {},
   "outputs": [],
   "source": [
    "bleurt_score = {'baseline (1s)': {'bleurt_score': bleurt_1s}, \n",
    "                'baseline (3s)': {'bleurt_score': bleurt_3s}, \n",
    "    'text' : {'bleurt_score': bleurt_text}, \n",
    "    'ext' : {'bleurt_score': bleurt_ext},\n",
    "    'abs' : {'bleurt_score': bleurt_abs},\n",
    "    'extabs' : {'bleurt_score': bleurt_extabs},\n",
    "#    'ner' : {'bleurt_score': bleurt_ner},\n",
    "#    't5' : {'bleurt_score': bleurt_t5},\n",
    "    'art' : {'bleurt_score': bleurt_art},                \n",
    "}\n",
    "\n",
    "# bleurt_score = {'bleurt_score': {'baseline': bleurt_baseline}, \n",
    "#    'bleurt_score' : {'ext': bleurt_ext}, \n",
    "#   'bleurt_score' : {'abs': bleurt_abs},\n",
    "#   'bleurt_score' : {'extabs': bleurt_extabs}\n",
    "# }\n",
    "\n",
    "#bleurt_score = {'bleurt_score': {'baseline': bleurt_baseline, 'ext': bleurt_ext, 'abs': bleurt_abs, 'extabs': bleurt_extabs}}"
   ]
  },
  {
   "cell_type": "code",
   "execution_count": 92,
   "metadata": {},
   "outputs": [
    {
     "data": {
      "text/html": [
       "<div>\n",
       "<style scoped>\n",
       "    .dataframe tbody tr th:only-of-type {\n",
       "        vertical-align: middle;\n",
       "    }\n",
       "\n",
       "    .dataframe tbody tr th {\n",
       "        vertical-align: top;\n",
       "    }\n",
       "\n",
       "    .dataframe thead th {\n",
       "        text-align: right;\n",
       "    }\n",
       "</style>\n",
       "<table border=\"1\" class=\"dataframe\">\n",
       "  <thead>\n",
       "    <tr style=\"text-align: right;\">\n",
       "      <th></th>\n",
       "      <th>art</th>\n",
       "      <th>text</th>\n",
       "      <th>ext</th>\n",
       "      <th>baseline (3s)</th>\n",
       "      <th>abs</th>\n",
       "      <th>extabs</th>\n",
       "      <th>baseline (1s)</th>\n",
       "    </tr>\n",
       "  </thead>\n",
       "  <tbody>\n",
       "    <tr>\n",
       "      <th>bleurt_score</th>\n",
       "      <td>-0.659067</td>\n",
       "      <td>-0.720837</td>\n",
       "      <td>-0.734292</td>\n",
       "      <td>-0.767254</td>\n",
       "      <td>-0.784483</td>\n",
       "      <td>-0.815877</td>\n",
       "      <td>-0.811343</td>\n",
       "    </tr>\n",
       "  </tbody>\n",
       "</table>\n",
       "</div>"
      ],
      "text/plain": [
       "                   art      text       ext  baseline (3s)       abs    extabs  \\\n",
       "bleurt_score -0.659067 -0.720837 -0.734292      -0.767254 -0.784483 -0.815877   \n",
       "\n",
       "              baseline (1s)  \n",
       "bleurt_score      -0.811343  "
      ]
     },
     "execution_count": 92,
     "metadata": {},
     "output_type": "execute_result"
    }
   ],
   "source": [
    "#df_results = {k: bleurt_score[k] for k in ('bleurt_score')}\n",
    "df_results = {k: bleurt_score[k] for k in ('art', 'text', 'ext', 'baseline (3s)', 'abs', 'extabs', 'baseline (1s)')}\n",
    "pd.DataFrame(df_results)"
   ]
  },
  {
   "cell_type": "code",
   "execution_count": null,
   "metadata": {},
   "outputs": [],
   "source": []
  },
  {
   "cell_type": "code",
   "execution_count": 93,
   "metadata": {},
   "outputs": [],
   "source": [
    "#score = nltk.translate.meteor_score.meteor_score(reference, model)\n",
    "# print (nltk.translate.meteor_score.meteor_score(\n",
    "#     [\"this is an apple\", \"that is an apple\"], \"an apple on this tree\"))\n",
    "# print (nltk.translate.meteor_score.meteor_score(\n",
    "#     [\"this is an apple\", \"that is an apple\"], \"a red color fruit\"))\n",
    "# nltk.translate.meteor_score.meteor_score(P1, \"a red color fruit\")"
   ]
  },
  {
   "cell_type": "code",
   "execution_count": 73,
   "metadata": {},
   "outputs": [],
   "source": [
    "# meteor_score_1s = 0\n",
    "# for x, y in zip(details_dict['headlines'], details_dict['predict_1s']):\n",
    "#     meteor_score_1s += nltk.translate.meteor_score.meteor_score(x, y)\n",
    "# meteor_score_1s = meteor_score_1s/len(details_dict['headlines'])\n",
    "# meteor_score_1s"
   ]
  },
  {
   "cell_type": "code",
   "execution_count": 74,
   "metadata": {},
   "outputs": [],
   "source": [
    "# meteor_score_3s = 0\n",
    "# for x, y in zip(details_dict['headlines'], details_dict['predict_3s']):\n",
    "#     meteor_score_3s += nltk.translate.meteor_score.meteor_score(x, y)\n",
    "# meteor_score_3s = meteor_score_3s/len(details_dict['headlines'])\n",
    "# meteor_score_3s"
   ]
  },
  {
   "cell_type": "code",
   "execution_count": 75,
   "metadata": {},
   "outputs": [],
   "source": [
    "# meteor_score_text = 0\n",
    "# for x, y in zip(details_dict['headlines'], details_dict['predict_text']):\n",
    "#     meteor_score_text += nltk.translate.meteor_score.meteor_score(x, y)\n",
    "# meteor_score_text = meteor_score_text/len(details_dict['headlines'])\n",
    "# meteor_score_text"
   ]
  },
  {
   "cell_type": "code",
   "execution_count": 76,
   "metadata": {},
   "outputs": [],
   "source": [
    "# meteor_score_ext = 0\n",
    "# for x, y in zip(details_dict['headlines'], details_dict['predict_ext']):\n",
    "#     meteor_score_ext += nltk.translate.meteor_score.meteor_score(x, y)\n",
    "# meteor_score_ext = meteor_score_ext/len(details_dict['headlines'])\n",
    "# meteor_score_ext"
   ]
  },
  {
   "cell_type": "code",
   "execution_count": 77,
   "metadata": {},
   "outputs": [],
   "source": [
    "# meteor_score_abs = 0\n",
    "# for x, y in zip(details_dict['headlines'], details_dict['predict_abs']):\n",
    "#     meteor_score_abs += nltk.translate.meteor_score.meteor_score(x, y)\n",
    "# meteor_score_abs = meteor_score_abs/len(details_dict['headlines'])\n",
    "# meteor_score_abs"
   ]
  },
  {
   "cell_type": "code",
   "execution_count": 78,
   "metadata": {},
   "outputs": [],
   "source": [
    "# meteor_score_extabs = 0\n",
    "# for x, y in zip(details_dict['headlines'], details_dict['predict_extabs']):\n",
    "#     meteor_score_extabs += nltk.translate.meteor_score.meteor_score(x, y)\n",
    "# meteor_score_extabs = meteor_score_extabs/len(details_dict['headlines'])\n",
    "# meteor_score_extabs"
   ]
  },
  {
   "cell_type": "code",
   "execution_count": 79,
   "metadata": {},
   "outputs": [],
   "source": [
    "# meteor_score_ner = 0\n",
    "# for x, y in zip(details_dict['headlines'], details_dict['predict_ner']):\n",
    "#     meteor_score_ner += nltk.translate.meteor_score.meteor_score(x, y)\n",
    "# meteor_score_ner = meteor_score_ner/len(details_dict['headlines'])\n",
    "# meteor_score_ner"
   ]
  },
  {
   "cell_type": "code",
   "execution_count": 80,
   "metadata": {},
   "outputs": [],
   "source": [
    "# meteor_score_t5 = 0\n",
    "# for x, y in zip(details_dict['headlines'], details_dict['predict_t5']):\n",
    "#     meteor_score_t5 += nltk.translate.meteor_score.meteor_score(x, y)\n",
    "# meteor_score_t5 = meteor_score_t5/len(details_dict['headlines'])\n",
    "# meteor_score_t5"
   ]
  },
  {
   "cell_type": "code",
   "execution_count": 81,
   "metadata": {},
   "outputs": [],
   "source": [
    "# meteor_score_art = 0\n",
    "# for x, y in zip(details_dict['headlines'], details_dict['predict_art']):\n",
    "#     meteor_score_art += nltk.translate.meteor_score.meteor_score(x, y)\n",
    "# meteor_score_art = meteor_score_art/len(details_dict['headlines'])\n",
    "# meteor_score_art"
   ]
  },
  {
   "cell_type": "code",
   "execution_count": 82,
   "metadata": {},
   "outputs": [],
   "source": [
    "# meteor_score = {'baseline (1s)': {'meteor_score': meteor_score_1s}, \n",
    "#                 'baseline (3s)': {'meteor_score': meteor_score_3s}, \n",
    "#     'text' : {'meteor_score': meteor_score_text}, \n",
    "#     'ext' : {'meteor_score': meteor_score_ext},\n",
    "#     'abs' : {'meteor_score': meteor_score_abs},\n",
    "#     'extabs' : {'meteor_score': meteor_score_extabs},\n",
    "#     'ner' : {'meteor_score': meteor_score_ner},\n",
    "#     't5' : {'meteor_score': meteor_score_t5},\n",
    "#     'art' : {'meteor_score': meteor_score_art}\n",
    "# }\n",
    "# df_results = {k: meteor_score[k] for k in ('baseline (1s)', 'baseline (3s)', 'text', 'ext', 'abs', 'extabs', 'ner', 't5', 'art')}\n",
    "# pd.DataFrame(df_results)"
   ]
  },
  {
   "cell_type": "code",
   "execution_count": 83,
   "metadata": {},
   "outputs": [
    {
     "data": {
      "text/plain": [
       "9160"
      ]
     },
     "execution_count": 83,
     "metadata": {},
     "output_type": "execute_result"
    }
   ],
   "source": [
    "len(details_dict['headlines'])"
   ]
  },
  {
   "cell_type": "code",
   "execution_count": null,
   "metadata": {},
   "outputs": [],
   "source": []
  }
 ],
 "metadata": {
  "accelerator": "GPU",
  "colab": {
   "collapsed_sections": [],
   "machine_shape": "hm",
   "name": "NB7_v1_Scoring_CNN_w266_FP.ipynb",
   "provenance": [
    {
     "file_id": "1RHp1fLnqWyUqouDRgTmiel8TiehSYLM9",
     "timestamp": 1647037306355
    },
    {
     "file_id": "1pgtzGinW820RYUR_OZd5L3XfZq_YH67N",
     "timestamp": 1646918109982
    }
   ]
  },
  "kernelspec": {
   "display_name": "Python 3",
   "language": "python",
   "name": "python3"
  },
  "language_info": {
   "codemirror_mode": {
    "name": "ipython",
    "version": 3
   },
   "file_extension": ".py",
   "mimetype": "text/x-python",
   "name": "python",
   "nbconvert_exporter": "python",
   "pygments_lexer": "ipython3",
   "version": "3.8.8"
  },
  "widgets": {
   "application/vnd.jupyter.widget-state+json": {
    "0410109dca6c426daeff3e6d8474b4e3": {
     "model_module": "@jupyter-widgets/base",
     "model_module_version": "1.2.0",
     "model_name": "LayoutModel",
     "state": {
      "_model_module": "@jupyter-widgets/base",
      "_model_module_version": "1.2.0",
      "_model_name": "LayoutModel",
      "_view_count": null,
      "_view_module": "@jupyter-widgets/base",
      "_view_module_version": "1.2.0",
      "_view_name": "LayoutView",
      "align_content": null,
      "align_items": null,
      "align_self": null,
      "border": null,
      "bottom": null,
      "display": null,
      "flex": null,
      "flex_flow": null,
      "grid_area": null,
      "grid_auto_columns": null,
      "grid_auto_flow": null,
      "grid_auto_rows": null,
      "grid_column": null,
      "grid_gap": null,
      "grid_row": null,
      "grid_template_areas": null,
      "grid_template_columns": null,
      "grid_template_rows": null,
      "height": null,
      "justify_content": null,
      "justify_items": null,
      "left": null,
      "margin": null,
      "max_height": null,
      "max_width": null,
      "min_height": null,
      "min_width": null,
      "object_fit": null,
      "object_position": null,
      "order": null,
      "overflow": null,
      "overflow_x": null,
      "overflow_y": null,
      "padding": null,
      "right": null,
      "top": null,
      "visibility": null,
      "width": null
     }
    },
    "0bdb7d629509478ebf6823aced460793": {
     "model_module": "@jupyter-widgets/base",
     "model_module_version": "1.2.0",
     "model_name": "LayoutModel",
     "state": {
      "_model_module": "@jupyter-widgets/base",
      "_model_module_version": "1.2.0",
      "_model_name": "LayoutModel",
      "_view_count": null,
      "_view_module": "@jupyter-widgets/base",
      "_view_module_version": "1.2.0",
      "_view_name": "LayoutView",
      "align_content": null,
      "align_items": null,
      "align_self": null,
      "border": null,
      "bottom": null,
      "display": null,
      "flex": null,
      "flex_flow": null,
      "grid_area": null,
      "grid_auto_columns": null,
      "grid_auto_flow": null,
      "grid_auto_rows": null,
      "grid_column": null,
      "grid_gap": null,
      "grid_row": null,
      "grid_template_areas": null,
      "grid_template_columns": null,
      "grid_template_rows": null,
      "height": null,
      "justify_content": null,
      "justify_items": null,
      "left": null,
      "margin": null,
      "max_height": null,
      "max_width": null,
      "min_height": null,
      "min_width": null,
      "object_fit": null,
      "object_position": null,
      "order": null,
      "overflow": null,
      "overflow_x": null,
      "overflow_y": null,
      "padding": null,
      "right": null,
      "top": null,
      "visibility": null,
      "width": null
     }
    },
    "0f4200f367a84656a3dc19b59d7f30f8": {
     "model_module": "@jupyter-widgets/base",
     "model_module_version": "1.2.0",
     "model_name": "LayoutModel",
     "state": {
      "_model_module": "@jupyter-widgets/base",
      "_model_module_version": "1.2.0",
      "_model_name": "LayoutModel",
      "_view_count": null,
      "_view_module": "@jupyter-widgets/base",
      "_view_module_version": "1.2.0",
      "_view_name": "LayoutView",
      "align_content": null,
      "align_items": null,
      "align_self": null,
      "border": null,
      "bottom": null,
      "display": null,
      "flex": null,
      "flex_flow": null,
      "grid_area": null,
      "grid_auto_columns": null,
      "grid_auto_flow": null,
      "grid_auto_rows": null,
      "grid_column": null,
      "grid_gap": null,
      "grid_row": null,
      "grid_template_areas": null,
      "grid_template_columns": null,
      "grid_template_rows": null,
      "height": null,
      "justify_content": null,
      "justify_items": null,
      "left": null,
      "margin": null,
      "max_height": null,
      "max_width": null,
      "min_height": null,
      "min_width": null,
      "object_fit": null,
      "object_position": null,
      "order": null,
      "overflow": null,
      "overflow_x": null,
      "overflow_y": null,
      "padding": null,
      "right": null,
      "top": null,
      "visibility": null,
      "width": null
     }
    },
    "17117ddd7ce44cab9a52555164039a20": {
     "model_module": "@jupyter-widgets/controls",
     "model_module_version": "1.5.0",
     "model_name": "HTMLModel",
     "state": {
      "_dom_classes": [],
      "_model_module": "@jupyter-widgets/controls",
      "_model_module_version": "1.5.0",
      "_model_name": "HTMLModel",
      "_view_count": null,
      "_view_module": "@jupyter-widgets/controls",
      "_view_module_version": "1.5.0",
      "_view_name": "HTMLView",
      "description": "",
      "description_tooltip": null,
      "layout": "IPY_MODEL_7ee622e3911a4f248881a0fcece5569c",
      "placeholder": "​",
      "style": "IPY_MODEL_8eb5616e582f425aa87030e02a46ffc1",
      "value": " 1158/1158 [06:07&lt;00:00,  4.02it/s]"
     }
    },
    "2f3b70bdae424b818a819d4c449ce54d": {
     "model_module": "@jupyter-widgets/controls",
     "model_module_version": "1.5.0",
     "model_name": "DescriptionStyleModel",
     "state": {
      "_model_module": "@jupyter-widgets/controls",
      "_model_module_version": "1.5.0",
      "_model_name": "DescriptionStyleModel",
      "_view_count": null,
      "_view_module": "@jupyter-widgets/base",
      "_view_module_version": "1.2.0",
      "_view_name": "StyleView",
      "description_width": ""
     }
    },
    "5b7d01d8d9b745bc8630c361c2c63179": {
     "model_module": "@jupyter-widgets/controls",
     "model_module_version": "1.5.0",
     "model_name": "HTMLModel",
     "state": {
      "_dom_classes": [],
      "_model_module": "@jupyter-widgets/controls",
      "_model_module_version": "1.5.0",
      "_model_name": "HTMLModel",
      "_view_count": null,
      "_view_module": "@jupyter-widgets/controls",
      "_view_module_version": "1.5.0",
      "_view_name": "HTMLView",
      "description": "",
      "description_tooltip": null,
      "layout": "IPY_MODEL_0bdb7d629509478ebf6823aced460793",
      "placeholder": "​",
      "style": "IPY_MODEL_b52888078df542b79e04fd5617bcbf75",
      "value": "Generating outputs: 100%"
     }
    },
    "61c93ac33af447ae8b00368ccd9e2d1f": {
     "model_module": "@jupyter-widgets/base",
     "model_module_version": "1.2.0",
     "model_name": "LayoutModel",
     "state": {
      "_model_module": "@jupyter-widgets/base",
      "_model_module_version": "1.2.0",
      "_model_name": "LayoutModel",
      "_view_count": null,
      "_view_module": "@jupyter-widgets/base",
      "_view_module_version": "1.2.0",
      "_view_name": "LayoutView",
      "align_content": null,
      "align_items": null,
      "align_self": null,
      "border": null,
      "bottom": null,
      "display": null,
      "flex": null,
      "flex_flow": null,
      "grid_area": null,
      "grid_auto_columns": null,
      "grid_auto_flow": null,
      "grid_auto_rows": null,
      "grid_column": null,
      "grid_gap": null,
      "grid_row": null,
      "grid_template_areas": null,
      "grid_template_columns": null,
      "grid_template_rows": null,
      "height": null,
      "justify_content": null,
      "justify_items": null,
      "left": null,
      "margin": null,
      "max_height": null,
      "max_width": null,
      "min_height": null,
      "min_width": null,
      "object_fit": null,
      "object_position": null,
      "order": null,
      "overflow": null,
      "overflow_x": null,
      "overflow_y": null,
      "padding": null,
      "right": null,
      "top": null,
      "visibility": null,
      "width": null
     }
    },
    "6c81f61a463947af83e2bc961346d576": {
     "model_module": "@jupyter-widgets/controls",
     "model_module_version": "1.5.0",
     "model_name": "HBoxModel",
     "state": {
      "_dom_classes": [],
      "_model_module": "@jupyter-widgets/controls",
      "_model_module_version": "1.5.0",
      "_model_name": "HBoxModel",
      "_view_count": null,
      "_view_module": "@jupyter-widgets/controls",
      "_view_module_version": "1.5.0",
      "_view_name": "HBoxView",
      "box_style": "",
      "children": [
       "IPY_MODEL_f0a21eec331648cb99941d5c8ed26ac6",
       "IPY_MODEL_bdd4bf2e2aef4cea856d3fe91e0e04ed",
       "IPY_MODEL_8f2d5e80f5ef4526a3c611b95cbea7b5"
      ],
      "layout": "IPY_MODEL_0f4200f367a84656a3dc19b59d7f30f8"
     }
    },
    "76e569527e96439e9b6d2eb7b6e8d73c": {
     "model_module": "@jupyter-widgets/base",
     "model_module_version": "1.2.0",
     "model_name": "LayoutModel",
     "state": {
      "_model_module": "@jupyter-widgets/base",
      "_model_module_version": "1.2.0",
      "_model_name": "LayoutModel",
      "_view_count": null,
      "_view_module": "@jupyter-widgets/base",
      "_view_module_version": "1.2.0",
      "_view_name": "LayoutView",
      "align_content": null,
      "align_items": null,
      "align_self": null,
      "border": null,
      "bottom": null,
      "display": null,
      "flex": null,
      "flex_flow": null,
      "grid_area": null,
      "grid_auto_columns": null,
      "grid_auto_flow": null,
      "grid_auto_rows": null,
      "grid_column": null,
      "grid_gap": null,
      "grid_row": null,
      "grid_template_areas": null,
      "grid_template_columns": null,
      "grid_template_rows": null,
      "height": null,
      "justify_content": null,
      "justify_items": null,
      "left": null,
      "margin": null,
      "max_height": null,
      "max_width": null,
      "min_height": null,
      "min_width": null,
      "object_fit": null,
      "object_position": null,
      "order": null,
      "overflow": null,
      "overflow_x": null,
      "overflow_y": null,
      "padding": null,
      "right": null,
      "top": null,
      "visibility": null,
      "width": null
     }
    },
    "7ee622e3911a4f248881a0fcece5569c": {
     "model_module": "@jupyter-widgets/base",
     "model_module_version": "1.2.0",
     "model_name": "LayoutModel",
     "state": {
      "_model_module": "@jupyter-widgets/base",
      "_model_module_version": "1.2.0",
      "_model_name": "LayoutModel",
      "_view_count": null,
      "_view_module": "@jupyter-widgets/base",
      "_view_module_version": "1.2.0",
      "_view_name": "LayoutView",
      "align_content": null,
      "align_items": null,
      "align_self": null,
      "border": null,
      "bottom": null,
      "display": null,
      "flex": null,
      "flex_flow": null,
      "grid_area": null,
      "grid_auto_columns": null,
      "grid_auto_flow": null,
      "grid_auto_rows": null,
      "grid_column": null,
      "grid_gap": null,
      "grid_row": null,
      "grid_template_areas": null,
      "grid_template_columns": null,
      "grid_template_rows": null,
      "height": null,
      "justify_content": null,
      "justify_items": null,
      "left": null,
      "margin": null,
      "max_height": null,
      "max_width": null,
      "min_height": null,
      "min_width": null,
      "object_fit": null,
      "object_position": null,
      "order": null,
      "overflow": null,
      "overflow_x": null,
      "overflow_y": null,
      "padding": null,
      "right": null,
      "top": null,
      "visibility": null,
      "width": null
     }
    },
    "7f6a9fa730bf4187aaa95b8c0aec7fb5": {
     "model_module": "@jupyter-widgets/base",
     "model_module_version": "1.2.0",
     "model_name": "LayoutModel",
     "state": {
      "_model_module": "@jupyter-widgets/base",
      "_model_module_version": "1.2.0",
      "_model_name": "LayoutModel",
      "_view_count": null,
      "_view_module": "@jupyter-widgets/base",
      "_view_module_version": "1.2.0",
      "_view_name": "LayoutView",
      "align_content": null,
      "align_items": null,
      "align_self": null,
      "border": null,
      "bottom": null,
      "display": null,
      "flex": null,
      "flex_flow": null,
      "grid_area": null,
      "grid_auto_columns": null,
      "grid_auto_flow": null,
      "grid_auto_rows": null,
      "grid_column": null,
      "grid_gap": null,
      "grid_row": null,
      "grid_template_areas": null,
      "grid_template_columns": null,
      "grid_template_rows": null,
      "height": null,
      "justify_content": null,
      "justify_items": null,
      "left": null,
      "margin": null,
      "max_height": null,
      "max_width": null,
      "min_height": null,
      "min_width": null,
      "object_fit": null,
      "object_position": null,
      "order": null,
      "overflow": null,
      "overflow_x": null,
      "overflow_y": null,
      "padding": null,
      "right": null,
      "top": null,
      "visibility": null,
      "width": null
     }
    },
    "83e6ecf7c3714d949cdd7ec28a0361b6": {
     "model_module": "@jupyter-widgets/controls",
     "model_module_version": "1.5.0",
     "model_name": "ProgressStyleModel",
     "state": {
      "_model_module": "@jupyter-widgets/controls",
      "_model_module_version": "1.5.0",
      "_model_name": "ProgressStyleModel",
      "_view_count": null,
      "_view_module": "@jupyter-widgets/base",
      "_view_module_version": "1.2.0",
      "_view_name": "StyleView",
      "bar_color": null,
      "description_width": ""
     }
    },
    "875c87a63135429f9de9b5ff84b14df8": {
     "model_module": "@jupyter-widgets/controls",
     "model_module_version": "1.5.0",
     "model_name": "FloatProgressModel",
     "state": {
      "_dom_classes": [],
      "_model_module": "@jupyter-widgets/controls",
      "_model_module_version": "1.5.0",
      "_model_name": "FloatProgressModel",
      "_view_count": null,
      "_view_module": "@jupyter-widgets/controls",
      "_view_module_version": "1.5.0",
      "_view_name": "ProgressView",
      "bar_style": "success",
      "description": "",
      "description_tooltip": null,
      "layout": "IPY_MODEL_61c93ac33af447ae8b00368ccd9e2d1f",
      "max": 1158,
      "min": 0,
      "orientation": "horizontal",
      "style": "IPY_MODEL_bde2510f812548eeac225d54c6ae1672",
      "value": 1158
     }
    },
    "8eb5616e582f425aa87030e02a46ffc1": {
     "model_module": "@jupyter-widgets/controls",
     "model_module_version": "1.5.0",
     "model_name": "DescriptionStyleModel",
     "state": {
      "_model_module": "@jupyter-widgets/controls",
      "_model_module_version": "1.5.0",
      "_model_name": "DescriptionStyleModel",
      "_view_count": null,
      "_view_module": "@jupyter-widgets/base",
      "_view_module_version": "1.2.0",
      "_view_name": "StyleView",
      "description_width": ""
     }
    },
    "8f2d5e80f5ef4526a3c611b95cbea7b5": {
     "model_module": "@jupyter-widgets/controls",
     "model_module_version": "1.5.0",
     "model_name": "HTMLModel",
     "state": {
      "_dom_classes": [],
      "_model_module": "@jupyter-widgets/controls",
      "_model_module_version": "1.5.0",
      "_model_name": "HTMLModel",
      "_view_count": null,
      "_view_module": "@jupyter-widgets/controls",
      "_view_module_version": "1.5.0",
      "_view_name": "HTMLView",
      "description": "",
      "description_tooltip": null,
      "layout": "IPY_MODEL_eedae8e506aa4cea975d5b23ef490d43",
      "placeholder": "​",
      "style": "IPY_MODEL_dd518d3e0a7f474388e237c4ff9b43e8",
      "value": " 1158/1158 [05:52&lt;00:00,  3.83it/s]"
     }
    },
    "aa6af2e947d7487f89f594b42bd38492": {
     "model_module": "@jupyter-widgets/controls",
     "model_module_version": "1.5.0",
     "model_name": "HBoxModel",
     "state": {
      "_dom_classes": [],
      "_model_module": "@jupyter-widgets/controls",
      "_model_module_version": "1.5.0",
      "_model_name": "HBoxModel",
      "_view_count": null,
      "_view_module": "@jupyter-widgets/controls",
      "_view_module_version": "1.5.0",
      "_view_name": "HBoxView",
      "box_style": "",
      "children": [
       "IPY_MODEL_5b7d01d8d9b745bc8630c361c2c63179",
       "IPY_MODEL_875c87a63135429f9de9b5ff84b14df8",
       "IPY_MODEL_17117ddd7ce44cab9a52555164039a20"
      ],
      "layout": "IPY_MODEL_76e569527e96439e9b6d2eb7b6e8d73c"
     }
    },
    "b52888078df542b79e04fd5617bcbf75": {
     "model_module": "@jupyter-widgets/controls",
     "model_module_version": "1.5.0",
     "model_name": "DescriptionStyleModel",
     "state": {
      "_model_module": "@jupyter-widgets/controls",
      "_model_module_version": "1.5.0",
      "_model_name": "DescriptionStyleModel",
      "_view_count": null,
      "_view_module": "@jupyter-widgets/base",
      "_view_module_version": "1.2.0",
      "_view_name": "StyleView",
      "description_width": ""
     }
    },
    "bdd4bf2e2aef4cea856d3fe91e0e04ed": {
     "model_module": "@jupyter-widgets/controls",
     "model_module_version": "1.5.0",
     "model_name": "FloatProgressModel",
     "state": {
      "_dom_classes": [],
      "_model_module": "@jupyter-widgets/controls",
      "_model_module_version": "1.5.0",
      "_model_name": "FloatProgressModel",
      "_view_count": null,
      "_view_module": "@jupyter-widgets/controls",
      "_view_module_version": "1.5.0",
      "_view_name": "ProgressView",
      "bar_style": "success",
      "description": "",
      "description_tooltip": null,
      "layout": "IPY_MODEL_0410109dca6c426daeff3e6d8474b4e3",
      "max": 1158,
      "min": 0,
      "orientation": "horizontal",
      "style": "IPY_MODEL_83e6ecf7c3714d949cdd7ec28a0361b6",
      "value": 1158
     }
    },
    "bde2510f812548eeac225d54c6ae1672": {
     "model_module": "@jupyter-widgets/controls",
     "model_module_version": "1.5.0",
     "model_name": "ProgressStyleModel",
     "state": {
      "_model_module": "@jupyter-widgets/controls",
      "_model_module_version": "1.5.0",
      "_model_name": "ProgressStyleModel",
      "_view_count": null,
      "_view_module": "@jupyter-widgets/base",
      "_view_module_version": "1.2.0",
      "_view_name": "StyleView",
      "bar_color": null,
      "description_width": ""
     }
    },
    "dd518d3e0a7f474388e237c4ff9b43e8": {
     "model_module": "@jupyter-widgets/controls",
     "model_module_version": "1.5.0",
     "model_name": "DescriptionStyleModel",
     "state": {
      "_model_module": "@jupyter-widgets/controls",
      "_model_module_version": "1.5.0",
      "_model_name": "DescriptionStyleModel",
      "_view_count": null,
      "_view_module": "@jupyter-widgets/base",
      "_view_module_version": "1.2.0",
      "_view_name": "StyleView",
      "description_width": ""
     }
    },
    "eedae8e506aa4cea975d5b23ef490d43": {
     "model_module": "@jupyter-widgets/base",
     "model_module_version": "1.2.0",
     "model_name": "LayoutModel",
     "state": {
      "_model_module": "@jupyter-widgets/base",
      "_model_module_version": "1.2.0",
      "_model_name": "LayoutModel",
      "_view_count": null,
      "_view_module": "@jupyter-widgets/base",
      "_view_module_version": "1.2.0",
      "_view_name": "LayoutView",
      "align_content": null,
      "align_items": null,
      "align_self": null,
      "border": null,
      "bottom": null,
      "display": null,
      "flex": null,
      "flex_flow": null,
      "grid_area": null,
      "grid_auto_columns": null,
      "grid_auto_flow": null,
      "grid_auto_rows": null,
      "grid_column": null,
      "grid_gap": null,
      "grid_row": null,
      "grid_template_areas": null,
      "grid_template_columns": null,
      "grid_template_rows": null,
      "height": null,
      "justify_content": null,
      "justify_items": null,
      "left": null,
      "margin": null,
      "max_height": null,
      "max_width": null,
      "min_height": null,
      "min_width": null,
      "object_fit": null,
      "object_position": null,
      "order": null,
      "overflow": null,
      "overflow_x": null,
      "overflow_y": null,
      "padding": null,
      "right": null,
      "top": null,
      "visibility": null,
      "width": null
     }
    },
    "f0a21eec331648cb99941d5c8ed26ac6": {
     "model_module": "@jupyter-widgets/controls",
     "model_module_version": "1.5.0",
     "model_name": "HTMLModel",
     "state": {
      "_dom_classes": [],
      "_model_module": "@jupyter-widgets/controls",
      "_model_module_version": "1.5.0",
      "_model_name": "HTMLModel",
      "_view_count": null,
      "_view_module": "@jupyter-widgets/controls",
      "_view_module_version": "1.5.0",
      "_view_name": "HTMLView",
      "description": "",
      "description_tooltip": null,
      "layout": "IPY_MODEL_7f6a9fa730bf4187aaa95b8c0aec7fb5",
      "placeholder": "​",
      "style": "IPY_MODEL_2f3b70bdae424b818a819d4c449ce54d",
      "value": "Generating outputs: 100%"
     }
    }
   }
  }
 },
 "nbformat": 4,
 "nbformat_minor": 1
}
